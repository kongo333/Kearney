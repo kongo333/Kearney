{
 "cells": [
  {
   "cell_type": "markdown",
   "id": "59b3a51e",
   "metadata": {},
   "source": [
    "# Python 표준 라이브러리"
   ]
  },
  {
   "cell_type": "markdown",
   "id": "7e6c9175",
   "metadata": {},
   "source": [
    "### 작업 경로 확인, 변경 및 새 폴더 생성"
   ]
  },
  {
   "cell_type": "code",
   "execution_count": null,
   "id": "97470d1e",
   "metadata": {},
   "outputs": [],
   "source": [
    "# 관련 라이브러리를 호출합니다.\n",
    "import os, shutil"
   ]
  },
  {
   "cell_type": "code",
   "execution_count": null,
   "id": "003e8876",
   "metadata": {},
   "outputs": [],
   "source": [
    "# 현재 작업 경로를 확인합니다.\n",
    "os.getcwd()"
   ]
  },
  {
   "cell_type": "code",
   "execution_count": null,
   "id": "2268a86c",
   "metadata": {},
   "outputs": [],
   "source": [
    "# 데이터 파일이 저장된 폴더로 작업 경로를 변경합니다.(상대 경로 사용)\n",
    "os.chdir(path = '../data')"
   ]
  },
  {
   "cell_type": "code",
   "execution_count": null,
   "id": "97904201",
   "metadata": {},
   "outputs": [],
   "source": [
    "# 새로운 폴더를 생성합니다.\n",
    "os.mkdir(path = './temp')"
   ]
  },
  {
   "cell_type": "markdown",
   "id": "d5cf1348",
   "metadata": {},
   "source": [
    "### 새로운 텍스트 파일 생성"
   ]
  },
  {
   "cell_type": "code",
   "execution_count": null,
   "id": "8873b55a",
   "metadata": {},
   "outputs": [],
   "source": [
    "# 텍스트 파일을 쓰기모드로 엽니다.\n",
    "file = open(file = 'test.txt', mode = 'w', encoding = 'UTF-8')"
   ]
  },
  {
   "cell_type": "code",
   "execution_count": null,
   "id": "cc5984ba",
   "metadata": {},
   "outputs": [],
   "source": [
    "# 텍스트 파일에 데이터를 입력합니다.\n",
    "for i in range(1, 6):\n",
    "    file.write(f'{i} 페이지 수집!\\n')"
   ]
  },
  {
   "cell_type": "code",
   "execution_count": null,
   "id": "66ad90c8",
   "metadata": {},
   "outputs": [],
   "source": [
    "# 텍스트 파일을 닫습니다.\n",
    "file.close()"
   ]
  },
  {
   "cell_type": "markdown",
   "id": "3a6fa6c2",
   "metadata": {},
   "source": [
    "### 기존 텍스트 파일에 데이터 추가"
   ]
  },
  {
   "cell_type": "code",
   "execution_count": null,
   "id": "173cf3a1",
   "metadata": {},
   "outputs": [],
   "source": [
    "# 텍스트 파일을 추가모드로 엽니다.\n",
    "file = open(file = 'test.txt', mode = 'a', encoding = 'UTF-8')"
   ]
  },
  {
   "cell_type": "code",
   "execution_count": null,
   "id": "1fa4eab0",
   "metadata": {},
   "outputs": [],
   "source": [
    "# 텍스트 파일에 데이터를 입력합니다.\n",
    "for i in range(11, 16):\n",
    "    file.write(f'{i} 페이지 수집!\\n')"
   ]
  },
  {
   "cell_type": "code",
   "execution_count": null,
   "id": "c9da4165",
   "metadata": {},
   "outputs": [],
   "source": [
    "# 텍스트 파일을 닫습니다.\n",
    "file.close()"
   ]
  },
  {
   "cell_type": "markdown",
   "id": "05282f00",
   "metadata": {},
   "source": [
    "### 텍스트 파일을 문자열로 읽기"
   ]
  },
  {
   "cell_type": "code",
   "execution_count": null,
   "id": "3dbea53f",
   "metadata": {},
   "outputs": [],
   "source": [
    "# 텍스트 파일을 문자열 읽기모드로 엽니다.\n",
    "file = open(file = 'test.txt', mode = 'r', encoding = 'UTF-8')"
   ]
  },
  {
   "cell_type": "code",
   "execution_count": null,
   "id": "b9e5d735",
   "metadata": {},
   "outputs": [],
   "source": [
    "# file을 읽고 text에 할당합니다.\n",
    "text = file.read()"
   ]
  },
  {
   "cell_type": "code",
   "execution_count": null,
   "id": "b20105a8",
   "metadata": {},
   "outputs": [],
   "source": [
    "# text를 출력합니다. 사람이 읽을 수 있는 문자열로 출력됩니다.\n",
    "text"
   ]
  },
  {
   "cell_type": "code",
   "execution_count": null,
   "id": "9b73f737",
   "metadata": {},
   "outputs": [],
   "source": [
    "# text의 클래스를 확인합니다.\n",
    "type(text)"
   ]
  },
  {
   "cell_type": "code",
   "execution_count": null,
   "id": "7204b620",
   "metadata": {},
   "outputs": [],
   "source": [
    "# 문자열을 인코딩하면 코드로 변환됩니다.\n",
    "text.encode(encoding = 'UTF-8')"
   ]
  },
  {
   "cell_type": "markdown",
   "id": "55c07a09",
   "metadata": {},
   "source": [
    "### 텍스트 파일을 바이너리로 읽기"
   ]
  },
  {
   "cell_type": "code",
   "execution_count": null,
   "id": "c3d2697d",
   "metadata": {},
   "outputs": [],
   "source": [
    "# 텍스트 파일을 바이너리 읽기모드로 엽니다.\n",
    "file = open(file = 'test.txt', mode = 'rb')"
   ]
  },
  {
   "cell_type": "code",
   "execution_count": null,
   "id": "afb72120",
   "metadata": {},
   "outputs": [],
   "source": [
    "# file을 읽고 text에 할당합니다.\n",
    "text = file.read()"
   ]
  },
  {
   "cell_type": "code",
   "execution_count": null,
   "id": "ba10d61d",
   "metadata": {},
   "outputs": [],
   "source": [
    "# text를 출력합니다. 사람이 읽을 수 없는 코드로 출력됩니다.\n",
    "text"
   ]
  },
  {
   "cell_type": "code",
   "execution_count": null,
   "id": "1dd72e7d",
   "metadata": {},
   "outputs": [],
   "source": [
    "# text의 클래스를 확인합니다.\n",
    "type(text)"
   ]
  },
  {
   "cell_type": "code",
   "execution_count": null,
   "id": "8efa1724",
   "metadata": {},
   "outputs": [],
   "source": [
    "# 코드를 디코딩하면 문자열로 변환됩니다.\n",
    "text.decode(encoding = 'UTF-8')"
   ]
  },
  {
   "cell_type": "markdown",
   "id": "ac2ea364",
   "metadata": {},
   "source": [
    "### 파일 복사 및 이동"
   ]
  },
  {
   "cell_type": "code",
   "execution_count": null,
   "id": "ab381272",
   "metadata": {},
   "outputs": [],
   "source": [
    "# 현재 작업 경로에 포함되어 있는 폴더명과 파일명을 출력합니다.\n",
    "os.listdir()"
   ]
  },
  {
   "cell_type": "code",
   "execution_count": null,
   "id": "0e2ce988",
   "metadata": {},
   "outputs": [],
   "source": [
    "# 기존 파일을 복사합니다.(파일명, 파일명)\n",
    "shutil.copy(src = 'test.txt', dst = 'copy1.txt')"
   ]
  },
  {
   "cell_type": "code",
   "execution_count": null,
   "id": "2d0735c5",
   "metadata": {},
   "outputs": [],
   "source": [
    "# 기존 파일을 다른 폴더로 복사합니다.(파일명, 폴더명)\n",
    "shutil.copy(src = 'test.txt', dst = './temp')"
   ]
  },
  {
   "cell_type": "code",
   "execution_count": null,
   "id": "6c55f5a0",
   "metadata": {},
   "outputs": [],
   "source": [
    "# 파일을 이동시킵니다.(파일명, 폴더명)\n",
    "shutil.move(src = 'copy1.txt', dst = './temp')"
   ]
  },
  {
   "cell_type": "markdown",
   "id": "e47d7d5b",
   "metadata": {},
   "source": [
    "### [참고] xlsx 파일을 temp 폴더로 일괄 복사"
   ]
  },
  {
   "cell_type": "code",
   "execution_count": null,
   "id": "65650d59",
   "metadata": {},
   "outputs": [],
   "source": [
    "# 현재 작업 경로에 포함된 xlsx 파일명을 원소로 갖는 리스트를 생성합니다.\n",
    "files = [file for file in os.listdir() if 'xlsx' in file]\n",
    "files"
   ]
  },
  {
   "cell_type": "code",
   "execution_count": null,
   "id": "33d13c53",
   "metadata": {},
   "outputs": [],
   "source": [
    "# 반복문을 이용하여 files에 포함된 파일명을 temp 폴더로 복사합니다.\n",
    "for file in files:\n",
    "    shutil.copy(src = file, dst = './temp')"
   ]
  },
  {
   "cell_type": "code",
   "execution_count": null,
   "id": "e300cedf",
   "metadata": {},
   "outputs": [],
   "source": [
    "# temp 폴더에 포함되어 있는 폴더명과 파일명을 출력합니다.\n",
    "os.listdir(path = './temp')"
   ]
  },
  {
   "cell_type": "markdown",
   "id": "308e2c99",
   "metadata": {},
   "source": [
    "### 파일명 변경"
   ]
  },
  {
   "cell_type": "code",
   "execution_count": null,
   "id": "a256168e",
   "metadata": {},
   "outputs": [],
   "source": [
    "# 작업 경로를 변경합니다.\n",
    "os.chdir(path = './temp')"
   ]
  },
  {
   "cell_type": "code",
   "execution_count": null,
   "id": "cf47953d",
   "metadata": {},
   "outputs": [],
   "source": [
    "# 현재 작업 경로에 포함되어 있는 폴더명과 파일명을 출력합니다.\n",
    "os.listdir()"
   ]
  },
  {
   "cell_type": "code",
   "execution_count": null,
   "id": "60f6b70a",
   "metadata": {},
   "outputs": [],
   "source": [
    "# 파일명을 변경합니다.(파일명, 파일명)\n",
    "os.rename(src = 'test.txt', dst = 'copy2.txt')"
   ]
  },
  {
   "cell_type": "code",
   "execution_count": null,
   "id": "893669fb",
   "metadata": {},
   "outputs": [],
   "source": [
    "# 현재 작업 경로에 새로운 폴더를 생성합니다.\n",
    "os.mkdir(path = './temp2')"
   ]
  },
  {
   "cell_type": "markdown",
   "id": "07f6affd",
   "metadata": {},
   "source": [
    "### 파일 삭제"
   ]
  },
  {
   "cell_type": "code",
   "execution_count": null,
   "id": "2348fba8",
   "metadata": {},
   "outputs": [],
   "source": [
    "# 파일을 삭제합니다. 한 번에 한 개씩 삭제할 수 있습니다.\n",
    "os.remove(path = 'copy1.txt')"
   ]
  },
  {
   "cell_type": "code",
   "execution_count": null,
   "id": "941ca384",
   "metadata": {},
   "outputs": [],
   "source": [
    "# [주의] os.remove() 함수는 폴더를 삭제할 수 없습니다.\n",
    "os.remove(path = 'temp2')"
   ]
  },
  {
   "cell_type": "code",
   "execution_count": null,
   "id": "e7bada27",
   "metadata": {},
   "outputs": [],
   "source": [
    "# 현재 작업 경로에 포함된 모든 파일을 삭제하려고 하면 에러가 발생합니다.\n",
    "for i in os.listdir():\n",
    "    os.remove(path = i)"
   ]
  },
  {
   "cell_type": "code",
   "execution_count": null,
   "id": "079778b5",
   "metadata": {},
   "outputs": [],
   "source": [
    "# for 반복문에서 에러가 발생했을 때 i가 가리키는 값을 출력합니다.\n",
    "print(i)"
   ]
  },
  {
   "cell_type": "code",
   "execution_count": null,
   "id": "5d72635c",
   "metadata": {},
   "outputs": [],
   "source": [
    "# i가 가리키는 값이 폴더명이면 True, 아니면 False를 반환합니다.\n",
    "os.path.isdir(s = i)"
   ]
  },
  {
   "cell_type": "code",
   "execution_count": null,
   "id": "034de822",
   "metadata": {},
   "outputs": [],
   "source": [
    "# i가 가리키는 값이 파일명이면 True, 아니면 False를 반환합니다.\n",
    "os.path.isfile(path = i)"
   ]
  },
  {
   "cell_type": "code",
   "execution_count": null,
   "id": "17b084a0",
   "metadata": {},
   "outputs": [],
   "source": [
    "# 여러 파일을 모두 삭제하려면 아래와 같이 반복문에 조건문을 추가합니다.\n",
    "for i in os.listdir():\n",
    "    if os.path.isfile(path = i):\n",
    "        os.remove(path = i)"
   ]
  },
  {
   "cell_type": "markdown",
   "id": "3a2839c1",
   "metadata": {},
   "source": [
    "### 폴더 삭제"
   ]
  },
  {
   "cell_type": "code",
   "execution_count": null,
   "id": "df9afcea",
   "metadata": {},
   "outputs": [],
   "source": [
    "# 상위 폴더로 이동합니다.\n",
    "os.chdir(path = '..')"
   ]
  },
  {
   "cell_type": "code",
   "execution_count": null,
   "id": "6459c14e",
   "metadata": {},
   "outputs": [],
   "source": [
    "# 현재 작업 경로에 포함되어 있는 폴더명과 파일명을 출력합니다.\n",
    "os.listdir()"
   ]
  },
  {
   "cell_type": "code",
   "execution_count": null,
   "id": "b8781fb2",
   "metadata": {},
   "outputs": [],
   "source": [
    "# 빈 폴더가 아닌 폴더를 삭제하려고 하면 에러가 발생합니다.\n",
    "os.rmdir(path = './temp')"
   ]
  },
  {
   "cell_type": "code",
   "execution_count": null,
   "id": "c273ca3a",
   "metadata": {},
   "outputs": [],
   "source": [
    "# 빈 폴더가 아닌 폴더도 삭제합니다.\n",
    "shutil.rmtree(path = './temp')"
   ]
  },
  {
   "cell_type": "markdown",
   "id": "9a680c85",
   "metadata": {},
   "source": [
    "### 날짜 시간 데이터 다루기"
   ]
  },
  {
   "cell_type": "code",
   "execution_count": null,
   "id": "f91fb5fd",
   "metadata": {},
   "outputs": [],
   "source": [
    "# 관련 라이브러리를 호출합니다.\n",
    "from datetime import datetime, timedelta"
   ]
  },
  {
   "cell_type": "code",
   "execution_count": null,
   "id": "42fcaebc",
   "metadata": {},
   "outputs": [],
   "source": [
    "# 현재 날짜와 시간을 ctime에 할당합니다.\n",
    "ctime = datetime.now()"
   ]
  },
  {
   "cell_type": "code",
   "execution_count": null,
   "id": "67f048af",
   "metadata": {},
   "outputs": [],
   "source": [
    "# ctime을 출력합니다. \n",
    "# 년, 월, 일, 시, 분, 초, 마이크로초(백만분의 1초)를 차례대로 출력합니다.\n",
    "ctime"
   ]
  },
  {
   "cell_type": "code",
   "execution_count": null,
   "id": "586a1ba7",
   "metadata": {},
   "outputs": [],
   "source": [
    "# ctime의 날짜를 출력합니다.\n",
    "ctime.date()"
   ]
  },
  {
   "cell_type": "code",
   "execution_count": null,
   "id": "10bd9f06",
   "metadata": {},
   "outputs": [],
   "source": [
    "# ctime의 시간을 출력합니다.\n",
    "ctime.time()"
   ]
  },
  {
   "cell_type": "code",
   "execution_count": null,
   "id": "e6a3a178",
   "metadata": {},
   "outputs": [],
   "source": [
    "# ctime의 유닉스 시간(POSIX 시간 또는 Epoch 시간)을 출력합니다.\n",
    "# 협정 세계시(UTC) 기준 1970년 1월 1일 00:00:00부터 현재까지 경과된 누적 초입니다.\n",
    "ctime.timestamp()"
   ]
  },
  {
   "cell_type": "markdown",
   "id": "b2dd0a89",
   "metadata": {},
   "source": [
    "### 날짜 시간 데이터를 문자열로 변환"
   ]
  },
  {
   "cell_type": "code",
   "execution_count": null,
   "id": "64173e9e",
   "metadata": {},
   "outputs": [],
   "source": [
    "# 날짜 시간 데이터를 문자열로 변환합니다.\n",
    "ctime.strftime('%Y년 %m월 %d일 %A %H:%M:%S %p')"
   ]
  },
  {
   "cell_type": "code",
   "execution_count": null,
   "id": "cc1d5d6b",
   "metadata": {},
   "outputs": [],
   "source": [
    "# [참고] 문자열의 인코딩 문제로 발생하는 에러를 해결합니다.\n",
    "dtf = '%Y년 %m월 %d일 %A %H:%M:%S %p'.encode('unicode-escape').decode()\n",
    "ctime.strftime(dtf).encode().decode('unicode-escape')"
   ]
  },
  {
   "cell_type": "markdown",
   "id": "2dcb8303",
   "metadata": {},
   "source": [
    "### 문자열 또는 정수를 날짜 시간 데이터로 변환"
   ]
  },
  {
   "cell_type": "code",
   "execution_count": null,
   "id": "9828362c",
   "metadata": {},
   "outputs": [],
   "source": [
    "# 날짜 시간 데이터로 변환할 문자열을 지정합니다.\n",
    "birth = '2001년 2월 3일 4시 5분 6초'"
   ]
  },
  {
   "cell_type": "code",
   "execution_count": null,
   "id": "aed0d6bf",
   "metadata": {},
   "outputs": [],
   "source": [
    "# 문자열을 날짜 시간 데이터로 변환합니다.\n",
    "birth = datetime.strptime(birth, '%Y년 %m월 %d일 %H시 %M분 %S초')"
   ]
  },
  {
   "cell_type": "code",
   "execution_count": null,
   "id": "23c75dc7",
   "metadata": {},
   "outputs": [],
   "source": [
    "# birth를 출력합니다.\n",
    "birth"
   ]
  },
  {
   "cell_type": "code",
   "execution_count": null,
   "id": "3d40f8de",
   "metadata": {},
   "outputs": [],
   "source": [
    "# 년, 월, 일, 시, 분, 초에 해당하는 정수를 날짜 시간 데이터로 변환합니다.\n",
    "birth = datetime(2001, 2, 3, 4, 5, 6)"
   ]
  },
  {
   "cell_type": "code",
   "execution_count": null,
   "id": "f787e833",
   "metadata": {},
   "outputs": [],
   "source": [
    "# birth를 다시 출력합니다.\n",
    "birth"
   ]
  },
  {
   "cell_type": "markdown",
   "id": "1a573bb8",
   "metadata": {},
   "source": [
    "### 날짜 시간 데이터 연산"
   ]
  },
  {
   "cell_type": "code",
   "execution_count": null,
   "id": "47d12308",
   "metadata": {},
   "outputs": [],
   "source": [
    "# 태어난 날로부터 현재까지의 기간 차이를 dtGap에 할당합니다.\n",
    "dtGap = ctime - birth"
   ]
  },
  {
   "cell_type": "code",
   "execution_count": null,
   "id": "4b2e7307",
   "metadata": {},
   "outputs": [],
   "source": [
    "# 두 날짜의 기간 차이에서 일수만 출력합니다.\n",
    "dtGap.days"
   ]
  },
  {
   "cell_type": "code",
   "execution_count": null,
   "id": "ea38e228",
   "metadata": {},
   "outputs": [],
   "source": [
    "# 기준일자를 설정합니다. [참고] 분과 초를 생략했습니다.\n",
    "d_day = datetime(2021, 1, 1, 19)"
   ]
  },
  {
   "cell_type": "code",
   "execution_count": null,
   "id": "d9e3dbca",
   "metadata": {},
   "outputs": [],
   "source": [
    "# 기준일자로부터 100일 경과한 날짜 시간을 출력합니다.\n",
    "d_day + timedelta(days = 100)"
   ]
  },
  {
   "cell_type": "code",
   "execution_count": null,
   "id": "7c745570",
   "metadata": {},
   "outputs": [],
   "source": [
    "# 기준일자로부터 2시간 전 날짜 시간을 출력합니다.\n",
    "d_day - timedelta(hours = 2)"
   ]
  },
  {
   "cell_type": "markdown",
   "id": "509c002e",
   "metadata": {},
   "source": [
    "### [참고] 로케일 관련 함수 소개"
   ]
  },
  {
   "cell_type": "code",
   "execution_count": null,
   "id": "7b9225cc",
   "metadata": {},
   "outputs": [],
   "source": [
    "# 관련 라이브러리를 호출합니다.\n",
    "import locale"
   ]
  },
  {
   "cell_type": "code",
   "execution_count": null,
   "id": "b5caa5a9",
   "metadata": {},
   "outputs": [],
   "source": [
    "# 현재 설정된 날짜/시간 로케일을 확인합니다.\n",
    "locale.getlocale(category = locale.LC_TIME)"
   ]
  },
  {
   "cell_type": "code",
   "execution_count": null,
   "id": "e96a4b9b",
   "metadata": {},
   "outputs": [],
   "source": [
    "# 한국 로케일로 변경합니다.\n",
    "locale.setlocale(category = locale.LC_TIME, locale = 'ko_KR')"
   ]
  },
  {
   "cell_type": "code",
   "execution_count": null,
   "id": "730c4eb3",
   "metadata": {},
   "outputs": [],
   "source": [
    "# 날짜 시간 데이터를 문자열로 변환합니다.\n",
    "ctime.strftime('%Y년 %m월 %d일 %A %H:%M:%S %p')"
   ]
  },
  {
   "cell_type": "markdown",
   "id": "5018364f",
   "metadata": {},
   "source": [
    "## End of Document"
   ]
  }
 ],
 "metadata": {
  "kernelspec": {
   "display_name": "Python 3 (ipykernel)",
   "language": "python",
   "name": "python3"
  },
  "language_info": {
   "codemirror_mode": {
    "name": "ipython",
    "version": 3
   },
   "file_extension": ".py",
   "mimetype": "text/x-python",
   "name": "python",
   "nbconvert_exporter": "python",
   "pygments_lexer": "ipython3",
   "version": "3.9.7"
  },
  "toc": {
   "base_numbering": 1,
   "nav_menu": {},
   "number_sections": true,
   "sideBar": true,
   "skip_h1_title": false,
   "title_cell": "Table of Contents",
   "title_sidebar": "Contents",
   "toc_cell": false,
   "toc_position": {},
   "toc_section_display": true,
   "toc_window_display": false
  },
  "varInspector": {
   "cols": {
    "lenName": 16,
    "lenType": 16,
    "lenVar": 40
   },
   "kernels_config": {
    "python": {
     "delete_cmd_postfix": "",
     "delete_cmd_prefix": "del ",
     "library": "var_list.py",
     "varRefreshCmd": "print(var_dic_list())"
    },
    "r": {
     "delete_cmd_postfix": ") ",
     "delete_cmd_prefix": "rm(",
     "library": "var_list.r",
     "varRefreshCmd": "cat(var_dic_list()) "
    }
   },
   "types_to_exclude": [
    "module",
    "function",
    "builtin_function_or_method",
    "instance",
    "_Feature"
   ],
   "window_display": false
  }
 },
 "nbformat": 4,
 "nbformat_minor": 5
}

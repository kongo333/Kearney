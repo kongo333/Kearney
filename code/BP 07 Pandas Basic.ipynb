{
 "cells": [
  {
   "cell_type": "markdown",
   "id": "a97a133f",
   "metadata": {},
   "source": [
    "# pandas 기초"
   ]
  },
  {
   "cell_type": "markdown",
   "id": "exciting-springfield",
   "metadata": {},
   "source": [
    "### 라이브러리 호출"
   ]
  },
  {
   "cell_type": "code",
   "execution_count": null,
   "id": "absolute-reasoning",
   "metadata": {},
   "outputs": [],
   "source": [
    "# pandas 라이브러리를 호출합니다.\n",
    "import numpy as np\n",
    "import pandas as pd"
   ]
  },
  {
   "cell_type": "markdown",
   "id": "palestinian-savannah",
   "metadata": {},
   "source": [
    "### 시리즈 생성"
   ]
  },
  {
   "cell_type": "code",
   "execution_count": null,
   "id": "lovely-tsunami",
   "metadata": {},
   "outputs": [],
   "source": [
    "# 1차원 배열로 시리즈를 생성합니다.\n",
    "sr = pd.Series(data = np.arange(start = 1, stop = 10, step = 2))"
   ]
  },
  {
   "cell_type": "code",
   "execution_count": null,
   "id": "agricultural-period",
   "metadata": {},
   "outputs": [],
   "source": [
    "# sr을 출력합니다.\n",
    "sr"
   ]
  },
  {
   "cell_type": "code",
   "execution_count": null,
   "id": "funded-metadata",
   "metadata": {},
   "outputs": [],
   "source": [
    "# sr의 클래스를 확인합니다.\n",
    "type(sr)"
   ]
  },
  {
   "cell_type": "code",
   "execution_count": null,
   "id": "civic-happening",
   "metadata": {},
   "outputs": [],
   "source": [
    "# 리스트로 시리즈를 생성합니다.\n",
    "pd.Series(data = [1, 3, 5, 7, 9], index = ['a', 'b', 'c', 'd', 'e'])"
   ]
  },
  {
   "cell_type": "code",
   "execution_count": null,
   "id": "protected-donna",
   "metadata": {},
   "outputs": [],
   "source": [
    "# 딕셔너리로 시리즈를 생성합니다. key가 인덱스로 자동 설정됩니다.\n",
    "pd.Series(data = {'a': 1, 'b': 3, 'c': 5, 'd': 7, 'e': 9})"
   ]
  },
  {
   "cell_type": "markdown",
   "id": "funded-copyright",
   "metadata": {},
   "source": [
    "### 시리즈 확인"
   ]
  },
  {
   "cell_type": "code",
   "execution_count": null,
   "id": "lyric-bottom",
   "metadata": {},
   "outputs": [],
   "source": [
    "# sr의 형태를 출력합니다.\n",
    "sr.shape"
   ]
  },
  {
   "cell_type": "code",
   "execution_count": null,
   "id": "anonymous-treatment",
   "metadata": {},
   "outputs": [],
   "source": [
    "# sr의 값을 출력합니다.\n",
    "sr.values"
   ]
  },
  {
   "cell_type": "code",
   "execution_count": null,
   "id": "under-peninsula",
   "metadata": {},
   "outputs": [],
   "source": [
    "# sr의 자료형을 출력합니다.\n",
    "sr.dtype"
   ]
  },
  {
   "cell_type": "code",
   "execution_count": null,
   "id": "metric-evans",
   "metadata": {},
   "outputs": [],
   "source": [
    "# sr의 인덱스명을 출력합니다.\n",
    "sr.index"
   ]
  },
  {
   "cell_type": "code",
   "execution_count": null,
   "id": "under-london",
   "metadata": {},
   "outputs": [],
   "source": [
    "# 시리즈의 인덱스명을 변경합니다.\n",
    "sr.index = ['a', 'b', 'c', 'd', 'e']"
   ]
  },
  {
   "cell_type": "code",
   "execution_count": null,
   "id": "chemical-citizen",
   "metadata": {},
   "outputs": [],
   "source": [
    "# sr을 출력합니다.\n",
    "sr"
   ]
  },
  {
   "cell_type": "markdown",
   "id": "laughing-effects",
   "metadata": {},
   "source": [
    "### 시리즈의 인덱싱 및 슬라이싱: iloc 인덱서"
   ]
  },
  {
   "cell_type": "code",
   "execution_count": null,
   "id": "proof-governor",
   "metadata": {},
   "outputs": [],
   "source": [
    "# 대괄호 안에 정수 인덱스 스칼라를 지정하면 해당 원소를 반환합니다.\n",
    "sr.iloc[0]"
   ]
  },
  {
   "cell_type": "code",
   "execution_count": null,
   "id": "cloudy-wildlife",
   "metadata": {},
   "outputs": [],
   "source": [
    "# 대괄호 안에 스칼라 대신 리스트를 지정하면 해당 원소를 시리즈로 반환합니다.\n",
    "sr.iloc[[0]]"
   ]
  },
  {
   "cell_type": "code",
   "execution_count": null,
   "id": "latest-involvement",
   "metadata": {},
   "outputs": [],
   "source": [
    "# 연속하지 않는 인덱스를 지정할 때 반드시 리스트를 사용해야 합니다.\n",
    "sr.iloc[[1, 3]]"
   ]
  },
  {
   "cell_type": "code",
   "execution_count": null,
   "id": "dramatic-associate",
   "metadata": {},
   "outputs": [],
   "source": [
    "# sr의 1~2번 인덱스 원소를 시리즈로 반환합니다.\n",
    "sr.iloc[1:3]"
   ]
  },
  {
   "cell_type": "markdown",
   "id": "de1175a6",
   "metadata": {},
   "source": [
    "### 시리즈의 인덱싱 및 슬라이싱: loc 인덱서"
   ]
  },
  {
   "cell_type": "code",
   "execution_count": null,
   "id": "closing-concept",
   "metadata": {},
   "outputs": [],
   "source": [
    "# 대괄호 안에 인덱스명 스칼라를 지정하면 해당 원소를 반환합니다.\n",
    "sr.loc['a']"
   ]
  },
  {
   "cell_type": "code",
   "execution_count": null,
   "id": "infinite-fireplace",
   "metadata": {},
   "outputs": [],
   "source": [
    "# 대괄호 안에 스칼라 대신 리스트를 지정하면 해당 원소를 시리즈로 반환합니다.\n",
    "sr.loc[['a']]"
   ]
  },
  {
   "cell_type": "code",
   "execution_count": null,
   "id": "genetic-delay",
   "metadata": {},
   "outputs": [],
   "source": [
    "# sr의 인덱스명이 'b', 'd'인 원소를 시리즈로 반환합니다.\n",
    "sr.loc[['b', 'd']]"
   ]
  },
  {
   "cell_type": "code",
   "execution_count": null,
   "id": "emerging-federal",
   "metadata": {},
   "outputs": [],
   "source": [
    "# sr의 인덱스명이 'b', 'c', 'd'인 원소를 시리즈로 반환합니다.\n",
    "sr.loc['b':'d']"
   ]
  },
  {
   "cell_type": "code",
   "execution_count": null,
   "id": "interstate-range",
   "metadata": {},
   "outputs": [],
   "source": [
    "# sr로 비교 연산을 실행합니다.\n",
    "sr >= 5"
   ]
  },
  {
   "cell_type": "code",
   "execution_count": null,
   "id": "paperback-stupid",
   "metadata": {},
   "outputs": [],
   "source": [
    "# 대괄호 안에 비교 연산 코드를 지정하면 True에 해당하는 원소만 선택합니다.\n",
    "sr.loc[sr >= 5]"
   ]
  },
  {
   "cell_type": "code",
   "execution_count": null,
   "id": "073b21c6",
   "metadata": {},
   "outputs": [],
   "source": [
    "# [주의] iloc 인덱서를 사용하면 에러가 발생합니다.\n",
    "sr.iloc[sr >= 5]"
   ]
  },
  {
   "cell_type": "code",
   "execution_count": null,
   "id": "occupied-chapel",
   "metadata": {},
   "outputs": [],
   "source": [
    "# 두 개 이상의 비교 연산 결과로 불리언 인덱싱을 실행합니다.\n",
    "# [주의] 반드시 개별 조건을 소괄호로 묶어주어야 합니다.\n",
    "sr.loc[(sr >= 5) & (sr <= 7)]"
   ]
  },
  {
   "cell_type": "code",
   "execution_count": null,
   "id": "7e946e12",
   "metadata": {},
   "outputs": [],
   "source": [
    "# [참고] loc 인덱서를 삭제해도 실행됩니다.\n",
    "sr[(sr >= 5) & (sr <= 7)]"
   ]
  },
  {
   "cell_type": "markdown",
   "id": "2a5b7129",
   "metadata": {},
   "source": [
    "### 시리즈 복제 vs 깊은 복사"
   ]
  },
  {
   "cell_type": "code",
   "execution_count": null,
   "id": "b5e11547",
   "metadata": {},
   "outputs": [],
   "source": [
    "# sr을 복제한 sr1을 생성합니다.\n",
    "sr1 = sr\n",
    "sr1"
   ]
  },
  {
   "cell_type": "code",
   "execution_count": null,
   "id": "5d1b874b",
   "metadata": {},
   "outputs": [],
   "source": [
    "# sr1의 첫 번째 원소를 2로 변경합니다.\n",
    "sr1.loc['a'] = 2\n",
    "sr1"
   ]
  },
  {
   "cell_type": "code",
   "execution_count": null,
   "id": "f938287d",
   "metadata": {},
   "outputs": [],
   "source": [
    "# sr의 첫 번째 원소도 함께 변경되었습니다.\n",
    "sr"
   ]
  },
  {
   "cell_type": "code",
   "execution_count": null,
   "id": "cd272613",
   "metadata": {},
   "outputs": [],
   "source": [
    "# sr을 깊은 복사한 sr2를 생성합니다.\n",
    "sr2 = sr.copy(deep = True)\n",
    "sr2"
   ]
  },
  {
   "cell_type": "code",
   "execution_count": null,
   "id": "9d0aa9c0",
   "metadata": {},
   "outputs": [],
   "source": [
    "# sr2의 첫 번째 원소를 3으로 변경합니다.\n",
    "sr2.loc['a'] = 3\n",
    "sr2"
   ]
  },
  {
   "cell_type": "code",
   "execution_count": null,
   "id": "3535ea8d",
   "metadata": {},
   "outputs": [],
   "source": [
    "# sr의 첫 번째 원소가 변경되지 않았습니다.\n",
    "sr"
   ]
  },
  {
   "cell_type": "markdown",
   "id": "associate-parker",
   "metadata": {},
   "source": [
    "### 데이터프레임 생성"
   ]
  },
  {
   "cell_type": "code",
   "execution_count": null,
   "id": "immune-commons",
   "metadata": {},
   "outputs": [],
   "source": [
    "# 리스트로 데이터프레임을 생성합니다.\n",
    "df = pd.DataFrame(data = [[1, 2, 3], [4, 5, 6], [7, 8, 9]],\n",
    "                  index = [1, 2, 3],\n",
    "                  columns = ['A', 'B', 'C'])"
   ]
  },
  {
   "cell_type": "code",
   "execution_count": null,
   "id": "inner-hindu",
   "metadata": {},
   "outputs": [],
   "source": [
    "# df를 출력합니다.\n",
    "df"
   ]
  },
  {
   "cell_type": "code",
   "execution_count": null,
   "id": "promising-composer",
   "metadata": {},
   "outputs": [],
   "source": [
    "# df의 클래스를 확인합니다.\n",
    "type(df)"
   ]
  },
  {
   "cell_type": "code",
   "execution_count": null,
   "id": "eleven-minutes",
   "metadata": {},
   "outputs": [],
   "source": [
    "# 딕셔너리로 데이터프레임을 생성합니다.\n",
    "pd.DataFrame(data = {'A': [1, 2, 3], \n",
    "                     'B': [4, 5, 6], \n",
    "                     'C': [7, 8, 9]})"
   ]
  },
  {
   "cell_type": "code",
   "execution_count": null,
   "id": "focused-sustainability",
   "metadata": {},
   "outputs": [],
   "source": [
    "# 딕셔너리를 원소로 갖는 리스트로 데이터프레임을 생성합니다.\n",
    "pd.DataFrame(data = [{'A': 1, 'B': 2, 'C': 3},\n",
    "                     {'A': 4, 'B': 5, 'C': 6},\n",
    "                     {'A': 7, 'B': 8, 'C': 9}])"
   ]
  },
  {
   "cell_type": "markdown",
   "id": "separate-clarity",
   "metadata": {},
   "source": [
    "### 데이터프레임 확인"
   ]
  },
  {
   "cell_type": "code",
   "execution_count": null,
   "id": "waiting-camel",
   "metadata": {},
   "outputs": [],
   "source": [
    "# df의 형태를 튜플로 출력합니다.(행 길이, 열 길이)\n",
    "df.shape"
   ]
  },
  {
   "cell_type": "code",
   "execution_count": null,
   "id": "composite-bible",
   "metadata": {},
   "outputs": [],
   "source": [
    "# df의 값을 2차원 배열로 출력합니다.\n",
    "df.values"
   ]
  },
  {
   "cell_type": "code",
   "execution_count": null,
   "id": "individual-hardwood",
   "metadata": {},
   "outputs": [],
   "source": [
    "# df의 열별 자료형을 출력합니다. \n",
    "df.dtypes"
   ]
  },
  {
   "cell_type": "code",
   "execution_count": null,
   "id": "beneficial-latest",
   "metadata": {},
   "outputs": [],
   "source": [
    "# df의 행이름(인덱스명)을 출력합니다. \n",
    "df.index"
   ]
  },
  {
   "cell_type": "code",
   "execution_count": null,
   "id": "iraqi-morgan",
   "metadata": {},
   "outputs": [],
   "source": [
    "# df의 열이름(컬럼명)을 출력합니다. \n",
    "df.columns"
   ]
  },
  {
   "cell_type": "code",
   "execution_count": null,
   "id": "collaborative-spirituality",
   "metadata": {},
   "outputs": [],
   "source": [
    "# df의 정보를 출력합니다.(행 길이, 열 길이, 행이름, 열이름, 자료형, 열별 결측값을 제외한 원소 개수 등)\n",
    "df.info()"
   ]
  },
  {
   "cell_type": "markdown",
   "id": "vocational-sacrifice",
   "metadata": {},
   "source": [
    "## End of Document"
   ]
  }
 ],
 "metadata": {
  "kernelspec": {
   "display_name": "Python 3 (ipykernel)",
   "language": "python",
   "name": "python3"
  },
  "language_info": {
   "codemirror_mode": {
    "name": "ipython",
    "version": 3
   },
   "file_extension": ".py",
   "mimetype": "text/x-python",
   "name": "python",
   "nbconvert_exporter": "python",
   "pygments_lexer": "ipython3",
   "version": "3.9.7"
  },
  "toc": {
   "base_numbering": 1,
   "nav_menu": {},
   "number_sections": true,
   "sideBar": true,
   "skip_h1_title": false,
   "title_cell": "Table of Contents",
   "title_sidebar": "Contents",
   "toc_cell": false,
   "toc_position": {},
   "toc_section_display": true,
   "toc_window_display": false
  },
  "varInspector": {
   "cols": {
    "lenName": 16,
    "lenType": 16,
    "lenVar": 40
   },
   "kernels_config": {
    "python": {
     "delete_cmd_postfix": "",
     "delete_cmd_prefix": "del ",
     "library": "var_list.py",
     "varRefreshCmd": "print(var_dic_list())"
    },
    "r": {
     "delete_cmd_postfix": ") ",
     "delete_cmd_prefix": "rm(",
     "library": "var_list.r",
     "varRefreshCmd": "cat(var_dic_list()) "
    }
   },
   "types_to_exclude": [
    "module",
    "function",
    "builtin_function_or_method",
    "instance",
    "_Feature"
   ],
   "window_display": false
  }
 },
 "nbformat": 4,
 "nbformat_minor": 5
}

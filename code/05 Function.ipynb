{
 "cells": [
  {
   "cell_type": "markdown",
   "id": "96237ba2",
   "metadata": {},
   "source": [
    "## 함수"
   ]
  },
  {
   "cell_type": "markdown",
   "id": "secret-equity",
   "metadata": {},
   "source": [
    "### 사용자 정의 함수"
   ]
  },
  {
   "cell_type": "code",
   "execution_count": null,
   "id": "knowing-combine",
   "metadata": {},
   "outputs": [],
   "source": [
    "# 체질량지수를 반환하는 사용자 정의 함수를 생성합니다.\n",
    "def BMI(hgt, wgt):\n",
    "    return wgt / (hgt/100) ** 2"
   ]
  },
  {
   "cell_type": "code",
   "execution_count": null,
   "id": "32462625",
   "metadata": {},
   "outputs": [],
   "source": [
    "# 실수를 출력할 소수점 자리수를 지정합니다.\n",
    "# [참고] 원본 데이터를 그대로 유지하므로 정보의 손실이 없습니다.\n",
    "%precision 3"
   ]
  },
  {
   "cell_type": "code",
   "execution_count": null,
   "id": "based-building",
   "metadata": {},
   "outputs": [],
   "source": [
    "# 매개변수 없이 인수만 지정하여 사용자 정의 함수를 실행합니다.\n",
    "# [참고] 매개변수 없는 인수의 위치를 바꾸면 함수 실행 결과가 달라집니다.\n",
    "BMI(175, 65)"
   ]
  },
  {
   "cell_type": "code",
   "execution_count": null,
   "id": "d1d2f1c8",
   "metadata": {},
   "outputs": [],
   "source": [
    "# 매개변수와 인수를 등호로 연결하면 위치를 바꿔도 실행 결과가 같습니다.\n",
    "BMI(hgt = 175, wgt = 65)"
   ]
  },
  {
   "cell_type": "markdown",
   "id": "4f8e14a7",
   "metadata": {},
   "source": [
    "### 인수의 기본값 설정 및 독스트링 추가"
   ]
  },
  {
   "cell_type": "code",
   "execution_count": null,
   "id": "generic-patrol",
   "metadata": {},
   "outputs": [],
   "source": [
    "# 사용자 정의 함수에서 인수의 기본값을 설정하고 독스트링을 추가합니다.\n",
    "def BMI(hgt = 175, wgt = 65):\n",
    "    '''\n",
    "    This function returns BMI from height(cm) and weight(kg).\n",
    "    '''\n",
    "    return wgt / (hgt/100) ** 2"
   ]
  },
  {
   "cell_type": "code",
   "execution_count": null,
   "id": "stable-maintenance",
   "metadata": {},
   "outputs": [],
   "source": [
    "# 사용자 정의 함수에 인수를 생략하면 인수의 기본값을 적용합니다.\n",
    "BMI()"
   ]
  },
  {
   "cell_type": "markdown",
   "id": "looking-million",
   "metadata": {},
   "source": [
    "### 람다 표현식 사용법"
   ]
  },
  {
   "cell_type": "code",
   "execution_count": null,
   "id": "rural-institute",
   "metadata": {},
   "outputs": [],
   "source": [
    "# 람다 표현식은 한 줄 코드로 함수를 만들 때 사용합니다.\n",
    "BMI2 = lambda hgt, wgt: wgt / (hgt/100) ** 2"
   ]
  },
  {
   "cell_type": "code",
   "execution_count": null,
   "id": "d4f20f62",
   "metadata": {},
   "outputs": [],
   "source": [
    "# 람다 표현식으로 정의한 함수를 실행합니다.\n",
    "BMI2(hgt = 190, wgt = 85)"
   ]
  },
  {
   "cell_type": "code",
   "execution_count": null,
   "id": "harmful-crossing",
   "metadata": {},
   "outputs": [],
   "source": [
    "# 람다 표현식을 괄호로 감싸면 함수처럼 실행할 수 있으므로 익명함수라 합니다.\n",
    "(lambda hgt, wgt: wgt / (hgt/100) ** 2)(190, 85)"
   ]
  },
  {
   "cell_type": "markdown",
   "id": "3e3ff97f",
   "metadata": {},
   "source": [
    "### 기존 함수명과 중복 문제"
   ]
  },
  {
   "cell_type": "code",
   "execution_count": null,
   "id": "e68f2eb8",
   "metadata": {},
   "outputs": [],
   "source": [
    "# 정수의 합을 반환합니다.\n",
    "sum(range(1, 11))"
   ]
  },
  {
   "cell_type": "code",
   "execution_count": null,
   "id": "90a781b4",
   "metadata": {},
   "outputs": [],
   "source": [
    "# 기존 함수와 같은 이름의 사용자 정의 함수를 생성합니다.\n",
    "def sum(x):\n",
    "    y = 0\n",
    "    for i in x:\n",
    "        y -= i\n",
    "    return y"
   ]
  },
  {
   "cell_type": "code",
   "execution_count": null,
   "id": "55ed2c51",
   "metadata": {},
   "outputs": [],
   "source": [
    "# 사용자 정의 함수를 실행하면 수치형 원소를 모두 뺀 결과를 반환합니다.\n",
    "sum(range(1, 11))"
   ]
  },
  {
   "cell_type": "code",
   "execution_count": null,
   "id": "63e9e191",
   "metadata": {},
   "outputs": [],
   "source": [
    "# 전역 변수 목록을 확인합니다.\n",
    "%whos"
   ]
  },
  {
   "cell_type": "code",
   "execution_count": null,
   "id": "de1773ac",
   "metadata": {},
   "outputs": [],
   "source": [
    "# 사용자 정의 함수를 삭제하면 기존 함수를 사용할 수 있습니다.\n",
    "del sum"
   ]
  },
  {
   "cell_type": "code",
   "execution_count": null,
   "id": "7ec4af42",
   "metadata": {},
   "outputs": [],
   "source": [
    "# 기존 함수를 실행합니다.\n",
    "sum(range(1, 11))"
   ]
  },
  {
   "cell_type": "markdown",
   "id": "a02f7135",
   "metadata": {},
   "source": [
    "### [참고] 지역 변수를 전역 변수로 만들기"
   ]
  },
  {
   "cell_type": "code",
   "execution_count": null,
   "id": "cd666772",
   "metadata": {},
   "outputs": [],
   "source": [
    "# 함수 안에서 생성한 객체는 지역 변수이므로 전역 변수 목록에 추가되지 않는데\n",
    "# global 키워드를 사용하면 지역 변수를 전역 변수로 생성합니다.\n",
    "def BMI(hgt = 175, wgt = 65):\n",
    "    global bmi\n",
    "    bmi = wgt / (hgt/100) ** 2\n",
    "    return bmi"
   ]
  },
  {
   "cell_type": "code",
   "execution_count": null,
   "id": "3a045286",
   "metadata": {},
   "outputs": [],
   "source": [
    "# 아래 코드를 실행하면 전역 변수 목록에 bmi와 bmi2라는 변수를 동시에 추가합니다.\n",
    "bmi2 = BMI()"
   ]
  },
  {
   "cell_type": "code",
   "execution_count": null,
   "id": "38da74e2",
   "metadata": {},
   "outputs": [],
   "source": [
    "# 전역 변수 목록을 확인합니다.\n",
    "%whos"
   ]
  },
  {
   "cell_type": "markdown",
   "id": "258c1d3d",
   "metadata": {},
   "source": [
    "### 함수에 정의한 인수 누락 에러"
   ]
  },
  {
   "cell_type": "code",
   "execution_count": null,
   "id": "f6fd57f3",
   "metadata": {},
   "outputs": [],
   "source": [
    "# 함수를 정의할 때 입력받을 매개변수를 나열합니다.\n",
    "def printValues1(a, b, c):\n",
    "    for i in (a, b, c):\n",
    "        print(i)"
   ]
  },
  {
   "cell_type": "code",
   "execution_count": null,
   "id": "ae2fdf06",
   "metadata": {},
   "outputs": [],
   "source": [
    "# 함수에서 정의한 매개변수 개수만큼 인수를 지정합니다.\n",
    "printValues1(a = 1, b = 2, c = 3)"
   ]
  },
  {
   "cell_type": "raw",
   "id": "feec7333",
   "metadata": {},
   "source": [
    "# c 매개변수(위치 인수)를 누락했으므로 에러를 반환합니다.\n",
    "printValues1(a = 1, b = 2)"
   ]
  },
  {
   "cell_type": "markdown",
   "id": "6388906f",
   "metadata": {},
   "source": [
    "### 여러 인수를 튜플로 받는 함수"
   ]
  },
  {
   "cell_type": "code",
   "execution_count": null,
   "id": "b40b6a05",
   "metadata": {},
   "outputs": [],
   "source": [
    "# 함수를 정의할 때 매개변수 대신 가변 인수 *args를 지정합니다.\n",
    "# [참고] args는 인수를 튜플로 전달받습니다.\n",
    "def printValues2(*args):\n",
    "    for i in args:\n",
    "        print(i)"
   ]
  },
  {
   "cell_type": "code",
   "execution_count": null,
   "id": "cfa04450",
   "metadata": {},
   "outputs": [],
   "source": [
    "# 함수의 괄호 안에 원하는 개수만큼 인수를 지정할 수 있습니다.\n",
    "# [주의] a = 1과 같이 키워드 인수로 지정하면 에러를 반환합니다.\n",
    "printValues2(1, 2, 3)"
   ]
  },
  {
   "cell_type": "code",
   "execution_count": null,
   "id": "259b4c64",
   "metadata": {},
   "outputs": [],
   "source": [
    "# 인수를 2개 지정해도 에러를 반환하지 않습니다.\n",
    "printValues2(1, 2)"
   ]
  },
  {
   "cell_type": "markdown",
   "id": "bcf2a16f",
   "metadata": {},
   "source": [
    "### 여러 인수를 딕셔너리로 받는 함수"
   ]
  },
  {
   "cell_type": "code",
   "execution_count": null,
   "id": "49e5ed9e",
   "metadata": {},
   "outputs": [],
   "source": [
    "# 함수를 정의할 때 매개변수 대신 키워드 가변 인수 **kwargs를 지정합니다.\n",
    "# [참고] kwargs는 키워드 인수를 딕셔너리로 전달받습니다.\n",
    "def printValues3(**kwargs):\n",
    "    for k, v in kwargs.items():\n",
    "        print(f'{k}: {v}')"
   ]
  },
  {
   "cell_type": "code",
   "execution_count": null,
   "id": "20abe55d",
   "metadata": {},
   "outputs": [],
   "source": [
    "# 함수의 괄호 안에 dict() 클래스 함수처럼 키와 값을 등호로 연결하여 지정합니다.\n",
    "printValues3(메뉴 = '순대국')"
   ]
  },
  {
   "cell_type": "code",
   "execution_count": null,
   "id": "6a29fde5",
   "metadata": {},
   "outputs": [],
   "source": [
    "# 키워드 인수를 여러 개 지정할 수 있습니다.\n",
    "printValues3(메뉴 = '순대국', 가격 = 9000)"
   ]
  },
  {
   "cell_type": "markdown",
   "id": "fe2df9a1",
   "metadata": {},
   "source": [
    "### 사용자 정의 함수 모듈 호출"
   ]
  },
  {
   "cell_type": "code",
   "execution_count": null,
   "id": "4c3939c3",
   "metadata": {},
   "outputs": [],
   "source": [
    "# myFuncs 모듈을 호출합니다.\n",
    "import myFuncs"
   ]
  },
  {
   "cell_type": "code",
   "execution_count": null,
   "id": "44a06511",
   "metadata": {},
   "outputs": [],
   "source": [
    "# 전역 변수 목록을 출력하면 myFuncs 모듈이 있습니다.\n",
    "%whos"
   ]
  },
  {
   "cell_type": "code",
   "execution_count": null,
   "id": "47762bd6",
   "metadata": {},
   "outputs": [],
   "source": [
    "# 함수명 앞에 myFuncs를 추가해야 함수를 실행할 수 있습니다.\n",
    "myFuncs.BMI(hgt = 175, wgt = 65)"
   ]
  },
  {
   "cell_type": "code",
   "execution_count": null,
   "id": "0271ffc3",
   "metadata": {},
   "outputs": [],
   "source": [
    "# myFuncs 모듈을 mf라는 가명으로 호출합니다.\n",
    "import myFuncs as mf"
   ]
  },
  {
   "cell_type": "code",
   "execution_count": null,
   "id": "68f3c560",
   "metadata": {},
   "outputs": [],
   "source": [
    "# 전역 변수 목록을 출력하면 mf 모듈이 있습니다.\n",
    "%whos"
   ]
  },
  {
   "cell_type": "code",
   "execution_count": null,
   "id": "a4ba0ea7",
   "metadata": {},
   "outputs": [],
   "source": [
    "# 함수명 앞에 mf를 추가해야 함수를 실행할 수 있습니다.\n",
    "mf.BMI(hgt = 175, wgt = 65)"
   ]
  },
  {
   "cell_type": "code",
   "execution_count": null,
   "id": "e8be3774",
   "metadata": {},
   "outputs": [],
   "source": [
    "# myFuncs 모듈에서 일부 함수만 호출합니다.\n",
    "# [참고] 호출할 함수가 여러 개일 때 콤마로 나열합니다.\n",
    "from myFuncs import BMI"
   ]
  },
  {
   "cell_type": "code",
   "execution_count": null,
   "id": "ae1c353c",
   "metadata": {},
   "outputs": [],
   "source": [
    "# 전역 변수 목록을 출력하면 BMI 함수가 있습니다.\n",
    "%whos"
   ]
  },
  {
   "cell_type": "code",
   "execution_count": null,
   "id": "c4269629",
   "metadata": {},
   "outputs": [],
   "source": [
    "# 함수명 앞에 모듈명을 추가할 수 없습니다.\n",
    "BMI(hgt = 175, wgt = 65)"
   ]
  },
  {
   "cell_type": "markdown",
   "id": "alive-supply",
   "metadata": {},
   "source": [
    "## End of Document"
   ]
  }
 ],
 "metadata": {
  "kernelspec": {
   "display_name": "Python 3",
   "language": "python",
   "name": "python3"
  },
  "language_info": {
   "codemirror_mode": {
    "name": "ipython",
    "version": 3
   },
   "file_extension": ".py",
   "mimetype": "text/x-python",
   "name": "python",
   "nbconvert_exporter": "python",
   "pygments_lexer": "ipython3",
   "version": "3.11.1"
  },
  "toc": {
   "base_numbering": 1,
   "nav_menu": {},
   "number_sections": false,
   "sideBar": true,
   "skip_h1_title": false,
   "title_cell": "Table of Contents",
   "title_sidebar": "Contents",
   "toc_cell": false,
   "toc_position": {},
   "toc_section_display": true,
   "toc_window_display": false
  },
  "varInspector": {
   "cols": {
    "lenName": 16,
    "lenType": 16,
    "lenVar": 40
   },
   "kernels_config": {
    "python": {
     "delete_cmd_postfix": "",
     "delete_cmd_prefix": "del ",
     "library": "var_list.py",
     "varRefreshCmd": "print(var_dic_list())"
    },
    "r": {
     "delete_cmd_postfix": ") ",
     "delete_cmd_prefix": "rm(",
     "library": "var_list.r",
     "varRefreshCmd": "cat(var_dic_list()) "
    }
   },
   "types_to_exclude": [
    "module",
    "function",
    "builtin_function_or_method",
    "instance",
    "_Feature"
   ],
   "window_display": false
  }
 },
 "nbformat": 4,
 "nbformat_minor": 5
}

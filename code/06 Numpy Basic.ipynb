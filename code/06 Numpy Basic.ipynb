{
 "cells": [
  {
   "cell_type": "markdown",
   "id": "a97a133f",
   "metadata": {},
   "source": [
    "# numpy 기초"
   ]
  },
  {
   "cell_type": "markdown",
   "id": "human-lawrence",
   "metadata": {},
   "source": [
    "### 라이브러리 호출"
   ]
  },
  {
   "cell_type": "code",
   "execution_count": null,
   "id": "facial-pizza",
   "metadata": {},
   "outputs": [],
   "source": [
    "# numpy 라이브러리를 호출합니다.\n",
    "import numpy as np"
   ]
  },
  {
   "cell_type": "markdown",
   "id": "coupled-assistant",
   "metadata": {},
   "source": [
    "### 1차원 배열 생성"
   ]
  },
  {
   "cell_type": "code",
   "execution_count": null,
   "id": "published-rally",
   "metadata": {},
   "outputs": [],
   "source": [
    "# 리스트로 1차원 배열을 생성합니다.\n",
    "ar1 = np.array(object = [1, 2, 3])"
   ]
  },
  {
   "cell_type": "code",
   "execution_count": null,
   "id": "latter-chocolate",
   "metadata": {},
   "outputs": [],
   "source": [
    "# ar1을 출력합니다.\n",
    "ar1"
   ]
  },
  {
   "cell_type": "code",
   "execution_count": null,
   "id": "above-radius",
   "metadata": {},
   "outputs": [],
   "source": [
    "# ar1의 클래스를 확인합니다.\n",
    "type(ar1)"
   ]
  },
  {
   "cell_type": "code",
   "execution_count": null,
   "id": "dramatic-porcelain",
   "metadata": {},
   "outputs": [],
   "source": [
    "# ar1의 차원을 확인합니다.(1차원)\n",
    "ar1.ndim"
   ]
  },
  {
   "cell_type": "code",
   "execution_count": null,
   "id": "attractive-corps",
   "metadata": {},
   "outputs": [],
   "source": [
    "# ar1의 형태를 확인합니다. \n",
    "ar1.shape"
   ]
  },
  {
   "cell_type": "code",
   "execution_count": null,
   "id": "tested-consent",
   "metadata": {},
   "outputs": [],
   "source": [
    "# ar1 원소의 자료형을 확인합니다.\n",
    "ar1.dtype"
   ]
  },
  {
   "cell_type": "markdown",
   "id": "random-product",
   "metadata": {},
   "source": [
    "### 1차원 배열의 형 변환"
   ]
  },
  {
   "cell_type": "code",
   "execution_count": null,
   "id": "deluxe-measurement",
   "metadata": {},
   "outputs": [],
   "source": [
    "# 자료형이 섞여 있는 리스트로 1차원 배열을 생성하고 출력합니다.\n",
    "ar1 = np.array(object = [1, 2.0, '3'])\n",
    "ar1"
   ]
  },
  {
   "cell_type": "code",
   "execution_count": null,
   "id": "green-edinburgh",
   "metadata": {},
   "outputs": [],
   "source": [
    "# ar1의 원소를 실수로 변환합니다.\n",
    "ar1.astype('float')"
   ]
  },
  {
   "cell_type": "code",
   "execution_count": null,
   "id": "genuine-seeking",
   "metadata": {},
   "outputs": [],
   "source": [
    "# ar1의 원소를 정수로 변환합니다.(에러가 발생합니다!)\n",
    "ar1.astype('int')"
   ]
  },
  {
   "cell_type": "code",
   "execution_count": null,
   "id": "b14286e6",
   "metadata": {},
   "outputs": [],
   "source": [
    "# ar1의 원소를 먼저 실수로 변환하면, 정수로 변환할 수 있습니다.\n",
    "ar1.astype('float').astype('int')"
   ]
  },
  {
   "cell_type": "markdown",
   "id": "9f6cb212",
   "metadata": {},
   "source": [
    "### [참고] 배열 원소의 자료형 설정"
   ]
  },
  {
   "cell_type": "code",
   "execution_count": null,
   "id": "179a174d",
   "metadata": {},
   "outputs": [],
   "source": [
    "# 배열 원소의 자료형을 실수로 설정합니다.\n",
    "np.array(object = [1, 2.0, '3'], dtype = 'float')"
   ]
  },
  {
   "cell_type": "code",
   "execution_count": null,
   "id": "8af01f56",
   "metadata": {},
   "outputs": [],
   "source": [
    "# 배열 원소의 자료형을 정수로 설정합니다.\n",
    "np.array(object = [1, 2.0, '3'], dtype = 'int')"
   ]
  },
  {
   "cell_type": "code",
   "execution_count": null,
   "id": "ddfa9a85",
   "metadata": {},
   "outputs": [],
   "source": [
    "# 배열 원소의 자료형을 문자열로 설정합니다.\n",
    "np.array(object = [1, 2.0, '3'], dtype = 'str')"
   ]
  },
  {
   "cell_type": "code",
   "execution_count": null,
   "id": "349063f4",
   "metadata": {},
   "outputs": [],
   "source": [
    "# 배열 원소의 자료형을 객체로 설정하면, 원소의 자료형이 유지됩니다.\n",
    "np.array(object = [1, 2.0, '3'], dtype = 'object')"
   ]
  },
  {
   "cell_type": "markdown",
   "id": "7e37be6d",
   "metadata": {},
   "source": [
    "### 원소의 간격이 일정한 배열 생성"
   ]
  },
  {
   "cell_type": "code",
   "execution_count": null,
   "id": "innocent-think",
   "metadata": {},
   "outputs": [],
   "source": [
    "# 0부터 4까지 연속된 정수를 반환합니다.\n",
    "np.arange(5)"
   ]
  },
  {
   "cell_type": "code",
   "execution_count": null,
   "id": "dominican-classics",
   "metadata": {},
   "outputs": [],
   "source": [
    "# 1부터 5까지 연속된 정수를 반환합니다.\n",
    "np.arange(start = 1, stop = 6)"
   ]
  },
  {
   "cell_type": "code",
   "execution_count": null,
   "id": "destroyed-boundary",
   "metadata": {},
   "outputs": [],
   "source": [
    "# 1부터 10에서 홀수를 정수로 반환합니다.\n",
    "np.arange(start = 1, stop = 11, step = 2)"
   ]
  },
  {
   "cell_type": "code",
   "execution_count": null,
   "id": "dutch-fusion",
   "metadata": {},
   "outputs": [],
   "source": [
    "# 0부터 1까지 0.1 간격의 연속된 실수를 반환합니다.\n",
    "# [참고] 1을 포함하지 않습니다.\n",
    "np.arange(start = 0, stop = 1, step = 0.1)"
   ]
  },
  {
   "cell_type": "code",
   "execution_count": null,
   "id": "6895f6af",
   "metadata": {},
   "outputs": [],
   "source": [
    "# 0부터 1까지 원소 개수가 11개인 실수를 반환합니다.\n",
    "# [참고] 1을 포함합니다.\n",
    "np.linspace(start = 0, stop = 1, num = 11)"
   ]
  },
  {
   "cell_type": "code",
   "execution_count": null,
   "id": "51d0efca",
   "metadata": {
    "scrolled": true
   },
   "outputs": [],
   "source": [
    "# 80부터 75까지 32개의 원소를 실수로 반환합니다.\n",
    "np.linspace(start = 80, stop = 75, num = 32)"
   ]
  },
  {
   "cell_type": "markdown",
   "id": "60369222",
   "metadata": {},
   "source": [
    "### 원소가 반복되는 배열 생성"
   ]
  },
  {
   "cell_type": "code",
   "execution_count": null,
   "id": "13beded3",
   "metadata": {},
   "outputs": [],
   "source": [
    "# 배열 전체를 두 번 반복합니다.\n",
    "np.tile(A = ar1, reps = 2)"
   ]
  },
  {
   "cell_type": "code",
   "execution_count": null,
   "id": "434a9b35",
   "metadata": {},
   "outputs": [],
   "source": [
    "# 배열 원소를 두 번씩 반복합니다.\n",
    "np.repeat(a = ar1, repeats = 2)"
   ]
  },
  {
   "cell_type": "code",
   "execution_count": null,
   "id": "3a3dfa80",
   "metadata": {},
   "outputs": [],
   "source": [
    "# 배열 원소별로 반복할 횟수를 지정합니다.\n",
    "np.repeat(a = ar1, repeats = [1, 2, 3])"
   ]
  },
  {
   "cell_type": "code",
   "execution_count": null,
   "id": "ac0bfe4d",
   "metadata": {},
   "outputs": [],
   "source": [
    "# 반복 횟수를 지정할 때, range() 함수를 사용할 수 있습니다.\n",
    "np.repeat(a = ar1, repeats = range(3, 0, -1))"
   ]
  },
  {
   "cell_type": "markdown",
   "id": "fifth-medium",
   "metadata": {},
   "source": [
    "### 1차원 배열의 인덱싱 및 슬라이싱"
   ]
  },
  {
   "cell_type": "code",
   "execution_count": null,
   "id": "statutory-resolution",
   "metadata": {},
   "outputs": [],
   "source": [
    "# 1부터 11까지 홀수를 원소로 갖는 1차원 배열을 생성합니다. \n",
    "ar1 = np.arange(start = 1, stop = 12, step = 2)"
   ]
  },
  {
   "cell_type": "code",
   "execution_count": null,
   "id": "raised-richardson",
   "metadata": {},
   "outputs": [],
   "source": [
    "# ar1의 0번 인덱스(첫 번째) 원소를 선택합니다.\n",
    "ar1[0]"
   ]
  },
  {
   "cell_type": "code",
   "execution_count": null,
   "id": "velvet-bottom",
   "metadata": {},
   "outputs": [],
   "source": [
    "# ar1의 1번 인덱스(두 번째) 원소를 선택합니다.\n",
    "ar1[1]"
   ]
  },
  {
   "cell_type": "code",
   "execution_count": null,
   "id": "pressed-import",
   "metadata": {},
   "outputs": [],
   "source": [
    "# ar1의 마지막 원소를 선택합니다.\n",
    "ar1[-1]"
   ]
  },
  {
   "cell_type": "code",
   "execution_count": null,
   "id": "controlling-transparency",
   "metadata": {},
   "outputs": [],
   "source": [
    "# 정수 스칼라 대신 정수를 원소로 갖는 리스트를 지정할 수 있습니다.\n",
    "ar1[[3, 2, 1]]"
   ]
  },
  {
   "cell_type": "code",
   "execution_count": null,
   "id": "controlled-binary",
   "metadata": {},
   "outputs": [],
   "source": [
    "# 리스트의 원소를 반복하면 같은 원소가 여러 번 선택됩니다.\n",
    "ar1[[3, 3, 3]]"
   ]
  },
  {
   "cell_type": "code",
   "execution_count": null,
   "id": "checked-madonna",
   "metadata": {},
   "outputs": [],
   "source": [
    "# ar1의 0~2번 인덱스 원소를 선택합니다. \n",
    "ar1[:3]"
   ]
  },
  {
   "cell_type": "code",
   "execution_count": null,
   "id": "thorough-jacket",
   "metadata": {},
   "outputs": [],
   "source": [
    "# ar1의 3번 인덱스 원소부터 마지막 원소까지 선택합니다.\n",
    "ar1[3:]"
   ]
  },
  {
   "cell_type": "code",
   "execution_count": null,
   "id": "considerable-fireplace",
   "metadata": {},
   "outputs": [],
   "source": [
    "# ar1의 전체 원소를 선택합니다. [주의] 콜론을 생략하면 에러가 발생합니다.\n",
    "ar1[:]"
   ]
  },
  {
   "cell_type": "markdown",
   "id": "neural-norman",
   "metadata": {},
   "source": [
    "### 2차원 배열 생성"
   ]
  },
  {
   "cell_type": "code",
   "execution_count": null,
   "id": "spanish-flexibility",
   "metadata": {},
   "outputs": [],
   "source": [
    "# 리스트로 2차원 배열을 생성합니다.\n",
    "ar2 = np.array(object = [[1, 2, 3], [4, 5, 6]])"
   ]
  },
  {
   "cell_type": "code",
   "execution_count": null,
   "id": "architectural-wallpaper",
   "metadata": {},
   "outputs": [],
   "source": [
    "# ar2를 출력합니다.\n",
    "ar2"
   ]
  },
  {
   "cell_type": "code",
   "execution_count": null,
   "id": "dutch-saying",
   "metadata": {},
   "outputs": [],
   "source": [
    "# ar2의 클래스를 확인합니다.\n",
    "type(ar2)"
   ]
  },
  {
   "cell_type": "code",
   "execution_count": null,
   "id": "gorgeous-quality",
   "metadata": {},
   "outputs": [],
   "source": [
    "# ar2의 차원을 확인합니다.(2차원)\n",
    "ar2.ndim"
   ]
  },
  {
   "cell_type": "code",
   "execution_count": null,
   "id": "minimal-allowance",
   "metadata": {},
   "outputs": [],
   "source": [
    "# ar2의 형태를 확인합니다. \n",
    "ar2.shape"
   ]
  },
  {
   "cell_type": "code",
   "execution_count": null,
   "id": "instant-solution",
   "metadata": {},
   "outputs": [],
   "source": [
    "# ar2 원소의 자료형을 확인합니다.\n",
    "ar2.dtype"
   ]
  },
  {
   "cell_type": "markdown",
   "id": "patent-recorder",
   "metadata": {},
   "source": [
    "### 배열의 재구조화"
   ]
  },
  {
   "cell_type": "code",
   "execution_count": null,
   "id": "stable-capital",
   "metadata": {},
   "outputs": [],
   "source": [
    "# 0부터 11까지 12개의 원소를 갖는 1차원 배열을 생성합니다.\n",
    "ar1 = np.arange(12)"
   ]
  },
  {
   "cell_type": "code",
   "execution_count": null,
   "id": "utility-acrobat",
   "metadata": {},
   "outputs": [],
   "source": [
    "# ar1을 3행 4열인 2차원 배열로 변환합니다.\n",
    "ar1.reshape(3, 4)"
   ]
  },
  {
   "cell_type": "code",
   "execution_count": null,
   "id": "animal-professor",
   "metadata": {},
   "outputs": [],
   "source": [
    "# 배열의 구조를 변경할 때 원소의 입력방향을 세로로 지정합니다.\n",
    "ar1.reshape(3, 4, order = 'F')"
   ]
  },
  {
   "cell_type": "code",
   "execution_count": null,
   "id": "inner-uncertainty",
   "metadata": {},
   "outputs": [],
   "source": [
    "# 행 위치에 숫자, 열 위치에 '-1'을 할당하면 열의 크기가 자동 계산됩니다.\n",
    "ar1.reshape(4, -1)"
   ]
  },
  {
   "cell_type": "code",
   "execution_count": null,
   "id": "lucky-stretch",
   "metadata": {},
   "outputs": [],
   "source": [
    "# 2차원 배열 인덱싱 실습을 위해 ar2에 재할당합니다.\n",
    "ar2 = ar1.reshape(4, -1)"
   ]
  },
  {
   "cell_type": "code",
   "execution_count": null,
   "id": "8f394354",
   "metadata": {},
   "outputs": [],
   "source": [
    "# 2차원 배열을 1차원 배열로 변환합니다.\n",
    "ar2.flatten(order = 'C')"
   ]
  },
  {
   "cell_type": "markdown",
   "id": "visible-router",
   "metadata": {},
   "source": [
    "### 2차원 배열의 인덱싱 및 슬라이싱"
   ]
  },
  {
   "cell_type": "code",
   "execution_count": null,
   "id": "lesbian-flooring",
   "metadata": {},
   "outputs": [],
   "source": [
    "# ar2의 1행 1열의 원소를 선택합니다.\n",
    "ar2[0, 0]"
   ]
  },
  {
   "cell_type": "code",
   "execution_count": null,
   "id": "legislative-horror",
   "metadata": {},
   "outputs": [],
   "source": [
    "# ar2의 2행 2열의 원소를 선택합니다. \n",
    "ar2[1, 1]"
   ]
  },
  {
   "cell_type": "code",
   "execution_count": null,
   "id": "answering-huntington",
   "metadata": {},
   "outputs": [],
   "source": [
    "# ar2의 1~2행 1~2열 원소를 선택합니다.\n",
    "ar2[0:2, 0:2]"
   ]
  },
  {
   "cell_type": "code",
   "execution_count": null,
   "id": "fiscal-reaction",
   "metadata": {},
   "outputs": [],
   "source": [
    "# ar2의 전체 행 2~3열 원소를 선택합니다.\n",
    "# [주의] 반드시 빈 콜론을 추가해야 합니다.\n",
    "ar2[:, 1:3]"
   ]
  },
  {
   "cell_type": "code",
   "execution_count": null,
   "id": "exotic-start",
   "metadata": {},
   "outputs": [],
   "source": [
    "# ar2의 열 순서를 변경합니다.\n",
    "# [주의] 행과 열 순서를 동시에 변경하는 것은 안됩니다.\n",
    "ar2[:, [2, 1]]"
   ]
  },
  {
   "cell_type": "markdown",
   "id": "vocational-sacrifice",
   "metadata": {},
   "source": [
    "## End of Document"
   ]
  }
 ],
 "metadata": {
  "kernelspec": {
   "display_name": "Python 3 (ipykernel)",
   "language": "python",
   "name": "python3"
  },
  "language_info": {
   "codemirror_mode": {
    "name": "ipython",
    "version": 3
   },
   "file_extension": ".py",
   "mimetype": "text/x-python",
   "name": "python",
   "nbconvert_exporter": "python",
   "pygments_lexer": "ipython3",
   "version": "3.9.7"
  },
  "toc": {
   "base_numbering": 1,
   "nav_menu": {},
   "number_sections": true,
   "sideBar": true,
   "skip_h1_title": false,
   "title_cell": "Table of Contents",
   "title_sidebar": "Contents",
   "toc_cell": false,
   "toc_position": {},
   "toc_section_display": true,
   "toc_window_display": false
  },
  "varInspector": {
   "cols": {
    "lenName": 16,
    "lenType": 16,
    "lenVar": 40
   },
   "kernels_config": {
    "python": {
     "delete_cmd_postfix": "",
     "delete_cmd_prefix": "del ",
     "library": "var_list.py",
     "varRefreshCmd": "print(var_dic_list())"
    },
    "r": {
     "delete_cmd_postfix": ") ",
     "delete_cmd_prefix": "rm(",
     "library": "var_list.r",
     "varRefreshCmd": "cat(var_dic_list()) "
    }
   },
   "types_to_exclude": [
    "module",
    "function",
    "builtin_function_or_method",
    "instance",
    "_Feature"
   ],
   "window_display": false
  }
 },
 "nbformat": 4,
 "nbformat_minor": 5
}

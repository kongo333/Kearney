{
 "cells": [
  {
   "cell_type": "markdown",
   "id": "96237ba2",
   "metadata": {},
   "source": [
    "# Python 자료구조"
   ]
  },
  {
   "cell_type": "markdown",
   "id": "coastal-potter",
   "metadata": {},
   "source": [
    "### 리스트"
   ]
  },
  {
   "cell_type": "code",
   "execution_count": null,
   "id": "important-receiver",
   "metadata": {},
   "outputs": [],
   "source": [
    "# 빈 리스트를 생성하고 출력합니다.\n",
    "a = []; a"
   ]
  },
  {
   "cell_type": "code",
   "execution_count": null,
   "id": "intense-wallace",
   "metadata": {},
   "outputs": [],
   "source": [
    "# a의 클래스를 확인합니다.\n",
    "type(a)"
   ]
  },
  {
   "cell_type": "code",
   "execution_count": null,
   "id": "innocent-hydrogen",
   "metadata": {},
   "outputs": [],
   "source": [
    "# 리스트 원소 사이에 콤마로 구분하여 생성하고 출력합니다.\n",
    "b = [1, 5, 3]; b"
   ]
  },
  {
   "cell_type": "code",
   "execution_count": null,
   "id": "e8099c6d",
   "metadata": {},
   "outputs": [],
   "source": [
    "# 리스트에 포함된 원소 개수를 반환합니다.\n",
    "len(b)"
   ]
  },
  {
   "cell_type": "code",
   "execution_count": null,
   "id": "happy-handle",
   "metadata": {},
   "outputs": [],
   "source": [
    "# 다양한 자료형을 원소로 갖는 리스트를 생성하고 출력합니다.\n",
    "c = [1, 2.0, '3']; c"
   ]
  },
  {
   "cell_type": "code",
   "execution_count": null,
   "id": "technological-password",
   "metadata": {},
   "outputs": [],
   "source": [
    "# 리스트를 원소로 갖는 리스트를 생성하고 출력합니다.\n",
    "d = [a, b, c]; d"
   ]
  },
  {
   "cell_type": "markdown",
   "id": "living-cornwall",
   "metadata": {},
   "source": [
    "### 리스트 연산자"
   ]
  },
  {
   "cell_type": "code",
   "execution_count": null,
   "id": "systematic-complexity",
   "metadata": {},
   "outputs": [],
   "source": [
    "# b와 c를 결합합니다.\n",
    "b + c"
   ]
  },
  {
   "cell_type": "code",
   "execution_count": null,
   "id": "accompanied-cross",
   "metadata": {},
   "outputs": [],
   "source": [
    "# c의 전체 원소를 두 번 반복합니다.\n",
    "c * 2"
   ]
  },
  {
   "cell_type": "code",
   "execution_count": null,
   "id": "behind-folks",
   "metadata": {},
   "outputs": [],
   "source": [
    "# 1이 b의 원소이면 True, 원소가 아니면 False를 반환합니다.\n",
    "1 in b"
   ]
  },
  {
   "cell_type": "code",
   "execution_count": null,
   "id": "automated-broad",
   "metadata": {},
   "outputs": [],
   "source": [
    "# 1이 b의 원소가 아니면 True, 원소이면 False를 반환합니다.\n",
    "1 not in b"
   ]
  },
  {
   "cell_type": "markdown",
   "id": "cognitive-survey",
   "metadata": {},
   "source": [
    "### 리스트 인덱싱"
   ]
  },
  {
   "cell_type": "code",
   "execution_count": null,
   "id": "naked-interface",
   "metadata": {},
   "outputs": [],
   "source": [
    "# 리스트를 생성합니다.\n",
    "a = [1, 2, '3', '4', ['가', '나', '다']]"
   ]
  },
  {
   "cell_type": "code",
   "execution_count": null,
   "id": "careful-suffering",
   "metadata": {},
   "outputs": [],
   "source": [
    "# a의 0번 인덱스 원소와 1번 인덱스 원소를 더합니다.\n",
    "a[0] + a[1]"
   ]
  },
  {
   "cell_type": "code",
   "execution_count": null,
   "id": "acute-charter",
   "metadata": {},
   "outputs": [],
   "source": [
    "# a의 2번 인덱스 원소와 3번 인덱스 원소를 결합합니다.\n",
    "a[2] + a[3]"
   ]
  },
  {
   "cell_type": "code",
   "execution_count": null,
   "id": "adjusted-cincinnati",
   "metadata": {},
   "outputs": [],
   "source": [
    "# a의 4번 인덱스 원소는 리스트이므로, 대괄호를 이어서 사용하면 리스트의 개별 원소를 반환합니다.\n",
    "a[4][0]"
   ]
  },
  {
   "cell_type": "markdown",
   "id": "desperate-television",
   "metadata": {},
   "source": [
    "### 리스트 슬라이싱"
   ]
  },
  {
   "cell_type": "code",
   "execution_count": null,
   "id": "received-cabinet",
   "metadata": {},
   "outputs": [],
   "source": [
    "# a의 0~1번 인덱스 원소를 선택하고 리스트로 반환합니다.\n",
    "a[0:2]"
   ]
  },
  {
   "cell_type": "code",
   "execution_count": null,
   "id": "brief-symphony",
   "metadata": {},
   "outputs": [],
   "source": [
    "# a의 2~3번 인덱스 원소를 선택하고 리스트로 반환합니다.\n",
    "a[2:4]"
   ]
  },
  {
   "cell_type": "code",
   "execution_count": null,
   "id": "unable-distinction",
   "metadata": {},
   "outputs": [],
   "source": [
    "# a의 0~3번 인덱스 원소를 선택하고 리스트로 반환합니다.\n",
    "a[:4]"
   ]
  },
  {
   "cell_type": "code",
   "execution_count": null,
   "id": "elect-apparel",
   "metadata": {},
   "outputs": [],
   "source": [
    "# a의 4~마지막 원소를 선택하고 리스트로 반환합니다.\n",
    "a[4:]"
   ]
  },
  {
   "cell_type": "code",
   "execution_count": null,
   "id": "written-prairie",
   "metadata": {},
   "outputs": [],
   "source": [
    "# a의 처음부터 끝에서 두 번째 원소를 선택하고 리스트로 반환합니다.\n",
    "a[:-1]"
   ]
  },
  {
   "cell_type": "markdown",
   "id": "beneficial-horizontal",
   "metadata": {},
   "source": [
    "### [참고] 리스트의 인덱싱 및 슬라이싱 관련 주의사항"
   ]
  },
  {
   "cell_type": "code",
   "execution_count": null,
   "id": "increased-employment",
   "metadata": {},
   "outputs": [],
   "source": [
    "# 대괄호 안에 아무것도 입력하지 않으면 에러가 발생합니다.\n",
    "a[]"
   ]
  },
  {
   "cell_type": "code",
   "execution_count": null,
   "id": "pointed-investor",
   "metadata": {},
   "outputs": [],
   "source": [
    "# 빈 콜론을 입력하면 리스트 a의 전체 원소를 반환합니다.\n",
    "a[:]"
   ]
  },
  {
   "cell_type": "code",
   "execution_count": null,
   "id": "applied-mechanism",
   "metadata": {},
   "outputs": [],
   "source": [
    "# 대괄호 안에 인덱스를 스칼라로 설정하면 해당 원소를 본래 자료형으로 반환합니다.\n",
    "a[0]"
   ]
  },
  {
   "cell_type": "code",
   "execution_count": null,
   "id": "therapeutic-ballet",
   "metadata": {},
   "outputs": [],
   "source": [
    "# 대괄호 안에 콜론을 사용하면 연속된 원소를 항상 리스트로 반환합니다.\n",
    "a[0:1]"
   ]
  },
  {
   "cell_type": "code",
   "execution_count": null,
   "id": "juvenile-baseline",
   "metadata": {},
   "outputs": [],
   "source": [
    "# 대괄호 안에 리스트를 입력하면 에러가 발생합니다.\n",
    "a[[0, 2]]"
   ]
  },
  {
   "cell_type": "code",
   "execution_count": null,
   "id": "1aca7862",
   "metadata": {},
   "outputs": [],
   "source": [
    "# 만약 a의 0번과 2번 인덱스 원소로 리스트를 생성하려면 왼쪽과 같이 코딩합니다.\n",
    "[a[0], a[2]]"
   ]
  },
  {
   "cell_type": "markdown",
   "id": "chronic-remove",
   "metadata": {},
   "source": [
    "### 이중 콜론 연산자"
   ]
  },
  {
   "cell_type": "code",
   "execution_count": null,
   "id": "sustained-alexandria",
   "metadata": {},
   "outputs": [],
   "source": [
    "# 리스트를 생성합니다.\n",
    "a = [1, 2, 3, 4, 5, 6, 7]"
   ]
  },
  {
   "cell_type": "code",
   "execution_count": null,
   "id": "brown-reservoir",
   "metadata": {},
   "outputs": [],
   "source": [
    "# a의 1~4번 인덱스 원소에서 1번, 3번 인덱스 원소를 선택하고 리스트로 반환합니다.\n",
    "a[1:5:2]"
   ]
  },
  {
   "cell_type": "code",
   "execution_count": null,
   "id": "cooperative-inventory",
   "metadata": {},
   "outputs": [],
   "source": [
    "# a의 0~4번 인덱스 원소에서 0번, 2번, 4번 인덱스 원소를 선택하고 리스트로 반환합니다.\n",
    "a[:5:2]"
   ]
  },
  {
   "cell_type": "code",
   "execution_count": null,
   "id": "northern-final",
   "metadata": {},
   "outputs": [],
   "source": [
    "# a의 1~마지막 원소까지 두 칸 간격으로 원소를 선택하고 리스트로 반환합니다.\n",
    "a[1::2]"
   ]
  },
  {
   "cell_type": "code",
   "execution_count": null,
   "id": "acknowledged-arthritis",
   "metadata": {},
   "outputs": [],
   "source": [
    "# a의 처음부터 마지막 원소까지 두 칸 간격으로 원소를 선택하고 리스트로 반환합니다.\n",
    "a[::2]"
   ]
  },
  {
   "cell_type": "code",
   "execution_count": null,
   "id": "municipal-yellow",
   "metadata": {},
   "outputs": [],
   "source": [
    "# a의 전체 원소를 역순으로 반환합니다. 내림차순 정렬이 아닙니다.\n",
    "a[::-1]"
   ]
  },
  {
   "cell_type": "markdown",
   "id": "funded-haiti",
   "metadata": {},
   "source": [
    "### range() 함수 사용법"
   ]
  },
  {
   "cell_type": "code",
   "execution_count": null,
   "id": "false-occupation",
   "metadata": {},
   "outputs": [],
   "source": [
    "# 0부터 4까지 연속된 정수를 a에 할당하고, a를 출력합니다.\n",
    "a = range(5); a"
   ]
  },
  {
   "cell_type": "code",
   "execution_count": null,
   "id": "retained-creation",
   "metadata": {},
   "outputs": [],
   "source": [
    "# a의 클래스를 확인합니다. a의 클래스는 range입니다.\n",
    "type(a)"
   ]
  },
  {
   "cell_type": "code",
   "execution_count": null,
   "id": "institutional-leadership",
   "metadata": {},
   "outputs": [],
   "source": [
    "# a를 리스트로 변환하여 a에 재할당한 다음, a를 출력합니다.\n",
    "a = list(a); a"
   ]
  },
  {
   "cell_type": "code",
   "execution_count": null,
   "id": "5e22382a",
   "metadata": {},
   "outputs": [],
   "source": [
    "# a의 클래스를 확인합니다. a의 클래스는 list입니다.\n",
    "type(a)"
   ]
  },
  {
   "cell_type": "code",
   "execution_count": null,
   "id": "tough-accounting",
   "metadata": {},
   "outputs": [],
   "source": [
    "# range() 함수에 정수를 두 개 입력하면, 두 숫자 사이의 연속된 정수를 반환합니다.\n",
    "list(range(1, 6))"
   ]
  },
  {
   "cell_type": "code",
   "execution_count": null,
   "id": "chief-herald",
   "metadata": {},
   "outputs": [],
   "source": [
    "# range() 함수에 정수를 세 개 입력하면, 마지막 숫자는 간격으로 설정됩니다.\n",
    "list(range(1, 11, 2))"
   ]
  },
  {
   "cell_type": "markdown",
   "id": "expressed-inflation",
   "metadata": {},
   "source": [
    "### 리스트 원소 추가"
   ]
  },
  {
   "cell_type": "code",
   "execution_count": null,
   "id": "simplified-artwork",
   "metadata": {},
   "outputs": [],
   "source": [
    "# a에 정수 5를 마지막 원소로 추가합니다.\n",
    "a.append(5)\n",
    "a"
   ]
  },
  {
   "cell_type": "code",
   "execution_count": null,
   "id": "canadian-anniversary",
   "metadata": {},
   "outputs": [],
   "source": [
    "# append() 함수에 리스트를 입력하면, 해당 리스트가 원소로 추가됩니다.\n",
    "a.append([6, 7])\n",
    "a"
   ]
  },
  {
   "cell_type": "code",
   "execution_count": null,
   "id": "intended-thanksgiving",
   "metadata": {},
   "outputs": [],
   "source": [
    "# extend() 함수에 입력된 리스트의 원소를 a에 추가합니다.\n",
    "a.extend([8, 9])\n",
    "a"
   ]
  },
  {
   "cell_type": "markdown",
   "id": "9ec096ae",
   "metadata": {},
   "source": [
    "### 리스트 원소 삽입"
   ]
  },
  {
   "cell_type": "code",
   "execution_count": null,
   "id": "failing-reliance",
   "metadata": {},
   "outputs": [],
   "source": [
    "# a의 1번 인덱스 앞에 정수 10을 삽입합니다.\n",
    "a.insert(1, 10)\n",
    "a"
   ]
  },
  {
   "cell_type": "markdown",
   "id": "288e3e4d",
   "metadata": {},
   "source": [
    "### 리스트 원소 삭제"
   ]
  },
  {
   "cell_type": "code",
   "execution_count": null,
   "id": "filled-tracker",
   "metadata": {},
   "outputs": [],
   "source": [
    "# remove() 함수는 입력된 값을 (중복이 있어도 맨 처음) 하나만 삭제합니다.\n",
    "a.remove([6, 7])\n",
    "a"
   ]
  },
  {
   "cell_type": "code",
   "execution_count": null,
   "id": "given-animation",
   "metadata": {},
   "outputs": [],
   "source": [
    "# pop() 함수는 입력된 인덱스의 원소를 출력하고, 해당 원소를 제거한 결과를 재할당합니다.\n",
    "a.pop(2)\n",
    "a"
   ]
  },
  {
   "cell_type": "markdown",
   "id": "numerous-boundary",
   "metadata": {},
   "source": [
    "### 리스트 원소 변경"
   ]
  },
  {
   "cell_type": "code",
   "execution_count": null,
   "id": "dangerous-clarity",
   "metadata": {},
   "outputs": [],
   "source": [
    "# a의 0번 인덱스 원소를 정수 1로 변경합니다.\n",
    "a[0] = 1\n",
    "a"
   ]
  },
  {
   "cell_type": "code",
   "execution_count": null,
   "id": "original-fitness",
   "metadata": {},
   "outputs": [],
   "source": [
    "# a의 3~4번 인덱스 원소를 리스트 [7, 6]의 원소로 변경합니다.\n",
    "a[3:5] = [7, 6]\n",
    "a"
   ]
  },
  {
   "cell_type": "code",
   "execution_count": null,
   "id": "laughing-bradford",
   "metadata": {},
   "outputs": [],
   "source": [
    "# a의 3번 인덱스 원소를 리스트 [4, 3]으로 변경합니다.\n",
    "a[3] = [4, 3]\n",
    "a"
   ]
  },
  {
   "cell_type": "markdown",
   "id": "backed-cosmetic",
   "metadata": {},
   "source": [
    "### 리스트 원소 확인"
   ]
  },
  {
   "cell_type": "code",
   "execution_count": null,
   "id": "north-gothic",
   "metadata": {},
   "outputs": [],
   "source": [
    "# a의 원소에 1이 몇 개 있는지 확인합니다.\n",
    "a.count(1)"
   ]
  },
  {
   "cell_type": "code",
   "execution_count": null,
   "id": "finite-humanitarian",
   "metadata": {},
   "outputs": [],
   "source": [
    "# 리스트에 없는 원소를 입력하면 0을 반환합니다.\n",
    "a.count(7)"
   ]
  },
  {
   "cell_type": "code",
   "execution_count": null,
   "id": "heated-conversation",
   "metadata": {},
   "outputs": [],
   "source": [
    "# 리스트 원소 중 1이 처음 나오는 인덱스를 반환합니다.\n",
    "a.index(1)"
   ]
  },
  {
   "cell_type": "code",
   "execution_count": null,
   "id": "missing-barrel",
   "metadata": {},
   "outputs": [],
   "source": [
    "# 리스트에 없는 원소를 입력하면 에러가 발생합니다.\n",
    "a.index(7)"
   ]
  },
  {
   "cell_type": "markdown",
   "id": "soviet-highland",
   "metadata": {},
   "source": [
    "### 리스트 원소 정렬"
   ]
  },
  {
   "cell_type": "code",
   "execution_count": null,
   "id": "f74e4d76",
   "metadata": {},
   "outputs": [],
   "source": [
    "# 자료형이 다른 리스트의 원소를 정렬하려고 하면 에러가 발생합니다.\n",
    "a.sort()"
   ]
  },
  {
   "cell_type": "code",
   "execution_count": null,
   "id": "indie-religion",
   "metadata": {},
   "outputs": [],
   "source": [
    "# a에 포함된 리스트 [4, 3]을 삭제합니다.\n",
    "a.remove([4, 3])"
   ]
  },
  {
   "cell_type": "code",
   "execution_count": null,
   "id": "opposite-mozambique",
   "metadata": {},
   "outputs": [],
   "source": [
    "# a의 원소를 오름차순으로 정렬합니다.\n",
    "a.sort()\n",
    "a"
   ]
  },
  {
   "cell_type": "code",
   "execution_count": null,
   "id": "modular-complement",
   "metadata": {},
   "outputs": [],
   "source": [
    "# c 원소를 역순으로 변경합니다.\n",
    "c.reverse()\n",
    "c"
   ]
  },
  {
   "cell_type": "markdown",
   "id": "joined-platform",
   "metadata": {},
   "source": [
    "### 튜플"
   ]
  },
  {
   "cell_type": "code",
   "execution_count": null,
   "id": "internal-lease",
   "metadata": {},
   "outputs": [],
   "source": [
    "# 튜플을 생성하고 출력합니다.\n",
    "t = (1, 2.0, '3'); t"
   ]
  },
  {
   "cell_type": "code",
   "execution_count": null,
   "id": "unlike-bracelet",
   "metadata": {},
   "outputs": [],
   "source": [
    "# t의 클래스를 확인합니다.\n",
    "type(t)"
   ]
  },
  {
   "cell_type": "code",
   "execution_count": null,
   "id": "insured-criminal",
   "metadata": {},
   "outputs": [],
   "source": [
    "# tuple() 클래스는 리스트를 튜플로 변환합니다.\n",
    "tuple(c)"
   ]
  },
  {
   "cell_type": "code",
   "execution_count": null,
   "id": "842ab841",
   "metadata": {},
   "outputs": [],
   "source": [
    "# list() 클래스는 튜플을 리스트로 변환합니다.\n",
    "list(t)"
   ]
  },
  {
   "cell_type": "code",
   "execution_count": null,
   "id": "bf583d51",
   "metadata": {},
   "outputs": [],
   "source": [
    "# 튜플에는 append() 방식이 없으므로 에러가 발생합니다.\n",
    "t.append(4)"
   ]
  },
  {
   "cell_type": "code",
   "execution_count": null,
   "id": "e7d3c609",
   "metadata": {},
   "outputs": [],
   "source": [
    "# 튜플에는 remove() 방식이 없으므로 에러가 발생합니다.\n",
    "t.remove(1)"
   ]
  },
  {
   "cell_type": "code",
   "execution_count": null,
   "id": "31e62129",
   "metadata": {},
   "outputs": [],
   "source": [
    "# 튜플에는 원소를 할당할 수 없으므로 에러가 발생합니다.\n",
    "t[2] = 3"
   ]
  },
  {
   "cell_type": "markdown",
   "id": "varying-northern",
   "metadata": {},
   "source": [
    "### 딕셔너리"
   ]
  },
  {
   "cell_type": "code",
   "execution_count": null,
   "id": "protected-unknown",
   "metadata": {},
   "outputs": [],
   "source": [
    "# 딕셔너리를 생성합니다.\n",
    "d = {'item': 'pants', 'size': ['S', 'M', 'L', 'XL']}"
   ]
  },
  {
   "cell_type": "code",
   "execution_count": null,
   "id": "permanent-booking",
   "metadata": {},
   "outputs": [],
   "source": [
    "# d를 출력합니다.\n",
    "d"
   ]
  },
  {
   "cell_type": "code",
   "execution_count": null,
   "id": "three-classics",
   "metadata": {},
   "outputs": [],
   "source": [
    "# d의 클래스를 확인합니다.\n",
    "type(d)"
   ]
  },
  {
   "cell_type": "code",
   "execution_count": null,
   "id": "further-elimination",
   "metadata": {},
   "outputs": [],
   "source": [
    "# dict() 클래스로 딕셔너리를 생성합니다.\n",
    "dict(item = 'pants')"
   ]
  },
  {
   "cell_type": "markdown",
   "id": "strategic-flood",
   "metadata": {},
   "source": [
    "### 딕셔너리 원소 확인 및 선택"
   ]
  },
  {
   "cell_type": "code",
   "execution_count": null,
   "id": "forced-ebony",
   "metadata": {},
   "outputs": [],
   "source": [
    "# d의 key에 'item'이 있으면 True, 없으면 False를 반환합니다.\n",
    "'item' in d"
   ]
  },
  {
   "cell_type": "code",
   "execution_count": null,
   "id": "be17cdf5",
   "metadata": {},
   "outputs": [],
   "source": [
    "# d의 key에 'shop'이 있으면 True, 없으면 False를 반환합니다.\n",
    "'shop' in d"
   ]
  },
  {
   "cell_type": "code",
   "execution_count": null,
   "id": "elegant-patent",
   "metadata": {
    "scrolled": true
   },
   "outputs": [],
   "source": [
    "# d에서 key가 'item'인 원소의 value를 반환합니다.\n",
    "d['item']"
   ]
  },
  {
   "cell_type": "code",
   "execution_count": null,
   "id": "excessive-modification",
   "metadata": {},
   "outputs": [],
   "source": [
    "# d에서 key가 'shop'인 원소의 value를 반환합니다. \n",
    "# [주의] 딕셔너리에 없는 key를 입력하면 에러가 발생합니다.\n",
    "d['shop']"
   ]
  },
  {
   "cell_type": "markdown",
   "id": "armed-african",
   "metadata": {},
   "source": [
    "### 딕셔너리 원소 추가, 변경 및 삭제"
   ]
  },
  {
   "cell_type": "code",
   "execution_count": null,
   "id": "julian-ocean",
   "metadata": {},
   "outputs": [],
   "source": [
    "# d에 key가 'shop'이고, value가 'A1'인 원소를 추가합니다.\n",
    "d['shop'] = 'A1'\n",
    "d"
   ]
  },
  {
   "cell_type": "code",
   "execution_count": null,
   "id": "sapphire-plaza",
   "metadata": {},
   "outputs": [],
   "source": [
    "# d에서 key가 'item'인 원소의 value를 'skirt'로 변경합니다.\n",
    "d['item'] = 'skirt'\n",
    "d"
   ]
  },
  {
   "cell_type": "code",
   "execution_count": null,
   "id": "amateur-insulin",
   "metadata": {},
   "outputs": [],
   "source": [
    "# del 문을 이용하여 d에서 key가 'item'인 원소를 제거합니다.\n",
    "del d['item']\n",
    "d"
   ]
  },
  {
   "cell_type": "markdown",
   "id": "manual-estate",
   "metadata": {},
   "source": [
    "### [참고] 딕셔너리 key와 value 반환"
   ]
  },
  {
   "cell_type": "code",
   "execution_count": null,
   "id": "national-swimming",
   "metadata": {},
   "outputs": [],
   "source": [
    "# keys() 함수는 딕셔너리의 key를 리스트로 반환합니다.\n",
    "list(d.keys())"
   ]
  },
  {
   "cell_type": "code",
   "execution_count": null,
   "id": "parallel-compound",
   "metadata": {},
   "outputs": [],
   "source": [
    "# values() 함수는 딕셔너리의 values를 리스트로 반환합니다.\n",
    "list(d.values())"
   ]
  },
  {
   "cell_type": "code",
   "execution_count": null,
   "id": "equal-panama",
   "metadata": {},
   "outputs": [],
   "source": [
    "# items() 함수는 딕셔너리의 key와 value를 함께 리스트로 반환합니다.\n",
    "x = list(d.items())"
   ]
  },
  {
   "cell_type": "code",
   "execution_count": null,
   "id": "660c7ebd",
   "metadata": {},
   "outputs": [],
   "source": [
    "# d의 첫 번째 key, value 쌍에서 key를 선택합니다.\n",
    "x[0][0]"
   ]
  },
  {
   "cell_type": "code",
   "execution_count": null,
   "id": "5715762b",
   "metadata": {},
   "outputs": [],
   "source": [
    "# d의 첫 번째 key, value 쌍에서 value를 선택합니다.\n",
    "x[0][1]"
   ]
  },
  {
   "cell_type": "markdown",
   "id": "electronic-henry",
   "metadata": {},
   "source": [
    "### 집합"
   ]
  },
  {
   "cell_type": "code",
   "execution_count": null,
   "id": "martial-compact",
   "metadata": {},
   "outputs": [],
   "source": [
    "# 집합을 생성하고, 출력합니다.\n",
    "s = {1, 2, 1, 3}; s"
   ]
  },
  {
   "cell_type": "code",
   "execution_count": null,
   "id": "plastic-honduras",
   "metadata": {},
   "outputs": [],
   "source": [
    "# s의 클래스를 확인합니다.\n",
    "type(s)"
   ]
  },
  {
   "cell_type": "code",
   "execution_count": null,
   "id": "satisfactory-gossip",
   "metadata": {},
   "outputs": [],
   "source": [
    "# set() 클래스는 리스트를 집합으로 변환합니다.\n",
    "set(c)"
   ]
  },
  {
   "cell_type": "code",
   "execution_count": null,
   "id": "0662875d",
   "metadata": {},
   "outputs": [],
   "source": [
    "# list() 클래스는 집합을 리스트로 변환합니다.\n",
    "list(s)"
   ]
  },
  {
   "cell_type": "code",
   "execution_count": null,
   "id": "d8d385b4",
   "metadata": {},
   "outputs": [],
   "source": [
    "# 두 집합의 교집합을 반환합니다.\n",
    "s & set(c)"
   ]
  },
  {
   "cell_type": "code",
   "execution_count": null,
   "id": "1b78539c",
   "metadata": {},
   "outputs": [],
   "source": [
    "# 두 집합의 합집합을 반환합니다.\n",
    "s | set(c)"
   ]
  },
  {
   "cell_type": "code",
   "execution_count": null,
   "id": "badcb0a6",
   "metadata": {},
   "outputs": [],
   "source": [
    "# 두 집합의 차집합을 반환합니다.\n",
    "s - set(c)"
   ]
  },
  {
   "cell_type": "markdown",
   "id": "alive-supply",
   "metadata": {},
   "source": [
    "## End of Document"
   ]
  }
 ],
 "metadata": {
  "kernelspec": {
   "display_name": "Python 3 (ipykernel)",
   "language": "python",
   "name": "python3"
  },
  "language_info": {
   "codemirror_mode": {
    "name": "ipython",
    "version": 3
   },
   "file_extension": ".py",
   "mimetype": "text/x-python",
   "name": "python",
   "nbconvert_exporter": "python",
   "pygments_lexer": "ipython3",
   "version": "3.9.7"
  },
  "toc": {
   "base_numbering": 1,
   "nav_menu": {},
   "number_sections": true,
   "sideBar": true,
   "skip_h1_title": false,
   "title_cell": "Table of Contents",
   "title_sidebar": "Contents",
   "toc_cell": false,
   "toc_position": {},
   "toc_section_display": true,
   "toc_window_display": false
  },
  "varInspector": {
   "cols": {
    "lenName": 16,
    "lenType": 16,
    "lenVar": 40
   },
   "kernels_config": {
    "python": {
     "delete_cmd_postfix": "",
     "delete_cmd_prefix": "del ",
     "library": "var_list.py",
     "varRefreshCmd": "print(var_dic_list())"
    },
    "r": {
     "delete_cmd_postfix": ") ",
     "delete_cmd_prefix": "rm(",
     "library": "var_list.r",
     "varRefreshCmd": "cat(var_dic_list()) "
    }
   },
   "types_to_exclude": [
    "module",
    "function",
    "builtin_function_or_method",
    "instance",
    "_Feature"
   ],
   "window_display": false
  }
 },
 "nbformat": 4,
 "nbformat_minor": 5
}

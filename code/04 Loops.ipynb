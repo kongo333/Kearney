{
 "cells": [
  {
   "cell_type": "markdown",
   "id": "96237ba2",
   "metadata": {},
   "source": [
    "## 반복문"
   ]
  },
  {
   "cell_type": "markdown",
   "id": "dominant-indian",
   "metadata": {},
   "source": [
    "### for 반복문 기본 구조"
   ]
  },
  {
   "cell_type": "code",
   "execution_count": null,
   "id": "experimental-forest",
   "metadata": {},
   "outputs": [],
   "source": [
    "# 중식당 메뉴로 리스트를 생성합니다.\n",
    "menu = ['짜장면', '탕수육', '깐풍기', '짬뽕', '전가복', '샥스핀']"
   ]
  },
  {
   "cell_type": "code",
   "execution_count": null,
   "id": "cooked-chase",
   "metadata": {},
   "outputs": [],
   "source": [
    "# 반복문을 사용하여 중식당 메뉴를 차례대로 출력합니다.\n",
    "for item in menu:\n",
    "    print(item)"
   ]
  },
  {
   "cell_type": "code",
   "execution_count": null,
   "id": "intermediate-horror",
   "metadata": {},
   "outputs": [],
   "source": [
    "# 여러 객체를 결합한 문자열을 출력합니다.\n",
    "for item in menu:\n",
    "    print(item, '시킬까요?', sep = ' ', end = '\\n')"
   ]
  },
  {
   "cell_type": "markdown",
   "id": "beac0331",
   "metadata": {},
   "source": [
    "### 반복문에 조건문 추가"
   ]
  },
  {
   "cell_type": "code",
   "execution_count": null,
   "id": "1dc99c50",
   "metadata": {},
   "outputs": [],
   "source": [
    "# 반복문에 조건문을 추가하여 코드를 제어합니다.\n",
    "for item in menu:\n",
    "    print(item, '시킬까요?')\n",
    "    if item in ['짜장면', '짬뽕']:\n",
    "        print('-> 요리부터 주문합시다!')\n",
    "    print('-> 다음 메뉴는 뭔가요?\\n')"
   ]
  },
  {
   "cell_type": "markdown",
   "id": "b1a531bd",
   "metadata": {},
   "source": [
    "### 반복문 제어"
   ]
  },
  {
   "cell_type": "code",
   "execution_count": null,
   "id": "a2214dd5",
   "metadata": {},
   "outputs": [],
   "source": [
    "# 반복문에서 continue를 만나면 아래 코드를 실행하지 않고 처음으로 되돌아갑니다.\n",
    "for item in menu:\n",
    "    print(item, '시킬까요?')\n",
    "    if item in ['짜장면', '짬뽕']:\n",
    "        continue\n",
    "    print('-> 다음 메뉴는 뭔가요?\\n')"
   ]
  },
  {
   "cell_type": "code",
   "execution_count": null,
   "id": "plain-medication",
   "metadata": {},
   "outputs": [],
   "source": [
    "# 반복문에서 break를 만나면 반복문을 중단합니다.\n",
    "for item in menu:\n",
    "    print(item, '시킬까요?')\n",
    "    if item in ['전가복', '샥스핀']:\n",
    "        break\n",
    "    print('-> 다음 메뉴는 뭔가요?\\n')"
   ]
  },
  {
   "cell_type": "markdown",
   "id": "seven-electronics",
   "metadata": {},
   "source": [
    "### [참고] 중첩 for 반복문"
   ]
  },
  {
   "cell_type": "code",
   "execution_count": null,
   "id": "certified-accordance",
   "metadata": {
    "scrolled": true
   },
   "outputs": [],
   "source": [
    "# 두 리스트의 원소로 가능한 모든 경우의 수를 반복 실행합니다.(구구단 만들기)\n",
    "for i in range(2, 10):\n",
    "    print(f'*** {i}단 ***')\n",
    "    for j in range(1, 10):\n",
    "        print(f'{i} * {j} = {i*j}')\n",
    "    print()\n",
    "\n",
    "print('반복문 실행 완료!')"
   ]
  },
  {
   "cell_type": "markdown",
   "id": "c4cbe765",
   "metadata": {},
   "source": [
    "### 반복문 실행 결과를 리스트로 생성"
   ]
  },
  {
   "cell_type": "code",
   "execution_count": null,
   "id": "3ebfa000",
   "metadata": {},
   "outputs": [],
   "source": [
    "# 빈 리스트를 미리 생성합니다.\n",
    "sqrs = []"
   ]
  },
  {
   "cell_type": "code",
   "execution_count": null,
   "id": "3d9cc67b",
   "metadata": {},
   "outputs": [],
   "source": [
    "# 반복문으로 생성한 값을 리스트 원소로 추가합니다.\n",
    "# [주의] sqrs를 미리 생성하지 않으면 에러를 반환합니다.\n",
    "for i in range(1, 11):\n",
    "    sqrs.append(i ** 2)"
   ]
  },
  {
   "cell_type": "code",
   "execution_count": null,
   "id": "6b89aa78",
   "metadata": {},
   "outputs": [],
   "source": [
    "# sqrs를 출력합니다.\n",
    "sqrs"
   ]
  },
  {
   "cell_type": "code",
   "execution_count": null,
   "id": "927c378e",
   "metadata": {},
   "outputs": [],
   "source": [
    "# sqrs를 다시 빈 리스트로 생성합니다.\n",
    "sqrs = []"
   ]
  },
  {
   "cell_type": "code",
   "execution_count": null,
   "id": "73cda14b",
   "metadata": {},
   "outputs": [],
   "source": [
    "# 1~10의 정수에서 짝수만 제곱한 값을 원소로 갖는 리스트를 생성합니다.\n",
    "for i in range(1, 11):\n",
    "    if i % 2 == 0:\n",
    "        sqrs.append(i ** 2)"
   ]
  },
  {
   "cell_type": "code",
   "execution_count": null,
   "id": "d8e17142",
   "metadata": {},
   "outputs": [],
   "source": [
    "# sqrs를 출력합니다.\n",
    "sqrs"
   ]
  },
  {
   "cell_type": "markdown",
   "id": "noted-patent",
   "metadata": {},
   "source": [
    "### 리스트 컴프리헨션"
   ]
  },
  {
   "cell_type": "code",
   "execution_count": null,
   "id": "chinese-cathedral",
   "metadata": {},
   "outputs": [],
   "source": [
    "# 한 줄 코드로 for 반복문과 같은 결과를 반환합니다.\n",
    "# [참고] 빈 리스트를 미리 생성하지 않아도 됩니다.\n",
    "[i ** 2 for i in range(1, 11)]"
   ]
  },
  {
   "cell_type": "code",
   "execution_count": null,
   "id": "russian-record",
   "metadata": {},
   "outputs": [],
   "source": [
    "# 반복문 뒤에 조건문을 추가하면 조건을 만족하는 원소만 리스트에 포함시킵니다.\n",
    "[i ** 2 for i in range(1, 11) if i % 2 == 0]"
   ]
  },
  {
   "cell_type": "code",
   "execution_count": null,
   "id": "dependent-killing",
   "metadata": {
    "scrolled": true
   },
   "outputs": [],
   "source": [
    "# 중첩 for 반복문을 리스트 컴프리헨션으로 실행합니다.\n",
    "[f'{i} * {j} = {i*j}' for i in range(2, 10) for j in range(1, 10)]"
   ]
  },
  {
   "cell_type": "markdown",
   "id": "7a6856fc",
   "metadata": {},
   "source": [
    "### enumerate() 함수 사용법"
   ]
  },
  {
   "cell_type": "code",
   "execution_count": null,
   "id": "7d9dea22",
   "metadata": {},
   "outputs": [],
   "source": [
    "# menu를 출력합니다.\n",
    "menu"
   ]
  },
  {
   "cell_type": "code",
   "execution_count": null,
   "id": "93b659a5",
   "metadata": {},
   "outputs": [],
   "source": [
    "# enumerate() 함수는 괄호 안 객체의 인덱스와 원소 쌍을 튜플로 반환합니다.\n",
    "for i in enumerate(menu):\n",
    "    print(i)"
   ]
  },
  {
   "cell_type": "code",
   "execution_count": null,
   "id": "2021ffe7",
   "metadata": {},
   "outputs": [],
   "source": [
    "# 객체의 인덱스와 원소를 변수 i와 v로 받아서 반복문을 실행합니다.\n",
    "for i, v in enumerate(menu):\n",
    "    print(f'{i+1}번 메뉴는 {v}입니다.')"
   ]
  },
  {
   "cell_type": "markdown",
   "id": "6a0946ec",
   "metadata": {},
   "source": [
    "### zip() 함수 사용법"
   ]
  },
  {
   "cell_type": "code",
   "execution_count": null,
   "id": "a6bebd8d",
   "metadata": {},
   "outputs": [],
   "source": [
    "# menu와 원소 개수가 같은 리스트를 생성합니다.\n",
    "price = [8000, 20000, 28000, 11000, 60000, 60000]"
   ]
  },
  {
   "cell_type": "code",
   "execution_count": null,
   "id": "40dbc623",
   "metadata": {},
   "outputs": [],
   "source": [
    "# zip() 함수는 괄호 안 여러 객체에서 같은 인덱스 원소 쌍을 튜플로 반환합니다.\n",
    "for i in zip(menu, price):\n",
    "    print(i)"
   ]
  },
  {
   "cell_type": "code",
   "execution_count": null,
   "id": "simplified-professor",
   "metadata": {},
   "outputs": [],
   "source": [
    "# 두 객체에서 같은 인덱스 원소를 변수 i와 j로 받아서 반복문을 실행합니다.\n",
    "for i, j in zip(menu, price):\n",
    "    print(f'{i} 가격은 {j:,}원입니다.')"
   ]
  },
  {
   "cell_type": "markdown",
   "id": "a3210e84",
   "metadata": {},
   "source": [
    "### 반복문에서 에러 발생"
   ]
  },
  {
   "cell_type": "raw",
   "id": "e17f0be2",
   "metadata": {},
   "source": [
    "# 반복문 실행 도중 에러가 발생하면 반복문을 중단합니다.\n",
    "for i in range(1, 11):\n",
    "    if i % 3 == 0:\n",
    "        i = str(i)\n",
    "    print(i ** 2)"
   ]
  },
  {
   "cell_type": "markdown",
   "id": "df7de124",
   "metadata": {},
   "source": [
    "### 반복문에 예외 처리 추가"
   ]
  },
  {
   "cell_type": "code",
   "execution_count": null,
   "id": "de265ad5",
   "metadata": {},
   "outputs": [],
   "source": [
    "# 반복문에 예외 처리를 추가하면 도중에 에러가 발생해도 끝까지 실행합니다.\n",
    "for i in range(1, 11):\n",
    "    try:\n",
    "        if i % 3 == 0:\n",
    "            i = str(i)\n",
    "        print(i ** 2)\n",
    "    except Exception as e:\n",
    "        print(e)"
   ]
  },
  {
   "cell_type": "markdown",
   "id": "accredited-asset",
   "metadata": {},
   "source": [
    "## while 반복문 기본 구조"
   ]
  },
  {
   "cell_type": "code",
   "execution_count": null,
   "id": "f460c279",
   "metadata": {},
   "outputs": [],
   "source": [
    "# 변수 i에 정수 5를 할당합니다.\n",
    "i = 5"
   ]
  },
  {
   "cell_type": "code",
   "execution_count": null,
   "id": "beginning-constitutional",
   "metadata": {},
   "outputs": [],
   "source": [
    "# while 반복문을 실행하여 i에서 1씩 차감한 값을 출력합니다.\n",
    "while i > 0:\n",
    "    print(i)\n",
    "    i -= 1"
   ]
  },
  {
   "cell_type": "code",
   "execution_count": null,
   "id": "274e7825-f075-4e4e-b06a-c4f5b6b288a9",
   "metadata": {},
   "outputs": [],
   "source": [
    "# i를 출력합니다.\n",
    "print(i)"
   ]
  },
  {
   "cell_type": "markdown",
   "id": "e8ccce0c",
   "metadata": {},
   "source": [
    "### while 반복문 제어"
   ]
  },
  {
   "cell_type": "code",
   "execution_count": null,
   "id": "8201e82b",
   "metadata": {},
   "outputs": [],
   "source": [
    "# while 반복문에서 break를 만나면 반복문을 중단합니다.\n",
    "while True:\n",
    "    i += 1\n",
    "    if i >= 10000:\n",
    "        break"
   ]
  },
  {
   "cell_type": "code",
   "execution_count": null,
   "id": "e34a326a",
   "metadata": {},
   "outputs": [],
   "source": [
    "# i를 출력합니다.\n",
    "print(i)"
   ]
  },
  {
   "cell_type": "markdown",
   "id": "alive-supply",
   "metadata": {},
   "source": [
    "## End of Document"
   ]
  }
 ],
 "metadata": {
  "kernelspec": {
   "display_name": "Python 3",
   "language": "python",
   "name": "python3"
  },
  "language_info": {
   "codemirror_mode": {
    "name": "ipython",
    "version": 3
   },
   "file_extension": ".py",
   "mimetype": "text/x-python",
   "name": "python",
   "nbconvert_exporter": "python",
   "pygments_lexer": "ipython3",
   "version": "3.11.1"
  },
  "toc": {
   "base_numbering": 1,
   "nav_menu": {},
   "number_sections": false,
   "sideBar": true,
   "skip_h1_title": false,
   "title_cell": "Table of Contents",
   "title_sidebar": "Contents",
   "toc_cell": false,
   "toc_position": {},
   "toc_section_display": true,
   "toc_window_display": false
  },
  "varInspector": {
   "cols": {
    "lenName": 16,
    "lenType": 16,
    "lenVar": 40
   },
   "kernels_config": {
    "python": {
     "delete_cmd_postfix": "",
     "delete_cmd_prefix": "del ",
     "library": "var_list.py",
     "varRefreshCmd": "print(var_dic_list())"
    },
    "r": {
     "delete_cmd_postfix": ") ",
     "delete_cmd_prefix": "rm(",
     "library": "var_list.r",
     "varRefreshCmd": "cat(var_dic_list()) "
    }
   },
   "types_to_exclude": [
    "module",
    "function",
    "builtin_function_or_method",
    "instance",
    "_Feature"
   ],
   "window_display": false
  }
 },
 "nbformat": 4,
 "nbformat_minor": 5
}

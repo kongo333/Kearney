{
 "cells": [
  {
   "cell_type": "markdown",
   "id": "7a54df61",
   "metadata": {},
   "source": [
    "# 네이버 API Blog"
   ]
  },
  {
   "cell_type": "markdown",
   "id": "41590dae",
   "metadata": {},
   "source": [
    "### 관련 라이브러리 호출"
   ]
  },
  {
   "cell_type": "code",
   "execution_count": null,
   "id": "c3491e53",
   "metadata": {},
   "outputs": [],
   "source": [
    "# 관련 라이브러리를 호출합니다.\n",
    "import requests\n",
    "import json\n",
    "import pandas as pd\n",
    "import os"
   ]
  },
  {
   "cell_type": "markdown",
   "id": "05aa09f0",
   "metadata": {},
   "source": [
    "### HTTP 요청 실행"
   ]
  },
  {
   "cell_type": "code",
   "execution_count": null,
   "id": "093d0e78",
   "metadata": {},
   "outputs": [],
   "source": [
    "# 요청 URL을 지정합니다.(출력 포맷: JSON)\n",
    "url = 'https://openapi.naver.com/v1/search/news.json'"
   ]
  },
  {
   "cell_type": "code",
   "execution_count": null,
   "id": "dba29ea3",
   "metadata": {},
   "outputs": [],
   "source": [
    "# 요청 변수를 딕셔너리로 지정합니다.\n",
    "query = {'query': '검색어'}"
   ]
  },
  {
   "cell_type": "code",
   "execution_count": null,
   "id": "6edcdd09",
   "metadata": {},
   "outputs": [],
   "source": [
    "# Client ID와 Secret를 딕셔너리로 지정합니다.\n",
    "apiKey = {'X-Naver-Client-Id': 'Client ID 붙여넣기',\n",
    "          'X-Naver-Client-Secret': 'Client Secret 붙여넣기'}"
   ]
  },
  {
   "cell_type": "code",
   "execution_count": null,
   "id": "56b8bb1e",
   "metadata": {},
   "outputs": [],
   "source": [
    "# HTTP 요청을 실행합니다.\n",
    "res = requests.get(url = url, params = query, headers = apiKey)"
   ]
  },
  {
   "cell_type": "markdown",
   "id": "6a691abb",
   "metadata": {},
   "source": [
    "### HTTP 응답 확인"
   ]
  },
  {
   "cell_type": "code",
   "execution_count": null,
   "id": "1c847f76",
   "metadata": {},
   "outputs": [],
   "source": [
    "# HTTP 응답 상태코드를 확인합니다.\n",
    "res.status_code"
   ]
  },
  {
   "cell_type": "code",
   "execution_count": null,
   "id": "8ffd3322",
   "metadata": {
    "scrolled": true
   },
   "outputs": [],
   "source": [
    "# HTTP 응답 헤더에서 Content-Type을 확인합니다.\n",
    "# [참고] Content-Type이 'json'입니다.\n",
    "res.headers['content-type']"
   ]
  },
  {
   "cell_type": "code",
   "execution_count": null,
   "id": "e7778a6f",
   "metadata": {},
   "outputs": [],
   "source": [
    "# HTTP 응답 바디 문자열의 일부를 출력합니다.\n",
    "res.text[:1000]"
   ]
  },
  {
   "cell_type": "markdown",
   "id": "16128d4d",
   "metadata": {},
   "source": [
    "### JSON 데이터 전처리"
   ]
  },
  {
   "cell_type": "code",
   "execution_count": null,
   "id": "c9a8f653",
   "metadata": {},
   "outputs": [],
   "source": [
    "# JSON 형태의 문자열을 딕셔너리로 변환하여 dat를 생성합니다.\n",
    "dat = json.loads(s = res.text)"
   ]
  },
  {
   "cell_type": "code",
   "execution_count": null,
   "id": "e5e271f7",
   "metadata": {},
   "outputs": [],
   "source": [
    "# dat의 클래스를 확인합니다. [참고] dat의 클래스는 dict 입니다.\n",
    "type(dat)"
   ]
  },
  {
   "cell_type": "code",
   "execution_count": null,
   "id": "22b704d5",
   "metadata": {
    "scrolled": true
   },
   "outputs": [],
   "source": [
    "# dat를 출력합니다.\n",
    "dat"
   ]
  },
  {
   "cell_type": "code",
   "execution_count": null,
   "id": "4d999d61",
   "metadata": {},
   "outputs": [],
   "source": [
    "# dat에서 총 건수를 선택합니다.\n",
    "dat['total']"
   ]
  },
  {
   "cell_type": "markdown",
   "id": "b5f46cbb",
   "metadata": {},
   "source": [
    "### 데이터프레임으로 변환"
   ]
  },
  {
   "cell_type": "code",
   "execution_count": null,
   "id": "bc9e387f",
   "metadata": {
    "scrolled": true
   },
   "outputs": [],
   "source": [
    "# dat에서 데이터를 선택합니다.\n",
    "dat['items']"
   ]
  },
  {
   "cell_type": "code",
   "execution_count": null,
   "id": "6744e01d",
   "metadata": {
    "scrolled": true
   },
   "outputs": [],
   "source": [
    "# 위 코드로 데이터프레임 blog를 생성합니다.\n",
    "blog = pd.DataFrame(data = dat['items'])"
   ]
  },
  {
   "cell_type": "code",
   "execution_count": null,
   "id": "9663d64b",
   "metadata": {},
   "outputs": [],
   "source": [
    "# blog의 정보를 확인합니다.\n",
    "blog.info()"
   ]
  },
  {
   "cell_type": "code",
   "execution_count": null,
   "id": "ee26cf26",
   "metadata": {},
   "outputs": [],
   "source": [
    "# blog의 처음 5행을 출력합니다.\n",
    "blog.head()"
   ]
  },
  {
   "cell_type": "markdown",
   "id": "319bef6d",
   "metadata": {},
   "source": [
    "### xlsx 파일로 저장"
   ]
  },
  {
   "cell_type": "code",
   "execution_count": null,
   "id": "dbfa0589",
   "metadata": {},
   "outputs": [],
   "source": [
    "# data 폴더로 작업 경로를 변경합니다.\n",
    "os.chdir(path = '../data')"
   ]
  },
  {
   "cell_type": "code",
   "execution_count": null,
   "id": "c3d02254",
   "metadata": {},
   "outputs": [],
   "source": [
    "# xlsx 파일명을 설정합니다.\n",
    "today = pd.Timestamp.today().strftime('%Y%m%d')\n",
    "fileName = f'Naver_API_Blog_{today}.xlsx'"
   ]
  },
  {
   "cell_type": "code",
   "execution_count": null,
   "id": "b514b1b4",
   "metadata": {},
   "outputs": [],
   "source": [
    "# xlsx 파일로 저장합니다.\n",
    "blog.to_excel(excel_writer = fileName, index = None)"
   ]
  },
  {
   "cell_type": "markdown",
   "id": "b0d0d85e",
   "metadata": {},
   "source": [
    "## End of Document"
   ]
  }
 ],
 "metadata": {
  "kernelspec": {
   "display_name": "Python 3",
   "language": "python",
   "name": "python3"
  },
  "language_info": {
   "codemirror_mode": {
    "name": "ipython",
    "version": 3
   },
   "file_extension": ".py",
   "mimetype": "text/x-python",
   "name": "python",
   "nbconvert_exporter": "python",
   "pygments_lexer": "ipython3",
   "version": "3.10.8"
  },
  "varInspector": {
   "cols": {
    "lenName": 16,
    "lenType": 16,
    "lenVar": 40
   },
   "kernels_config": {
    "python": {
     "delete_cmd_postfix": "",
     "delete_cmd_prefix": "del ",
     "library": "var_list.py",
     "varRefreshCmd": "print(var_dic_list())"
    },
    "r": {
     "delete_cmd_postfix": ") ",
     "delete_cmd_prefix": "rm(",
     "library": "var_list.r",
     "varRefreshCmd": "cat(var_dic_list()) "
    }
   },
   "types_to_exclude": [
    "module",
    "function",
    "builtin_function_or_method",
    "instance",
    "_Feature"
   ],
   "window_display": false
  }
 },
 "nbformat": 4,
 "nbformat_minor": 5
}

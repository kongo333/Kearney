{
 "cells": [
  {
   "cell_type": "markdown",
   "id": "a97a133f",
   "metadata": {},
   "source": [
    "# 데이터프레임 전처리"
   ]
  },
  {
   "cell_type": "markdown",
   "id": "small-owner",
   "metadata": {},
   "source": [
    "###  실습 데이터셋 준비"
   ]
  },
  {
   "cell_type": "code",
   "execution_count": null,
   "id": "2e13bffb",
   "metadata": {},
   "outputs": [],
   "source": [
    "# 관련 라이브러리를 호출합니다.\n",
    "import os, chardet\n",
    "import numpy as np\n",
    "import pandas as pd"
   ]
  },
  {
   "cell_type": "code",
   "execution_count": null,
   "id": "712f520f",
   "metadata": {},
   "outputs": [],
   "source": [
    "# 현재 작업경로를 확인합니다.\n",
    "os.getcwd()"
   ]
  },
  {
   "cell_type": "code",
   "execution_count": null,
   "id": "bdcd919f",
   "metadata": {},
   "outputs": [],
   "source": [
    "# data 폴더로 작업경로를 변경합니다.\n",
    "os.chdir(path = '../data')"
   ]
  },
  {
   "cell_type": "code",
   "execution_count": null,
   "id": "billion-insider",
   "metadata": {},
   "outputs": [],
   "source": [
    "# 현재 작업경로에 포함되어 있는 폴더명과 파일명을 출력합니다.\n",
    "os.listdir()"
   ]
  },
  {
   "cell_type": "code",
   "execution_count": null,
   "id": "academic-folder",
   "metadata": {},
   "outputs": [],
   "source": [
    "# 가격 xlsx 파일을 읽고 데이터프레임을 생성합니다.\n",
    "%time price = pd.read_excel(io = 'APT_Price_Seoul_2020.xlsx')"
   ]
  },
  {
   "cell_type": "code",
   "execution_count": null,
   "id": "compound-stereo",
   "metadata": {},
   "outputs": [],
   "source": [
    "# price의 처음 5행을 출력합니다.\n",
    "price.head()"
   ]
  },
  {
   "cell_type": "code",
   "execution_count": null,
   "id": "therapeutic-basketball",
   "metadata": {},
   "outputs": [],
   "source": [
    "# price의 정보를 출력합니다.\n",
    "price.info()"
   ]
  },
  {
   "cell_type": "code",
   "execution_count": null,
   "id": "adaptive-password",
   "metadata": {},
   "outputs": [],
   "source": [
    "# 상세정보 xlsx 파일을 읽고 데이터프레임을 생성합니다.\n",
    "%time detail = pd.read_excel(io = 'Naver_APT_Detail.xlsx')"
   ]
  },
  {
   "cell_type": "code",
   "execution_count": null,
   "id": "powered-preservation",
   "metadata": {},
   "outputs": [],
   "source": [
    "# detail의 처음 5행을 출력합니다.\n",
    "detail.head()"
   ]
  },
  {
   "cell_type": "code",
   "execution_count": null,
   "id": "meaningful-complement",
   "metadata": {},
   "outputs": [],
   "source": [
    "# detail의 정보를 출력합니다.\n",
    "detail.info()"
   ]
  },
  {
   "cell_type": "markdown",
   "id": "vulnerable-faith",
   "metadata": {},
   "source": [
    "### [참고] csv 파일 읽을 때 날짜형으로 생성하는 방법"
   ]
  },
  {
   "cell_type": "code",
   "execution_count": null,
   "id": "e65e5c28",
   "metadata": {},
   "outputs": [],
   "source": [
    "# cvs 파일명을 변수 fileNm으로 생성합니다.\n",
    "fileNm = 'APT_Price_Seoul_2020.csv'"
   ]
  },
  {
   "cell_type": "code",
   "execution_count": null,
   "id": "retired-start",
   "metadata": {},
   "outputs": [],
   "source": [
    "# csv 파일을 바이너리 모드로 읽습니다.\n",
    "raw = open(file = fileNm, mode = 'rb').read()"
   ]
  },
  {
   "cell_type": "code",
   "execution_count": null,
   "id": "outstanding-portfolio",
   "metadata": {},
   "outputs": [],
   "source": [
    "# csv 파일의 문자 인코딩 방식을 확인합니다.\n",
    "chardet.detect(raw[:100])"
   ]
  },
  {
   "cell_type": "code",
   "execution_count": null,
   "id": "cutting-banner",
   "metadata": {},
   "outputs": [],
   "source": [
    "# csv 파일을 읽고 데이터프레임을 생성합니다.\n",
    "%time df = pd.read_csv(filepath_or_buffer = fileNm)"
   ]
  },
  {
   "cell_type": "code",
   "execution_count": null,
   "id": "informative-argument",
   "metadata": {},
   "outputs": [],
   "source": [
    "# df의 정보를 확인합니다.\n",
    "df.info()"
   ]
  },
  {
   "cell_type": "code",
   "execution_count": null,
   "id": "rocky-pride",
   "metadata": {},
   "outputs": [],
   "source": [
    "# parse_dates 매개변수에 날짜형으로 읽을 열이름을 리스트로 지정합니다.\n",
    "df = pd.read_csv(filepath_or_buffer = fileNm, parse_dates = ['거래일'])"
   ]
  },
  {
   "cell_type": "code",
   "execution_count": null,
   "id": "owned-possession",
   "metadata": {},
   "outputs": [],
   "source": [
    "# df의 정보를 다시 확인합니다.\n",
    "df.info()"
   ]
  },
  {
   "cell_type": "markdown",
   "id": "amateur-compression",
   "metadata": {},
   "source": [
    "### 열 선택"
   ]
  },
  {
   "cell_type": "code",
   "execution_count": null,
   "id": "impossible-marker",
   "metadata": {},
   "outputs": [],
   "source": [
    "# 열이름을 문자열로 지정하면 시리즈로 반환합니다.\n",
    "price['거래금액']"
   ]
  },
  {
   "cell_type": "code",
   "execution_count": null,
   "id": "df8742a5",
   "metadata": {},
   "outputs": [],
   "source": [
    "# 열이름을 리스트로 지정하면 데이터프레임으로 반환합니다.\n",
    "price[['거래금액']]"
   ]
  },
  {
   "cell_type": "code",
   "execution_count": null,
   "id": "general-frederick",
   "metadata": {},
   "outputs": [],
   "source": [
    "# 여러 열을 선택하려면 항상 리스트로 지정해야 합니다.\n",
    "price[['거래일', '거래금액']]"
   ]
  },
  {
   "cell_type": "code",
   "execution_count": null,
   "id": "b0fe5019",
   "metadata": {},
   "outputs": [],
   "source": [
    "# 열이름에 콜론을 사용하려면 loc 인덱서를 사용해야 합니다.(팬시 인덱싱)\n",
    "price.loc[:, '거래일':'거래금액']"
   ]
  },
  {
   "cell_type": "code",
   "execution_count": null,
   "id": "33531278",
   "metadata": {},
   "outputs": [],
   "source": [
    "# 조건을 만족하는 열을 선택할 수 있습니다.(불리언 인덱싱)\n",
    "price.loc[:, price.dtypes == 'int64']"
   ]
  },
  {
   "cell_type": "markdown",
   "id": "768b703a",
   "metadata": {},
   "source": [
    "### 열 삭제"
   ]
  },
  {
   "cell_type": "code",
   "execution_count": null,
   "id": "burning-contribution",
   "metadata": {},
   "outputs": [],
   "source": [
    "# 삭제할 열이름을 drop() 함수에 리스트로 지정합니다.\n",
    "price.drop(labels = ['일련번호'], axis = 1)"
   ]
  },
  {
   "cell_type": "code",
   "execution_count": null,
   "id": "e89700c3",
   "metadata": {},
   "outputs": [],
   "source": [
    "# price의 처음 5행을 출력합니다.\n",
    "price.head()"
   ]
  },
  {
   "cell_type": "code",
   "execution_count": null,
   "id": "simple-stevens",
   "metadata": {},
   "outputs": [],
   "source": [
    "# 열을 삭제한 결과를 price에 재할당합니다.\n",
    "price = price.drop(labels = ['일련번호'], axis = 1)"
   ]
  },
  {
   "cell_type": "code",
   "execution_count": null,
   "id": "fbfb2760",
   "metadata": {},
   "outputs": [],
   "source": [
    "# price의 처음 5행을 출력합니다.\n",
    "price.head()"
   ]
  },
  {
   "cell_type": "markdown",
   "id": "buried-partition",
   "metadata": {},
   "source": [
    "### 열이름 변경"
   ]
  },
  {
   "cell_type": "code",
   "execution_count": null,
   "id": "7cd556c9",
   "metadata": {},
   "outputs": [],
   "source": [
    "# price의 열이름을 출력합니다.\n",
    "price.columns"
   ]
  },
  {
   "cell_type": "code",
   "execution_count": null,
   "id": "employed-swaziland",
   "metadata": {},
   "outputs": [],
   "source": [
    "# rename() 함수로 일부 열이름을 변경합니다.\n",
    "price.rename(columns = {'시도명': '시도', '시군구': '자치구'})"
   ]
  },
  {
   "cell_type": "code",
   "execution_count": null,
   "id": "corrected-grave",
   "metadata": {},
   "outputs": [],
   "source": [
    "# columns 속성을 사용하면 열이름 전체를 변경합니다.\n",
    "price.columns = ['아파트', '시도', '자치구', '읍면동', '지번', \n",
    "                 '거래일', '전용면적', '층', '거래금액']"
   ]
  },
  {
   "cell_type": "code",
   "execution_count": null,
   "id": "color-tribute",
   "metadata": {},
   "outputs": [],
   "source": [
    "# price의 처음 5행을 출력합니다.\n",
    "price.head()"
   ]
  },
  {
   "cell_type": "markdown",
   "id": "potential-bookmark",
   "metadata": {},
   "source": [
    "### 조건에 맞는 행 선택: 숫자형 변수"
   ]
  },
  {
   "cell_type": "code",
   "execution_count": null,
   "id": "sustained-scientist",
   "metadata": {},
   "outputs": [],
   "source": [
    "# 거래금액이 70억 이상인 행을 선택하여 df1에 할당합니다.\n",
    "df1 = price[price['거래금액'] >= 700000].copy()"
   ]
  },
  {
   "cell_type": "code",
   "execution_count": null,
   "id": "pacific-employee",
   "metadata": {},
   "outputs": [],
   "source": [
    "# df1의 처음 5행을 출력합니다.\n",
    "df1.head()"
   ]
  },
  {
   "cell_type": "code",
   "execution_count": null,
   "id": "generous-sodium",
   "metadata": {},
   "outputs": [],
   "source": [
    "# 거래금액이 70억 미만이고, 60층 이상인 행을 선택하여 df2에 할당합니다.\n",
    "df2 = price[(price['거래금액'] < 700000) & (price['층'] >= 60)].copy()"
   ]
  },
  {
   "cell_type": "code",
   "execution_count": null,
   "id": "hidden-algeria",
   "metadata": {},
   "outputs": [],
   "source": [
    "# df2의 처음 5행을 출력합니다.\n",
    "df2.head()"
   ]
  },
  {
   "cell_type": "markdown",
   "id": "9cbfe16f",
   "metadata": {},
   "source": [
    "### [참고] 시리즈의 비교 연산 함수 소개"
   ]
  },
  {
   "cell_type": "code",
   "execution_count": null,
   "id": "73f04563",
   "metadata": {},
   "outputs": [],
   "source": [
    "# 층이 60 초과일 때 True, 아닐 때 False를 갖는 시리즈를 반환합니다.\n",
    "price['층'].gt(60).sum()"
   ]
  },
  {
   "cell_type": "code",
   "execution_count": null,
   "id": "0e201a22",
   "metadata": {},
   "outputs": [],
   "source": [
    "# 층이 60 이상일 때 True, 아닐 때 False를 갖는 시리즈를 반환합니다.\n",
    "price['층'].ge(60).sum()"
   ]
  },
  {
   "cell_type": "code",
   "execution_count": null,
   "id": "905f7993",
   "metadata": {},
   "outputs": [],
   "source": [
    "# 층이 60 미만일 때 True, 아닐 때 False를 갖는 시리즈를 반환합니다.\n",
    "price['층'].lt(60).sum()"
   ]
  },
  {
   "cell_type": "code",
   "execution_count": null,
   "id": "d123d764",
   "metadata": {},
   "outputs": [],
   "source": [
    "# 층이 60 이하일 때 True, 아닐 때 False를 갖는 시리즈를 반환합니다.\n",
    "price['층'].le(60).sum()"
   ]
  },
  {
   "cell_type": "code",
   "execution_count": null,
   "id": "d417bd44",
   "metadata": {},
   "outputs": [],
   "source": [
    "# 층이 60일 때 True, 60이 아닐 때 False를 갖는 시리즈를 반환합니다.\n",
    "price['층'].eq(60).sum()"
   ]
  },
  {
   "cell_type": "code",
   "execution_count": null,
   "id": "9f73a941",
   "metadata": {},
   "outputs": [],
   "source": [
    "# 층이 60이 아닐 때 True, 60일 때 False를 갖는 시리즈를 반환합니다.\n",
    "price['층'].ne(60).sum()"
   ]
  },
  {
   "cell_type": "markdown",
   "id": "9660af79",
   "metadata": {},
   "source": [
    "### 조건에 맞는 행 선택: 범주형 변수"
   ]
  },
  {
   "cell_type": "code",
   "execution_count": null,
   "id": "f0107bd1",
   "metadata": {},
   "outputs": [],
   "source": [
    "# 자치구가 '강남구'인 행을 선택합니다.\n",
    "price[price['자치구'].eq('강남구')]"
   ]
  },
  {
   "cell_type": "code",
   "execution_count": null,
   "id": "5f29108b",
   "metadata": {},
   "outputs": [],
   "source": [
    "# 자치구가 '강남구' 및 '서초구'인 행을 선택합니다.\n",
    "price[price['자치구'].eq('강남구') | price['자치구'].eq('서초구')]"
   ]
  },
  {
   "cell_type": "code",
   "execution_count": null,
   "id": "a5b1ea4c",
   "metadata": {},
   "outputs": [],
   "source": [
    "# 자치구가 '강남구', '서초구' 또는 '송파구'인 행을 선택합니다.\n",
    "price[price['자치구'].isin(['강남구', '서초구', '송파구'])]"
   ]
  },
  {
   "cell_type": "code",
   "execution_count": null,
   "id": "2e9b4594",
   "metadata": {},
   "outputs": [],
   "source": [
    "# 자치구에서 패턴을 포함하는 행을 선택합니다.\n",
    "price[price['자치구'].str.contains(pat = '강남|서초|송파')]"
   ]
  },
  {
   "cell_type": "markdown",
   "id": "bacf5651",
   "metadata": {},
   "source": [
    "### [참고] 시리즈를 문자열로 처리하는 주요 함수 소개"
   ]
  },
  {
   "cell_type": "code",
   "execution_count": null,
   "id": "e46bc313",
   "metadata": {},
   "outputs": [],
   "source": [
    "# 주소로 데이터프레임을 생성합니다.\n",
    "drID = pd.Series(data = ['서울 00-123456-01 ', ' 경기 01-654321-02'])"
   ]
  },
  {
   "cell_type": "code",
   "execution_count": null,
   "id": "1b301906",
   "metadata": {},
   "outputs": [],
   "source": [
    "# 각 원소의 양 옆에 있는 공백을 삭제한 결과를 출력합니다.\n",
    "drID.str.strip()"
   ]
  },
  {
   "cell_type": "code",
   "execution_count": null,
   "id": "fdf06c0b",
   "metadata": {},
   "outputs": [],
   "source": [
    "# 각 원소를 구분자로 분리해서 데이터프레임으로 반환합니다.\n",
    "drID.str.split(pat = ' |-', expand = True)"
   ]
  },
  {
   "cell_type": "code",
   "execution_count": null,
   "id": "764c4049",
   "metadata": {},
   "outputs": [],
   "source": [
    "# 각 원소에서 지정된 문자열이 있는 인덱스를 반환합니다. \n",
    "# 지정된 문자열이 없으면 -1을 반환합니다.\n",
    "drID.str.find(sub = '서울')"
   ]
  },
  {
   "cell_type": "code",
   "execution_count": null,
   "id": "26ff3d5c",
   "metadata": {},
   "outputs": [],
   "source": [
    "# 각 원소에서 지정된 문자열 패턴을 변경합니다.\n",
    "drID.str.replace(pat = ' ', repl = '')"
   ]
  },
  {
   "cell_type": "code",
   "execution_count": null,
   "id": "9d7c3af2",
   "metadata": {},
   "outputs": [],
   "source": [
    "# 각 원소에서 지정된 인덱스로 문자열을 잘라냅니다.\n",
    "drID.str.slice(start = 0, stop = 3)"
   ]
  },
  {
   "cell_type": "code",
   "execution_count": null,
   "id": "2227d7a6",
   "metadata": {},
   "outputs": [],
   "source": [
    "# 각 원소에서 지정된 정규표현식 패턴에 해당하는 문자열을 추출합니다.\n",
    "drID.str.extract(pat = r'([가-힣]+)')"
   ]
  },
  {
   "cell_type": "markdown",
   "id": "iraqi-roman",
   "metadata": {},
   "source": [
    "### 행이름으로 행 삭제 및 행이름 초기화"
   ]
  },
  {
   "cell_type": "code",
   "execution_count": null,
   "id": "26fa1a94",
   "metadata": {},
   "outputs": [],
   "source": [
    "# df1을 출력합니다.\n",
    "df1"
   ]
  },
  {
   "cell_type": "code",
   "execution_count": null,
   "id": "adopted-spyware",
   "metadata": {},
   "outputs": [],
   "source": [
    "# drop() 함수에 행이름을 스칼라 또는 리스트를 입력하여 행을 삭제합니다.\n",
    "df1.drop(labels = [21625, 59241])"
   ]
  },
  {
   "cell_type": "code",
   "execution_count": null,
   "id": "intermediate-sweden",
   "metadata": {},
   "outputs": [],
   "source": [
    "# 연속된 행이름을 슬라이싱으로 삭제할 수 있습니다.\n",
    "df1.drop(labels = df1.index[0:2])"
   ]
  },
  {
   "cell_type": "code",
   "execution_count": null,
   "id": "industrial-democrat",
   "metadata": {},
   "outputs": [],
   "source": [
    "# df1의 행이름을 초기화한 결과를 출력합니다.\n",
    "df1.reset_index()"
   ]
  },
  {
   "cell_type": "code",
   "execution_count": null,
   "id": "empty-lightweight",
   "metadata": {},
   "outputs": [],
   "source": [
    "# df1의 행이름을 초기화한 결과를 df1에 재할당합니다.\n",
    "df1 = df1.reset_index(drop = True)"
   ]
  },
  {
   "cell_type": "code",
   "execution_count": null,
   "id": "written-purple",
   "metadata": {},
   "outputs": [],
   "source": [
    "# df2의 행이름을 초기화한 결과를 df2에 재할당합니다.\n",
    "df2 = df2.reset_index(drop = True)"
   ]
  },
  {
   "cell_type": "markdown",
   "id": "rational-burns",
   "metadata": {},
   "source": [
    "### 결측값 처리: 단순대체"
   ]
  },
  {
   "cell_type": "code",
   "execution_count": null,
   "id": "martial-album",
   "metadata": {},
   "outputs": [],
   "source": [
    "# 열별 결측값 개수를 확인합니다.\n",
    "price.isna().sum()"
   ]
  },
  {
   "cell_type": "code",
   "execution_count": null,
   "id": "d6a12c54",
   "metadata": {
    "scrolled": false
   },
   "outputs": [],
   "source": [
    "# 지번이 결측값인 행만 선택합니다.\n",
    "price[price['지번'].isna()]"
   ]
  },
  {
   "cell_type": "code",
   "execution_count": null,
   "id": "liked-simple",
   "metadata": {
    "scrolled": true
   },
   "outputs": [],
   "source": [
    "# 데이터프레임에 포함된 결측값을 빈 문자열로 채웁니다.\n",
    "price.iloc[4784:4787].fillna(value = '')"
   ]
  },
  {
   "cell_type": "code",
   "execution_count": null,
   "id": "ee2bc07a",
   "metadata": {},
   "outputs": [],
   "source": [
    "# 데이터프레임에 포함된 결측값을 이전 값으로 채웁니다.\n",
    "price.iloc[4784:4787].fillna(method = 'ffill')"
   ]
  },
  {
   "cell_type": "code",
   "execution_count": null,
   "id": "f1a45652",
   "metadata": {},
   "outputs": [],
   "source": [
    "# 데이터프레임에 포함된 결측값을 이후 값으로 채웁니다.\n",
    "price.iloc[4784:4787].fillna(method = 'bfill')"
   ]
  },
  {
   "cell_type": "markdown",
   "id": "e8decc16",
   "metadata": {},
   "source": [
    "### 결측값 처리: 행 삭제"
   ]
  },
  {
   "cell_type": "code",
   "execution_count": null,
   "id": "outstanding-brazil",
   "metadata": {},
   "outputs": [],
   "source": [
    "# 지번이 결측값이 아닌 행을 선택합니다.\n",
    "price[price['지번'].notna()]"
   ]
  },
  {
   "cell_type": "code",
   "execution_count": null,
   "id": "narrow-soundtrack",
   "metadata": {},
   "outputs": [],
   "source": [
    "# price에서 결측값이 있는 모든 행을 삭제한 결과를 price에 재할당합니다.\n",
    "price = price.dropna()"
   ]
  },
  {
   "cell_type": "code",
   "execution_count": null,
   "id": "e0472564",
   "metadata": {},
   "outputs": [],
   "source": [
    "# [참고] subset 매개변수에 일부 열이름을 지정하면 해당 열에서 결측값이 있는 행을 삭제합니다.\n",
    "price = price.dropna(subset = ['지번'])"
   ]
  },
  {
   "cell_type": "code",
   "execution_count": null,
   "id": "human-motivation",
   "metadata": {},
   "outputs": [],
   "source": [
    "# price의 행 길이를 확인합니다.\n",
    "price.shape[0]"
   ]
  },
  {
   "cell_type": "markdown",
   "id": "changed-gates",
   "metadata": {},
   "source": [
    "### 열 자료형 변환"
   ]
  },
  {
   "cell_type": "code",
   "execution_count": null,
   "id": "spatial-moral",
   "metadata": {},
   "outputs": [],
   "source": [
    "# price의 열별 자료형을 확인합니다.\n",
    "price.dtypes"
   ]
  },
  {
   "cell_type": "code",
   "execution_count": null,
   "id": "jewish-longer",
   "metadata": {},
   "outputs": [],
   "source": [
    "# 거래일을 문자열로 변환합니다.\n",
    "price['거래일'] = price['거래일'].astype('str')"
   ]
  },
  {
   "cell_type": "code",
   "execution_count": null,
   "id": "regular-worth",
   "metadata": {},
   "outputs": [],
   "source": [
    "# 거래금액을 실수형으로 변환합니다.\n",
    "price['거래금액'] = price['거래금액'].astype('float')"
   ]
  },
  {
   "cell_type": "code",
   "execution_count": null,
   "id": "destroyed-colon",
   "metadata": {},
   "outputs": [],
   "source": [
    "# price의 열별 자료형을 다시 확인합니다.\n",
    "price.dtypes"
   ]
  },
  {
   "cell_type": "code",
   "execution_count": null,
   "id": "creative-burton",
   "metadata": {},
   "outputs": [],
   "source": [
    "# 데이터프레임의 열별 자료형 변환 방법을 딕셔너리로 지정합니다.\n",
    "price = price.astype({'거래일': 'datetime64', '층': 'float'})"
   ]
  },
  {
   "cell_type": "code",
   "execution_count": null,
   "id": "genetic-cheat",
   "metadata": {},
   "outputs": [],
   "source": [
    "# price의 열별 자료형을 확인합니다.\n",
    "price.dtypes"
   ]
  },
  {
   "cell_type": "code",
   "execution_count": null,
   "id": "74a8d2be",
   "metadata": {},
   "outputs": [],
   "source": [
    "# 정수형으로 변환할 열이름을 리스트로 지정합니다.\n",
    "cols = ['층', '거래금액']"
   ]
  },
  {
   "cell_type": "code",
   "execution_count": null,
   "id": "hollow-capability",
   "metadata": {},
   "outputs": [],
   "source": [
    "# 선택된 열을 정수형으로 동시에 변환합니다.\n",
    "price[cols] = price[cols].astype('int')"
   ]
  },
  {
   "cell_type": "code",
   "execution_count": null,
   "id": "floppy-connecticut",
   "metadata": {},
   "outputs": [],
   "source": [
    "# price의 열별 자료형을 다시 확인합니다.\n",
    "price.dtypes"
   ]
  },
  {
   "cell_type": "markdown",
   "id": "external-military",
   "metadata": {},
   "source": [
    "### [참고] 문자열을 날짜형으로 변환"
   ]
  },
  {
   "cell_type": "code",
   "execution_count": null,
   "id": "aware-factor",
   "metadata": {},
   "outputs": [],
   "source": [
    "# 날짜 기본형이 아닌 문자열로 데이터프레임을 생성합니다.\n",
    "dates = pd.DataFrame(data = ['2021년 1월 1일'], columns = ['Date'])"
   ]
  },
  {
   "cell_type": "code",
   "execution_count": null,
   "id": "c9f8db3c",
   "metadata": {},
   "outputs": [],
   "source": [
    "# dates의 정보를 확인합니다.\n",
    "dates.info()"
   ]
  },
  {
   "cell_type": "code",
   "execution_count": null,
   "id": "excess-weapon",
   "metadata": {},
   "outputs": [],
   "source": [
    "# Date를 날짜형으로 변환하려고 하면 에러가 발생합니다.\n",
    "dates['Date'].astype('datetime64')"
   ]
  },
  {
   "cell_type": "code",
   "execution_count": null,
   "id": "novel-setting",
   "metadata": {},
   "outputs": [],
   "source": [
    "# to_datetime() 함수의 format 매개변수에 날짜포맷을 지정하면 변환됩니다.\n",
    "pd.to_datetime(arg = dates['Date'], format = '%Y년 %m월 %d일')"
   ]
  },
  {
   "cell_type": "markdown",
   "id": "olympic-holiday",
   "metadata": {},
   "source": [
    "### [참고] 날짜 분해 함수 소개"
   ]
  },
  {
   "cell_type": "code",
   "execution_count": null,
   "id": "celtic-alignment",
   "metadata": {},
   "outputs": [],
   "source": [
    "# 날짜 변수에서 년(year)을 추출하고, 정수형 시리즈로 반환합니다.\n",
    "price['거래일'].dt.year"
   ]
  },
  {
   "cell_type": "code",
   "execution_count": null,
   "id": "inappropriate-printer",
   "metadata": {},
   "outputs": [],
   "source": [
    "# 날짜 변수에서 월(month)을 추출하고, 정수형 시리즈로 반환합니다.\n",
    "price['거래일'].dt.month"
   ]
  },
  {
   "cell_type": "code",
   "execution_count": null,
   "id": "nearby-marine",
   "metadata": {},
   "outputs": [],
   "source": [
    "# 날짜 변수에서 일(day)을 추출하고, 정수형 시리즈로 반환합니다.\n",
    "price['거래일'].dt.day"
   ]
  },
  {
   "cell_type": "code",
   "execution_count": null,
   "id": "reduced-journal",
   "metadata": {},
   "outputs": [],
   "source": [
    "# 날짜 변수에서 시(hour)를 추출하고, 정수형 시리즈로 반환합니다.\n",
    "price['거래일'].dt.hour"
   ]
  },
  {
   "cell_type": "code",
   "execution_count": null,
   "id": "thousand-rover",
   "metadata": {},
   "outputs": [],
   "source": [
    "# 날짜 변수에서 분(minute)을 추출하고, 정수형 시리즈로 반환합니다.\n",
    "price['거래일'].dt.minute"
   ]
  },
  {
   "cell_type": "code",
   "execution_count": null,
   "id": "experienced-frequency",
   "metadata": {},
   "outputs": [],
   "source": [
    "# 날짜 변수에서 초(second)를 추출하고, 정수형 시리즈로 반환합니다.\n",
    "price['거래일'].dt.second"
   ]
  },
  {
   "cell_type": "code",
   "execution_count": null,
   "id": "78d34407",
   "metadata": {},
   "outputs": [],
   "source": [
    "# 날짜 변수에서 요일을 문자형 시리즈로 반환합니다.\n",
    "price['거래일'].dt.strftime('%A')"
   ]
  },
  {
   "cell_type": "markdown",
   "id": "american-milan",
   "metadata": {},
   "source": [
    "### 파생변수 생성 : 연속형 변수"
   ]
  },
  {
   "cell_type": "code",
   "execution_count": null,
   "id": "dependent-modification",
   "metadata": {},
   "outputs": [],
   "source": [
    "# 거래금액을 전용면적으로 나눈 연속형 파생변수를 생성합니다.\n",
    "price['단위금액'] = price['거래금액'] / price['전용면적']"
   ]
  },
  {
   "cell_type": "code",
   "execution_count": null,
   "id": "norman-asian",
   "metadata": {},
   "outputs": [],
   "source": [
    "# price의 처음 5행을 출력합니다.\n",
    "price.head()"
   ]
  },
  {
   "cell_type": "code",
   "execution_count": null,
   "id": "macro-error",
   "metadata": {},
   "outputs": [],
   "source": [
    "# 단위금액을 반올림하여 소수점 둘째 자리까지 남깁니다.\n",
    "price['단위금액'] = price['단위금액'].round(2)"
   ]
  },
  {
   "cell_type": "code",
   "execution_count": null,
   "id": "inappropriate-resistance",
   "metadata": {},
   "outputs": [],
   "source": [
    "# 거래금액을 만원 단위에서 억원 단위로 변경합니다.\n",
    "price['거래금액'] = price['거래금액'] / 10000"
   ]
  },
  {
   "cell_type": "code",
   "execution_count": null,
   "id": "planned-supervision",
   "metadata": {},
   "outputs": [],
   "source": [
    "# price의 처음 5행을 출력합니다.\n",
    "price.head()"
   ]
  },
  {
   "cell_type": "markdown",
   "id": "fbf1e783",
   "metadata": {},
   "source": [
    "### [참고] 데이터프레임에 열 삽입"
   ]
  },
  {
   "cell_type": "code",
   "execution_count": null,
   "id": "bd71dce8",
   "metadata": {},
   "outputs": [],
   "source": [
    "# price에서 단위금액을 삭제한 데이터프레임 imsi를 생성합니다.\n",
    "imsi = price.drop(labels = ['단위금액'], axis = 1)"
   ]
  },
  {
   "cell_type": "code",
   "execution_count": null,
   "id": "602b41db",
   "metadata": {},
   "outputs": [],
   "source": [
    "# imsi의 처음 5행을 출력합니다.\n",
    "imsi.head()"
   ]
  },
  {
   "cell_type": "code",
   "execution_count": null,
   "id": "717ba7fa",
   "metadata": {},
   "outputs": [],
   "source": [
    "# 데이터프레임의 원하는 위치에 새로운 열이름으로 시리즈를 삽입합니다.\n",
    "imsi.insert(loc = 8, column = '단위금액', value = price['단위금액'])"
   ]
  },
  {
   "cell_type": "code",
   "execution_count": null,
   "id": "99afbc56",
   "metadata": {},
   "outputs": [],
   "source": [
    "# imsi의 처음 5행을 출력합니다.\n",
    "imsi.head()"
   ]
  },
  {
   "cell_type": "markdown",
   "id": "6e3f74db",
   "metadata": {},
   "source": [
    "### 시리즈 데이터 지연"
   ]
  },
  {
   "cell_type": "code",
   "execution_count": null,
   "id": "922bb00b",
   "metadata": {},
   "outputs": [],
   "source": [
    "# 거래금액을 한 칸 뒤로 미룬 시리즈를 생성합니다.\n",
    "imsi['거래금액'].shift(1)"
   ]
  },
  {
   "cell_type": "code",
   "execution_count": null,
   "id": "a509166b",
   "metadata": {},
   "outputs": [],
   "source": [
    "# 음수를 지정하면 앞으로 당깁니다.\n",
    "imsi['거래금액'].shift(-1)"
   ]
  },
  {
   "cell_type": "code",
   "execution_count": null,
   "id": "f06e2865",
   "metadata": {},
   "outputs": [],
   "source": [
    "# 거래금액을 1일 및 2일 지연시킨 새로운 변수를 추가합니다.\n",
    "imsi['거래금액1'] = imsi['거래금액'].shift(1)\n",
    "imsi['거래금액2'] = imsi['거래금액'].shift(2)"
   ]
  },
  {
   "cell_type": "code",
   "execution_count": null,
   "id": "182a5c04",
   "metadata": {},
   "outputs": [],
   "source": [
    "# imsi의 처음 5행을 출력합니다.\n",
    "imsi.head()"
   ]
  },
  {
   "cell_type": "markdown",
   "id": "75d21484",
   "metadata": {},
   "source": [
    "### 시리즈의 이동 평균"
   ]
  },
  {
   "cell_type": "code",
   "execution_count": null,
   "id": "d71456f5",
   "metadata": {},
   "outputs": [],
   "source": [
    "# 정수 1~5를 원소로 갖는 시리즈를 생성합니다.(시계열 데이터로 가정합니다.)\n",
    "nums = pd.Series(data = np.arange(1, 6))\n",
    "nums"
   ]
  },
  {
   "cell_type": "code",
   "execution_count": null,
   "id": "84bbb88f",
   "metadata": {},
   "outputs": [],
   "source": [
    "# nums로 3일 이동평균을 계산합니다.\n",
    "nums.rolling(window = 3).mean()"
   ]
  },
  {
   "cell_type": "code",
   "execution_count": null,
   "id": "257476ce",
   "metadata": {},
   "outputs": [],
   "source": [
    "# nums로 3일 이동평균을 계산할 때 최소 원소 개수를 1로 설정합니다.\n",
    "nums.rolling(window = 3, min_periods = 1).mean()"
   ]
  },
  {
   "cell_type": "code",
   "execution_count": null,
   "id": "9cf90634",
   "metadata": {},
   "outputs": [],
   "source": [
    "# 결측값을 추가합니다.\n",
    "nums.iloc[2] = np.nan\n",
    "nums"
   ]
  },
  {
   "cell_type": "code",
   "execution_count": null,
   "id": "bd3ec11a",
   "metadata": {},
   "outputs": [],
   "source": [
    "# nums로 3일 이동평균을 계산합니다.\n",
    "nums.rolling(window = 3, min_periods = 1).mean()"
   ]
  },
  {
   "cell_type": "markdown",
   "id": "2f904c50",
   "metadata": {},
   "source": [
    "### 파생변수 생성 : 범주형 변수"
   ]
  },
  {
   "cell_type": "code",
   "execution_count": null,
   "id": "lasting-chapter",
   "metadata": {},
   "outputs": [],
   "source": [
    "# 단위금액이 1000 이상인 행에 '1천 이상'인 값을 갖는 금액구분 열을 생성합니다.\n",
    "price.loc[price['단위금액'].ge(1000), '금액구분'] = '1천 이상'"
   ]
  },
  {
   "cell_type": "code",
   "execution_count": null,
   "id": "duplicate-battlefield",
   "metadata": {},
   "outputs": [],
   "source": [
    "# price의 처음 5행을 출력합니다.\n",
    "price.head()"
   ]
  },
  {
   "cell_type": "code",
   "execution_count": null,
   "id": "f47a82fe",
   "metadata": {},
   "outputs": [],
   "source": [
    "# 단위금액이 1000 미만인 행의 금액구분 열에 '1천 미만'인 값을 추가합니다.\n",
    "price.loc[price['단위금액'].lt(1000), '금액구분'] = '1천 미만'"
   ]
  },
  {
   "cell_type": "code",
   "execution_count": null,
   "id": "cfc806ea",
   "metadata": {},
   "outputs": [],
   "source": [
    "# price의 처음 5행을 다시 출력합니다.\n",
    "price.head()"
   ]
  },
  {
   "cell_type": "markdown",
   "id": "fff071c5",
   "metadata": {},
   "source": [
    "### [참고] 연속형 변수의 구간화 관련 함수 소개"
   ]
  },
  {
   "cell_type": "code",
   "execution_count": null,
   "id": "3fc21cd3",
   "metadata": {},
   "outputs": [],
   "source": [
    "# 조건 만족 여부에 따라 두 가지 값을 갖는 범주형 변수를 생성합니다.\n",
    "np.where(price['단위금액'].ge(1000), '1천 이상', '1천 미만')"
   ]
  },
  {
   "cell_type": "code",
   "execution_count": null,
   "id": "77f6a10a",
   "metadata": {},
   "outputs": [],
   "source": [
    "# 세 가지 이상의 조건을 리스트로 생성합니다.\n",
    "# [주의] 반드시 조건을 소괄호로 묶어주어야 합니다.\n",
    "cond = [(price['단위금액'].ge(2000)),\n",
    "        (price['단위금액'].lt(2000) & price['단위금액'].ge(1000)),\n",
    "        (price['단위금액'].lt(1000))]"
   ]
  },
  {
   "cell_type": "code",
   "execution_count": null,
   "id": "3bf6e0d8",
   "metadata": {},
   "outputs": [],
   "source": [
    "# 조건에 따라 반환할 값을 리스트로 생성합니다.\n",
    "value = ['2천 이상', '1천 이상', '1천 미만']"
   ]
  },
  {
   "cell_type": "code",
   "execution_count": null,
   "id": "66632ca4",
   "metadata": {},
   "outputs": [],
   "source": [
    "# 조건에 맞는 값을 반환합니다.\n",
    "np.select(condlist = cond, choicelist = value)"
   ]
  },
  {
   "cell_type": "markdown",
   "id": "66493a72",
   "metadata": {},
   "source": [
    "### 파생변수 생성: 문자형 변수 결합"
   ]
  },
  {
   "cell_type": "code",
   "execution_count": null,
   "id": "blond-dryer",
   "metadata": {},
   "outputs": [],
   "source": [
    "# 여러 개의 문자형 변수를 결합하여 주소를 생성합니다.\n",
    "price['주소'] = price['시도'] + ' ' + price['자치구'] + ' ' + \\\n",
    "               price['읍면동'] + ' ' + price['지번']"
   ]
  },
  {
   "cell_type": "code",
   "execution_count": null,
   "id": "deed95a3",
   "metadata": {},
   "outputs": [],
   "source": [
    "# price의 처음 5행을 출력합니다.\n",
    "price.head()"
   ]
  },
  {
   "cell_type": "code",
   "execution_count": null,
   "id": "tamil-penny",
   "metadata": {},
   "outputs": [],
   "source": [
    "# 문자열로 결합할 문자형 열이름을 리스트로 설정합니다.\n",
    "cols = ['시도', '자치구', '읍면동', '지번']"
   ]
  },
  {
   "cell_type": "code",
   "execution_count": null,
   "id": "protective-illness",
   "metadata": {},
   "outputs": [],
   "source": [
    "# 데이터프레임의 행별 원소를 하나의 문자열로 결합하는 함수를 반복 실행합니다.\n",
    "price[cols].apply(func = lambda x: ' '.join(x), axis = 1)"
   ]
  },
  {
   "cell_type": "markdown",
   "id": "latest-insight",
   "metadata": {},
   "source": [
    "### [참고] 같은 함수 반복 실행 실습"
   ]
  },
  {
   "cell_type": "code",
   "execution_count": null,
   "id": "posted-wrestling",
   "metadata": {},
   "outputs": [],
   "source": [
    "# 시리즈의 원소별로 지정된 함수를 반복 실행합니다.\n",
    "price['아파트'].map(arg = len)"
   ]
  },
  {
   "cell_type": "code",
   "execution_count": null,
   "id": "1c042697",
   "metadata": {},
   "outputs": [],
   "source": [
    "# 데이터프레임의 열(시리즈)별 원소 개수를 반환합니다.\n",
    "price[cols].apply(func = len, axis = 0)"
   ]
  },
  {
   "cell_type": "code",
   "execution_count": null,
   "id": "thorough-monitoring",
   "metadata": {},
   "outputs": [],
   "source": [
    "# 데이터프레임의 행(시리즈)별 원소 개수를 반환합니다.\n",
    "price[cols].apply(func = len, axis = 1)"
   ]
  },
  {
   "cell_type": "code",
   "execution_count": null,
   "id": "different-juice",
   "metadata": {},
   "outputs": [],
   "source": [
    "# 데이터프레임의 셀값(문자열)별 길이를 반환합니다.\n",
    "price[cols].applymap(func = len)"
   ]
  },
  {
   "cell_type": "markdown",
   "id": "brave-continuity",
   "metadata": {},
   "source": [
    "### 데이터프레임 정렬"
   ]
  },
  {
   "cell_type": "code",
   "execution_count": null,
   "id": "c819c908",
   "metadata": {},
   "outputs": [],
   "source": [
    "# 거래금액(시리즈)을 오름차순으로 정렬합니다.\n",
    "price['거래금액'].sort_values()"
   ]
  },
  {
   "cell_type": "code",
   "execution_count": null,
   "id": "stopped-angola",
   "metadata": {},
   "outputs": [],
   "source": [
    "# price를 거래금액 기준으로 오름차순 정렬합니다.\n",
    "price.sort_values(by = ['거래금액'])"
   ]
  },
  {
   "cell_type": "code",
   "execution_count": null,
   "id": "mechanical-kenya",
   "metadata": {},
   "outputs": [],
   "source": [
    "# price를 거래금액 기준으로 내림차순 정렬합니다.\n",
    "price.sort_values(by = ['거래금액'], ascending = False)"
   ]
  },
  {
   "cell_type": "code",
   "execution_count": null,
   "id": "connected-delicious",
   "metadata": {},
   "outputs": [],
   "source": [
    "# price를 층, 거래금액 순으로 내림차순 정렬합니다.\n",
    "price.sort_values(by = ['층', '거래금액'], ascending = False)"
   ]
  },
  {
   "cell_type": "code",
   "execution_count": null,
   "id": "according-literacy",
   "metadata": {
    "scrolled": false
   },
   "outputs": [],
   "source": [
    "# price를 층은 내림차순, 거래금액은 오름차순으로 정렬합니다.\n",
    "price.sort_values(by = ['층', '거래금액'], ascending = [False, True])"
   ]
  },
  {
   "cell_type": "markdown",
   "id": "danish-patient",
   "metadata": {},
   "source": [
    "### 그룹 설정 및 집계함수로 데이터 요약"
   ]
  },
  {
   "cell_type": "code",
   "execution_count": null,
   "id": "mediterranean-recipient",
   "metadata": {
    "scrolled": true
   },
   "outputs": [],
   "source": [
    "# 자치구별 결측값이 아닌 거래금액 빈도수를 시리즈로 반환합니다.\n",
    "price.groupby(by = ['자치구']).count()['거래금액']"
   ]
  },
  {
   "cell_type": "code",
   "execution_count": null,
   "id": "dress-medicine",
   "metadata": {
    "scrolled": false
   },
   "outputs": [],
   "source": [
    "# 자치구별 거래금액의 평균을 시리즈로 반환합니다.\n",
    "price.groupby(by = ['자치구']).mean()['거래금액']"
   ]
  },
  {
   "cell_type": "code",
   "execution_count": null,
   "id": "selective-minimum",
   "metadata": {
    "scrolled": false
   },
   "outputs": [],
   "source": [
    "# 자치구별 거래금액의 표준편차를 시리즈로 반환합니다.\n",
    "price.groupby(by = ['자치구']).std()['거래금액']"
   ]
  },
  {
   "cell_type": "code",
   "execution_count": null,
   "id": "nuclear-directive",
   "metadata": {
    "scrolled": false
   },
   "outputs": [],
   "source": [
    "# 자치구별 거래금액의 최솟값을 시리즈로 반환합니다.\n",
    "price.groupby(by = ['자치구']).min()['거래금액']"
   ]
  },
  {
   "cell_type": "code",
   "execution_count": null,
   "id": "addressed-reality",
   "metadata": {
    "scrolled": false
   },
   "outputs": [],
   "source": [
    "# 자치구별 거래금액의 최댓값을 시리즈로 반환합니다.\n",
    "price.groupby(by = ['자치구']).max()['거래금액']"
   ]
  },
  {
   "cell_type": "code",
   "execution_count": null,
   "id": "focused-innocent",
   "metadata": {
    "scrolled": false
   },
   "outputs": [],
   "source": [
    "# 자치구별 거래금액의 다양한 기술통계량을 반환합니다.\n",
    "price.groupby(by = ['자치구']).describe()['거래금액']"
   ]
  },
  {
   "cell_type": "markdown",
   "id": "e0d4528c",
   "metadata": {},
   "source": [
    "### [참고] 범주형 변수의 빈도수 확인 함수 소개"
   ]
  },
  {
   "cell_type": "code",
   "execution_count": null,
   "id": "0e48d7df",
   "metadata": {
    "scrolled": false
   },
   "outputs": [],
   "source": [
    "# 자치구의 범주별 빈도수를 내림차순으로 반환합니다.\n",
    "price['자치구'].value_counts()"
   ]
  },
  {
   "cell_type": "code",
   "execution_count": null,
   "id": "54a93b30",
   "metadata": {
    "scrolled": false
   },
   "outputs": [],
   "source": [
    "# 시리즈 인덱스를 오름차순으로 반환합니다.\n",
    "price['자치구'].value_counts().sort_index()"
   ]
  },
  {
   "cell_type": "code",
   "execution_count": null,
   "id": "d97cb42e",
   "metadata": {
    "scrolled": false
   },
   "outputs": [],
   "source": [
    "# 빈도수를 오름차순으로 반환합니다.\n",
    "price['자치구'].value_counts(ascending = True)"
   ]
  },
  {
   "cell_type": "code",
   "execution_count": null,
   "id": "62dd5af3",
   "metadata": {
    "scrolled": false
   },
   "outputs": [],
   "source": [
    "# 빈도수 대신 상대도수를 반환합니다.\n",
    "price['자치구'].value_counts(normalize = True)"
   ]
  },
  {
   "cell_type": "code",
   "execution_count": null,
   "id": "a197b0fb",
   "metadata": {
    "scrolled": true
   },
   "outputs": [],
   "source": [
    "# 데이터프레임의 여러 변수 기준으로 빈도수를 반환합니다.\n",
    "cols = ['자치구', '금액구분']\n",
    "price.value_counts(subset = cols).sort_index().reset_index()"
   ]
  },
  {
   "cell_type": "markdown",
   "id": "short-grenada",
   "metadata": {},
   "source": [
    "### 데이터프레임 구조 변경"
   ]
  },
  {
   "cell_type": "code",
   "execution_count": null,
   "id": "center-induction",
   "metadata": {},
   "outputs": [],
   "source": [
    "# 두 범주형 변수 기준으로 집계한 Long type의 데이터프레임을 생성합니다.\n",
    "elong = price.groupby(by = cols).count()['단위금액'].reset_index()"
   ]
  },
  {
   "cell_type": "code",
   "execution_count": null,
   "id": "bigger-breeding",
   "metadata": {},
   "outputs": [],
   "source": [
    "# elong의 처음 10행을 출력합니다.\n",
    "elong.head(n = 10)"
   ]
  },
  {
   "cell_type": "code",
   "execution_count": null,
   "id": "waiting-balance",
   "metadata": {},
   "outputs": [],
   "source": [
    "# 단위금액의 이름을 건수로 변경합니다.\n",
    "elong = elong.rename(columns = {'단위금액': '거래건수'})"
   ]
  },
  {
   "cell_type": "code",
   "execution_count": null,
   "id": "0b906d2d",
   "metadata": {},
   "outputs": [],
   "source": [
    "# elong의 처음 10행을 다시 출력합니다.\n",
    "elong.head(n = 10)"
   ]
  },
  {
   "cell_type": "code",
   "execution_count": null,
   "id": "absolute-flesh",
   "metadata": {},
   "outputs": [],
   "source": [
    "# Long type을 Wide type으로 변경합니다.\n",
    "widen = elong.pivot(index = '자치구', \n",
    "                    columns = '금액구분', \n",
    "                    values = '거래건수')"
   ]
  },
  {
   "cell_type": "code",
   "execution_count": null,
   "id": "efcaf0c2",
   "metadata": {},
   "outputs": [],
   "source": [
    "# widen의 인덱스를 초기화합니다.\n",
    "widen = widen.reset_index()"
   ]
  },
  {
   "cell_type": "code",
   "execution_count": null,
   "id": "august-toner",
   "metadata": {},
   "outputs": [],
   "source": [
    "# widen의 처음 10행을 출력합니다.\n",
    "widen.head(n = 10)"
   ]
  },
  {
   "cell_type": "code",
   "execution_count": null,
   "id": "31fad51d",
   "metadata": {},
   "outputs": [],
   "source": [
    "# widen의 열이름을 출력합니다. name에 '금액구분'이 추가되어 있습니다.\n",
    "widen.columns"
   ]
  },
  {
   "cell_type": "code",
   "execution_count": null,
   "id": "d9d457f8",
   "metadata": {},
   "outputs": [],
   "source": [
    "# [참고] widen의 컬럼명 이름에 빈 문자열을 할당하면, 인덱스 위에 출력된 '금액구분'을 삭제할 수 있습니다.\n",
    "widen.columns.name = ''"
   ]
  },
  {
   "cell_type": "code",
   "execution_count": null,
   "id": "collectible-communist",
   "metadata": {
    "scrolled": true
   },
   "outputs": [],
   "source": [
    "# Wide type을 Long type으로 변환한 결과를 출력합니다.\n",
    "widen.melt(id_vars = '자치구', \n",
    "           value_vars = ['1천 미만', '1천 이상'], \n",
    "           var_name = '금액종류',\n",
    "           value_name = '매매건수')"
   ]
  },
  {
   "cell_type": "markdown",
   "id": "b5519dad",
   "metadata": {},
   "source": [
    "### 교차 테이블 생성"
   ]
  },
  {
   "cell_type": "code",
   "execution_count": null,
   "id": "8c0ee04b",
   "metadata": {
    "scrolled": true
   },
   "outputs": [],
   "source": [
    "# 두 개의 범주형 변수의 빈도수인 교차 테이블을 생성합니다.\n",
    "pd.crosstab(index = price['자치구'],\n",
    "            columns = price['금액구분'],\n",
    "            margins = True, \n",
    "            normalize = 'index')"
   ]
  },
  {
   "cell_type": "markdown",
   "id": "several-bobby",
   "metadata": {},
   "source": [
    "### 피벗 테이블 생성"
   ]
  },
  {
   "cell_type": "code",
   "execution_count": null,
   "id": "historical-baghdad",
   "metadata": {
    "scrolled": true
   },
   "outputs": [],
   "source": [
    "# 피벗 테이블은 집계함수를 이용하여 데이터를 요약합니다.\n",
    "pd.pivot_table(data = price, \n",
    "               values = '단위금액', \n",
    "               index = '자치구', \n",
    "               columns = '금액구분', \n",
    "               aggfunc = np.mean)"
   ]
  },
  {
   "cell_type": "markdown",
   "id": "scenic-spirituality",
   "metadata": {},
   "source": [
    "### 데이터프레임 결합"
   ]
  },
  {
   "cell_type": "code",
   "execution_count": null,
   "id": "spoken-bicycle",
   "metadata": {},
   "outputs": [],
   "source": [
    "# 열이름이 같은 두 개의 데이터프레임을 세로 방향으로 결합합니다.\n",
    "pd.concat(objs = [df1, df2])"
   ]
  },
  {
   "cell_type": "code",
   "execution_count": null,
   "id": "likely-messenger",
   "metadata": {},
   "outputs": [],
   "source": [
    "# 데이터프레임을 결합한 결과에서 행이름을 초기화합니다.\n",
    "pd.concat(objs = [df1, df2], ignore_index = True)"
   ]
  },
  {
   "cell_type": "code",
   "execution_count": null,
   "id": "played-private",
   "metadata": {},
   "outputs": [],
   "source": [
    "# df2의 일부 열이름을 변경합니다.\n",
    "df2 = df2.rename(columns = {'아파트': '아파트명'})"
   ]
  },
  {
   "cell_type": "code",
   "execution_count": null,
   "id": "restricted-breakfast",
   "metadata": {},
   "outputs": [],
   "source": [
    "# 열이름이 다른 두 개의 데이터프레임을 세로 방향으로 결합합니다.\n",
    "pd.concat(objs = [df1, df2], ignore_index = True)"
   ]
  },
  {
   "cell_type": "code",
   "execution_count": null,
   "id": "satisfied-garden",
   "metadata": {},
   "outputs": [],
   "source": [
    "# 행이름이 다른 두 개의 데이터프레임을 가로 방향으로 결합합니다.\n",
    "pd.concat(objs = [df1, df2], axis = 1)"
   ]
  },
  {
   "cell_type": "markdown",
   "id": "previous-spanish",
   "metadata": {},
   "source": [
    "### 외래키 확인 및 전처리"
   ]
  },
  {
   "cell_type": "code",
   "execution_count": null,
   "id": "occupational-numbers",
   "metadata": {},
   "outputs": [],
   "source": [
    "# price의 주소와 detail의 지번주소에서 일치하는 원소 개수를 확인합니다.\n",
    "len(set(price['주소']) & set(detail['지번주소']))"
   ]
  },
  {
   "cell_type": "code",
   "execution_count": null,
   "id": "musical-isolation",
   "metadata": {},
   "outputs": [],
   "source": [
    "# 외래키로 사용할 price의 주소를 출력합니다.\n",
    "price['주소'].head()"
   ]
  },
  {
   "cell_type": "code",
   "execution_count": null,
   "id": "together-hungarian",
   "metadata": {},
   "outputs": [],
   "source": [
    "# 외래키로 사용할 detail의 지번주소를 출력합니다.\n",
    "detail['지번주소'].head()"
   ]
  },
  {
   "cell_type": "code",
   "execution_count": null,
   "id": "yellow-crawford",
   "metadata": {},
   "outputs": [],
   "source": [
    "# price의 주소에서 '특별시'를 삭제합니다.\n",
    "price['주소'] = price['주소'].str.replace(pat = '특별시', repl = '')"
   ]
  },
  {
   "cell_type": "code",
   "execution_count": null,
   "id": "forty-cherry",
   "metadata": {},
   "outputs": [],
   "source": [
    "# price의 주소와 detail의 지번주소에서 일치하는 원소 개수를 다시 확인합니다.\n",
    "len(set(price['주소']) & set(detail['지번주소']))"
   ]
  },
  {
   "cell_type": "markdown",
   "id": "e363126c",
   "metadata": {},
   "source": [
    "### [참고] 샘플링 함수 소개"
   ]
  },
  {
   "cell_type": "code",
   "execution_count": null,
   "id": "59228d1b",
   "metadata": {},
   "outputs": [],
   "source": [
    "# 관련 라이브러리를 호출합니다. \n",
    "import random"
   ]
  },
  {
   "cell_type": "code",
   "execution_count": null,
   "id": "193bea59",
   "metadata": {},
   "outputs": [],
   "source": [
    "# 1~45의 정수에서 6개를 비복원추출하는 샘플링을 10번 반복합니다.\n",
    "for i in range(10):\n",
    "    random.seed(a = 1)\n",
    "    lotto = random.sample(population = range(1, 46), k = 6)\n",
    "    lotto.sort()\n",
    "    print(lotto)"
   ]
  },
  {
   "cell_type": "markdown",
   "id": "253551b9",
   "metadata": {},
   "source": [
    "### [참고] 중복 원소 확인 함수 소개"
   ]
  },
  {
   "cell_type": "code",
   "execution_count": null,
   "id": "50374f7d",
   "metadata": {},
   "outputs": [],
   "source": [
    "# 재현 가능한 결과를 얻기 위해 임의의 수를 생성하기 전에 시드를 고정합니다.\n",
    "random.seed(a = 3)"
   ]
  },
  {
   "cell_type": "code",
   "execution_count": null,
   "id": "6e341259",
   "metadata": {},
   "outputs": [],
   "source": [
    "# 1~5의 정수에서 3개를 복원추출합니다.\n",
    "nums = random.choices(population = range(1, 6), k = 3)"
   ]
  },
  {
   "cell_type": "code",
   "execution_count": null,
   "id": "57df28c5",
   "metadata": {},
   "outputs": [],
   "source": [
    "# nums를 시리즈로 변환하고 출력합니다.\n",
    "nums = pd.Series(data = nums)\n",
    "nums"
   ]
  },
  {
   "cell_type": "code",
   "execution_count": null,
   "id": "adbeaf28",
   "metadata": {},
   "outputs": [],
   "source": [
    "# nums에서 순방향으로 중복된 원소를 True로 반환합니다.\n",
    "nums.duplicated(keep = 'first')"
   ]
  },
  {
   "cell_type": "code",
   "execution_count": null,
   "id": "bcd8eec3",
   "metadata": {},
   "outputs": [],
   "source": [
    "# nums에서 역방향으로 중복된 원소를 True로 반환합니다.\n",
    "nums.duplicated(keep = 'last')"
   ]
  },
  {
   "cell_type": "code",
   "execution_count": null,
   "id": "3f7a2814",
   "metadata": {},
   "outputs": [],
   "source": [
    "# nums에서 중복된 모든 원소를 True로 반환합니다.\n",
    "nums.duplicated(keep = False)"
   ]
  },
  {
   "cell_type": "markdown",
   "id": "vulnerable-teaching",
   "metadata": {},
   "source": [
    "### 데이터프레임 중복 확인 및 제거"
   ]
  },
  {
   "cell_type": "code",
   "execution_count": null,
   "id": "spiritual-landing",
   "metadata": {},
   "outputs": [],
   "source": [
    "# detail의 지번주소에서 중복된 건수를 출력합니다.\n",
    "detail['지번주소'].duplicated().sum()"
   ]
  },
  {
   "cell_type": "code",
   "execution_count": null,
   "id": "unauthorized-vision",
   "metadata": {},
   "outputs": [],
   "source": [
    "# detail의 지번주소가 중복이면 True, 아니면 False인 시리즈 dup을 생성합니다.\n",
    "dup = detail['지번주소'].duplicated(keep = False)"
   ]
  },
  {
   "cell_type": "code",
   "execution_count": null,
   "id": "hawaiian-subscriber",
   "metadata": {
    "scrolled": true
   },
   "outputs": [],
   "source": [
    "# dup이 True인 행만 남기고 지번주소 기준으로 오름차순 정렬한 결과를 반환합니다.\n",
    "detail[dup].sort_values(by = ['지번주소'])"
   ]
  },
  {
   "cell_type": "code",
   "execution_count": null,
   "id": "perceived-heaven",
   "metadata": {},
   "outputs": [],
   "source": [
    "# detail의 지번주소가 중복일 때 첫 번째 행만 남기고 detail에 재할당합니다.\n",
    "detail = detail.drop_duplicates(subset = ['지번주소'], keep = 'first')"
   ]
  },
  {
   "cell_type": "code",
   "execution_count": null,
   "id": "98c5b63f",
   "metadata": {},
   "outputs": [],
   "source": [
    "# detail의 형태를 확인합니다. 행 길이가 25개 감소했습니다.(9145 -> 9120)\n",
    "detail.shape[0]"
   ]
  },
  {
   "cell_type": "markdown",
   "id": "buried-sterling",
   "metadata": {},
   "source": [
    "### 데이터프레임 병합"
   ]
  },
  {
   "cell_type": "code",
   "execution_count": null,
   "id": "economic-kitty",
   "metadata": {},
   "outputs": [],
   "source": [
    "# 두 개의 데이터프레임으로 내부 병합을 실행합니다.\n",
    "pd.merge(left = price, \n",
    "         right = detail, \n",
    "         how = 'inner', \n",
    "         left_on = '주소', \n",
    "         right_on = '지번주소')"
   ]
  },
  {
   "cell_type": "code",
   "execution_count": null,
   "id": "stupid-float",
   "metadata": {},
   "outputs": [],
   "source": [
    "# detail의 외래키 이름을 변경합니다.\n",
    "detail = detail.rename(columns = {'지번주소': '주소'})"
   ]
  },
  {
   "cell_type": "code",
   "execution_count": null,
   "id": "0bbb0d92",
   "metadata": {},
   "outputs": [],
   "source": [
    "# detail의 처음 5행을 출력합니다.\n",
    "detail.head()"
   ]
  },
  {
   "cell_type": "code",
   "execution_count": null,
   "id": "adjustable-choir",
   "metadata": {},
   "outputs": [],
   "source": [
    "# 외래키 이름이 같으면 on 매개변수를 사용하거나, 생략할 수 있습니다.\n",
    "apt = pd.merge(left = price, right = detail, how = 'inner', on = '주소')"
   ]
  },
  {
   "cell_type": "code",
   "execution_count": null,
   "id": "c71b835d",
   "metadata": {},
   "outputs": [],
   "source": [
    "# apt의 정보를 확인합니다.\n",
    "apt.info()"
   ]
  },
  {
   "cell_type": "markdown",
   "id": "handmade-virus",
   "metadata": {},
   "source": [
    "### 외부 파일로 저장"
   ]
  },
  {
   "cell_type": "code",
   "execution_count": null,
   "id": "wanted-student",
   "metadata": {},
   "outputs": [],
   "source": [
    "# 현재 작업경로를 확인합니다.\n",
    "os.getcwd()"
   ]
  },
  {
   "cell_type": "code",
   "execution_count": null,
   "id": "altered-arrow",
   "metadata": {},
   "outputs": [],
   "source": [
    "# apt를 xlsx 파일로 저장합니다.\n",
    "apt.to_excel(excel_writer = 'APT_List_Seoul_2020.xlsx', index = None)"
   ]
  },
  {
   "cell_type": "code",
   "execution_count": null,
   "id": "aerial-concert",
   "metadata": {},
   "outputs": [],
   "source": [
    "# apt를 csv 파일로 저장합니다.\n",
    "apt.to_csv(path_or_buf = 'APT_List_Seoul_2020.csv', index = None)"
   ]
  },
  {
   "cell_type": "code",
   "execution_count": null,
   "id": "median-survival",
   "metadata": {},
   "outputs": [],
   "source": [
    "# 현재 작업경로에 포함된 폴더명과 파일명을 출력합니다.\n",
    "os.listdir()"
   ]
  },
  {
   "cell_type": "markdown",
   "id": "vocational-sacrifice",
   "metadata": {},
   "source": [
    "## End of Document"
   ]
  }
 ],
 "metadata": {
  "kernelspec": {
   "display_name": "Python 3 (ipykernel)",
   "language": "python",
   "name": "python3"
  },
  "language_info": {
   "codemirror_mode": {
    "name": "ipython",
    "version": 3
   },
   "file_extension": ".py",
   "mimetype": "text/x-python",
   "name": "python",
   "nbconvert_exporter": "python",
   "pygments_lexer": "ipython3",
   "version": "3.9.7"
  },
  "toc": {
   "base_numbering": 1,
   "nav_menu": {},
   "number_sections": true,
   "sideBar": true,
   "skip_h1_title": false,
   "title_cell": "Table of Contents",
   "title_sidebar": "Contents",
   "toc_cell": false,
   "toc_position": {},
   "toc_section_display": true,
   "toc_window_display": false
  },
  "varInspector": {
   "cols": {
    "lenName": 16,
    "lenType": 16,
    "lenVar": 40
   },
   "kernels_config": {
    "python": {
     "delete_cmd_postfix": "",
     "delete_cmd_prefix": "del ",
     "library": "var_list.py",
     "varRefreshCmd": "print(var_dic_list())"
    },
    "r": {
     "delete_cmd_postfix": ") ",
     "delete_cmd_prefix": "rm(",
     "library": "var_list.r",
     "varRefreshCmd": "cat(var_dic_list()) "
    }
   },
   "types_to_exclude": [
    "module",
    "function",
    "builtin_function_or_method",
    "instance",
    "_Feature"
   ],
   "window_display": false
  }
 },
 "nbformat": 4,
 "nbformat_minor": 5
}

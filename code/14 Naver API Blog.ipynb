{
 "cells": [
  {
   "cell_type": "markdown",
   "id": "7a54df61",
   "metadata": {},
   "source": [
    "# 네이버 API Blog"
   ]
  },
  {
   "cell_type": "markdown",
   "id": "41590dae",
   "metadata": {},
   "source": [
    "### 관련 라이브러리 호출"
   ]
  },
  {
   "cell_type": "code",
   "execution_count": null,
   "id": "c3491e53",
   "metadata": {},
   "outputs": [],
   "source": [
    "# 관련 라이브러리를 호출합니다.\n",
    "import requests\n",
    "import json\n",
    "import pandas as pd\n",
    "import os\n",
    "import datetime"
   ]
  },
  {
   "cell_type": "markdown",
   "id": "05aa09f0",
   "metadata": {},
   "source": [
    "### HTTP 요청 실행"
   ]
  },
  {
   "cell_type": "code",
   "execution_count": null,
   "id": "093d0e78",
   "metadata": {},
   "outputs": [],
   "source": [
    "# 요청 URL을 지정합니다.(출력 포맷: JSON)\n",
    "url = 'https://openapi.naver.com/v1/search/news.json'"
   ]
  },
  {
   "cell_type": "code",
   "execution_count": null,
   "id": "dba29ea3",
   "metadata": {},
   "outputs": [],
   "source": [
    "# 요청 변수를 딕셔너리로 지정합니다.\n",
    "query = {'query': '스탠바이미'}"
   ]
  },
  {
   "cell_type": "code",
   "execution_count": null,
   "id": "6edcdd09",
   "metadata": {},
   "outputs": [],
   "source": [
    "# Client ID와 Secret를 딕셔너리로 지정합니다.\n",
    "apiKey = {'X-Naver-Client-Id': 'Client ID 붙여넣기',\n",
    "          'X-Naver-Client-Secret': 'Client Secret 붙여넣기'}"
   ]
  },
  {
   "cell_type": "code",
   "execution_count": null,
   "id": "56b8bb1e",
   "metadata": {},
   "outputs": [],
   "source": [
    "# HTTP 요청을 실행합니다.\n",
    "res = requests.get(url = url, params = query, headers = apiKey)"
   ]
  },
  {
   "cell_type": "markdown",
   "id": "6a691abb",
   "metadata": {},
   "source": [
    "### HTTP 응답 확인"
   ]
  },
  {
   "cell_type": "code",
   "execution_count": null,
   "id": "1c847f76",
   "metadata": {},
   "outputs": [],
   "source": [
    "# HTTP 응답 상태코드를 확인합니다.\n",
    "res.status_code"
   ]
  },
  {
   "cell_type": "code",
   "execution_count": null,
   "id": "8ffd3322",
   "metadata": {
    "scrolled": true
   },
   "outputs": [],
   "source": [
    "# HTTP 응답 헤더를 확인합니다.\n",
    "# [참고] Content-Type이 'json'입니다.\n",
    "res.headers"
   ]
  },
  {
   "cell_type": "code",
   "execution_count": null,
   "id": "e7778a6f",
   "metadata": {},
   "outputs": [],
   "source": [
    "# HTTP 응답 바디(텍스트)의 일부를 출력합니다.\n",
    "res.text[:1000]"
   ]
  },
  {
   "cell_type": "markdown",
   "id": "16128d4d",
   "metadata": {},
   "source": [
    "### JSON 데이터 수집"
   ]
  },
  {
   "cell_type": "code",
   "execution_count": null,
   "id": "c9a8f653",
   "metadata": {},
   "outputs": [],
   "source": [
    "# 문자열을 dict로 변환하여 dat를 생성합니다.\n",
    "dat = json.loads(s = res.text)"
   ]
  },
  {
   "cell_type": "code",
   "execution_count": null,
   "id": "22b704d5",
   "metadata": {
    "scrolled": true
   },
   "outputs": [],
   "source": [
    "# dat를 출력합니다. [참고] dat의 클래스는 dict 입니다.\n",
    "dat"
   ]
  },
  {
   "cell_type": "code",
   "execution_count": null,
   "id": "bc9e387f",
   "metadata": {
    "scrolled": true
   },
   "outputs": [],
   "source": [
    "# dat의 items를 선택합니다.\n",
    "dat['items']"
   ]
  },
  {
   "cell_type": "code",
   "execution_count": null,
   "id": "6744e01d",
   "metadata": {
    "scrolled": true
   },
   "outputs": [],
   "source": [
    "# dat로 데이터프레임을 생성합니다.\n",
    "df = pd.DataFrame(data = dat['items'])"
   ]
  },
  {
   "cell_type": "markdown",
   "id": "319bef6d",
   "metadata": {},
   "source": [
    "### xlsx 파일로 저장"
   ]
  },
  {
   "cell_type": "code",
   "execution_count": null,
   "id": "dbfa0589",
   "metadata": {},
   "outputs": [],
   "source": [
    "# data 폴더로 작업경로를 변경합니다.\n",
    "os.chdir(path = '../data')"
   ]
  },
  {
   "cell_type": "code",
   "execution_count": null,
   "id": "c3d02254",
   "metadata": {},
   "outputs": [],
   "source": [
    "# xlsx 파일명을 설정합니다.\n",
    "today = datetime.datetime.now().strftime('%Y%m%d')\n",
    "fileName = f'Naver_API_Blog_{today}.xlsx'"
   ]
  },
  {
   "cell_type": "code",
   "execution_count": null,
   "id": "b514b1b4",
   "metadata": {},
   "outputs": [],
   "source": [
    "# df를 xlsx 파일로 저장합니다.\n",
    "df.to_excel(excel_writer = fileName, index = None)"
   ]
  },
  {
   "cell_type": "markdown",
   "id": "b0d0d85e",
   "metadata": {},
   "source": [
    "## End of Document"
   ]
  }
 ],
 "metadata": {
  "kernelspec": {
   "display_name": "Python 3 (ipykernel)",
   "language": "python",
   "name": "python3"
  },
  "language_info": {
   "codemirror_mode": {
    "name": "ipython",
    "version": 3
   },
   "file_extension": ".py",
   "mimetype": "text/x-python",
   "name": "python",
   "nbconvert_exporter": "python",
   "pygments_lexer": "ipython3",
   "version": "3.9.7"
  }
 },
 "nbformat": 4,
 "nbformat_minor": 5
}

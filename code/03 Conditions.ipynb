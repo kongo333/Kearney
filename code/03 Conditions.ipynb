{
 "cells": [
  {
   "cell_type": "markdown",
   "id": "96237ba2",
   "metadata": {},
   "source": [
    "## if 조건문"
   ]
  },
  {
   "cell_type": "markdown",
   "id": "emerging-stevens",
   "metadata": {},
   "source": [
    "### if 조건문 기본 구조"
   ]
  },
  {
   "cell_type": "code",
   "execution_count": null,
   "id": "written-import",
   "metadata": {},
   "outputs": [],
   "source": [
    "# 사용자가 입력한 값을 문자열로 변환하여 변수에 할당합니다.\n",
    "score = input('점수: ')\n",
    "score"
   ]
  },
  {
   "cell_type": "code",
   "execution_count": null,
   "id": "ecd81cd8",
   "metadata": {},
   "outputs": [],
   "source": [
    "# score를 실수로 변환합니다.\n",
    "score = float(score)\n",
    "score"
   ]
  },
  {
   "cell_type": "code",
   "execution_count": null,
   "id": "moved-diamond",
   "metadata": {},
   "outputs": [],
   "source": [
    "# 조건문을 실행하고 점수에 따라 합격 여부를 출력합니다.\n",
    "if score >= 90:\n",
    "    print('합격')\n",
    "elif score >= 80:\n",
    "    print('재검사')\n",
    "else:\n",
    "    print('불합격')"
   ]
  },
  {
   "cell_type": "markdown",
   "id": "ccd2e0c6",
   "metadata": {},
   "source": [
    "### 조건문에서 에러 발생"
   ]
  },
  {
   "cell_type": "code",
   "execution_count": null,
   "id": "120c6f23",
   "metadata": {},
   "outputs": [],
   "source": [
    "# 관련 라이브러리를 호출합니다.\n",
    "import numpy as np"
   ]
  },
  {
   "cell_type": "code",
   "execution_count": null,
   "id": "bb26b574",
   "metadata": {},
   "outputs": [],
   "source": [
    "# 1차원 배열을 생성합니다.\n",
    "scores = np.array(object = range(60, 101, 10))\n",
    "scores"
   ]
  },
  {
   "cell_type": "code",
   "execution_count": null,
   "id": "bebc1788",
   "metadata": {},
   "outputs": [],
   "source": [
    "# 1차원 배열로 비교 연산한 결과를 출력합니다.\n",
    "scores >= 90"
   ]
  },
  {
   "cell_type": "code",
   "execution_count": null,
   "id": "b0ec93cc",
   "metadata": {},
   "outputs": [],
   "source": [
    "# 1차원 배열의 첫 번째 원소로 비교 연산한 결과를 출력합니다.\n",
    "scores[0] >= 90"
   ]
  },
  {
   "cell_type": "raw",
   "id": "a60b7dd6",
   "metadata": {},
   "source": [
    "# 1차원 배열로 비교 연산한 코드를 조건문에 지정합니다.\n",
    "if scores >= 90:\n",
    "    print('합격')\n",
    "elif scores >= 80:\n",
    "    print('재검사')\n",
    "else:\n",
    "    print('불합격')"
   ]
  },
  {
   "cell_type": "code",
   "execution_count": null,
   "id": "7bd17202",
   "metadata": {},
   "outputs": [],
   "source": [
    "# 1차원 배열의 첫 번째 원소로 비교 연산한 코드를 조건문에 지정합니다.\n",
    "if scores[0] >= 90:\n",
    "    print('합격')\n",
    "elif scores[0] >= 80:\n",
    "    print('재검사')\n",
    "else:\n",
    "    print('불합격')"
   ]
  },
  {
   "cell_type": "markdown",
   "id": "alive-supply",
   "metadata": {},
   "source": [
    "## End of Document"
   ]
  }
 ],
 "metadata": {
  "kernelspec": {
   "display_name": "Python 3",
   "language": "python",
   "name": "python3"
  },
  "language_info": {
   "codemirror_mode": {
    "name": "ipython",
    "version": 3
   },
   "file_extension": ".py",
   "mimetype": "text/x-python",
   "name": "python",
   "nbconvert_exporter": "python",
   "pygments_lexer": "ipython3",
   "version": "3.11.1"
  },
  "toc": {
   "base_numbering": 1,
   "nav_menu": {},
   "number_sections": false,
   "sideBar": true,
   "skip_h1_title": false,
   "title_cell": "Table of Contents",
   "title_sidebar": "Contents",
   "toc_cell": false,
   "toc_position": {},
   "toc_section_display": true,
   "toc_window_display": false
  },
  "varInspector": {
   "cols": {
    "lenName": 16,
    "lenType": 16,
    "lenVar": 40
   },
   "kernels_config": {
    "python": {
     "delete_cmd_postfix": "",
     "delete_cmd_prefix": "del ",
     "library": "var_list.py",
     "varRefreshCmd": "print(var_dic_list())"
    },
    "r": {
     "delete_cmd_postfix": ") ",
     "delete_cmd_prefix": "rm(",
     "library": "var_list.r",
     "varRefreshCmd": "cat(var_dic_list()) "
    }
   },
   "types_to_exclude": [
    "module",
    "function",
    "builtin_function_or_method",
    "instance",
    "_Feature"
   ],
   "window_display": false
  }
 },
 "nbformat": 4,
 "nbformat_minor": 5
}

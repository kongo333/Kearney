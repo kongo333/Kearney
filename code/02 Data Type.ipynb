{
 "cells": [
  {
   "cell_type": "markdown",
   "id": "96237ba2",
   "metadata": {},
   "source": [
    "## 자료형"
   ]
  },
  {
   "cell_type": "markdown",
   "id": "worse-origin",
   "metadata": {},
   "source": [
    "### 정수"
   ]
  },
  {
   "cell_type": "code",
   "execution_count": null,
   "id": "unlike-vegetation",
   "metadata": {},
   "outputs": [],
   "source": [
    "# a에 정수 5를 할당하고 a를 출력합니다.\n",
    "# [참고] 같은 셀에 여러 줄의 코드를 입력할 수 있습니다.\n",
    "a = 5\n",
    "a"
   ]
  },
  {
   "cell_type": "code",
   "execution_count": null,
   "id": "convenient-counter",
   "metadata": {},
   "outputs": [],
   "source": [
    "# a의 클래스를 확인합니다. a의 클래스는 int입니다.\n",
    "type(a)"
   ]
  },
  {
   "cell_type": "code",
   "execution_count": null,
   "id": "8757de3b",
   "metadata": {},
   "outputs": [],
   "source": [
    "# int의 속성과 방식을 리스트로 반환합니다.\n",
    "# [참고] '__'이 없는 속성과 방식만 선택합니다.\n",
    "# 리스트 컴프리헨션은 반복문에서 소개합니다.\n",
    "[i for i in dir(a) if '__' not in i]"
   ]
  },
  {
   "cell_type": "markdown",
   "id": "a41fd5d0",
   "metadata": {},
   "source": [
    "### 실수"
   ]
  },
  {
   "cell_type": "code",
   "execution_count": null,
   "id": "adjacent-superintendent",
   "metadata": {},
   "outputs": [],
   "source": [
    "# b에 실수 5.0을 할당하고 b를 출력합니다.\n",
    "b = 5.0\n",
    "b"
   ]
  },
  {
   "cell_type": "code",
   "execution_count": null,
   "id": "received-commerce",
   "metadata": {},
   "outputs": [],
   "source": [
    "# b의 클래스를 확인합니다. b의 클래스는 float입니다.\n",
    "type(b)"
   ]
  },
  {
   "cell_type": "code",
   "execution_count": null,
   "id": "5b8549e7",
   "metadata": {},
   "outputs": [],
   "source": [
    "# float의 속성과 방식을 리스트로 반환합니다.\n",
    "# [참고] 클래스가 다르면 속성과 방식도 달라집니다.\n",
    "[i for i in dir(b) if '__' not in i]"
   ]
  },
  {
   "cell_type": "markdown",
   "id": "sustainable-paint",
   "metadata": {},
   "source": [
    "### 산술 연산자"
   ]
  },
  {
   "cell_type": "code",
   "execution_count": null,
   "id": "proper-xerox",
   "metadata": {},
   "outputs": [],
   "source": [
    "# a에 2를 더합니다.\n",
    "a + 2"
   ]
  },
  {
   "cell_type": "code",
   "execution_count": null,
   "id": "supported-balance",
   "metadata": {},
   "outputs": [],
   "source": [
    "# a에서 2를 뺍니다.\n",
    "a - 2"
   ]
  },
  {
   "cell_type": "code",
   "execution_count": null,
   "id": "gothic-organization",
   "metadata": {},
   "outputs": [],
   "source": [
    "# a에 2를 곱합니다.\n",
    "a * 2"
   ]
  },
  {
   "cell_type": "code",
   "execution_count": null,
   "id": "sought-terrace",
   "metadata": {},
   "outputs": [],
   "source": [
    "# a를 2로 거듭제곱합니다.\n",
    "a ** 2"
   ]
  },
  {
   "cell_type": "code",
   "execution_count": null,
   "id": "funky-entry",
   "metadata": {},
   "outputs": [],
   "source": [
    "# a를 2로 나눕니다.\n",
    "a / 2"
   ]
  },
  {
   "cell_type": "code",
   "execution_count": null,
   "id": "worldwide-experiment",
   "metadata": {},
   "outputs": [],
   "source": [
    "# a를 2로 나눈 나머지를 반환합니다.\n",
    "a % 2"
   ]
  },
  {
   "cell_type": "code",
   "execution_count": null,
   "id": "approved-asset",
   "metadata": {},
   "outputs": [],
   "source": [
    "# a를 2로 나눈 몫을 반환합니다.\n",
    "a // 2"
   ]
  },
  {
   "cell_type": "markdown",
   "id": "cardiovascular-encounter",
   "metadata": {},
   "source": [
    "### 할당 연산자"
   ]
  },
  {
   "cell_type": "code",
   "execution_count": null,
   "id": "thermal-happiness",
   "metadata": {},
   "outputs": [],
   "source": [
    "# a에 정수 6을 할당하고 a를 출력합니다.\n",
    "a = 6\n",
    "a"
   ]
  },
  {
   "cell_type": "code",
   "execution_count": null,
   "id": "animated-requirement",
   "metadata": {},
   "outputs": [],
   "source": [
    "# a에 1을 더한 값을 a에 재할당하고 a를 출력합니다.\n",
    "a += 1\n",
    "a"
   ]
  },
  {
   "cell_type": "code",
   "execution_count": null,
   "id": "tracked-variance",
   "metadata": {},
   "outputs": [],
   "source": [
    "# b에서 2를 뺀 값을 b에 재할당하고 b를 출력합니다.\n",
    "b -= 2\n",
    "b"
   ]
  },
  {
   "cell_type": "markdown",
   "id": "athletic-hamilton",
   "metadata": {},
   "source": [
    "### 비교 연산자"
   ]
  },
  {
   "cell_type": "code",
   "execution_count": null,
   "id": "competent-revolution",
   "metadata": {},
   "outputs": [],
   "source": [
    "# a가 4보다 크면 True, 작거나 같으면 False를 반환합니다.\n",
    "# [참고] True 또는 False를 진리값(truth value)이라고 합니다.\n",
    "a > 4"
   ]
  },
  {
   "cell_type": "code",
   "execution_count": null,
   "id": "based-kenya",
   "metadata": {},
   "outputs": [],
   "source": [
    "# a가 4보다 크거나 같으면 True, 작으면 False를 반환합니다.\n",
    "a >= 4"
   ]
  },
  {
   "cell_type": "code",
   "execution_count": null,
   "id": "valuable-charles",
   "metadata": {},
   "outputs": [],
   "source": [
    "# a가 4보다 작으면 True, 크거나 같으면 False를 반환합니다.\n",
    "a < 4"
   ]
  },
  {
   "cell_type": "code",
   "execution_count": null,
   "id": "standing-morning",
   "metadata": {},
   "outputs": [],
   "source": [
    "# a가 4보다 작거나 같으면 True, 크면 False를 반환합니다.\n",
    "a <= 4"
   ]
  },
  {
   "cell_type": "code",
   "execution_count": null,
   "id": "fossil-capture",
   "metadata": {},
   "outputs": [],
   "source": [
    "# a가 4와 같으면 True, 다르면 False를 반환합니다.\n",
    "a == 4"
   ]
  },
  {
   "cell_type": "code",
   "execution_count": null,
   "id": "seasonal-chester",
   "metadata": {},
   "outputs": [],
   "source": [
    "# a가 4와 다르면 True, 같으면 False를 반환합니다.\n",
    "a != 4"
   ]
  },
  {
   "cell_type": "markdown",
   "id": "reverse-therapist",
   "metadata": {},
   "source": [
    "### 논리 연산자"
   ]
  },
  {
   "cell_type": "code",
   "execution_count": null,
   "id": "85591f12",
   "metadata": {},
   "outputs": [],
   "source": [
    "# 비교 연산을 실행하여 True 또는 False를 반환합니다.\n",
    "# [참고] 같은 셀에서 여러 코드의 실행 결과를 출력하려면 print() 함수를 사용합니다.\n",
    "print(a > 4)\n",
    "print(b > 4)"
   ]
  },
  {
   "cell_type": "code",
   "execution_count": null,
   "id": "suitable-nirvana",
   "metadata": {},
   "outputs": [],
   "source": [
    "# [논리곱] 두 진리값이 모두 True면 True, 아니면 False를 반환합니다.\n",
    "a > 4 and b > 4"
   ]
  },
  {
   "cell_type": "code",
   "execution_count": null,
   "id": "statewide-distance",
   "metadata": {},
   "outputs": [],
   "source": [
    "# [논리합] 두 진리값 중 하나 이상 True면 True, 아니면 False를 반환합니다.\n",
    "a > 4 or b > 4"
   ]
  },
  {
   "cell_type": "code",
   "execution_count": null,
   "id": "1086073d",
   "metadata": {},
   "outputs": [],
   "source": [
    "# [논리부정] not 뒤에 오는 진리값을 반전합니다.\n",
    "# [참고] not의 우선순위가 or 보다 높습니다.\n",
    "not (a > 4 or b > 4)"
   ]
  },
  {
   "cell_type": "markdown",
   "id": "unique-verification",
   "metadata": {},
   "source": [
    "### 문자열"
   ]
  },
  {
   "cell_type": "code",
   "execution_count": null,
   "id": "configured-repository",
   "metadata": {},
   "outputs": [],
   "source": [
    "# str1에 문자열을 할당하고 str1을 출력합니다.\n",
    "# [참고] 홑따옴표를 사용했습니다.\n",
    "# 따옴표로 감싼 문자열을 반환합니다.\n",
    "str1 = 'Life is short, '\n",
    "str1"
   ]
  },
  {
   "cell_type": "code",
   "execution_count": null,
   "id": "sublime-trace",
   "metadata": {},
   "outputs": [],
   "source": [
    "# print() 함수로 str1을 출력합니다.\n",
    "# 따옴표 없이 문자만 출력합니다.\n",
    "print(str1)"
   ]
  },
  {
   "cell_type": "code",
   "execution_count": null,
   "id": "dangerous-refrigerator",
   "metadata": {},
   "outputs": [],
   "source": [
    "# str1의 클래스를 확인합니다. str1의 클래스는 str입니다.\n",
    "type(str1)"
   ]
  },
  {
   "cell_type": "code",
   "execution_count": null,
   "id": "b866e990",
   "metadata": {
    "scrolled": true
   },
   "outputs": [],
   "source": [
    "# str의 속성과 방식을 리스트로 반환합니다.\n",
    "[i for i in dir(str1) if '__' not in i]"
   ]
  },
  {
   "cell_type": "code",
   "execution_count": null,
   "id": "fewer-aircraft",
   "metadata": {},
   "outputs": [],
   "source": [
    "# str1의 글자수를 반환합니다.\n",
    "len(str1)"
   ]
  },
  {
   "cell_type": "code",
   "execution_count": null,
   "id": "reported-greece",
   "metadata": {},
   "outputs": [],
   "source": [
    "# str2에 문자열을 할당하고 str2를 출력합니다.\n",
    "# [참고] 겹따옴표를 사용했습니다.\n",
    "str2 = \"you need Python!\"\n",
    "str2"
   ]
  },
  {
   "cell_type": "markdown",
   "id": "continuous-inspiration",
   "metadata": {},
   "source": [
    "### [참고] 따옴표 사용법"
   ]
  },
  {
   "cell_type": "raw",
   "id": "095cdc7a",
   "metadata": {},
   "source": [
    "# 홑따옴표로 감싼 문자열 안에 홑따옴표를 추가할 수 없습니다.\n",
    "# [주의] 이 셀을 Code로 변경하고 실행하면 에러를 반환합니다.\n",
    "'Monty Python's Flying Circus'"
   ]
  },
  {
   "cell_type": "code",
   "execution_count": null,
   "id": "imposed-mechanism",
   "metadata": {},
   "outputs": [],
   "source": [
    "# 문자열 안에 홑따옴표를 추가하려면 문자열을 홑따옴표 대신에 겹따옴표로 감싸야 합니다.\n",
    "\"Monty Python's Flying Circus\""
   ]
  },
  {
   "cell_type": "code",
   "execution_count": null,
   "id": "special-commitment",
   "metadata": {},
   "outputs": [],
   "source": [
    "# 홑따옴표로 감싼 문자열 안 홑따옴표 앞에 역슬래쉬(\\) 기호를 추가합니다.\n",
    "# [참고] \\ 기호는 정규표현식의 이스케이프입니다.\n",
    "'Monty Python\\'s Flying Circus'"
   ]
  },
  {
   "cell_type": "code",
   "execution_count": null,
   "id": "requested-click",
   "metadata": {},
   "outputs": [],
   "source": [
    "# 두 가지 경우를 모두 포함하는 예제입니다.\n",
    "'I\\'m saying \"You need Python!\" now.'"
   ]
  },
  {
   "cell_type": "code",
   "execution_count": null,
   "id": "classical-disney",
   "metadata": {},
   "outputs": [],
   "source": [
    "# 문자열을 겹따옴표로 감쌌다면 문자열 안 겹따옴표 앞에 역슬래쉬를 추가합니다.\n",
    "\"I'm saying \\\"You need Python!\\\" now.\""
   ]
  },
  {
   "cell_type": "code",
   "execution_count": null,
   "id": "crazy-criterion",
   "metadata": {},
   "outputs": [],
   "source": [
    "# 두 줄 이상의 문자열을 생성할 때 따옴표를 세 번 겹쳐서 사용합니다.\n",
    "'''hello!\n",
    "Good to see you.'''"
   ]
  },
  {
   "cell_type": "markdown",
   "id": "authentic-champion",
   "metadata": {},
   "source": [
    "### 문자열 연산자"
   ]
  },
  {
   "cell_type": "code",
   "execution_count": null,
   "id": "split-andorra",
   "metadata": {},
   "outputs": [],
   "source": [
    "# + 연산자는 두 문자열을 결합합니다.\n",
    "# [주의] 문자열과 수를 결합하면 에러를 반환합니다.\n",
    "str1 + str2"
   ]
  },
  {
   "cell_type": "code",
   "execution_count": null,
   "id": "international-bolivia",
   "metadata": {},
   "outputs": [],
   "source": [
    "# * 연산자는 왼쪽 문자열을 오른쪽에 지정한 정수만큼 반복합니다.\n",
    "# [주의] 정수 대신 실수를 지정하면 에러를 반환합니다.\n",
    "str2 * 3"
   ]
  },
  {
   "cell_type": "code",
   "execution_count": null,
   "id": "offshore-europe",
   "metadata": {},
   "outputs": [],
   "source": [
    "# 멤버 연산자(in 키워드)는 오른쪽 문자열에 왼쪽 문자열이 있으면 True, \n",
    "# 없으면 False를 반환합니다. not in은 반대로 동작합니다.\n",
    "'a' in str2"
   ]
  },
  {
   "cell_type": "markdown",
   "id": "smart-evolution",
   "metadata": {},
   "source": [
    "### 문자열 인덱싱"
   ]
  },
  {
   "cell_type": "code",
   "execution_count": null,
   "id": "worthy-adelaide",
   "metadata": {},
   "outputs": [],
   "source": [
    "# 실습용 문자열을 생성합니다.\n",
    "sen = '아버지가 안방에 들어가신다.'"
   ]
  },
  {
   "cell_type": "code",
   "execution_count": null,
   "id": "willing-breakdown",
   "metadata": {},
   "outputs": [],
   "source": [
    "# sen의 0번 인덱스(첫 번째) 문자를 선택합니다.\n",
    "# [주의] Python 인덱스는 0부터 시작합니다.\n",
    "sen[0]"
   ]
  },
  {
   "cell_type": "code",
   "execution_count": null,
   "id": "formed-church",
   "metadata": {},
   "outputs": [],
   "source": [
    "# sen의 1번 인덱스(두 번째) 문자를 선택합니다.\n",
    "sen[1]"
   ]
  },
  {
   "cell_type": "code",
   "execution_count": null,
   "id": "8aac4d98",
   "metadata": {},
   "outputs": [],
   "source": [
    "# sen의 -1번 인덱스(마지막) 문자를 선택합니다.\n",
    "# [참고] 인덱스 앞에 마이너스 부호를 추가하면 마지막 문자에서부터 거꾸로 진행합니다.\n",
    "sen[-1]"
   ]
  },
  {
   "cell_type": "markdown",
   "id": "impaired-simulation",
   "metadata": {},
   "source": [
    "### 문자열 슬라이싱"
   ]
  },
  {
   "cell_type": "code",
   "execution_count": null,
   "id": "renewable-blair",
   "metadata": {},
   "outputs": [],
   "source": [
    "# sen의 0~2번 인덱스 문자를 결합합니다.\n",
    "sen[0] + sen[1] + sen[2]"
   ]
  },
  {
   "cell_type": "code",
   "execution_count": null,
   "id": "upset-hebrew",
   "metadata": {},
   "outputs": [],
   "source": [
    "# sen의 0번 인덱스(첫 번째)부터 2번 인덱스(세 번째)까지 연속된 문자를 선택합니다.\n",
    "sen[0:3]"
   ]
  },
  {
   "cell_type": "code",
   "execution_count": null,
   "id": "behavioral-reduction",
   "metadata": {},
   "outputs": [],
   "source": [
    "# 콜론 앞에 시작 인덱스를 생략하면 첫 번째 문자부터 선택합니다.\n",
    "sen[:3]"
   ]
  },
  {
   "cell_type": "code",
   "execution_count": null,
   "id": "weird-cooling",
   "metadata": {},
   "outputs": [],
   "source": [
    "# 콜론 뒤에 끝 인덱스를 생략하면 마지막 문자까지 선택합니다.\n",
    "sen[9:]"
   ]
  },
  {
   "cell_type": "code",
   "execution_count": null,
   "id": "acquired-wrestling",
   "metadata": {},
   "outputs": [],
   "source": [
    "# 빈 콜론을 입력하면 처음부터 끝까지 연속된 문자를 선택합니다.\n",
    "# [주의] 대괄호 안에 아무것도 입력하지 않으면 에러를 반환합니다.\n",
    "sen[:]"
   ]
  },
  {
   "cell_type": "markdown",
   "id": "beginning-resistance",
   "metadata": {},
   "source": [
    "### 문자열 공백 제거 및 변경"
   ]
  },
  {
   "cell_type": "code",
   "execution_count": null,
   "id": "likely-generator",
   "metadata": {},
   "outputs": [],
   "source": [
    "# 다양한 공백을 갖는 문자열을 생성합니다.\n",
    "# [참고] '\\n'은 줄바꿈, '\\t'는 탭이며 공백으로 처리합니다.\n",
    "sen = '\\n 파이썬 \\t 문자열 \\t 다루기\\t'\n",
    "sen"
   ]
  },
  {
   "cell_type": "code",
   "execution_count": null,
   "id": "47a60397",
   "metadata": {},
   "outputs": [],
   "source": [
    "# print() 함수로는 문자열에 있는 공백을 확인하기 어렵습니다.\n",
    "print(sen)"
   ]
  },
  {
   "cell_type": "code",
   "execution_count": null,
   "id": "convertible-muslim",
   "metadata": {},
   "outputs": [],
   "source": [
    "# sen에서 양쪽 공백을 제거한 결과를 sen에 재할당합니다.\n",
    "# [참고] 문자열 중간에 있는 공백은 제거하지 않습니다.\n",
    "sen = sen.strip()\n",
    "sen"
   ]
  },
  {
   "cell_type": "code",
   "execution_count": null,
   "id": "athletic-snapshot",
   "metadata": {},
   "outputs": [],
   "source": [
    "# sen에서 '\\t'을 빈 문자열로 모두 변경(삭제)한 결과를 출력합니다.\n",
    "# [참고] 세 번째 인수에 변경할 횟수를 정수로 지정할 수 있습니다.\n",
    "# sen에 재할당하지 않았으므로 sen의 값이 업데이트된 것은 아닙니다.\n",
    "sen.replace('\\t', '')"
   ]
  },
  {
   "cell_type": "markdown",
   "id": "static-mineral",
   "metadata": {},
   "source": [
    "### 문자열 분리 및 결합"
   ]
  },
  {
   "cell_type": "code",
   "execution_count": null,
   "id": "offensive-spoke",
   "metadata": {},
   "outputs": [],
   "source": [
    "# sen을 구분자 '\\t'로 분리합니다.\n",
    "# [참고] 문자열을 분리하면 실행 결과를 리스트로 반환합니다.\n",
    "sen.split('\\t')"
   ]
  },
  {
   "cell_type": "code",
   "execution_count": null,
   "id": "swedish-civilization",
   "metadata": {},
   "outputs": [],
   "source": [
    "# sen을 공백으로 분리한 결과를 strs에 할당합니다.\n",
    "strs = sen.split()\n",
    "strs"
   ]
  },
  {
   "cell_type": "code",
   "execution_count": null,
   "id": "structured-ordinance",
   "metadata": {},
   "outputs": [],
   "source": [
    "# strs의 원소 사이에 공백을 추가하여 문자열로 결합합니다.\n",
    "# [참고] 구분자에 따라 실행 결과가 달라집니다.\n",
    "' '.join(strs)"
   ]
  },
  {
   "cell_type": "markdown",
   "id": "earlier-circular",
   "metadata": {},
   "source": [
    "### 자료형 변환"
   ]
  },
  {
   "cell_type": "code",
   "execution_count": null,
   "id": "systematic-arrival",
   "metadata": {},
   "outputs": [],
   "source": [
    "# 정수 1을 실수로 변환합니다.\n",
    "float(1)"
   ]
  },
  {
   "cell_type": "code",
   "execution_count": null,
   "id": "beneficial-mailing",
   "metadata": {},
   "outputs": [],
   "source": [
    "# 정수 1을 문자열로 변환합니다.\n",
    "str(1)"
   ]
  },
  {
   "cell_type": "code",
   "execution_count": null,
   "id": "generous-outside",
   "metadata": {},
   "outputs": [],
   "source": [
    "# 실수 1.2를 정수로 변환합니다.\n",
    "int(1.2)"
   ]
  },
  {
   "cell_type": "code",
   "execution_count": null,
   "id": "circular-brand",
   "metadata": {},
   "outputs": [],
   "source": [
    "# 실수 1.2를 문자열로 변환합니다.\n",
    "str(1.2)"
   ]
  },
  {
   "cell_type": "code",
   "execution_count": null,
   "id": "spread-tenant",
   "metadata": {},
   "outputs": [],
   "source": [
    "# 문자열 '1.2'를 실수로 변환합니다.\n",
    "float('1.2')"
   ]
  },
  {
   "cell_type": "raw",
   "id": "440c0069",
   "metadata": {},
   "source": [
    "# 문자열 '1.2'를 정수로 변환할 때 에러를 반환합니다.\n",
    "# [주의] 소수점 있는 문자열을 정수로 변환할 수 없습니다.\n",
    "int('1.2')"
   ]
  },
  {
   "cell_type": "markdown",
   "id": "junior-peoples",
   "metadata": {},
   "source": [
    "### 문자열 포맷팅: 포맷 코드"
   ]
  },
  {
   "cell_type": "code",
   "execution_count": null,
   "id": "overall-overview",
   "metadata": {},
   "outputs": [],
   "source": [
    "# name에 문자열, rate에 실수를 할당합니다.\n",
    "name = '홍길동'\n",
    "rate = 3.2"
   ]
  },
  {
   "cell_type": "code",
   "execution_count": null,
   "id": "4b42ea66",
   "metadata": {},
   "outputs": [],
   "source": [
    "# + 연산자로 여러 문자열을 결합합니다.\n",
    "name + ' 고객님의 이자율은 ' + str(rate) + ' %입니다.'"
   ]
  },
  {
   "cell_type": "code",
   "execution_count": null,
   "id": "loving-helen",
   "metadata": {},
   "outputs": [],
   "source": [
    "# name과 rate에 할당한 값을 포맷 코드(%s와 %f)에 대입합니다.\n",
    "'%s 고객님의 이자율은 %f %%입니다.' %(name, rate)"
   ]
  },
  {
   "cell_type": "code",
   "execution_count": null,
   "id": "compound-associate",
   "metadata": {},
   "outputs": [],
   "source": [
    "# 실수 포맷(소수점 자리수 등)을 설정할 수 있습니다.\n",
    "'%s 고객님의 이자율은 %.2f %%입니다.' %(name, rate)"
   ]
  },
  {
   "cell_type": "markdown",
   "id": "novel-albuquerque",
   "metadata": {},
   "source": [
    "### 문자열 포맷팅: format(), f-문자열"
   ]
  },
  {
   "cell_type": "code",
   "execution_count": null,
   "id": "tender-ghana",
   "metadata": {},
   "outputs": [],
   "source": [
    "# format() 함수는 포맷 코드 대신 중괄호를 사용합니다.\n",
    "# 중괄호 안에 전달인수의 인덱스를 지정합니다.\n",
    "'{0} 고객님의 이자율은 {1} %입니다.'.format(name, rate)"
   ]
  },
  {
   "cell_type": "code",
   "execution_count": null,
   "id": "renewable-charge",
   "metadata": {},
   "outputs": [],
   "source": [
    "# [참고] 실수 포맷을 지정할 때 콜론(:)을 추가합니다.\n",
    "'{0} 고객님의 이자율은 {1:.2f} %입니다.'.format(name, rate)"
   ]
  },
  {
   "cell_type": "code",
   "execution_count": null,
   "id": "sound-rings",
   "metadata": {},
   "outputs": [],
   "source": [
    "# Python 3.6에서 도입한 f-문자열을 사용하면 코드 가독성을 높일 수 있습니다.\n",
    "f'{name} 고객님의 이자율은 {rate:.2f} %입니다.'"
   ]
  },
  {
   "cell_type": "markdown",
   "id": "applicable-vulnerability",
   "metadata": {},
   "source": [
    "### 부울"
   ]
  },
  {
   "cell_type": "code",
   "execution_count": null,
   "id": "ranging-alexandria",
   "metadata": {},
   "outputs": [],
   "source": [
    "# t에 True를 할당합니다. [주의] 따옴표로 감싸면 문자열이 됩니다.\n",
    "t = True\n",
    "t"
   ]
  },
  {
   "cell_type": "code",
   "execution_count": null,
   "id": "multiple-reggae",
   "metadata": {},
   "outputs": [],
   "source": [
    "# t의 클래스를 확인합니다. t의 클래스는 bool입니다.\n",
    "type(t)"
   ]
  },
  {
   "cell_type": "code",
   "execution_count": null,
   "id": "b6514678",
   "metadata": {},
   "outputs": [],
   "source": [
    "# True는 정수 1, False는 정수 0이므로 진리값을 더하면 True 개수를 반환합니다.\n",
    "# [참고] bool의 속성과 방식은 int와 같습니다.\n",
    "True + False"
   ]
  },
  {
   "cell_type": "markdown",
   "id": "coastal-potter",
   "metadata": {},
   "source": [
    "### 리스트"
   ]
  },
  {
   "cell_type": "code",
   "execution_count": null,
   "id": "important-receiver",
   "metadata": {
    "ExecuteTime": {
     "end_time": "2022-06-12T06:39:00.528353Z",
     "start_time": "2022-06-12T06:39:00.517159Z"
    }
   },
   "outputs": [],
   "source": [
    "# 리스트를 생성하고 출력합니다.\n",
    "# 리스트를 생성할 때 대괄호를 열고 원소를 콤마로 나열합니다.\n",
    "# [참고] 아래 코드는 lst1 = list()를 실행한 결과와 같습니다.\n",
    "lst1 = []\n",
    "lst1"
   ]
  },
  {
   "cell_type": "code",
   "execution_count": null,
   "id": "intense-wallace",
   "metadata": {
    "ExecuteTime": {
     "end_time": "2022-06-12T06:39:00.533431Z",
     "start_time": "2022-06-12T06:39:00.530363Z"
    }
   },
   "outputs": [],
   "source": [
    "# lst1의 클래스를 확인합니다. lst1의 클래스는 list입니다.\n",
    "type(lst1)"
   ]
  },
  {
   "cell_type": "code",
   "execution_count": null,
   "id": "00d8dbf9",
   "metadata": {
    "scrolled": true
   },
   "outputs": [],
   "source": [
    "# lst1의 속성과 방식을 리스트로 반환합니다.\n",
    "[i for i in dir(lst1) if '__' not in i]"
   ]
  },
  {
   "cell_type": "code",
   "execution_count": null,
   "id": "happy-handle",
   "metadata": {
    "ExecuteTime": {
     "end_time": "2022-06-12T06:39:00.548665Z",
     "start_time": "2022-06-12T06:39:00.545514Z"
    }
   },
   "outputs": [],
   "source": [
    "# 리스트는 원소의 입력 순서를 유지하므로 중복을 허용합니다.\n",
    "lst2 = [1, 3, 5, 3]\n",
    "lst2"
   ]
  },
  {
   "cell_type": "code",
   "execution_count": null,
   "id": "e8099c6d",
   "metadata": {
    "ExecuteTime": {
     "end_time": "2022-06-12T06:39:00.543976Z",
     "start_time": "2022-06-12T06:39:00.540721Z"
    }
   },
   "outputs": [],
   "source": [
    "# 리스트의 길이(원소 개수)를 반환합니다.\n",
    "# [참고] len() 함수에 문자열을 지정하면 문자열의 글자수를 반환합니다.\n",
    "len(lst2)"
   ]
  },
  {
   "cell_type": "code",
   "execution_count": null,
   "id": "innocent-hydrogen",
   "metadata": {
    "ExecuteTime": {
     "end_time": "2022-06-12T06:39:00.538238Z",
     "start_time": "2022-06-12T06:39:00.535027Z"
    }
   },
   "outputs": [],
   "source": [
    "# 자료형이 다양한 원소로 리스트를 생성합니다.\n",
    "lst3 = [1, 2.0, '3']\n",
    "lst3"
   ]
  },
  {
   "cell_type": "code",
   "execution_count": null,
   "id": "bc2810ac",
   "metadata": {},
   "outputs": [],
   "source": [
    "# 리스트는 리스트를 원소로 가질 수 있습니다.\n",
    "[lst1, lst2, lst3]"
   ]
  },
  {
   "cell_type": "markdown",
   "id": "living-cornwall",
   "metadata": {},
   "source": [
    "### 리스트 연산자"
   ]
  },
  {
   "cell_type": "code",
   "execution_count": null,
   "id": "systematic-complexity",
   "metadata": {
    "ExecuteTime": {
     "end_time": "2022-06-12T06:39:00.558165Z",
     "start_time": "2022-06-12T06:39:00.555119Z"
    }
   },
   "outputs": [],
   "source": [
    "# + 연산자는 두 리스트를 결합합니다.\n",
    "lst2 + lst3"
   ]
  },
  {
   "cell_type": "code",
   "execution_count": null,
   "id": "accompanied-cross",
   "metadata": {
    "ExecuteTime": {
     "end_time": "2022-06-12T06:39:00.562838Z",
     "start_time": "2022-06-12T06:39:00.559750Z"
    }
   },
   "outputs": [],
   "source": [
    "# * 연산자는 왼쪽 리스트를 오른쪽에 지정한 정수만큼 반복합니다.\n",
    "lst3 * 2"
   ]
  },
  {
   "cell_type": "code",
   "execution_count": null,
   "id": "behind-folks",
   "metadata": {
    "ExecuteTime": {
     "end_time": "2022-06-12T06:39:00.567586Z",
     "start_time": "2022-06-12T06:39:00.564538Z"
    }
   },
   "outputs": [],
   "source": [
    "# 멤버 연산자는 리스트에 원소가 있으면 True, 없으면 False로 반환합니다.\n",
    "1 in lst3"
   ]
  },
  {
   "cell_type": "markdown",
   "id": "cognitive-survey",
   "metadata": {},
   "source": [
    "### 리스트 인덱싱"
   ]
  },
  {
   "cell_type": "code",
   "execution_count": null,
   "id": "naked-interface",
   "metadata": {
    "ExecuteTime": {
     "end_time": "2022-06-12T06:39:00.578380Z",
     "start_time": "2022-06-12T06:39:00.576154Z"
    }
   },
   "outputs": [],
   "source": [
    "# 실습용 리스트를 생성합니다.\n",
    "lst4 = [1, 2, '3', '4', ['가', '나', '다']]"
   ]
  },
  {
   "cell_type": "code",
   "execution_count": null,
   "id": "careful-suffering",
   "metadata": {
    "ExecuteTime": {
     "end_time": "2022-06-12T06:39:00.583058Z",
     "start_time": "2022-06-12T06:39:00.580015Z"
    }
   },
   "outputs": [],
   "source": [
    "# lst4의 0번 인덱스 원소를 본래 자료형인 정수로 반환합니다.\n",
    "lst4[0]"
   ]
  },
  {
   "cell_type": "code",
   "execution_count": null,
   "id": "acute-charter",
   "metadata": {
    "ExecuteTime": {
     "end_time": "2022-06-12T06:39:00.587759Z",
     "start_time": "2022-06-12T06:39:00.584579Z"
    }
   },
   "outputs": [],
   "source": [
    "# lst4의 2번 인덱스 원소를 본래 자료형인 문자열로 반환합니다.\n",
    "lst4[2]"
   ]
  },
  {
   "cell_type": "code",
   "execution_count": null,
   "id": "adjusted-cincinnati",
   "metadata": {
    "ExecuteTime": {
     "end_time": "2022-06-12T06:39:00.592424Z",
     "start_time": "2022-06-12T06:39:00.589381Z"
    }
   },
   "outputs": [],
   "source": [
    "# lst4의 4번 인덱스 원소를 본래 자료형인 리스트로 반환합니다.\n",
    "lst4[4]"
   ]
  },
  {
   "cell_type": "markdown",
   "id": "desperate-television",
   "metadata": {},
   "source": [
    "### 리스트 슬라이싱"
   ]
  },
  {
   "cell_type": "code",
   "execution_count": null,
   "id": "received-cabinet",
   "metadata": {
    "ExecuteTime": {
     "end_time": "2022-06-12T06:39:00.597075Z",
     "start_time": "2022-06-12T06:39:00.593985Z"
    }
   },
   "outputs": [],
   "source": [
    "# lst4의 0~1번 인덱스 원소를 선택하고 리스트로 반환합니다.\n",
    "lst4[0:2]"
   ]
  },
  {
   "cell_type": "code",
   "execution_count": null,
   "id": "brief-symphony",
   "metadata": {
    "ExecuteTime": {
     "end_time": "2022-06-12T06:39:00.601748Z",
     "start_time": "2022-06-12T06:39:00.598731Z"
    }
   },
   "outputs": [],
   "source": [
    "# lst4의 2~3번 인덱스 원소를 선택하고 리스트로 반환합니다.\n",
    "lst4[2:4]"
   ]
  },
  {
   "cell_type": "code",
   "execution_count": null,
   "id": "unable-distinction",
   "metadata": {
    "ExecuteTime": {
     "end_time": "2022-06-12T06:39:00.606213Z",
     "start_time": "2022-06-12T06:39:00.603318Z"
    }
   },
   "outputs": [],
   "source": [
    "# lst4의 0~3번 인덱스 원소를 선택하고 리스트로 반환합니다.\n",
    "lst4[:4]"
   ]
  },
  {
   "cell_type": "code",
   "execution_count": null,
   "id": "elect-apparel",
   "metadata": {
    "ExecuteTime": {
     "end_time": "2022-06-12T06:39:00.610956Z",
     "start_time": "2022-06-12T06:39:00.607883Z"
    }
   },
   "outputs": [],
   "source": [
    "# lst4의 4번~마지막 원소를 선택하고 리스트로 반환합니다.\n",
    "lst4[4:]"
   ]
  },
  {
   "cell_type": "markdown",
   "id": "beneficial-horizontal",
   "metadata": {},
   "source": [
    "### [참고] 리스트 인덱싱 및 슬라이싱 관련 주의사항"
   ]
  },
  {
   "cell_type": "raw",
   "id": "fca0b5b8",
   "metadata": {},
   "source": [
    "# 대괄호 안에 아무것도 지정하지 않으면 에러를 반환합니다.\n",
    "lst4[]"
   ]
  },
  {
   "cell_type": "code",
   "execution_count": null,
   "id": "pointed-investor",
   "metadata": {
    "ExecuteTime": {
     "end_time": "2022-06-12T06:39:00.615449Z",
     "start_time": "2022-06-12T06:39:00.612576Z"
    }
   },
   "outputs": [],
   "source": [
    "# 빈 콜론을 지정하면 리스트의 전체 원소를 리스트로 반환합니다.\n",
    "lst4[:]"
   ]
  },
  {
   "cell_type": "code",
   "execution_count": null,
   "id": "applied-mechanism",
   "metadata": {
    "ExecuteTime": {
     "end_time": "2022-06-12T06:39:00.619987Z",
     "start_time": "2022-06-12T06:39:00.616890Z"
    }
   },
   "outputs": [],
   "source": [
    "# 대괄호 안에 인덱스를 스칼라(길이가 1인 값)로 지정하면 해당 원소를 본래 자료형으로 반환합니다.\n",
    "lst4[0]"
   ]
  },
  {
   "cell_type": "code",
   "execution_count": null,
   "id": "therapeutic-ballet",
   "metadata": {
    "ExecuteTime": {
     "end_time": "2022-06-12T06:39:00.624818Z",
     "start_time": "2022-06-12T06:39:00.621713Z"
    }
   },
   "outputs": [],
   "source": [
    "# 대괄호 안에 콜론을 사용한 슬라이스를 지정하면 항상 리스트로 반환합니다.\n",
    "lst4[0:1]"
   ]
  },
  {
   "cell_type": "raw",
   "id": "7211511b",
   "metadata": {},
   "source": [
    "# 대괄호 안에 리스트를 지정하면 에러를 반환합니다.\n",
    "# [주의] 리스트는 배열 인덱싱을 지원하지 않습니다.\n",
    "lst4[[0, 2]]"
   ]
  },
  {
   "cell_type": "code",
   "execution_count": null,
   "id": "1aca7862",
   "metadata": {
    "ExecuteTime": {
     "end_time": "2022-06-12T06:39:00.633245Z",
     "start_time": "2022-06-12T06:39:00.630113Z"
    }
   },
   "outputs": [],
   "source": [
    "# 위 코드 대신 인덱싱 결과를 리스트로 반환하는 것은 가능합니다.\n",
    "[lst4[0], lst4[2]]"
   ]
  },
  {
   "cell_type": "markdown",
   "id": "funded-haiti",
   "metadata": {},
   "source": [
    "### range() 함수 사용법"
   ]
  },
  {
   "cell_type": "code",
   "execution_count": null,
   "id": "false-occupation",
   "metadata": {
    "ExecuteTime": {
     "end_time": "2022-06-12T06:39:00.637966Z",
     "start_time": "2022-06-12T06:39:00.634967Z"
    }
   },
   "outputs": [],
   "source": [
    "# 0부터 5까지 연속된 정수를 lst5에 할당합니다.\n",
    "lst5 = range(6)\n",
    "lst5"
   ]
  },
  {
   "cell_type": "code",
   "execution_count": null,
   "id": "retained-creation",
   "metadata": {
    "ExecuteTime": {
     "end_time": "2022-06-12T06:39:00.642571Z",
     "start_time": "2022-06-12T06:39:00.639611Z"
    }
   },
   "outputs": [],
   "source": [
    "# lst5의 클래스를 확인합니다. lst5의 클래스는 range입니다.\n",
    "type(lst5)"
   ]
  },
  {
   "cell_type": "code",
   "execution_count": null,
   "id": "institutional-leadership",
   "metadata": {
    "ExecuteTime": {
     "end_time": "2022-06-12T06:39:00.647521Z",
     "start_time": "2022-06-12T06:39:00.644260Z"
    }
   },
   "outputs": [],
   "source": [
    "# lst5를 리스트로 변환하여 lst5에 재할당합니다.\n",
    "lst5 = list(lst5)\n",
    "lst5"
   ]
  },
  {
   "cell_type": "code",
   "execution_count": null,
   "id": "5e22382a",
   "metadata": {
    "ExecuteTime": {
     "end_time": "2022-06-12T06:39:00.652194Z",
     "start_time": "2022-06-12T06:39:00.649262Z"
    }
   },
   "outputs": [],
   "source": [
    "# lst5의 클래스를 확인합니다. lst5의 클래스는 list입니다.\n",
    "type(lst5)"
   ]
  },
  {
   "cell_type": "code",
   "execution_count": null,
   "id": "tough-accounting",
   "metadata": {
    "ExecuteTime": {
     "end_time": "2022-06-12T06:39:00.657143Z",
     "start_time": "2022-06-12T06:39:00.653799Z"
    }
   },
   "outputs": [],
   "source": [
    "# 0이 아닌 정수로 시작하려면 range() 함수에 시작과 끝+1 인덱스를 지정합니다.\n",
    "list(range(1, 6))"
   ]
  },
  {
   "cell_type": "code",
   "execution_count": null,
   "id": "chief-herald",
   "metadata": {
    "ExecuteTime": {
     "end_time": "2022-06-12T06:39:00.661927Z",
     "start_time": "2022-06-12T06:39:00.658766Z"
    }
   },
   "outputs": [],
   "source": [
    "# 간격을 설정하려면 range() 함수에 시작, 끝+1 인덱스와 간격을 지정합니다.\n",
    "list(range(1, 11, 2))"
   ]
  },
  {
   "cell_type": "markdown",
   "id": "chronic-remove",
   "metadata": {},
   "source": [
    "### 이중 콜론 연산자"
   ]
  },
  {
   "cell_type": "code",
   "execution_count": null,
   "id": "brown-reservoir",
   "metadata": {
    "ExecuteTime": {
     "end_time": "2022-06-12T06:39:00.671621Z",
     "start_time": "2022-06-12T06:39:00.668519Z"
    }
   },
   "outputs": [],
   "source": [
    "# 1~3번 인덱스 원소에서 두 칸 간격으로 원소를 선택하고 리스트로 반환합니다.\n",
    "lst5[1:4:2]"
   ]
  },
  {
   "cell_type": "code",
   "execution_count": null,
   "id": "cooperative-inventory",
   "metadata": {
    "ExecuteTime": {
     "end_time": "2022-06-12T06:39:00.676350Z",
     "start_time": "2022-06-12T06:39:00.673272Z"
    }
   },
   "outputs": [],
   "source": [
    "# 0~3번 인덱스 원소에서 두 칸 간격으로 원소를 선택하고 리스트로 반환합니다.\n",
    "lst5[:4:2]"
   ]
  },
  {
   "cell_type": "code",
   "execution_count": null,
   "id": "northern-final",
   "metadata": {
    "ExecuteTime": {
     "end_time": "2022-06-12T06:39:00.681063Z",
     "start_time": "2022-06-12T06:39:00.678002Z"
    }
   },
   "outputs": [],
   "source": [
    "# 1번부터 마지막 원소까지 두 칸 간격으로 원소를 선택하고 리스트로 반환합니다.\n",
    "lst5[1::2]"
   ]
  },
  {
   "cell_type": "code",
   "execution_count": null,
   "id": "acknowledged-arthritis",
   "metadata": {
    "ExecuteTime": {
     "end_time": "2022-06-12T06:39:00.685866Z",
     "start_time": "2022-06-12T06:39:00.682736Z"
    }
   },
   "outputs": [],
   "source": [
    "# 처음부터 마지막 원소까지 두 칸 간격으로 원소를 선택하고 리스트로 반환합니다.\n",
    "lst5[::2]"
   ]
  },
  {
   "cell_type": "code",
   "execution_count": null,
   "id": "municipal-yellow",
   "metadata": {
    "ExecuteTime": {
     "end_time": "2022-06-12T06:39:00.690642Z",
     "start_time": "2022-06-12T06:39:00.687446Z"
    }
   },
   "outputs": [],
   "source": [
    "# 전체 원소를 역순으로 반환합니다. [주의] 내림차순 정렬이 아닙니다.\n",
    "lst5[::-1]"
   ]
  },
  {
   "cell_type": "markdown",
   "id": "expressed-inflation",
   "metadata": {},
   "source": [
    "### 리스트 원소 추가"
   ]
  },
  {
   "cell_type": "code",
   "execution_count": null,
   "id": "simplified-artwork",
   "metadata": {
    "ExecuteTime": {
     "end_time": "2022-06-12T06:39:00.695428Z",
     "start_time": "2022-06-12T06:39:00.692204Z"
    }
   },
   "outputs": [],
   "source": [
    "# lst5의 마지막 원소로 정수 6을 추가합니다.\n",
    "# [참고] append() 함수는 실행 결과를 리스트에 업데이트하므로 재할당하지 않습니다.\n",
    "lst5.append(6)\n",
    "lst5"
   ]
  },
  {
   "cell_type": "raw",
   "id": "7bcd99f6",
   "metadata": {},
   "source": [
    "# [주의] lst5의 마지막 원소로 정수 7과 8을 추가하려고 하면 에러를 반환합니다.\n",
    "lst5.append(7, 8)"
   ]
  },
  {
   "cell_type": "code",
   "execution_count": null,
   "id": "canadian-anniversary",
   "metadata": {
    "ExecuteTime": {
     "end_time": "2022-06-12T06:39:00.700160Z",
     "start_time": "2022-06-12T06:39:00.697094Z"
    }
   },
   "outputs": [],
   "source": [
    "# lst5의 마지막 원소로 리스트 [7, 8]을 추가합니다.\n",
    "lst5.append([7, 8])\n",
    "lst5"
   ]
  },
  {
   "cell_type": "code",
   "execution_count": null,
   "id": "intended-thanksgiving",
   "metadata": {
    "ExecuteTime": {
     "end_time": "2022-06-12T06:39:00.705067Z",
     "start_time": "2022-06-12T06:39:00.701718Z"
    }
   },
   "outputs": [],
   "source": [
    "# lst5의 마지막 원소로 정수 7과 8을 추가합니다.\n",
    "# [참고] extend() 함수도 실행 결과를 리스트에 업데이트합니다.\n",
    "lst5.extend([7, 8])\n",
    "lst5"
   ]
  },
  {
   "cell_type": "code",
   "execution_count": null,
   "id": "failing-reliance",
   "metadata": {
    "ExecuteTime": {
     "end_time": "2022-06-12T06:39:00.710121Z",
     "start_time": "2022-06-12T06:39:00.706823Z"
    }
   },
   "outputs": [],
   "source": [
    "# lst5의 1번 인덱스에 리스트 [7, 8]을 삽입합니다.\n",
    "# [참고] insert() 함수도 실행 결과를 리스트에 업데이트합니다.\n",
    "lst5.insert(1, [7, 8])\n",
    "lst5"
   ]
  },
  {
   "cell_type": "markdown",
   "id": "288e3e4d",
   "metadata": {},
   "source": [
    "### 리스트 원소 삭제"
   ]
  },
  {
   "cell_type": "code",
   "execution_count": null,
   "id": "filled-tracker",
   "metadata": {
    "ExecuteTime": {
     "end_time": "2022-06-12T06:39:00.715131Z",
     "start_time": "2022-06-12T06:39:00.711713Z"
    }
   },
   "outputs": [],
   "source": [
    "# lst5에서 원소 [7, 8]을 삭제합니다.\n",
    "# [참고] remove() 함수도 실행 결과를 리스트에 업데이트합니다.\n",
    "lst5.remove([7, 8])\n",
    "lst5"
   ]
  },
  {
   "cell_type": "code",
   "execution_count": null,
   "id": "34cbac59",
   "metadata": {
    "ExecuteTime": {
     "end_time": "2022-06-12T06:39:00.719752Z",
     "start_time": "2022-06-12T06:39:00.716678Z"
    }
   },
   "outputs": [],
   "source": [
    "# lst5에서 원소 [7, 8]을 한 번 더 삭제합니다.\n",
    "lst5.remove([7, 8])\n",
    "lst5"
   ]
  },
  {
   "cell_type": "raw",
   "id": "0c003ed8",
   "metadata": {},
   "source": [
    "# lst5에 원소 [7, 8]이 없으므로 에러를 반환합니다.\n",
    "# [참고] remove() 함수는 리스트에 없는 원소를 지정하면 에러를 반환합니다.\n",
    "lst5.remove([7, 8])"
   ]
  },
  {
   "cell_type": "code",
   "execution_count": null,
   "id": "given-animation",
   "metadata": {
    "ExecuteTime": {
     "end_time": "2022-06-12T06:39:00.724594Z",
     "start_time": "2022-06-12T06:39:00.721351Z"
    }
   },
   "outputs": [],
   "source": [
    "# lst5의 6번 인덱스 원소를 출력하고 해당 원소를 삭제합니다.\n",
    "# [참고] pop() 함수도 실행 결과를 리스트에 업데이트합니다.\n",
    "lst5.pop(6)\n",
    "lst5"
   ]
  },
  {
   "cell_type": "code",
   "execution_count": null,
   "id": "9bfda07e",
   "metadata": {
    "ExecuteTime": {
     "end_time": "2022-06-12T06:39:00.729197Z",
     "start_time": "2022-06-12T06:39:00.726156Z"
    }
   },
   "outputs": [],
   "source": [
    "# lst5의 마지막 원소를 출력하고 해당 원소를 삭제합니다.\n",
    "# [참고] pop() 함수의 괄호 안에 인덱스를 생략하면 마지막 원소를 제거합니다.\n",
    "lst5.pop()\n",
    "lst5"
   ]
  },
  {
   "cell_type": "markdown",
   "id": "numerous-boundary",
   "metadata": {},
   "source": [
    "### 리스트 원소 변경"
   ]
  },
  {
   "cell_type": "code",
   "execution_count": null,
   "id": "dangerous-clarity",
   "metadata": {
    "ExecuteTime": {
     "end_time": "2022-06-12T06:39:00.734095Z",
     "start_time": "2022-06-12T06:39:00.730874Z"
    }
   },
   "outputs": [],
   "source": [
    "# lst5의 1번 인덱스 원소를 정수 6으로 변경합니다.\n",
    "# [참고] 리스트의 인덱싱 결과에 스칼라를 할당하면 1:1로 원소를 변경합니다.\n",
    "lst5[1] = 6\n",
    "lst5"
   ]
  },
  {
   "cell_type": "code",
   "execution_count": null,
   "id": "laughing-bradford",
   "metadata": {
    "ExecuteTime": {
     "end_time": "2022-06-12T06:39:00.743699Z",
     "start_time": "2022-06-12T06:39:00.740435Z"
    }
   },
   "outputs": [],
   "source": [
    "# lst5의 2번 인덱스 원소를 리스트 [1, 2]로 변경합니다.\n",
    "# [참고] 스칼라 대신 반복 가능한 객체를 할당해도 1:1로 원소를 변경합니다.\n",
    "lst5[2] = [1, 2]\n",
    "lst5"
   ]
  },
  {
   "cell_type": "code",
   "execution_count": null,
   "id": "original-fitness",
   "metadata": {
    "ExecuteTime": {
     "end_time": "2022-06-12T06:39:00.738894Z",
     "start_time": "2022-06-12T06:39:00.735687Z"
    }
   },
   "outputs": [],
   "source": [
    "# lst5의 3~4번 인덱스 원소(리스트)를 리스트 [1, 2]의 원소로 변경합니다.\n",
    "# [참고] 리스트의 슬라이싱 결과(원소가 m개인 리스트)에 원소가 n개인 리스트를\n",
    "# 할당하면 m:n으로 원소를 변경합니다.\n",
    "lst5[3:5] = [1, 2]\n",
    "lst5"
   ]
  },
  {
   "cell_type": "code",
   "execution_count": null,
   "id": "74cdd049",
   "metadata": {},
   "outputs": [],
   "source": [
    "# lst5의 2번 인덱스 원소(리스트)를 리스트 [3, 4]의 원소로 변경합니다.\n",
    "lst5[2:3] = [3, 4]\n",
    "lst5"
   ]
  },
  {
   "cell_type": "raw",
   "id": "a30e6735",
   "metadata": {},
   "source": [
    "# lst5의 4번 인덱스 원소(리스트)를 정수 1로 변경하려고 하면 에러를 반환합니다. \n",
    "# [주의] 슬라이싱 결과인 리스트에 스칼라를 할당하면 에러를 반환합니다.\n",
    "lst5[4:5] = 1"
   ]
  },
  {
   "cell_type": "markdown",
   "id": "soviet-highland",
   "metadata": {},
   "source": [
    "### 리스트 원소 정렬"
   ]
  },
  {
   "cell_type": "code",
   "execution_count": null,
   "id": "ae61da51",
   "metadata": {},
   "outputs": [],
   "source": [
    "# lst5의 원소를 오름차순 정렬합니다.\n",
    "# [참고] sort() 함수도 실행 결과를 리스트에 업데이트합니다.\n",
    "# [참고] reverse 매개변수에 True를 지정하면 원소를 내림차순 정렬합니다.(기본값: False)\n",
    "lst5.sort()\n",
    "lst5"
   ]
  },
  {
   "cell_type": "raw",
   "id": "da98c6ff",
   "metadata": {
    "ExecuteTime": {
     "end_time": "2022-06-12T06:39:00.772598Z",
     "start_time": "2022-06-12T06:39:00.769525Z"
    }
   },
   "source": [
    "# lst3의 원소를 오름차순 정렬하려고 하면 에러를 반환합니다.\n",
    "# [주의] 리스트 원소의 자료형이 다르면 원소를 정렬할 수 없으므로 에러를 반환합니다.\n",
    "lst3.sort()"
   ]
  },
  {
   "cell_type": "code",
   "execution_count": null,
   "id": "4a9fdd3e",
   "metadata": {},
   "outputs": [],
   "source": [
    "# lst2의 원소를 오름차순 정렬한 결과를 출력합니다.\n",
    "# sorted() 함수는 실행 결과를 반환하며 리스트에 업데이트하지 않습니다.\n",
    "# [주의] sorted() 함수도 자료형이 섞인 리스트를 지정하면 에러를 반환합니다.\n",
    "sorted(lst2)"
   ]
  },
  {
   "cell_type": "markdown",
   "id": "joined-platform",
   "metadata": {},
   "source": [
    "### 튜플"
   ]
  },
  {
   "cell_type": "code",
   "execution_count": null,
   "id": "internal-lease",
   "metadata": {
    "ExecuteTime": {
     "end_time": "2022-06-12T06:39:00.786974Z",
     "start_time": "2022-06-12T06:39:00.783761Z"
    }
   },
   "outputs": [],
   "source": [
    "# 튜플을 생성하고 출력합니다.\n",
    "# 튜플을 생성할 때 소괄호 안에 원소를 콤마로 나열합니다.\n",
    "# [참고] 원소를 소괄호로 묶지 않아도 튜플로 자동 패킹합니다.\n",
    "tup = (1, 2.0, '3')\n",
    "tup"
   ]
  },
  {
   "cell_type": "code",
   "execution_count": null,
   "id": "unlike-bracelet",
   "metadata": {
    "ExecuteTime": {
     "end_time": "2022-06-12T06:39:00.791441Z",
     "start_time": "2022-06-12T06:39:00.788517Z"
    }
   },
   "outputs": [],
   "source": [
    "# tup의 클래스를 확인합니다. tup의 클래스는 tuple입니다.\n",
    "type(tup)"
   ]
  },
  {
   "cell_type": "code",
   "execution_count": null,
   "id": "ec13e160",
   "metadata": {
    "scrolled": true
   },
   "outputs": [],
   "source": [
    "# tuple의 속성과 방식을 리스트로 반환합니다.\n",
    "# [참고] 튜플에 원소를 추가하거나 삭제하는 방식이 없습니다.\n",
    "[i for i in dir(tup) if '__' not in i]"
   ]
  },
  {
   "cell_type": "raw",
   "id": "17784f04",
   "metadata": {},
   "source": [
    "# 튜플에 원소를 할당할 수 없으므로 에러를 반환합니다.\n",
    "tup[2] = 3"
   ]
  },
  {
   "cell_type": "code",
   "execution_count": null,
   "id": "insured-criminal",
   "metadata": {
    "ExecuteTime": {
     "end_time": "2022-06-12T06:39:00.795997Z",
     "start_time": "2022-06-12T06:39:00.793017Z"
    }
   },
   "outputs": [],
   "source": [
    "# tuple() 클래스 함수는 리스트를 튜플로 변환합니다.\n",
    "tuple(lst3)"
   ]
  },
  {
   "cell_type": "code",
   "execution_count": null,
   "id": "842ab841",
   "metadata": {
    "ExecuteTime": {
     "end_time": "2022-06-12T06:39:00.800283Z",
     "start_time": "2022-06-12T06:39:00.797647Z"
    }
   },
   "outputs": [],
   "source": [
    "# list() 클래스 함수는 튜플을 리스트로 변환합니다.\n",
    "list(tup)"
   ]
  },
  {
   "cell_type": "markdown",
   "id": "varying-northern",
   "metadata": {},
   "source": [
    "### 딕셔너리"
   ]
  },
  {
   "cell_type": "code",
   "execution_count": null,
   "id": "protected-unknown",
   "metadata": {
    "ExecuteTime": {
     "end_time": "2022-06-12T06:39:00.805083Z",
     "start_time": "2022-06-12T06:39:00.801784Z"
    }
   },
   "outputs": [],
   "source": [
    "# 딕셔너리를 생성하고 출력합니다.\n",
    "# 딕셔너리를 생성할 때 중괄호 안에 'key': value를 콤마로 연결합니다.\n",
    "dct = {'item': 'pants', 'size': ['S', 'M']}\n",
    "dct"
   ]
  },
  {
   "cell_type": "code",
   "execution_count": null,
   "id": "three-classics",
   "metadata": {
    "ExecuteTime": {
     "end_time": "2022-06-12T06:39:00.809436Z",
     "start_time": "2022-06-12T06:39:00.806718Z"
    }
   },
   "outputs": [],
   "source": [
    "# dct의 클래스를 확인합니다. dct의 클래스는 dict입니다.\n",
    "type(dct)"
   ]
  },
  {
   "cell_type": "code",
   "execution_count": null,
   "id": "b3035f1a",
   "metadata": {
    "scrolled": true
   },
   "outputs": [],
   "source": [
    "# dict의 속성과 방식을 리스트로 반환합니다.\n",
    "[i for i in dir(dct) if '__' not in i]"
   ]
  },
  {
   "cell_type": "markdown",
   "id": "137e7ae5",
   "metadata": {},
   "source": [
    "### [참고] dict() 클래스 함수 사용법"
   ]
  },
  {
   "cell_type": "code",
   "execution_count": null,
   "id": "further-elimination",
   "metadata": {
    "ExecuteTime": {
     "end_time": "2022-06-12T06:39:00.818896Z",
     "start_time": "2022-06-12T06:39:00.815952Z"
    }
   },
   "outputs": [],
   "source": [
    "# dict() 클래스 함수는 키를 따옴표로 감싸지 않고 콜론 대신 등호를 사용합니다.\n",
    "# [참고] 시각화 함수에 딕셔너리를 지정할 때 dict() 함수를 자주 사용합니다.\n",
    "dict(item = 'pants', size = ['S', 'M'])"
   ]
  },
  {
   "cell_type": "raw",
   "id": "71541132",
   "metadata": {},
   "source": [
    "# [주의] 키를 따옴표로 감싸면 에러를 반환합니다.\n",
    "dict('item' = 'pants', 'size' = ['S', 'M'])"
   ]
  },
  {
   "cell_type": "raw",
   "id": "66588036",
   "metadata": {},
   "source": [
    "# [주의] 등호 대신 콜론을 사용하면 에러를 반환합니다.\n",
    "dict(item: 'pants', size: ['S', 'M'])"
   ]
  },
  {
   "cell_type": "code",
   "execution_count": null,
   "id": "31720b1f",
   "metadata": {
    "ExecuteTime": {
     "end_time": "2022-06-12T06:39:00.824286Z",
     "start_time": "2022-06-12T06:39:00.820768Z"
    }
   },
   "outputs": [],
   "source": [
    "# 빈 딕셔너리를 생성합니다.\n",
    "# [참고] 원소 없는 중괄호도 빈 딕셔너리를 생성합니다.\n",
    "dict()"
   ]
  },
  {
   "cell_type": "markdown",
   "id": "strategic-flood",
   "metadata": {},
   "source": [
    "### 딕셔너리 연산자와 인덱싱"
   ]
  },
  {
   "cell_type": "code",
   "execution_count": null,
   "id": "bd6f1aff",
   "metadata": {},
   "outputs": [],
   "source": [
    "# 딕셔너리의 키를 반환합니다.\n",
    "dct.keys()"
   ]
  },
  {
   "cell_type": "code",
   "execution_count": null,
   "id": "forced-ebony",
   "metadata": {
    "ExecuteTime": {
     "end_time": "2022-06-12T06:39:00.829659Z",
     "start_time": "2022-06-12T06:39:00.826001Z"
    }
   },
   "outputs": [],
   "source": [
    "# 멤버 연산자는 딕셔너리에 키가 있으면 True, 없으면 False를 반환합니다.\n",
    "'item' in dct"
   ]
  },
  {
   "cell_type": "code",
   "execution_count": null,
   "id": "elegant-patent",
   "metadata": {
    "ExecuteTime": {
     "end_time": "2022-06-12T06:39:00.842285Z",
     "start_time": "2022-06-12T06:39:00.839114Z"
    }
   },
   "outputs": [],
   "source": [
    "# 딕셔너리는 인덱스가 없으므로 대괄호 안에 인덱스 대신 키를 지정합니다.\n",
    "dct['item']"
   ]
  },
  {
   "cell_type": "markdown",
   "id": "armed-african",
   "metadata": {},
   "source": [
    "### 딕셔너리 원소 추가, 삭제 또는 변경"
   ]
  },
  {
   "cell_type": "code",
   "execution_count": null,
   "id": "julian-ocean",
   "metadata": {
    "ExecuteTime": {
     "end_time": "2022-06-12T06:39:00.852670Z",
     "start_time": "2022-06-12T06:39:00.849270Z"
    }
   },
   "outputs": [],
   "source": [
    "# dct에 키가 'shop', 값이 'A1'인 원소를 추가합니다.\n",
    "dct['shop'] = 'A1'\n",
    "dct"
   ]
  },
  {
   "cell_type": "code",
   "execution_count": null,
   "id": "amateur-insulin",
   "metadata": {
    "ExecuteTime": {
     "end_time": "2022-06-12T06:39:00.857295Z",
     "start_time": "2022-06-12T06:39:00.854349Z"
    }
   },
   "outputs": [],
   "source": [
    "# dct에서 키가 'item'인 원소를 삭제합니다.\n",
    "del dct['item']\n",
    "dct"
   ]
  },
  {
   "cell_type": "code",
   "execution_count": null,
   "id": "sapphire-plaza",
   "metadata": {
    "ExecuteTime": {
     "end_time": "2022-06-12T06:39:00.862039Z",
     "start_time": "2022-06-12T06:39:00.858764Z"
    }
   },
   "outputs": [],
   "source": [
    "# dct에서 키가 'shop'인 값을 'A2'로 변경합니다.\n",
    "dct['shop'] = 'A2'\n",
    "dct"
   ]
  },
  {
   "cell_type": "markdown",
   "id": "manual-estate",
   "metadata": {},
   "source": [
    "### [참고] 딕셔너리 키와 값 반환"
   ]
  },
  {
   "cell_type": "code",
   "execution_count": null,
   "id": "f62bda56",
   "metadata": {
    "ExecuteTime": {
     "end_time": "2022-06-12T06:39:00.875613Z",
     "start_time": "2022-06-12T06:39:00.872634Z"
    }
   },
   "outputs": [],
   "source": [
    "# items() 함수는 딕셔너리의 키와 값의 쌍을 튜플로 묶어서 반환합니다.\n",
    "dct.items()"
   ]
  },
  {
   "cell_type": "code",
   "execution_count": null,
   "id": "f5f7f928",
   "metadata": {
    "ExecuteTime": {
     "end_time": "2022-06-12T06:39:00.879879Z",
     "start_time": "2022-06-12T06:39:00.877125Z"
    }
   },
   "outputs": [],
   "source": [
    "# 반복문으로 딕셔너리의 키와 값을 차례대로 출력합니다.\n",
    "for item in dct.items():\n",
    "    print(item)"
   ]
  },
  {
   "cell_type": "markdown",
   "id": "electronic-henry",
   "metadata": {},
   "source": [
    "### 집합"
   ]
  },
  {
   "cell_type": "code",
   "execution_count": null,
   "id": "martial-compact",
   "metadata": {
    "ExecuteTime": {
     "end_time": "2022-06-12T06:39:00.884719Z",
     "start_time": "2022-06-12T06:39:00.881502Z"
    }
   },
   "outputs": [],
   "source": [
    "# 집합을 생성하고 출력합니다.\n",
    "# 집합을 생성할 때 중괄호 안에 원소를 콤마로 나열하면 중복 원소를 제거하고 \n",
    "# 오름차순으로 자동 정렬합니다.\n",
    "set1 = {3, 1, 2, 1}\n",
    "set1"
   ]
  },
  {
   "cell_type": "code",
   "execution_count": null,
   "id": "plastic-honduras",
   "metadata": {
    "ExecuteTime": {
     "end_time": "2022-06-12T06:39:00.889136Z",
     "start_time": "2022-06-12T06:39:00.886267Z"
    }
   },
   "outputs": [],
   "source": [
    "# set1의 클래스를 확인합니다. set1의 클래스는 set입니다.\n",
    "type(set1)"
   ]
  },
  {
   "cell_type": "code",
   "execution_count": null,
   "id": "55f83a5c",
   "metadata": {
    "scrolled": true
   },
   "outputs": [],
   "source": [
    "# set의 속성과 방식을 리스트로 반환합니다.\n",
    "[i for i in dir(set1) if '__' not in i]"
   ]
  },
  {
   "cell_type": "raw",
   "id": "dc879bf4",
   "metadata": {},
   "source": [
    "# 집합에 인덱스가 없으므로 인덱싱할 수 없습니다.\n",
    "# [참고] 집합을 인덱스로 변환하면 인덱싱할 수 있습니다.\n",
    "set1[0]"
   ]
  },
  {
   "cell_type": "code",
   "execution_count": null,
   "id": "satisfactory-gossip",
   "metadata": {
    "ExecuteTime": {
     "end_time": "2022-06-12T06:39:00.893774Z",
     "start_time": "2022-06-12T06:39:00.890726Z"
    }
   },
   "outputs": [],
   "source": [
    "# set() 클래스 함수는 리스트를 집합으로 변환합니다.\n",
    "set2 = set(lst2)\n",
    "set2"
   ]
  },
  {
   "cell_type": "code",
   "execution_count": null,
   "id": "0662875d",
   "metadata": {
    "ExecuteTime": {
     "end_time": "2022-06-12T06:39:00.898219Z",
     "start_time": "2022-06-12T06:39:00.895359Z"
    }
   },
   "outputs": [],
   "source": [
    "# list() 클래스 함수는 집합을 리스트로 변환합니다.\n",
    "list(set1)"
   ]
  },
  {
   "cell_type": "markdown",
   "id": "2b27ba9c",
   "metadata": {},
   "source": [
    "### 집합 연산자"
   ]
  },
  {
   "cell_type": "code",
   "execution_count": null,
   "id": "d8d385b4",
   "metadata": {
    "ExecuteTime": {
     "end_time": "2022-06-12T06:39:00.902712Z",
     "start_time": "2022-06-12T06:39:00.899857Z"
    }
   },
   "outputs": [],
   "source": [
    "# & 연산자는 두 집합의 교집합을 반환합니다.\n",
    "set1 & set2"
   ]
  },
  {
   "cell_type": "code",
   "execution_count": null,
   "id": "1b78539c",
   "metadata": {
    "ExecuteTime": {
     "end_time": "2022-06-12T06:39:00.907280Z",
     "start_time": "2022-06-12T06:39:00.904268Z"
    }
   },
   "outputs": [],
   "source": [
    "# | 연산자는 두 집합의 합집합을 반환합니다.\n",
    "set1 | set2"
   ]
  },
  {
   "cell_type": "code",
   "execution_count": null,
   "id": "badcb0a6",
   "metadata": {
    "ExecuteTime": {
     "end_time": "2022-06-12T06:39:00.911704Z",
     "start_time": "2022-06-12T06:39:00.908892Z"
    }
   },
   "outputs": [],
   "source": [
    "# - 연산자는 두 집합의 차집합을 반환합니다.\n",
    "# [참고] 집합 객체를 지정하는 순서에 따라 결과가 달라집니다.\n",
    "set1 - set2"
   ]
  },
  {
   "cell_type": "markdown",
   "id": "0bdbd753",
   "metadata": {},
   "source": [
    "### [참고] 집합 원소 생성 기준"
   ]
  },
  {
   "cell_type": "code",
   "execution_count": null,
   "id": "559bde30",
   "metadata": {
    "ExecuteTime": {
     "end_time": "2022-06-12T06:39:00.916273Z",
     "start_time": "2022-06-12T06:39:00.913257Z"
    }
   },
   "outputs": [],
   "source": [
    "# 정수와 실수는 앞선 자료형을 적용합니다.\n",
    "{1, 1.0, 2.0, 2}"
   ]
  },
  {
   "cell_type": "code",
   "execution_count": null,
   "id": "f56631fc",
   "metadata": {
    "ExecuteTime": {
     "end_time": "2022-06-12T06:39:00.920927Z",
     "start_time": "2022-06-12T06:39:00.917885Z"
    }
   },
   "outputs": [],
   "source": [
    "# 문자열은 정수/실수와 별개로 존재합니다.\n",
    "{1, '1'}"
   ]
  },
  {
   "cell_type": "code",
   "execution_count": null,
   "id": "7c7f55a2",
   "metadata": {
    "ExecuteTime": {
     "end_time": "2022-06-12T06:39:00.925257Z",
     "start_time": "2022-06-12T06:39:00.922443Z"
    }
   },
   "outputs": [],
   "source": [
    "# 정수, 문자열, 실수 순으로 정렬합니다.\n",
    "{1.0, 1, '1'}"
   ]
  },
  {
   "cell_type": "code",
   "execution_count": null,
   "id": "99b2ef1f",
   "metadata": {
    "ExecuteTime": {
     "end_time": "2022-06-12T06:39:00.929621Z",
     "start_time": "2022-06-12T06:39:00.926889Z"
    }
   },
   "outputs": [],
   "source": [
    "# 교집합은 오른쪽 집합의 자료형을 따릅니다.\n",
    "{1} & {1.0}"
   ]
  },
  {
   "cell_type": "code",
   "execution_count": null,
   "id": "d962fad3",
   "metadata": {
    "ExecuteTime": {
     "end_time": "2022-06-12T06:39:00.933904Z",
     "start_time": "2022-06-12T06:39:00.931198Z"
    }
   },
   "outputs": [],
   "source": [
    "# 교집합은 왼쪽 집합의 자료형을 따릅니다.\n",
    "{1} | {1.0}"
   ]
  },
  {
   "cell_type": "code",
   "execution_count": null,
   "id": "6fe187c0",
   "metadata": {
    "ExecuteTime": {
     "end_time": "2022-06-12T06:39:00.938319Z",
     "start_time": "2022-06-12T06:39:00.935375Z"
    }
   },
   "outputs": [],
   "source": [
    "# 차집합은 왼쪽 집합의 자료형을 따릅니다.\n",
    "{1, 2} - {1.0}"
   ]
  },
  {
   "cell_type": "markdown",
   "id": "alive-supply",
   "metadata": {},
   "source": [
    "## End of Document"
   ]
  }
 ],
 "metadata": {
  "kernelspec": {
   "display_name": "Python 3",
   "language": "python",
   "name": "python3"
  },
  "language_info": {
   "codemirror_mode": {
    "name": "ipython",
    "version": 3
   },
   "file_extension": ".py",
   "mimetype": "text/x-python",
   "name": "python",
   "nbconvert_exporter": "python",
   "pygments_lexer": "ipython3",
   "version": "3.11.1"
  },
  "toc": {
   "base_numbering": 1,
   "nav_menu": {},
   "number_sections": false,
   "sideBar": true,
   "skip_h1_title": false,
   "title_cell": "Table of Contents",
   "title_sidebar": "Contents",
   "toc_cell": false,
   "toc_position": {},
   "toc_section_display": true,
   "toc_window_display": false
  },
  "varInspector": {
   "cols": {
    "lenName": 16,
    "lenType": 16,
    "lenVar": 40
   },
   "kernels_config": {
    "python": {
     "delete_cmd_postfix": "",
     "delete_cmd_prefix": "del ",
     "library": "var_list.py",
     "varRefreshCmd": "print(var_dic_list())"
    },
    "r": {
     "delete_cmd_postfix": ") ",
     "delete_cmd_prefix": "rm(",
     "library": "var_list.r",
     "varRefreshCmd": "cat(var_dic_list()) "
    }
   },
   "position": {
    "height": "299.844px",
    "left": "687.859px",
    "right": "20px",
    "top": "90px",
    "width": "325px"
   },
   "types_to_exclude": [
    "module",
    "function",
    "builtin_function_or_method",
    "instance",
    "_Feature"
   ],
   "window_display": false
  }
 },
 "nbformat": 4,
 "nbformat_minor": 5
}

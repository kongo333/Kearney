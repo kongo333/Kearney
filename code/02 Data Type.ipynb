{
 "cells": [
  {
   "cell_type": "markdown",
   "id": "96237ba2",
   "metadata": {},
   "source": [
    "# Python 자료형"
   ]
  },
  {
   "cell_type": "markdown",
   "id": "worse-origin",
   "metadata": {},
   "source": [
    "### 수: 정수, 실수"
   ]
  },
  {
   "cell_type": "code",
   "execution_count": null,
   "id": "unlike-vegetation",
   "metadata": {},
   "outputs": [],
   "source": [
    "# a에 정수 3을 할당합니다.\n",
    "a = 3"
   ]
  },
  {
   "cell_type": "code",
   "execution_count": null,
   "id": "designing-diabetes",
   "metadata": {},
   "outputs": [],
   "source": [
    "# a를 출력합니다.\n",
    "a"
   ]
  },
  {
   "cell_type": "code",
   "execution_count": null,
   "id": "convenient-counter",
   "metadata": {},
   "outputs": [],
   "source": [
    "# a의 클래스를 확인합니다.\n",
    "type(a)"
   ]
  },
  {
   "cell_type": "code",
   "execution_count": null,
   "id": "adjacent-superintendent",
   "metadata": {},
   "outputs": [],
   "source": [
    "# b에 실수 3.0을 할당합니다.\n",
    "b = 3.0"
   ]
  },
  {
   "cell_type": "code",
   "execution_count": null,
   "id": "posted-intention",
   "metadata": {},
   "outputs": [],
   "source": [
    "# b를 출력합니다.\n",
    "b"
   ]
  },
  {
   "cell_type": "code",
   "execution_count": null,
   "id": "received-commerce",
   "metadata": {},
   "outputs": [],
   "source": [
    "# b의 클래스를 확인합니다.\n",
    "type(b)"
   ]
  },
  {
   "cell_type": "markdown",
   "id": "sustainable-paint",
   "metadata": {},
   "source": [
    "### 산술 연산자"
   ]
  },
  {
   "cell_type": "code",
   "execution_count": null,
   "id": "proper-xerox",
   "metadata": {},
   "outputs": [],
   "source": [
    "# a와 b를 더합니다.\n",
    "a + b"
   ]
  },
  {
   "cell_type": "code",
   "execution_count": null,
   "id": "supported-balance",
   "metadata": {},
   "outputs": [],
   "source": [
    "# a에서 b를 뺍니다.\n",
    "a - b"
   ]
  },
  {
   "cell_type": "code",
   "execution_count": null,
   "id": "gothic-organization",
   "metadata": {},
   "outputs": [],
   "source": [
    "# a와 b를 곱합니다.\n",
    "a * b"
   ]
  },
  {
   "cell_type": "code",
   "execution_count": null,
   "id": "sought-terrace",
   "metadata": {},
   "outputs": [],
   "source": [
    "# a를 b로 거듭제곱합니다.\n",
    "a ** b"
   ]
  },
  {
   "cell_type": "code",
   "execution_count": null,
   "id": "funky-entry",
   "metadata": {},
   "outputs": [],
   "source": [
    "# a를 b로 나눕니다.\n",
    "a / b"
   ]
  },
  {
   "cell_type": "code",
   "execution_count": null,
   "id": "worldwide-experiment",
   "metadata": {},
   "outputs": [],
   "source": [
    "# a를 b로 나눈 나머지를 반환합니다.\n",
    "a % b"
   ]
  },
  {
   "cell_type": "code",
   "execution_count": null,
   "id": "approved-asset",
   "metadata": {},
   "outputs": [],
   "source": [
    "# a를 b로 나눈 (소수점 이하를 절사한) 몫을 반환합니다.\n",
    "a // b"
   ]
  },
  {
   "cell_type": "markdown",
   "id": "cardiovascular-encounter",
   "metadata": {},
   "source": [
    "### 할당 연산자"
   ]
  },
  {
   "cell_type": "code",
   "execution_count": null,
   "id": "thermal-happiness",
   "metadata": {},
   "outputs": [],
   "source": [
    "# a에 정수 5를 할당하고 a를 출력합니다.\n",
    "a = 5; a"
   ]
  },
  {
   "cell_type": "code",
   "execution_count": null,
   "id": "animated-requirement",
   "metadata": {},
   "outputs": [],
   "source": [
    "# a에 1을 더한 결과를 a에 재할당하고 a를 출력합니다.\n",
    "a += 1; a"
   ]
  },
  {
   "cell_type": "code",
   "execution_count": null,
   "id": "tracked-variance",
   "metadata": {},
   "outputs": [],
   "source": [
    "# a에서 2를 뺀 결과를 a에 재할당하고 a를 출력합니다.\n",
    "a -= 2; a"
   ]
  },
  {
   "cell_type": "code",
   "execution_count": null,
   "id": "wrapped-bridges",
   "metadata": {},
   "outputs": [],
   "source": [
    "# b에 3을 곱한 결과를 b에 재할당하고 a를 출력합니다.\n",
    "b *= 3; b"
   ]
  },
  {
   "cell_type": "code",
   "execution_count": null,
   "id": "brief-oliver",
   "metadata": {},
   "outputs": [],
   "source": [
    "# b를 4로 나눈 결과를 b에 재할당하고 a를 출력합니다.\n",
    "b /= 4; b"
   ]
  },
  {
   "cell_type": "markdown",
   "id": "athletic-hamilton",
   "metadata": {},
   "source": [
    "### 비교 연산자"
   ]
  },
  {
   "cell_type": "code",
   "execution_count": null,
   "id": "competent-revolution",
   "metadata": {},
   "outputs": [],
   "source": [
    "# a가 4보다 크면 True, 작거나 같으면 False를 반환합니다.\n",
    "a > 4"
   ]
  },
  {
   "cell_type": "code",
   "execution_count": null,
   "id": "based-kenya",
   "metadata": {},
   "outputs": [],
   "source": [
    "# a가 4보다 크거나 같으면 True, 작으면 False를 반환합니다.\n",
    "a >= 4"
   ]
  },
  {
   "cell_type": "code",
   "execution_count": null,
   "id": "valuable-charles",
   "metadata": {},
   "outputs": [],
   "source": [
    "# a가 4보다 작으면 True, 크거나 같으면 False를 반환합니다.\n",
    "a < 4"
   ]
  },
  {
   "cell_type": "code",
   "execution_count": null,
   "id": "standing-morning",
   "metadata": {},
   "outputs": [],
   "source": [
    "# a가 4보다 작거나 같으면 True, 크면 False를 반환합니다.\n",
    "a <= 4"
   ]
  },
  {
   "cell_type": "code",
   "execution_count": null,
   "id": "fossil-capture",
   "metadata": {},
   "outputs": [],
   "source": [
    "# a가 4이면 True, 다르면 False를 반환합니다.\n",
    "a == 4"
   ]
  },
  {
   "cell_type": "code",
   "execution_count": null,
   "id": "seasonal-chester",
   "metadata": {},
   "outputs": [],
   "source": [
    "# a가 4가 아니면 True, 같으면 False를 반환합니다.\n",
    "a != 4"
   ]
  },
  {
   "cell_type": "markdown",
   "id": "reverse-therapist",
   "metadata": {},
   "source": [
    "### 논리 연산자"
   ]
  },
  {
   "cell_type": "code",
   "execution_count": null,
   "id": "suitable-nirvana",
   "metadata": {},
   "outputs": [],
   "source": [
    "# [논리곱] 양쪽의 진리값이 모두 True이면 True, 아니면 False를 반환합니다.\n",
    "a > 3 and b > 3"
   ]
  },
  {
   "cell_type": "code",
   "execution_count": null,
   "id": "statewide-distance",
   "metadata": {},
   "outputs": [],
   "source": [
    "# [논리합] 양쪽의 진리값 중 하나 이상 True이면 True, 아니면 False를 반환합니다.\n",
    "a > 3 or b > 3"
   ]
  },
  {
   "cell_type": "code",
   "execution_count": null,
   "id": "macro-movement",
   "metadata": {},
   "outputs": [],
   "source": [
    "# [논리부정] not 뒤에 오는 진리값을 반전합니다.\n",
    "not a > 3"
   ]
  },
  {
   "cell_type": "code",
   "execution_count": null,
   "id": "1086073d",
   "metadata": {},
   "outputs": [],
   "source": [
    "# [논리부정] not 뒤에 오는 진리값을 반전합니다.\n",
    "not b > 3"
   ]
  },
  {
   "cell_type": "markdown",
   "id": "comic-healthcare",
   "metadata": {},
   "source": [
    "### 비트 연산자"
   ]
  },
  {
   "cell_type": "code",
   "execution_count": null,
   "id": "fourth-sample",
   "metadata": {},
   "outputs": [],
   "source": [
    "# 비트 연산자로 논리곱 연산을 실행합니다.\n",
    "(a > 3) & (b > 3)"
   ]
  },
  {
   "cell_type": "code",
   "execution_count": null,
   "id": "dramatic-arkansas",
   "metadata": {},
   "outputs": [],
   "source": [
    "# 비트 연산자로 논리합 연산을 실행합니다.\n",
    "(a > 3) | (b > 3)"
   ]
  },
  {
   "cell_type": "code",
   "execution_count": null,
   "id": "technical-sunrise",
   "metadata": {},
   "outputs": [],
   "source": [
    "# 비트 연산자로 논리부정 연산을 실행합니다.\n",
    "~ (a > 3)"
   ]
  },
  {
   "cell_type": "code",
   "execution_count": null,
   "id": "level-percentage",
   "metadata": {},
   "outputs": [],
   "source": [
    "# 비트 연산자로 논리부정 연산을 실행합니다.\n",
    "~ (b > 3)"
   ]
  },
  {
   "cell_type": "markdown",
   "id": "unique-verification",
   "metadata": {},
   "source": [
    "### 문자열"
   ]
  },
  {
   "cell_type": "code",
   "execution_count": null,
   "id": "configured-repository",
   "metadata": {},
   "outputs": [],
   "source": [
    "# str1에 문자열을 할당합니다.\n",
    "str1 = 'Life is short, '"
   ]
  },
  {
   "cell_type": "code",
   "execution_count": null,
   "id": "indonesian-marking",
   "metadata": {},
   "outputs": [],
   "source": [
    "# str1을 출력합니다.\n",
    "str1"
   ]
  },
  {
   "cell_type": "code",
   "execution_count": null,
   "id": "sublime-trace",
   "metadata": {},
   "outputs": [],
   "source": [
    "# print() 함수를 실행하면 출력되는 결과가 달라집니다.\n",
    "print(str1)"
   ]
  },
  {
   "cell_type": "code",
   "execution_count": null,
   "id": "dangerous-refrigerator",
   "metadata": {},
   "outputs": [],
   "source": [
    "# str1의 클래스를 확인합니다.\n",
    "type(str1)"
   ]
  },
  {
   "cell_type": "code",
   "execution_count": null,
   "id": "fewer-aircraft",
   "metadata": {},
   "outputs": [],
   "source": [
    "# str1의 글자수를 반환합니다.\n",
    "len(str1)"
   ]
  },
  {
   "cell_type": "code",
   "execution_count": null,
   "id": "reported-greece",
   "metadata": {},
   "outputs": [],
   "source": [
    "# str2에 문자열을 할당합니다.\n",
    "str2 = \"you need Python!\""
   ]
  },
  {
   "cell_type": "code",
   "execution_count": null,
   "id": "constitutional-trunk",
   "metadata": {},
   "outputs": [],
   "source": [
    "# str2를 출력합니다.\n",
    "str2"
   ]
  },
  {
   "cell_type": "markdown",
   "id": "continuous-inspiration",
   "metadata": {},
   "source": [
    "### [참고] 다양한 문자열 생성법"
   ]
  },
  {
   "cell_type": "code",
   "execution_count": null,
   "id": "municipal-maple",
   "metadata": {},
   "outputs": [],
   "source": [
    "# 홑따옴표로 감싼 문자열 안에 홑따옴표를 추가하면 에러가 발생합니다.\n",
    "'Monty Python's Flying Circus'"
   ]
  },
  {
   "cell_type": "code",
   "execution_count": null,
   "id": "imposed-mechanism",
   "metadata": {},
   "outputs": [],
   "source": [
    "# 문자열 안에 홑따옴표를 추가하려면 문자열을 겹따옴표로 감싸주어야 합니다.\n",
    "\"Monty Python's Flying Circus\""
   ]
  },
  {
   "cell_type": "code",
   "execution_count": null,
   "id": "special-commitment",
   "metadata": {},
   "outputs": [],
   "source": [
    "# 만약 홑따옴표를 쓰고 싶다면 안쪽 따옴표 앞에 역슬래쉬(\\) 기호를 추가해야 합니다.\n",
    "'Monty Python\\'s Flying Circus'"
   ]
  },
  {
   "cell_type": "code",
   "execution_count": null,
   "id": "requested-click",
   "metadata": {},
   "outputs": [],
   "source": [
    "# 두 가지 경우를 모두 포함하는 예제입니다.\n",
    "'I\\'m saying \"You need Python!\" now.'"
   ]
  },
  {
   "cell_type": "code",
   "execution_count": null,
   "id": "classical-disney",
   "metadata": {},
   "outputs": [],
   "source": [
    "# 문자열을 겹따옴표로 감싸주었으면 문자열 안의 겹따옴표 앞에 \\ 기호를 추가합니다.\n",
    "\"I'm saying \\\"You need Python!\\\" now.\""
   ]
  },
  {
   "cell_type": "code",
   "execution_count": null,
   "id": "crazy-criterion",
   "metadata": {},
   "outputs": [],
   "source": [
    "# 여러 줄의 문자열을 생성하려면 홑따옴표나 겹따옴표를 세 번 반복합니다.\n",
    "'''hello!\n",
    "Good to see you.'''"
   ]
  },
  {
   "cell_type": "markdown",
   "id": "authentic-champion",
   "metadata": {},
   "source": [
    "### 문자열 연산자"
   ]
  },
  {
   "cell_type": "code",
   "execution_count": null,
   "id": "split-andorra",
   "metadata": {},
   "outputs": [],
   "source": [
    "# + 연산자는 두 문자열을 하나로 결합합니다. [주의] 숫자와 문자열을 섞으면 에러가 발생합니다.\n",
    "str1 + str2"
   ]
  },
  {
   "cell_type": "code",
   "execution_count": null,
   "id": "international-bolivia",
   "metadata": {},
   "outputs": [],
   "source": [
    "# * 연산자는 문자열을 지정된 횟수만큼 반복합니다.\n",
    "str2 * 3"
   ]
  },
  {
   "cell_type": "code",
   "execution_count": null,
   "id": "offshore-europe",
   "metadata": {},
   "outputs": [],
   "source": [
    "# str1에 문자열 'a'가 포함되어 있으면 True, 아니면 False를 반환합니다.\n",
    "'a' in str1"
   ]
  },
  {
   "cell_type": "code",
   "execution_count": null,
   "id": "straight-region",
   "metadata": {},
   "outputs": [],
   "source": [
    "# str1에 문자열 'a'가 포함되어 있지 않으면 True, 아니면 False를 반환합니다.\n",
    "'a' not in str1"
   ]
  },
  {
   "cell_type": "markdown",
   "id": "smart-evolution",
   "metadata": {},
   "source": [
    "### 문자열의 인덱싱"
   ]
  },
  {
   "cell_type": "code",
   "execution_count": null,
   "id": "worthy-adelaide",
   "metadata": {},
   "outputs": [],
   "source": [
    "# sen에 문자열을 할당합니다.\n",
    "sen = '아버지가 안방에 들어가신다.'"
   ]
  },
  {
   "cell_type": "code",
   "execution_count": null,
   "id": "willing-breakdown",
   "metadata": {},
   "outputs": [],
   "source": [
    "# sen의 첫 번째 문자(0번 인덱스)를 선택합니다.\n",
    "sen[0]"
   ]
  },
  {
   "cell_type": "code",
   "execution_count": null,
   "id": "formed-church",
   "metadata": {},
   "outputs": [],
   "source": [
    "# sen의 두 번째 문자(1번 인덱스)를 선택합니다.\n",
    "sen[1]"
   ]
  },
  {
   "cell_type": "code",
   "execution_count": null,
   "id": "8aac4d98",
   "metadata": {},
   "outputs": [],
   "source": [
    "# sen의 마지막 문자(-1번 인덱스)를 선택합니다.\n",
    "sen[-1]"
   ]
  },
  {
   "cell_type": "markdown",
   "id": "impaired-simulation",
   "metadata": {},
   "source": [
    "### 문자열의 슬라이싱"
   ]
  },
  {
   "cell_type": "code",
   "execution_count": null,
   "id": "renewable-blair",
   "metadata": {},
   "outputs": [],
   "source": [
    "# sen의 1~3번째 문자를 하나씩 선택하여 하나로 결합합니다.\n",
    "sen[0] + sen[1] + sen[2]"
   ]
  },
  {
   "cell_type": "code",
   "execution_count": null,
   "id": "upset-hebrew",
   "metadata": {},
   "outputs": [],
   "source": [
    "# sen의 첫 번째 문자(0번 인덱스)부터 세 번째 문자(3-1번 인덱스)를 선택합니다.\n",
    "sen[0:3]"
   ]
  },
  {
   "cell_type": "code",
   "execution_count": null,
   "id": "behavioral-reduction",
   "metadata": {},
   "outputs": [],
   "source": [
    "# 콜론 앞에 정수를 생략하면 첫 번째 문자부터 선택합니다.\n",
    "sen[:3]"
   ]
  },
  {
   "cell_type": "code",
   "execution_count": null,
   "id": "weird-cooling",
   "metadata": {},
   "outputs": [],
   "source": [
    "# 콜론 뒤에 정수를 생략하면 마지막 문자까지 선택합니다.\n",
    "sen[9:]"
   ]
  },
  {
   "cell_type": "code",
   "execution_count": null,
   "id": "complete-samuel",
   "metadata": {},
   "outputs": [],
   "source": [
    "# sen의 열 번째 문자부터 끝에서 두 번째 문자까지 선택합니다.\n",
    "sen[9:-1]"
   ]
  },
  {
   "cell_type": "code",
   "execution_count": null,
   "id": "acquired-wrestling",
   "metadata": {},
   "outputs": [],
   "source": [
    "# sen의 전체 문자열을 선택합니다.\n",
    "sen[:]"
   ]
  },
  {
   "cell_type": "markdown",
   "id": "beginning-resistance",
   "metadata": {},
   "source": [
    "### 문자열 공백 제거 및 변경"
   ]
  },
  {
   "cell_type": "code",
   "execution_count": null,
   "id": "likely-generator",
   "metadata": {},
   "outputs": [],
   "source": [
    "# 문자열 양쪽에 공백을 추가합니다.\n",
    "sen = '\\n 나의 살던 고향은 꽃피는 산골 \\t'"
   ]
  },
  {
   "cell_type": "code",
   "execution_count": null,
   "id": "defensive-convergence",
   "metadata": {},
   "outputs": [],
   "source": [
    "# sen의 값을 출력합니다. [참고] print() 함수로 sen을 출력한 결과와 다릅니다.\n",
    "sen"
   ]
  },
  {
   "cell_type": "code",
   "execution_count": null,
   "id": "dependent-whale",
   "metadata": {
    "scrolled": true
   },
   "outputs": [],
   "source": [
    "# sen에 포함된 속성과 방식 목록을 출력합니다.\n",
    "dir(sen)"
   ]
  },
  {
   "cell_type": "code",
   "execution_count": null,
   "id": "convertible-muslim",
   "metadata": {},
   "outputs": [],
   "source": [
    "# sen의 양쪽 공백을 제거하고 sen에 재할당합니다.\n",
    "sen = sen.strip()"
   ]
  },
  {
   "cell_type": "code",
   "execution_count": null,
   "id": "weekly-train",
   "metadata": {},
   "outputs": [],
   "source": [
    "# sen을 출력합니다. 문자열 양쪽에 공백이 제거되었습니다.\n",
    "sen"
   ]
  },
  {
   "cell_type": "code",
   "execution_count": null,
   "id": "athletic-snapshot",
   "metadata": {},
   "outputs": [],
   "source": [
    "# sen의 '산골'을 '공원'으로 바꾼 결과를 출력합니다.\n",
    "sen.replace('산골', '공원')"
   ]
  },
  {
   "cell_type": "code",
   "execution_count": null,
   "id": "worst-drawing",
   "metadata": {},
   "outputs": [],
   "source": [
    "# sen을 출력합니다. sen은 값이 업데이트되지 않았으므로 '산골'이 그대로 있습니다.\n",
    "sen"
   ]
  },
  {
   "cell_type": "markdown",
   "id": "computational-frank",
   "metadata": {},
   "source": [
    "### 문자열 인덱스 확인"
   ]
  },
  {
   "cell_type": "code",
   "execution_count": null,
   "id": "compact-forward",
   "metadata": {},
   "outputs": [],
   "source": [
    "# sen에 포함된 공백 개수를 반환합니다.\n",
    "sen.count(' ')"
   ]
  },
  {
   "cell_type": "code",
   "execution_count": null,
   "id": "judicial-minneapolis",
   "metadata": {},
   "outputs": [],
   "source": [
    "# sen에서 공백이 처음 나오는 인덱스를 반환합니다.\n",
    "sen.index(' ')"
   ]
  },
  {
   "cell_type": "code",
   "execution_count": null,
   "id": "refined-elements",
   "metadata": {},
   "outputs": [],
   "source": [
    "# index() 함수에 탐색할 범위를 설정할 수 있습니다.\n",
    "# 3번부터 마지막 인덱스 사이에 있는 공백을 탐색합니다.\n",
    "sen.index(' ', 3, len(sen))"
   ]
  },
  {
   "cell_type": "code",
   "execution_count": null,
   "id": "comic-sellers",
   "metadata": {},
   "outputs": [],
   "source": [
    "# 글자수가 2 이상인 문자도 탐색할 수 있습니다.\n",
    "sen.index('산골')"
   ]
  },
  {
   "cell_type": "code",
   "execution_count": null,
   "id": "broad-regulation",
   "metadata": {},
   "outputs": [],
   "source": [
    "# 문자열에 없는 문자를 입력하면 에러가 발생합니다.\n",
    "sen.index('공원')"
   ]
  },
  {
   "cell_type": "code",
   "execution_count": null,
   "id": "cross-madrid",
   "metadata": {},
   "outputs": [],
   "source": [
    "# find() 함수는 index() 함수와 같은 기능을 수행합니다.\n",
    "# 다만 문자열에 없는 문자를 입력하면 에러를 발생시키는 대신 -1을 반환합니다.\n",
    "sen.find('공원')"
   ]
  },
  {
   "cell_type": "markdown",
   "id": "static-mineral",
   "metadata": {},
   "source": [
    "### 문자열 분리 및 결합"
   ]
  },
  {
   "cell_type": "code",
   "execution_count": null,
   "id": "offensive-spoke",
   "metadata": {},
   "outputs": [],
   "source": [
    "# sen을 문자 '은'을 기준으로 분리합니다.\n",
    "sen.split('은')"
   ]
  },
  {
   "cell_type": "code",
   "execution_count": null,
   "id": "swedish-civilization",
   "metadata": {},
   "outputs": [],
   "source": [
    "# sen을 공백으로 분리한 결과로 strs를 생성합니다.\n",
    "strs = sen.split()"
   ]
  },
  {
   "cell_type": "code",
   "execution_count": null,
   "id": "twelve-mediterranean",
   "metadata": {},
   "outputs": [],
   "source": [
    "# strs를 출력합니다.\n",
    "strs"
   ]
  },
  {
   "cell_type": "code",
   "execution_count": null,
   "id": "centered-negotiation",
   "metadata": {},
   "outputs": [],
   "source": [
    "# strs의 클래스를 확인합니다.\n",
    "type(strs)"
   ]
  },
  {
   "cell_type": "code",
   "execution_count": null,
   "id": "structured-ordinance",
   "metadata": {},
   "outputs": [],
   "source": [
    "# strs의 원소 사이에 공백을 추가하여 하나의 문자열로 결합합니다.\n",
    "' '.join(strs)"
   ]
  },
  {
   "cell_type": "code",
   "execution_count": null,
   "id": "finnish-identity",
   "metadata": {},
   "outputs": [],
   "source": [
    "# 원하는 문자를 구분자로 설정할 수 있습니다.\n",
    "'-'.join(strs)"
   ]
  },
  {
   "cell_type": "markdown",
   "id": "earlier-circular",
   "metadata": {},
   "source": [
    "### 원소의 형 변환"
   ]
  },
  {
   "cell_type": "code",
   "execution_count": null,
   "id": "systematic-arrival",
   "metadata": {},
   "outputs": [],
   "source": [
    "# a에 문자열 '1.2'를 할당합니다.\n",
    "a = '1.2'"
   ]
  },
  {
   "cell_type": "code",
   "execution_count": null,
   "id": "beneficial-mailing",
   "metadata": {},
   "outputs": [],
   "source": [
    "# a의 클래스를 확인합니다.\n",
    "type(a)"
   ]
  },
  {
   "cell_type": "code",
   "execution_count": null,
   "id": "generous-outside",
   "metadata": {},
   "outputs": [],
   "source": [
    "# a를 실수로 형 변환하고 b에 할당합니다.\n",
    "b = float(a)"
   ]
  },
  {
   "cell_type": "code",
   "execution_count": null,
   "id": "circular-brand",
   "metadata": {},
   "outputs": [],
   "source": [
    "# b의 클래스를 확인합니다.\n",
    "type(b)"
   ]
  },
  {
   "cell_type": "code",
   "execution_count": null,
   "id": "italic-limit",
   "metadata": {},
   "outputs": [],
   "source": [
    "# 소수점 있는 문자열을 정수로 형 변환할 수 없습니다.\n",
    "c = int(a)"
   ]
  },
  {
   "cell_type": "code",
   "execution_count": null,
   "id": "spread-tenant",
   "metadata": {},
   "outputs": [],
   "source": [
    "# b를 정수로 형 변환하고 c에 할당합니다.\n",
    "c = int(b)"
   ]
  },
  {
   "cell_type": "code",
   "execution_count": null,
   "id": "nominated-secretary",
   "metadata": {},
   "outputs": [],
   "source": [
    "# c의 클래스를 확인합니다.\n",
    "type(c)"
   ]
  },
  {
   "cell_type": "markdown",
   "id": "junior-peoples",
   "metadata": {},
   "source": [
    "### 문자열 포맷팅: 포맷 코드"
   ]
  },
  {
   "cell_type": "code",
   "execution_count": null,
   "id": "overall-overview",
   "metadata": {},
   "outputs": [],
   "source": [
    "# rate와 name에 적당한 값을 할당합니다.\n",
    "rate = 3.2\n",
    "name = '홍길동'"
   ]
  },
  {
   "cell_type": "code",
   "execution_count": null,
   "id": "4b42ea66",
   "metadata": {},
   "outputs": [],
   "source": [
    "# 문자열을 결합합니다.\n",
    "name + ' 고객님의 이자율은 ' + str(rate) + ' %입니다.'"
   ]
  },
  {
   "cell_type": "code",
   "execution_count": null,
   "id": "loving-helen",
   "metadata": {},
   "outputs": [],
   "source": [
    "# name과 rate의 값을 '%s'와 '%f'에 순차적으로 반영합니다.\n",
    "'%s 고객님의 이자율은 %f %%입니다.' %(name, rate)"
   ]
  },
  {
   "cell_type": "code",
   "execution_count": null,
   "id": "compound-associate",
   "metadata": {},
   "outputs": [],
   "source": [
    "# 실수의 소수점 자리수를 설정할 수 있습니다.\n",
    "'%s 고객님의 이자율은 %.2f %%입니다.' %(name, rate)"
   ]
  },
  {
   "cell_type": "markdown",
   "id": "novel-albuquerque",
   "metadata": {},
   "source": [
    "### 문자열 포맷팅: format(), f-문자열"
   ]
  },
  {
   "cell_type": "code",
   "execution_count": null,
   "id": "tender-ghana",
   "metadata": {},
   "outputs": [],
   "source": [
    "# format() 함수에 입력된 변수의 인덱스를 중괄호 안에 지정할 수 있습니다.\n",
    "'{0} 고객님의 이자율은 {1} %입니다.'.format(name, rate)"
   ]
  },
  {
   "cell_type": "code",
   "execution_count": null,
   "id": "sunrise-matter",
   "metadata": {},
   "outputs": [],
   "source": [
    "# 변수를 순서대로 지정했다면 인덱스를 생략해도 됩니다.\n",
    "'{} 고객님의 이자율은 {} %입니다.'.format(name, rate)"
   ]
  },
  {
   "cell_type": "code",
   "execution_count": null,
   "id": "renewable-charge",
   "metadata": {},
   "outputs": [],
   "source": [
    "# 실수의 소수점 자릿수를 설정할 수 있습니다.\n",
    "# [주의] 반드시 콜론을 추가해야 합니다.\n",
    "'{0} 고객님의 이자율은 {1:.2f} %입니다.'.format(name, rate)"
   ]
  },
  {
   "cell_type": "code",
   "execution_count": null,
   "id": "sound-rings",
   "metadata": {},
   "outputs": [],
   "source": [
    "# Python 3.6에서 도입된 f-문자열을 사용하면 간결하게 코딩할 수 있습니다.\n",
    "f'{name} 고객님의 이자율은 {rate:.2f} %입니다.'"
   ]
  },
  {
   "cell_type": "markdown",
   "id": "applicable-vulnerability",
   "metadata": {},
   "source": [
    "### 부울"
   ]
  },
  {
   "cell_type": "code",
   "execution_count": null,
   "id": "ranging-alexandria",
   "metadata": {},
   "outputs": [],
   "source": [
    "# a에 True를 할당합니다.\n",
    "a = True"
   ]
  },
  {
   "cell_type": "code",
   "execution_count": null,
   "id": "multiple-reggae",
   "metadata": {},
   "outputs": [],
   "source": [
    "# a의 클래스를 확인합니다.\n",
    "type(a)"
   ]
  },
  {
   "cell_type": "code",
   "execution_count": null,
   "id": "macro-burden",
   "metadata": {},
   "outputs": [],
   "source": [
    "# 어떤 객체에 값 또는 원소가 있으면 True, 없으면 False를 반환합니다.\n",
    "bool(1)"
   ]
  },
  {
   "cell_type": "markdown",
   "id": "alive-supply",
   "metadata": {},
   "source": [
    "## End of Document"
   ]
  }
 ],
 "metadata": {
  "kernelspec": {
   "display_name": "Python 3 (ipykernel)",
   "language": "python",
   "name": "python3"
  },
  "language_info": {
   "codemirror_mode": {
    "name": "ipython",
    "version": 3
   },
   "file_extension": ".py",
   "mimetype": "text/x-python",
   "name": "python",
   "nbconvert_exporter": "python",
   "pygments_lexer": "ipython3",
   "version": "3.9.7"
  },
  "toc": {
   "base_numbering": 1,
   "nav_menu": {},
   "number_sections": true,
   "sideBar": true,
   "skip_h1_title": false,
   "title_cell": "Table of Contents",
   "title_sidebar": "Contents",
   "toc_cell": false,
   "toc_position": {},
   "toc_section_display": true,
   "toc_window_display": false
  },
  "varInspector": {
   "cols": {
    "lenName": 16,
    "lenType": 16,
    "lenVar": 40
   },
   "kernels_config": {
    "python": {
     "delete_cmd_postfix": "",
     "delete_cmd_prefix": "del ",
     "library": "var_list.py",
     "varRefreshCmd": "print(var_dic_list())"
    },
    "r": {
     "delete_cmd_postfix": ") ",
     "delete_cmd_prefix": "rm(",
     "library": "var_list.r",
     "varRefreshCmd": "cat(var_dic_list()) "
    }
   },
   "types_to_exclude": [
    "module",
    "function",
    "builtin_function_or_method",
    "instance",
    "_Feature"
   ],
   "window_display": false
  }
 },
 "nbformat": 4,
 "nbformat_minor": 5
}

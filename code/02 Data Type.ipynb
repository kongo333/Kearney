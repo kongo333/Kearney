{
 "cells": [
  {
   "cell_type": "markdown",
   "id": "96237ba2",
   "metadata": {},
   "source": [
    "## 자료형(Data Types)"
   ]
  },
  {
   "cell_type": "markdown",
   "id": "worse-origin",
   "metadata": {},
   "source": [
    "### 수: 정수, 실수"
   ]
  },
  {
   "cell_type": "code",
   "execution_count": null,
   "id": "unlike-vegetation",
   "metadata": {},
   "outputs": [],
   "source": [
    "# a에 정수 3을 할당합니다.\n",
    "a = 3"
   ]
  },
  {
   "cell_type": "code",
   "execution_count": null,
   "id": "designing-diabetes",
   "metadata": {},
   "outputs": [],
   "source": [
    "# a를 출력합니다.\n",
    "a"
   ]
  },
  {
   "cell_type": "code",
   "execution_count": null,
   "id": "convenient-counter",
   "metadata": {},
   "outputs": [],
   "source": [
    "# a의 클래스를 확인합니다. a의 클래스는 int입니다.\n",
    "type(a)"
   ]
  },
  {
   "cell_type": "code",
   "execution_count": null,
   "id": "adjacent-superintendent",
   "metadata": {},
   "outputs": [],
   "source": [
    "# b에 실수 3.0을 할당합니다.\n",
    "b = 3.0"
   ]
  },
  {
   "cell_type": "code",
   "execution_count": null,
   "id": "posted-intention",
   "metadata": {},
   "outputs": [],
   "source": [
    "# b를 출력합니다.\n",
    "b"
   ]
  },
  {
   "cell_type": "code",
   "execution_count": null,
   "id": "received-commerce",
   "metadata": {},
   "outputs": [],
   "source": [
    "# b의 클래스를 확인합니다. b의 클래스는 float입니다.\n",
    "type(b)"
   ]
  },
  {
   "cell_type": "markdown",
   "id": "sustainable-paint",
   "metadata": {},
   "source": [
    "### 산술 연산자"
   ]
  },
  {
   "cell_type": "code",
   "execution_count": null,
   "id": "proper-xerox",
   "metadata": {},
   "outputs": [],
   "source": [
    "# a와 b를 더합니다.\n",
    "a + b"
   ]
  },
  {
   "cell_type": "code",
   "execution_count": null,
   "id": "supported-balance",
   "metadata": {},
   "outputs": [],
   "source": [
    "# a에서 b를 뺍니다.\n",
    "a - b"
   ]
  },
  {
   "cell_type": "code",
   "execution_count": null,
   "id": "gothic-organization",
   "metadata": {},
   "outputs": [],
   "source": [
    "# a와 b를 곱합니다.\n",
    "a * b"
   ]
  },
  {
   "cell_type": "code",
   "execution_count": null,
   "id": "sought-terrace",
   "metadata": {},
   "outputs": [],
   "source": [
    "# a를 b로 거듭제곱합니다.\n",
    "a ** b"
   ]
  },
  {
   "cell_type": "code",
   "execution_count": null,
   "id": "funky-entry",
   "metadata": {},
   "outputs": [],
   "source": [
    "# a를 b로 나눕니다.\n",
    "a / b"
   ]
  },
  {
   "cell_type": "code",
   "execution_count": null,
   "id": "worldwide-experiment",
   "metadata": {},
   "outputs": [],
   "source": [
    "# a를 b로 나눈 나머지를 반환합니다.\n",
    "a % b"
   ]
  },
  {
   "cell_type": "code",
   "execution_count": null,
   "id": "approved-asset",
   "metadata": {},
   "outputs": [],
   "source": [
    "# a를 b로 나눈 몫을 반환합니다.\n",
    "a // b"
   ]
  },
  {
   "cell_type": "markdown",
   "id": "cardiovascular-encounter",
   "metadata": {},
   "source": [
    "### 할당 연산자"
   ]
  },
  {
   "cell_type": "code",
   "execution_count": null,
   "id": "thermal-happiness",
   "metadata": {},
   "outputs": [],
   "source": [
    "# a에 정수 5를 할당하고, a를 출력합니다.\n",
    "a = 5\n",
    "a"
   ]
  },
  {
   "cell_type": "code",
   "execution_count": null,
   "id": "animated-requirement",
   "metadata": {},
   "outputs": [],
   "source": [
    "# a에 1을 더한 값을 a에 재할당하고, a를 출력합니다.\n",
    "a += 1\n",
    "a"
   ]
  },
  {
   "cell_type": "code",
   "execution_count": null,
   "id": "tracked-variance",
   "metadata": {},
   "outputs": [],
   "source": [
    "# a에서 2를 뺀 값을 a에 재할당하고, a를 출력합니다.\n",
    "a -= 2\n",
    "a"
   ]
  },
  {
   "cell_type": "code",
   "execution_count": null,
   "id": "wrapped-bridges",
   "metadata": {},
   "outputs": [],
   "source": [
    "# b에 3을 곱한 값을 b에 재할당하고, b를 출력합니다.\n",
    "b *= 3\n",
    "b"
   ]
  },
  {
   "cell_type": "code",
   "execution_count": null,
   "id": "brief-oliver",
   "metadata": {},
   "outputs": [],
   "source": [
    "# b를 4로 나눈 값을 b에 재할당하고, b를 출력합니다.\n",
    "b /= 4\n",
    "b"
   ]
  },
  {
   "cell_type": "markdown",
   "id": "athletic-hamilton",
   "metadata": {},
   "source": [
    "### 비교 연산자"
   ]
  },
  {
   "cell_type": "code",
   "execution_count": null,
   "id": "competent-revolution",
   "metadata": {},
   "outputs": [],
   "source": [
    "# a가 4보다 크면 True, 작거나 같으면 False를 반환합니다.\n",
    "a > 4"
   ]
  },
  {
   "cell_type": "code",
   "execution_count": null,
   "id": "based-kenya",
   "metadata": {},
   "outputs": [],
   "source": [
    "# a가 4보다 크거나 같으면 True, 작으면 False를 반환합니다.\n",
    "a >= 4"
   ]
  },
  {
   "cell_type": "code",
   "execution_count": null,
   "id": "valuable-charles",
   "metadata": {},
   "outputs": [],
   "source": [
    "# a가 4보다 작으면 True, 크거나 같으면 False를 반환합니다.\n",
    "a < 4"
   ]
  },
  {
   "cell_type": "code",
   "execution_count": null,
   "id": "standing-morning",
   "metadata": {},
   "outputs": [],
   "source": [
    "# a가 4보다 작거나 같으면 True, 크면 False를 반환합니다.\n",
    "a <= 4"
   ]
  },
  {
   "cell_type": "code",
   "execution_count": null,
   "id": "fossil-capture",
   "metadata": {},
   "outputs": [],
   "source": [
    "# a가 4이면 True, 4가 아니면 False를 반환합니다.\n",
    "a == 4"
   ]
  },
  {
   "cell_type": "code",
   "execution_count": null,
   "id": "seasonal-chester",
   "metadata": {},
   "outputs": [],
   "source": [
    "# a가 4가 아니면 True, 4이면 False를 반환합니다.\n",
    "a != 4"
   ]
  },
  {
   "cell_type": "markdown",
   "id": "reverse-therapist",
   "metadata": {},
   "source": [
    "### 논리 연산자"
   ]
  },
  {
   "cell_type": "code",
   "execution_count": null,
   "id": "85591f12",
   "metadata": {},
   "outputs": [],
   "source": [
    "# 비교 연산을 실행하여 True 또는 False를 반환합니다.\n",
    "print(a > 3)\n",
    "print(b > 3)"
   ]
  },
  {
   "cell_type": "code",
   "execution_count": null,
   "id": "suitable-nirvana",
   "metadata": {},
   "outputs": [],
   "source": [
    "# [논리곱] 두 진리값이 모두 True면 True, 아니면 False를 반환합니다.\n",
    "a > 3 and b > 3"
   ]
  },
  {
   "cell_type": "code",
   "execution_count": null,
   "id": "statewide-distance",
   "metadata": {},
   "outputs": [],
   "source": [
    "# [논리합] 두 진리값 중 하나 이상 True면 True, 아니면 False를 반환합니다.\n",
    "a > 3 or b > 3"
   ]
  },
  {
   "cell_type": "code",
   "execution_count": null,
   "id": "1086073d",
   "metadata": {},
   "outputs": [],
   "source": [
    "# [논리부정] not 뒤에 오는 진리값을 반전합니다.\n",
    "not (a > 3 or b > 3)"
   ]
  },
  {
   "cell_type": "markdown",
   "id": "unique-verification",
   "metadata": {},
   "source": [
    "### 문자열"
   ]
  },
  {
   "cell_type": "code",
   "execution_count": null,
   "id": "configured-repository",
   "metadata": {},
   "outputs": [],
   "source": [
    "# str1에 문자열을 할당합니다. 홑따옴표를 사용했습니다.\n",
    "str1 = 'Life is short, '"
   ]
  },
  {
   "cell_type": "code",
   "execution_count": null,
   "id": "indonesian-marking",
   "metadata": {},
   "outputs": [],
   "source": [
    "# str1을 출력합니다.\n",
    "str1"
   ]
  },
  {
   "cell_type": "code",
   "execution_count": null,
   "id": "sublime-trace",
   "metadata": {},
   "outputs": [],
   "source": [
    "# print() 함수를 실행하면 따옴표 없이 글자만 출력합니다.\n",
    "print(str1)"
   ]
  },
  {
   "cell_type": "code",
   "execution_count": null,
   "id": "dangerous-refrigerator",
   "metadata": {},
   "outputs": [],
   "source": [
    "# str1의 클래스를 확인합니다. str1의 클래스는 str입니다.\n",
    "type(str1)"
   ]
  },
  {
   "cell_type": "code",
   "execution_count": null,
   "id": "fewer-aircraft",
   "metadata": {},
   "outputs": [],
   "source": [
    "# str1의 글자수를 반환합니다.\n",
    "len(str1)"
   ]
  },
  {
   "cell_type": "code",
   "execution_count": null,
   "id": "reported-greece",
   "metadata": {},
   "outputs": [],
   "source": [
    "# str2에 문자열을 할당합니다. 겹따옴표를 사용했습니다.\n",
    "str2 = \"you need Python!\""
   ]
  },
  {
   "cell_type": "code",
   "execution_count": null,
   "id": "constitutional-trunk",
   "metadata": {},
   "outputs": [],
   "source": [
    "# str2를 출력합니다.\n",
    "str2"
   ]
  },
  {
   "cell_type": "markdown",
   "id": "continuous-inspiration",
   "metadata": {},
   "source": [
    "### [참고] 따옴표 사용법"
   ]
  },
  {
   "cell_type": "code",
   "execution_count": null,
   "id": "6b8e8fd8",
   "metadata": {},
   "outputs": [],
   "source": [
    "# 홑따옴표로 감싼 문자열 안에 홑따옴표를 추가할 수 없습니다.\n",
    "# [주의] 이 셀을 Code로 변경하고 실행하면 에러를 반환합니다.\n",
    "'Monty Python's Flying Circus'"
   ]
  },
  {
   "cell_type": "code",
   "execution_count": null,
   "id": "imposed-mechanism",
   "metadata": {},
   "outputs": [],
   "source": [
    "# 문자열 안에 홑따옴표를 추가하려면 문자열을 홑따옴표 대신에 겹따옴표로 감싸야 합니다.\n",
    "\"Monty Python's Flying Circus\""
   ]
  },
  {
   "cell_type": "code",
   "execution_count": null,
   "id": "special-commitment",
   "metadata": {},
   "outputs": [],
   "source": [
    "# 홑따옴표로 감싼 문자열 안 홑따옴표 앞에 역슬래쉬(\\) 기호를 추가합니다.\n",
    "# [참고] \\ 기호는 정규표현식의 이스케이프입니다.\n",
    "'Monty Python\\'s Flying Circus'"
   ]
  },
  {
   "cell_type": "code",
   "execution_count": null,
   "id": "requested-click",
   "metadata": {},
   "outputs": [],
   "source": [
    "# 두 가지 경우를 모두 포함하는 예제입니다.\n",
    "'I\\'m saying \"You need Python!\" now.'"
   ]
  },
  {
   "cell_type": "code",
   "execution_count": null,
   "id": "classical-disney",
   "metadata": {},
   "outputs": [],
   "source": [
    "# 문자열을 겹따옴표로 감쌌다면 문자열 안 겹따옴표 앞에 역슬래쉬를 추가합니다.\n",
    "\"I'm saying \\\"You need Python!\\\" now.\""
   ]
  },
  {
   "cell_type": "code",
   "execution_count": null,
   "id": "crazy-criterion",
   "metadata": {},
   "outputs": [],
   "source": [
    "# 두 줄 이상의 문자열을 생성할 때 따옴표를 세 번 겹쳐서 사용합니다.\n",
    "'''hello!\n",
    "Good to see you.'''"
   ]
  },
  {
   "cell_type": "markdown",
   "id": "authentic-champion",
   "metadata": {},
   "source": [
    "### 문자열 연산자"
   ]
  },
  {
   "cell_type": "code",
   "execution_count": null,
   "id": "split-andorra",
   "metadata": {},
   "outputs": [],
   "source": [
    "# + 연산자는 두 문자열을 결합합니다.\n",
    "# [주의] 문자열과 수를 결합할 때 에러를 반환합니다.\n",
    "str1 + str2"
   ]
  },
  {
   "cell_type": "code",
   "execution_count": null,
   "id": "international-bolivia",
   "metadata": {},
   "outputs": [],
   "source": [
    "# * 연산자는 왼쪽 문자열을 오른쪽에 지정한 정수만큼 반복합니다.\n",
    "# [주의] 정수 대신 실수를 지정하면 에러를 반환합니다.\n",
    "str2 * 3"
   ]
  },
  {
   "cell_type": "code",
   "execution_count": null,
   "id": "offshore-europe",
   "metadata": {},
   "outputs": [],
   "source": [
    "# str1에 문자열 'a'가 있으면 True, 없으면 False를 반환합니다.\n",
    "'a' in str1"
   ]
  },
  {
   "cell_type": "code",
   "execution_count": null,
   "id": "straight-region",
   "metadata": {},
   "outputs": [],
   "source": [
    "# str1에 문자열 'a'가 없으면 True, 있으면 False를 반환합니다.\n",
    "'a' not in str1"
   ]
  },
  {
   "cell_type": "markdown",
   "id": "smart-evolution",
   "metadata": {},
   "source": [
    "### 문자열 인덱싱"
   ]
  },
  {
   "cell_type": "code",
   "execution_count": null,
   "id": "worthy-adelaide",
   "metadata": {},
   "outputs": [],
   "source": [
    "# 실습용 문자열을 생성합니다.\n",
    "sen = '아버지가 안방에 들어가신다.'"
   ]
  },
  {
   "cell_type": "code",
   "execution_count": null,
   "id": "willing-breakdown",
   "metadata": {},
   "outputs": [],
   "source": [
    "# sen의 0번 인덱스(첫 번째) 문자를 선택합니다.\n",
    "sen[0]"
   ]
  },
  {
   "cell_type": "code",
   "execution_count": null,
   "id": "formed-church",
   "metadata": {},
   "outputs": [],
   "source": [
    "# sen의 1번 인덱스(두 번째) 문자를 선택합니다.\n",
    "sen[1]"
   ]
  },
  {
   "cell_type": "code",
   "execution_count": null,
   "id": "8aac4d98",
   "metadata": {},
   "outputs": [],
   "source": [
    "# sen의 -1번 인덱스(마지막) 문자를 선택합니다.\n",
    "sen[-1]"
   ]
  },
  {
   "cell_type": "markdown",
   "id": "impaired-simulation",
   "metadata": {},
   "source": [
    "### 문자열 슬라이싱"
   ]
  },
  {
   "cell_type": "code",
   "execution_count": null,
   "id": "renewable-blair",
   "metadata": {},
   "outputs": [],
   "source": [
    "# sen의 0~2번 인덱스 문자를 결합합니다.\n",
    "sen[0] + sen[1] + sen[2]"
   ]
  },
  {
   "cell_type": "code",
   "execution_count": null,
   "id": "upset-hebrew",
   "metadata": {},
   "outputs": [],
   "source": [
    "# sen의 0번 인덱스(첫 번째)부터 3-1번 인덱스(세 번째)까지 연속된 문자를 선택합니다.\n",
    "sen[0:3]"
   ]
  },
  {
   "cell_type": "code",
   "execution_count": null,
   "id": "behavioral-reduction",
   "metadata": {},
   "outputs": [],
   "source": [
    "# 콜론 앞에 정수를 생략하면 첫 번째 문자부터 선택합니다.\n",
    "sen[:3]"
   ]
  },
  {
   "cell_type": "code",
   "execution_count": null,
   "id": "weird-cooling",
   "metadata": {},
   "outputs": [],
   "source": [
    "# 콜론 뒤에 정수를 생략하면 마지막 문자까지 선택합니다.\n",
    "sen[9:]"
   ]
  },
  {
   "cell_type": "code",
   "execution_count": null,
   "id": "acquired-wrestling",
   "metadata": {},
   "outputs": [],
   "source": [
    "# 빈 콜론을 입력하면 처음부터 끝까지 연속된 문자를 선택합니다.\n",
    "# [주의] 대괄호 안에 아무것도 입력하지 않으면 에러를 반환합니다.\n",
    "sen[:]"
   ]
  },
  {
   "cell_type": "markdown",
   "id": "beginning-resistance",
   "metadata": {},
   "source": [
    "### 문자열 공백 제거 및 변경"
   ]
  },
  {
   "cell_type": "code",
   "execution_count": null,
   "id": "likely-generator",
   "metadata": {},
   "outputs": [],
   "source": [
    "# 문자열 양쪽에 공백을 추가합니다. [참고] '\\n'은 줄바꿈, '\\t'는 탭입니다.\n",
    "sen = '\\n 파이썬 \\t 문자열 다루기 '\n",
    "sen"
   ]
  },
  {
   "cell_type": "code",
   "execution_count": null,
   "id": "47a60397",
   "metadata": {},
   "outputs": [],
   "source": [
    "# print() 함수는 따옴표와 공백 없이 글자만 출력하므로 문자열의 공백을 확인할 수 없습니다.\n",
    "print(sen)"
   ]
  },
  {
   "cell_type": "code",
   "execution_count": null,
   "id": "dependent-whale",
   "metadata": {
    "scrolled": true
   },
   "outputs": [],
   "source": [
    "# sen의 속성과 방식을 리스트로 반환합니다.\n",
    "dir(sen)"
   ]
  },
  {
   "cell_type": "code",
   "execution_count": null,
   "id": "29adb7ea-822d-47b2-9361-eef63425c391",
   "metadata": {},
   "outputs": [],
   "source": [
    "# sen에서 양쪽 공백을 제거한 결과를 출력합니다.\n",
    "sen.strip()"
   ]
  },
  {
   "cell_type": "code",
   "execution_count": null,
   "id": "convertible-muslim",
   "metadata": {},
   "outputs": [],
   "source": [
    "# sen에서 양쪽 공백을 제거하고 sen에 재할당합니다.\n",
    "sen = sen.strip()"
   ]
  },
  {
   "cell_type": "code",
   "execution_count": null,
   "id": "athletic-snapshot",
   "metadata": {},
   "outputs": [],
   "source": [
    "# sen에서 '\\t'을 빈 문자열 ''로 바꾼 결과를 출력합니다.\n",
    "sen.replace('\\t', '')"
   ]
  },
  {
   "cell_type": "markdown",
   "id": "static-mineral",
   "metadata": {},
   "source": [
    "### 문자열 분리 및 결합"
   ]
  },
  {
   "cell_type": "code",
   "execution_count": null,
   "id": "offensive-spoke",
   "metadata": {},
   "outputs": [],
   "source": [
    "# sen을 구분자 '\\t'으로 분리합니다. [참고] 문자열을 분리하면 리스트로 반환합니다.\n",
    "sen.split('\\t')"
   ]
  },
  {
   "cell_type": "code",
   "execution_count": null,
   "id": "swedish-civilization",
   "metadata": {},
   "outputs": [],
   "source": [
    "# sen을 공백으로 분리하고 strs에 할당합니다. [참고] '\\n'과 '\\t'를 공백으로 처리합니다.\n",
    "strs = sen.split()"
   ]
  },
  {
   "cell_type": "code",
   "execution_count": null,
   "id": "twelve-mediterranean",
   "metadata": {},
   "outputs": [],
   "source": [
    "# strs를 출력합니다. 대괄호 안에 여러 문자열이 있습니다.\n",
    "strs"
   ]
  },
  {
   "cell_type": "code",
   "execution_count": null,
   "id": "centered-negotiation",
   "metadata": {},
   "outputs": [],
   "source": [
    "# strs의 클래스를 확인합니다. strs의 클래스는 list입니다.\n",
    "type(strs)"
   ]
  },
  {
   "cell_type": "code",
   "execution_count": null,
   "id": "structured-ordinance",
   "metadata": {},
   "outputs": [],
   "source": [
    "# strs의 원소 사이에 공백을 추가하여 문자열로 결합합니다.\n",
    "' '.join(strs)"
   ]
  },
  {
   "cell_type": "code",
   "execution_count": null,
   "id": "finnish-identity",
   "metadata": {},
   "outputs": [],
   "source": [
    "# 구분자에 따라 실행 결과가 달라집니다.\n",
    "'-'.join(strs)"
   ]
  },
  {
   "cell_type": "markdown",
   "id": "earlier-circular",
   "metadata": {},
   "source": [
    "### 자료형 변환"
   ]
  },
  {
   "cell_type": "code",
   "execution_count": null,
   "id": "systematic-arrival",
   "metadata": {},
   "outputs": [],
   "source": [
    "# 정수 1을 실수로 변환합니다.\n",
    "float(1)"
   ]
  },
  {
   "cell_type": "code",
   "execution_count": null,
   "id": "beneficial-mailing",
   "metadata": {},
   "outputs": [],
   "source": [
    "# 정수 1을 문자열로 변환합니다.\n",
    "str(1)"
   ]
  },
  {
   "cell_type": "code",
   "execution_count": null,
   "id": "generous-outside",
   "metadata": {},
   "outputs": [],
   "source": [
    "# 실수 1.2를 정수로 변환합니다.\n",
    "int(1.2)"
   ]
  },
  {
   "cell_type": "code",
   "execution_count": null,
   "id": "circular-brand",
   "metadata": {},
   "outputs": [],
   "source": [
    "# 실수 1.2를 문자열로 변환합니다.\n",
    "str(1.2)"
   ]
  },
  {
   "cell_type": "code",
   "execution_count": null,
   "id": "spread-tenant",
   "metadata": {},
   "outputs": [],
   "source": [
    "# 문자열 '1.2'를 실수로 변환합니다.\n",
    "float('1.2')"
   ]
  },
  {
   "cell_type": "code",
   "execution_count": null,
   "id": "ae35b9fd",
   "metadata": {},
   "outputs": [],
   "source": [
    "# 문자열 '1.2'를 정수로 변환합니다.\n",
    "# [주의] 소수점 있는 문자열을 정수로 변환할 수 없습니다.\n",
    "int('1.2')"
   ]
  },
  {
   "cell_type": "markdown",
   "id": "junior-peoples",
   "metadata": {},
   "source": [
    "### 문자열 포맷팅: 포맷 코드"
   ]
  },
  {
   "cell_type": "code",
   "execution_count": null,
   "id": "overall-overview",
   "metadata": {},
   "outputs": [],
   "source": [
    "# name에 문자열, rate에 실수를 할당합니다.\n",
    "name = '홍길동'\n",
    "rate = 3.2"
   ]
  },
  {
   "cell_type": "code",
   "execution_count": null,
   "id": "4b42ea66",
   "metadata": {},
   "outputs": [],
   "source": [
    "# 여러 문자열을 결합합니다.\n",
    "name + ' 고객님의 이자율은 ' + str(rate) + ' %입니다.'"
   ]
  },
  {
   "cell_type": "code",
   "execution_count": null,
   "id": "loving-helen",
   "metadata": {},
   "outputs": [],
   "source": [
    "# name과 rate에 할당한 값을 포맷 코드(%s와 %f)에 대입합니다.\n",
    "'%s 고객님의 이자율은 %f %%입니다.' %(name, rate)"
   ]
  },
  {
   "cell_type": "code",
   "execution_count": null,
   "id": "compound-associate",
   "metadata": {},
   "outputs": [],
   "source": [
    "# 실수의 소수점 자리수를 설정할 수 있습니다.\n",
    "'%s 고객님의 이자율은 %.2f %%입니다.' %(name, rate)"
   ]
  },
  {
   "cell_type": "markdown",
   "id": "novel-albuquerque",
   "metadata": {},
   "source": [
    "### 문자열 포맷팅: format(), f-문자열"
   ]
  },
  {
   "cell_type": "code",
   "execution_count": null,
   "id": "sunrise-matter",
   "metadata": {},
   "outputs": [],
   "source": [
    "# format() 함수는 포맷 코드 대신 중괄호를 사용합니다.\n",
    "# 중괄호에 변수값을 순서대로 대입합니다.\n",
    "'{} 고객님의 이자율은 {} %입니다.'.format(name, rate)"
   ]
  },
  {
   "cell_type": "code",
   "execution_count": null,
   "id": "tender-ghana",
   "metadata": {},
   "outputs": [],
   "source": [
    "# 중괄호 안에 변수의 정수 인덱스를 지정합니다.\n",
    "'{0} 고객님의 이자율은 {1} %입니다.'.format(name, rate)"
   ]
  },
  {
   "cell_type": "code",
   "execution_count": null,
   "id": "renewable-charge",
   "metadata": {},
   "outputs": [],
   "source": [
    "# [주의] 실수의 소수점 자리수를 지정하려면 % 대신 콜론(:)을 추가합니다.\n",
    "'{0} 고객님의 이자율은 {1:.2f} %입니다.'.format(name, rate)"
   ]
  },
  {
   "cell_type": "code",
   "execution_count": null,
   "id": "sound-rings",
   "metadata": {},
   "outputs": [],
   "source": [
    "# Python 3.6에서 도입한 f-문자열을 사용하면 코드 가독성을 높일 수 있습니다.\n",
    "f'{name} 고객님의 이자율은 {rate:.2f} %입니다.'"
   ]
  },
  {
   "cell_type": "markdown",
   "id": "applicable-vulnerability",
   "metadata": {},
   "source": [
    "### 부울"
   ]
  },
  {
   "cell_type": "code",
   "execution_count": null,
   "id": "ranging-alexandria",
   "metadata": {},
   "outputs": [],
   "source": [
    "# t에 True를 할당합니다. [주의] 따옴표로 감싸면 문자열이 됩니다.\n",
    "t = True"
   ]
  },
  {
   "cell_type": "code",
   "execution_count": null,
   "id": "multiple-reggae",
   "metadata": {},
   "outputs": [],
   "source": [
    "# t의 클래스를 확인합니다. t의 클래스는 bool입니다.\n",
    "type(t)"
   ]
  },
  {
   "cell_type": "code",
   "execution_count": null,
   "id": "b6514678",
   "metadata": {},
   "outputs": [],
   "source": [
    "# True는 정수 1, False는 정수 0이므로 진리값을 더하면 True 개수를 반환합니다.\n",
    "True + False"
   ]
  },
  {
   "cell_type": "code",
   "execution_count": null,
   "id": "macro-burden",
   "metadata": {},
   "outputs": [],
   "source": [
    "# 어떤 객체에 값 또는 원소가 있으면 True, 없으면 False를 반환합니다.\n",
    "bool(1)"
   ]
  },
  {
   "cell_type": "markdown",
   "id": "alive-supply",
   "metadata": {},
   "source": [
    "## End of Document"
   ]
  }
 ],
 "metadata": {
  "kernelspec": {
   "display_name": "Python 3",
   "language": "python",
   "name": "python3"
  },
  "language_info": {
   "codemirror_mode": {
    "name": "ipython",
    "version": 3
   },
   "file_extension": ".py",
   "mimetype": "text/x-python",
   "name": "python",
   "nbconvert_exporter": "python",
   "pygments_lexer": "ipython3",
   "version": "3.10.8"
  },
  "toc": {
   "base_numbering": 1,
   "nav_menu": {},
   "number_sections": false,
   "sideBar": true,
   "skip_h1_title": false,
   "title_cell": "Table of Contents",
   "title_sidebar": "Contents",
   "toc_cell": false,
   "toc_position": {},
   "toc_section_display": true,
   "toc_window_display": false
  },
  "varInspector": {
   "cols": {
    "lenName": 16,
    "lenType": 16,
    "lenVar": 40
   },
   "kernels_config": {
    "python": {
     "delete_cmd_postfix": "",
     "delete_cmd_prefix": "del ",
     "library": "var_list.py",
     "varRefreshCmd": "print(var_dic_list())"
    },
    "r": {
     "delete_cmd_postfix": ") ",
     "delete_cmd_prefix": "rm(",
     "library": "var_list.r",
     "varRefreshCmd": "cat(var_dic_list()) "
    }
   },
   "position": {
    "height": "299.844px",
    "left": "687.859px",
    "right": "20px",
    "top": "90px",
    "width": "325px"
   },
   "types_to_exclude": [
    "module",
    "function",
    "builtin_function_or_method",
    "instance",
    "_Feature"
   ],
   "window_display": false
  }
 },
 "nbformat": 4,
 "nbformat_minor": 5
}

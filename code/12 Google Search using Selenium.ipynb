{
 "cells": [
  {
   "cell_type": "markdown",
   "id": "2cf142ca",
   "metadata": {},
   "source": [
    "# 구글 검색 결과 수집"
   ]
  },
  {
   "cell_type": "markdown",
   "id": "e274431f",
   "metadata": {},
   "source": [
    "### 관련 라이브러리 호출"
   ]
  },
  {
   "cell_type": "raw",
   "id": "4afcdcc2",
   "metadata": {},
   "source": [
    "# selenium 라이브러리를 설치합니다.\n",
    "!pip install selenium"
   ]
  },
  {
   "cell_type": "code",
   "execution_count": null,
   "id": "8bf76767",
   "metadata": {},
   "outputs": [],
   "source": [
    "# 관련 라이브러리를 호출합니다.\n",
    "from selenium import webdriver\n",
    "from selenium.webdriver.common.keys import Keys\n",
    "from bs4 import BeautifulSoup as bts\n",
    "import pandas as pd\n",
    "import time, os, datetime"
   ]
  },
  {
   "cell_type": "markdown",
   "id": "f4875a0f",
   "metadata": {},
   "source": [
    "### 리모트 드라이버 설정"
   ]
  },
  {
   "cell_type": "code",
   "execution_count": null,
   "id": "2fa777fa",
   "metadata": {},
   "outputs": [],
   "source": [
    "# 크롬 드라이버가 저장된 경로를 지정합니다.\n",
    "# [주의] 반드시 절대경로로 지정해야 합니다.\n",
    "service = webdriver.chrome.service.Service(\n",
    "    executable_path = '/Users/drkevin/Selenium/chromedriver'\n",
    ")"
   ]
  },
  {
   "cell_type": "code",
   "execution_count": null,
   "id": "af4cf719",
   "metadata": {},
   "outputs": [],
   "source": [
    "# 크롬 드라이버 옵션을 설정합니다.\n",
    "options = webdriver.chrome.options.Options()\n",
    "options.add_argument('window-size=1280,1960')"
   ]
  },
  {
   "cell_type": "raw",
   "id": "09b07eaf",
   "metadata": {},
   "source": [
    "# 웹 브라우저를 띄우지 않고, Ghost Driver로 실행합니다.\n",
    "options.add_argument('headless')"
   ]
  },
  {
   "cell_type": "code",
   "execution_count": null,
   "id": "72776716",
   "metadata": {},
   "outputs": [],
   "source": [
    "# 리모트 드라이버를 설정합니다.\n",
    "remote = webdriver.Chrome(service = service, options = options)"
   ]
  },
  {
   "cell_type": "markdown",
   "id": "0d28ca46",
   "metadata": {},
   "source": [
    "### 웹 페이지 열기"
   ]
  },
  {
   "cell_type": "code",
   "execution_count": null,
   "id": "ba29fdc0",
   "metadata": {},
   "outputs": [],
   "source": [
    "# 구글 메인 페이지를 엽니다.\n",
    "remote.get(url = 'https://www.google.com')"
   ]
  },
  {
   "cell_type": "code",
   "execution_count": null,
   "id": "90003e48",
   "metadata": {},
   "outputs": [],
   "source": [
    "# 암묵적으로 최대 3초간 기다립니다.\n",
    "remote.implicitly_wait(time_to_wait = 3)"
   ]
  },
  {
   "cell_type": "code",
   "execution_count": null,
   "id": "d660d7b8",
   "metadata": {},
   "outputs": [],
   "source": [
    "# 무조건 3초간 기다립니다.\n",
    "time.sleep(3)"
   ]
  },
  {
   "cell_type": "markdown",
   "id": "970efaa5",
   "metadata": {},
   "source": [
    "### 검색어 입력"
   ]
  },
  {
   "cell_type": "code",
   "execution_count": null,
   "id": "4d783482",
   "metadata": {},
   "outputs": [],
   "source": [
    "# 검색창을 지정합니다.\n",
    "# [참고] Selenium은 XPath를 사용하는 것이 좋습니다.\n",
    "query = remote.find_element(\n",
    "    by = 'xpath', \n",
    "    value = '//form/div[1]/div[1]/div[1]/div/div[2]/input'\n",
    ")"
   ]
  },
  {
   "cell_type": "code",
   "execution_count": null,
   "id": "88b376a2",
   "metadata": {},
   "outputs": [],
   "source": [
    "# 검색창에 검색어를 입력하고, 엔터를 누릅니다.\n",
    "query.send_keys('빅데이터; 인공지능', Keys.ENTER)"
   ]
  },
  {
   "cell_type": "markdown",
   "id": "572105a9",
   "metadata": {},
   "source": [
    "### 웹 페이지 이동"
   ]
  },
  {
   "cell_type": "code",
   "execution_count": null,
   "id": "5a8f3964",
   "metadata": {},
   "outputs": [],
   "source": [
    "# 현재 페이지의 URL을 출력합니다.\n",
    "remote.current_url"
   ]
  },
  {
   "cell_type": "code",
   "execution_count": null,
   "id": "81a9d83b",
   "metadata": {},
   "outputs": [],
   "source": [
    "# 현재 페이지를 새로고침합니다.\n",
    "remote.refresh()"
   ]
  },
  {
   "cell_type": "code",
   "execution_count": null,
   "id": "3e4bf121",
   "metadata": {},
   "outputs": [],
   "source": [
    "# 이전 페이지로 이동합니다.(뒤로 가기)\n",
    "remote.back()"
   ]
  },
  {
   "cell_type": "code",
   "execution_count": null,
   "id": "3dc7198d",
   "metadata": {},
   "outputs": [],
   "source": [
    "# 다음 페이지로 이동합니다.(앞으로 가기)\n",
    "remote.forward()"
   ]
  },
  {
   "cell_type": "markdown",
   "id": "8bfe4abb",
   "metadata": {},
   "source": [
    "### HTML로 변환"
   ]
  },
  {
   "cell_type": "code",
   "execution_count": null,
   "id": "09d03e84",
   "metadata": {},
   "outputs": [],
   "source": [
    "# 현재 웹 페이지의 HTML을 읽고, html을 생성합니다.\n",
    "html = remote.page_source"
   ]
  },
  {
   "cell_type": "code",
   "execution_count": null,
   "id": "7ac4c3ca",
   "metadata": {},
   "outputs": [],
   "source": [
    "# html을 파싱하여 soup을 생성합니다.\n",
    "soup = bts(markup = html, features = 'html.parser')"
   ]
  },
  {
   "cell_type": "code",
   "execution_count": null,
   "id": "2a065de4",
   "metadata": {},
   "outputs": [],
   "source": [
    "# 검색 결과를 포함하는 HTML 요소를 선택하고, items를 생성합니다.\n",
    "items = soup.select(selector = 'div.yuRUbf')"
   ]
  },
  {
   "cell_type": "code",
   "execution_count": null,
   "id": "d7c2865e",
   "metadata": {},
   "outputs": [],
   "source": [
    "# items의 원소 개수를 확인합니다.\n",
    "len(items)"
   ]
  },
  {
   "cell_type": "markdown",
   "id": "d16446c0",
   "metadata": {},
   "source": [
    "### 웹 페이지 데이터 수집"
   ]
  },
  {
   "cell_type": "code",
   "execution_count": null,
   "id": "365be1c4",
   "metadata": {},
   "outputs": [],
   "source": [
    "# 제목을 수집합니다.\n",
    "head = [item.select(selector = 'h3.LC20lb')[0].text for item in items]"
   ]
  },
  {
   "cell_type": "code",
   "execution_count": null,
   "id": "c4fec611",
   "metadata": {},
   "outputs": [],
   "source": [
    "# 링크를 수집합니다.\n",
    "link = [item.select(selector = 'a')[0]['href'] for item in items]"
   ]
  },
  {
   "cell_type": "code",
   "execution_count": null,
   "id": "5c8dccd2",
   "metadata": {},
   "outputs": [],
   "source": [
    "# 제목과 링크로 데이터프레임을 생성합니다.\n",
    "df = pd.DataFrame(data = {'제목': head, '링크': link})"
   ]
  },
  {
   "cell_type": "code",
   "execution_count": null,
   "id": "83939329",
   "metadata": {},
   "outputs": [],
   "source": [
    "# df의 처음 5행을 출력합니다.\n",
    "df.head()"
   ]
  },
  {
   "cell_type": "markdown",
   "id": "2978a5d8",
   "metadata": {},
   "source": [
    "### 스크롤 이동"
   ]
  },
  {
   "cell_type": "code",
   "execution_count": null,
   "id": "6db4d83f",
   "metadata": {},
   "outputs": [],
   "source": [
    "# 웹 페이지를 아래로 500px 이동합니다.\n",
    "remote.execute_script(script = 'window.scrollBy(0, 500)')"
   ]
  },
  {
   "cell_type": "code",
   "execution_count": null,
   "id": "39a4c4ba",
   "metadata": {},
   "outputs": [],
   "source": [
    "# 웹 페이지를 위로 300px 이동합니다.\n",
    "remote.execute_script(script = 'window.scrollBy(0, -300)')"
   ]
  },
  {
   "cell_type": "code",
   "execution_count": null,
   "id": "bda7a8b9",
   "metadata": {},
   "outputs": [],
   "source": [
    "# 웹 페이지 맨 위로 이동합니다.\n",
    "remote.execute_script(script = 'window.scrollTo(0, 0)')"
   ]
  },
  {
   "cell_type": "code",
   "execution_count": null,
   "id": "c66a67fa",
   "metadata": {},
   "outputs": [],
   "source": [
    "# 웹 페이지 맨 아래로 이동합니다.\n",
    "remote.execute_script(script = 'window.scrollTo(0, document.body.scrollHeight)')"
   ]
  },
  {
   "cell_type": "markdown",
   "id": "8f631bba",
   "metadata": {},
   "source": [
    "### 페이지 네비게이션"
   ]
  },
  {
   "cell_type": "code",
   "execution_count": null,
   "id": "a3e811ba",
   "metadata": {},
   "outputs": [],
   "source": [
    "# 다음 페이지 버튼을 클릭합니다.\n",
    "node = '//*[@id=\"pnnext\"]/span[2]'\n",
    "remote.find_element(by = 'xpath', value = node).click()"
   ]
  },
  {
   "cell_type": "code",
   "execution_count": null,
   "id": "12dd6c49",
   "metadata": {},
   "outputs": [],
   "source": [
    "# 이전 페이지 버튼을 클릭합니다.\n",
    "node = '//*[@id=\"pnprev\"]/span[2]'\n",
    "remote.find_element(by = 'xpath', value = node).click()"
   ]
  },
  {
   "cell_type": "markdown",
   "id": "26eac025",
   "metadata": {},
   "source": [
    "### xlsx 파일로 저장"
   ]
  },
  {
   "cell_type": "code",
   "execution_count": null,
   "id": "37d8bb68",
   "metadata": {},
   "outputs": [],
   "source": [
    "# data 폴더로 작업경로를 변경합니다.\n",
    "os.chdir(path = '../data')"
   ]
  },
  {
   "cell_type": "code",
   "execution_count": null,
   "id": "08c11041",
   "metadata": {},
   "outputs": [],
   "source": [
    "# xlsx 파일명을 설정합니다.\n",
    "today = datetime.datetime.now().strftime('%Y%m%d')\n",
    "fileName = f'Google_Search_{today}.xlsx'"
   ]
  },
  {
   "cell_type": "code",
   "execution_count": null,
   "id": "9e51c924",
   "metadata": {},
   "outputs": [],
   "source": [
    "# df를 xlsx 파일로 저장합니다.\n",
    "df.to_excel(excel_writer = fileName, index = None)"
   ]
  },
  {
   "cell_type": "markdown",
   "id": "a0c651c0",
   "metadata": {},
   "source": [
    "### 리모트 드라이버 닫기"
   ]
  },
  {
   "cell_type": "code",
   "execution_count": null,
   "id": "791aaa40",
   "metadata": {},
   "outputs": [],
   "source": [
    "# 현재 웹 브라우저를 닫습니다.\n",
    "remote.close()"
   ]
  },
  {
   "cell_type": "code",
   "execution_count": null,
   "id": "94d4c452",
   "metadata": {},
   "outputs": [],
   "source": [
    "# 크롬 드라이버를 종료합니다.\n",
    "remote.quit()"
   ]
  },
  {
   "cell_type": "markdown",
   "id": "04ca3753",
   "metadata": {},
   "source": [
    "## End of Document"
   ]
  }
 ],
 "metadata": {
  "kernelspec": {
   "display_name": "Python 3 (ipykernel)",
   "language": "python",
   "name": "python3"
  },
  "language_info": {
   "codemirror_mode": {
    "name": "ipython",
    "version": 3
   },
   "file_extension": ".py",
   "mimetype": "text/x-python",
   "name": "python",
   "nbconvert_exporter": "python",
   "pygments_lexer": "ipython3",
   "version": "3.9.7"
  }
 },
 "nbformat": 4,
 "nbformat_minor": 5
}

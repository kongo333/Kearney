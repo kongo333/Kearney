{
 "cells": [
  {
   "cell_type": "markdown",
   "id": "96237ba2",
   "metadata": {},
   "source": [
    "## 제어문"
   ]
  },
  {
   "cell_type": "markdown",
   "id": "emerging-stevens",
   "metadata": {},
   "source": [
    "### if 조건문"
   ]
  },
  {
   "cell_type": "code",
   "execution_count": null,
   "id": "written-import",
   "metadata": {},
   "outputs": [],
   "source": [
    "# 콘솔에서 값을 입력받고 변수에 문자열로 할당합니다.\n",
    "score = input('점수: ')\n",
    "score"
   ]
  },
  {
   "cell_type": "code",
   "execution_count": null,
   "id": "ecd81cd8",
   "metadata": {},
   "outputs": [],
   "source": [
    "# score를 실수로 변환합니다.\n",
    "score = float(score)\n",
    "score"
   ]
  },
  {
   "cell_type": "code",
   "execution_count": null,
   "id": "moved-diamond",
   "metadata": {},
   "outputs": [],
   "source": [
    "# 조건문을 실행하고 점수에 따라 합격 여부를 출력합니다.\n",
    "if score >= 90:\n",
    "    print('합격')\n",
    "elif score >= 80:\n",
    "    print('재검사')\n",
    "else:\n",
    "    print('불합격')"
   ]
  },
  {
   "cell_type": "markdown",
   "id": "ccd2e0c6",
   "metadata": {},
   "source": [
    "### 조건문에서 에러 발생"
   ]
  },
  {
   "cell_type": "code",
   "execution_count": null,
   "id": "120c6f23",
   "metadata": {},
   "outputs": [],
   "source": [
    "# 관련 라이브러리를 호출합니다.\n",
    "import numpy as np"
   ]
  },
  {
   "cell_type": "code",
   "execution_count": null,
   "id": "bb26b574",
   "metadata": {},
   "outputs": [],
   "source": [
    "# 1차원 배열을 생성합니다.\n",
    "scores = np.array(object = range(60, 101, 10))\n",
    "scores"
   ]
  },
  {
   "cell_type": "code",
   "execution_count": null,
   "id": "bebc1788",
   "metadata": {},
   "outputs": [],
   "source": [
    "# 1차원 배열로 비교 연산한 결과를 출력합니다.\n",
    "scores >= 90"
   ]
  },
  {
   "cell_type": "code",
   "execution_count": null,
   "id": "b0ec93cc",
   "metadata": {},
   "outputs": [],
   "source": [
    "# 1차원 배열의 첫 번째 원소로 비교 연산한 결과를 출력합니다.\n",
    "scores[0] >= 90"
   ]
  },
  {
   "cell_type": "code",
   "execution_count": null,
   "id": "290d8d31",
   "metadata": {},
   "outputs": [],
   "source": [
    "# 1차원 배열로 비교 연산한 코드로 조건문을 실행합니다.\n",
    "if scores >= 90:\n",
    "    print('합격')\n",
    "elif scores >= 80:\n",
    "    print('재검사')\n",
    "else:\n",
    "    print('불합격')"
   ]
  },
  {
   "cell_type": "code",
   "execution_count": null,
   "id": "7bd17202",
   "metadata": {},
   "outputs": [],
   "source": [
    "# 1차원 배열의 첫 번째 원소로 비교 연산한 코드로 조건문을 실행합니다.\n",
    "if scores[0] >= 90:\n",
    "    print('합격')\n",
    "elif scores[0] >= 80:\n",
    "    print('재검사')\n",
    "else:\n",
    "    print('불합격')"
   ]
  },
  {
   "cell_type": "markdown",
   "id": "dominant-indian",
   "metadata": {},
   "source": [
    "### for 반복문"
   ]
  },
  {
   "cell_type": "code",
   "execution_count": null,
   "id": "experimental-forest",
   "metadata": {},
   "outputs": [],
   "source": [
    "# 중식당 메뉴로 리스트를 생성합니다.\n",
    "menu = ['짜장면', '탕수육', '깐풍기', '짬뽕', '전가복', '샥스핀']"
   ]
  },
  {
   "cell_type": "code",
   "execution_count": null,
   "id": "cooked-chase",
   "metadata": {},
   "outputs": [],
   "source": [
    "# 반복문을 사용하여 중식당 메뉴를 차례대로 출력합니다.\n",
    "for item in menu:\n",
    "    print(item)"
   ]
  },
  {
   "cell_type": "code",
   "execution_count": null,
   "id": "intermediate-horror",
   "metadata": {},
   "outputs": [],
   "source": [
    "# 여러 객체를 결합한 문자열을 출력합니다.\n",
    "for item in menu:\n",
    "    print(item, '시킬까요?', sep = ' ', end = '\\n')"
   ]
  },
  {
   "cell_type": "markdown",
   "id": "beac0331",
   "metadata": {},
   "source": [
    "### 반복문에 조건문 추가"
   ]
  },
  {
   "cell_type": "code",
   "execution_count": null,
   "id": "1dc99c50",
   "metadata": {},
   "outputs": [],
   "source": [
    "# 반복문에 조건문을 추가하여 코드를 제어합니다.\n",
    "for item in menu:\n",
    "    print(item, '시킬까요?')\n",
    "    if item in ['짜장면', '짬뽕']:\n",
    "        print('-> 요리부터 주문합시다!')\n",
    "    print('-> 다음 메뉴는 뭔가요?\\n')"
   ]
  },
  {
   "cell_type": "markdown",
   "id": "b1a531bd",
   "metadata": {},
   "source": [
    "### 반복문 제어: continue"
   ]
  },
  {
   "cell_type": "code",
   "execution_count": null,
   "id": "a2214dd5",
   "metadata": {},
   "outputs": [],
   "source": [
    "# 반복문에서 continue를 만나면 아래 코드를 실행하지 않고 처음으로 되돌아갑니다.\n",
    "for item in menu:\n",
    "    print(item, '시킬까요?')\n",
    "    if item in ['짜장면', '짬뽕']:\n",
    "        continue\n",
    "    print('-> 다음 메뉴는 뭔가요?\\n')"
   ]
  },
  {
   "cell_type": "markdown",
   "id": "06113b1a",
   "metadata": {},
   "source": [
    "### 반복문 제어: break"
   ]
  },
  {
   "cell_type": "code",
   "execution_count": null,
   "id": "plain-medication",
   "metadata": {},
   "outputs": [],
   "source": [
    "# 반복문에서 break를 만나면 반복문을 중단합니다.\n",
    "for item in menu:\n",
    "    print(item, '시킬까요?')\n",
    "    if item in ['전가복', '샥스핀']:\n",
    "        break\n",
    "    print('-> 다음 메뉴는 뭔가요?\\n')"
   ]
  },
  {
   "cell_type": "markdown",
   "id": "seven-electronics",
   "metadata": {},
   "source": [
    "### [참고] 중첩 for 반복문"
   ]
  },
  {
   "cell_type": "code",
   "execution_count": null,
   "id": "certified-accordance",
   "metadata": {
    "scrolled": true
   },
   "outputs": [],
   "source": [
    "# 두 리스트의 원소로 가능한 모든 경우의 수를 반복 실행합니다.(구구단 만들기)\n",
    "for i in range(2, 10):\n",
    "    print(f'*** {i}단 ***')\n",
    "    for j in range(1, 10):\n",
    "        print(f'{i} * {j} = {i*j}')\n",
    "    print()\n",
    "print('반복문 실행 완료!')"
   ]
  },
  {
   "cell_type": "markdown",
   "id": "c4cbe765",
   "metadata": {},
   "source": [
    "### 반복문 실행 결과를 리스트로 생성"
   ]
  },
  {
   "cell_type": "code",
   "execution_count": null,
   "id": "3d9cc67b",
   "metadata": {},
   "outputs": [],
   "source": [
    "# for 반복문을 실행하기 전에 값을 저장할 빈 리스트를 미리 생성합니다.\n",
    "sqrs = []\n",
    "\n",
    "# 1~10의 정수를 차례대로 i에 할당하고 아래 코드를 반복 실행합니다.\n",
    "# i를 제곱한 값을 sqrs의 마지막 원소로 추가합니다.\n",
    "# [주의] sqrs를 미리 생성하지 않으면 에러를 반환합니다.\n",
    "for i in range(1, 11):\n",
    "    sqrs.append(i ** 2)\n",
    "    \n",
    "# sqrs를 출력합니다.\n",
    "sqrs"
   ]
  },
  {
   "cell_type": "code",
   "execution_count": null,
   "id": "73cda14b",
   "metadata": {},
   "outputs": [],
   "source": [
    "# sqrs를 다시 빈 리스트로 생성합니다.\n",
    "sqrs = []\n",
    "\n",
    "# 1~10의 정수에서 짝수만 제곱한 값을 원소로 갖는 리스트를 생성합니다.\n",
    "# i가 짝수일 때 i를 제곱한 값을 sqrs의 마지막 원소로 추가합니다.\n",
    "for i in range(1, 11):\n",
    "    if i % 2 == 0:\n",
    "        sqrs.append(i ** 2)\n",
    "    \n",
    "# sqrs를 출력합니다.\n",
    "sqrs"
   ]
  },
  {
   "cell_type": "markdown",
   "id": "noted-patent",
   "metadata": {},
   "source": [
    "### 리스트 컴프리헨션"
   ]
  },
  {
   "cell_type": "code",
   "execution_count": null,
   "id": "chinese-cathedral",
   "metadata": {},
   "outputs": [],
   "source": [
    "# 한 줄 코드로 for 반복문과 같은 결과를 반환합니다.\n",
    "# [참고] 빈 리스트를 미리 생성할 필요가 없습니다.\n",
    "[i ** 2 for i in range(1, 11)]"
   ]
  },
  {
   "cell_type": "code",
   "execution_count": null,
   "id": "russian-record",
   "metadata": {},
   "outputs": [],
   "source": [
    "# 반복문 뒤에 조건문을 추가하면 조건을 만족하는 원소만 리스트에 포함시킵니다.\n",
    "[i ** 2 for i in range(1, 11) if i % 2 == 0]"
   ]
  },
  {
   "cell_type": "code",
   "execution_count": null,
   "id": "dependent-killing",
   "metadata": {
    "scrolled": true
   },
   "outputs": [],
   "source": [
    "# 중첩 for 반복문을 리스트 컴프리헨션으로 실행합니다.\n",
    "[f'{i} * {j} = {i*j}' for i in range(2, 10) for j in range(1, 10)]"
   ]
  },
  {
   "cell_type": "markdown",
   "id": "6a0946ec",
   "metadata": {},
   "source": [
    "### zip() 함수 사용법"
   ]
  },
  {
   "cell_type": "code",
   "execution_count": null,
   "id": "40dbc623",
   "metadata": {},
   "outputs": [],
   "source": [
    "# zip() 함수는 지정한 여러 객체에서 같은 인덱스 원소 쌍을 튜플로 반환합니다.\n",
    "for i in zip(range(2, 10), range(1, 10)):\n",
    "    print(i)"
   ]
  },
  {
   "cell_type": "code",
   "execution_count": null,
   "id": "simplified-professor",
   "metadata": {},
   "outputs": [],
   "source": [
    "# 두 객체에서 같은 인덱스 원소를 i와 j로 받아서 반복문을 실행합니다.\n",
    "# [참고] 튜플 원소를 i와 j로 받도록 튜플을 언패킹합니다.\n",
    "for i, j in zip(range(2, 10), range(1, 10)):\n",
    "    print(f'{i} * {j} = {i*j}')"
   ]
  },
  {
   "cell_type": "markdown",
   "id": "7a6856fc",
   "metadata": {},
   "source": [
    "### enumerate() 함수 사용법"
   ]
  },
  {
   "cell_type": "code",
   "execution_count": null,
   "id": "93b659a5",
   "metadata": {},
   "outputs": [],
   "source": [
    "# enumerate() 함수는 지정한 객체의 인덱스와 원소 쌍을 튜플로 반환합니다.\n",
    "for i in enumerate(range(1, 11)):\n",
    "    print(i)"
   ]
  },
  {
   "cell_type": "code",
   "execution_count": null,
   "id": "2021ffe7",
   "metadata": {},
   "outputs": [],
   "source": [
    "# 객체의 인덱스와 원소를 i와 v로 받아서 반복문을 실행합니다.\n",
    "for i, v in enumerate(range(1, 11)):\n",
    "    print(f'{i}번 인덱스 원소는 {v}입니다.')"
   ]
  },
  {
   "cell_type": "markdown",
   "id": "a3210e84",
   "metadata": {},
   "source": [
    "### 반복문에서 에러 발생"
   ]
  },
  {
   "cell_type": "code",
   "execution_count": null,
   "id": "04a83829",
   "metadata": {},
   "outputs": [],
   "source": [
    "# 반복문 실행 도중 에러가 발생하면 반복문을 중단합니다.\n",
    "for i in range(1, 11):\n",
    "    if i % 3 == 0:\n",
    "        i = str(i)\n",
    "    print(i ** 2)"
   ]
  },
  {
   "cell_type": "markdown",
   "id": "df7de124",
   "metadata": {},
   "source": [
    "### 반복문에 예외 처리 추가"
   ]
  },
  {
   "cell_type": "code",
   "execution_count": null,
   "id": "de265ad5",
   "metadata": {},
   "outputs": [],
   "source": [
    "# 반복문에 예외 처리를 추가하면 도중에 에러가 발생해도 끝까지 실행합니다.\n",
    "for i in range(1, 11):\n",
    "    try:\n",
    "        if i % 3 == 0:\n",
    "            i = str(i)\n",
    "        print(i ** 2)\n",
    "    except Exception as e:\n",
    "        print(e)"
   ]
  },
  {
   "cell_type": "markdown",
   "id": "accredited-asset",
   "metadata": {},
   "source": [
    "### while 반복문"
   ]
  },
  {
   "cell_type": "code",
   "execution_count": null,
   "id": "f460c279",
   "metadata": {},
   "outputs": [],
   "source": [
    "# i에 정수 5를 할당합니다.\n",
    "i = 5"
   ]
  },
  {
   "cell_type": "code",
   "execution_count": null,
   "id": "beginning-constitutional",
   "metadata": {},
   "outputs": [],
   "source": [
    "# while 반복문을 실행하여 i에서 1씩 차감한 값을 출력합니다.\n",
    "while i > 0:\n",
    "    print(i)\n",
    "    i -= 1"
   ]
  },
  {
   "cell_type": "code",
   "execution_count": null,
   "id": "274e7825-f075-4e4e-b06a-c4f5b6b288a9",
   "metadata": {},
   "outputs": [],
   "source": [
    "# i를 출력합니다.\n",
    "print(i)"
   ]
  },
  {
   "cell_type": "markdown",
   "id": "3ee9a658",
   "metadata": {},
   "source": [
    "### while 반복문 제어"
   ]
  },
  {
   "cell_type": "code",
   "execution_count": null,
   "id": "8201e82b",
   "metadata": {},
   "outputs": [],
   "source": [
    "# while 반복문에서 break를 만나면 반복문을 중단합니다.\n",
    "while True:\n",
    "    i += 1\n",
    "    if i >= 10000:\n",
    "        break\n",
    "\n",
    "# i를 출력합니다.\n",
    "print(i)"
   ]
  },
  {
   "cell_type": "markdown",
   "id": "secret-equity",
   "metadata": {},
   "source": [
    "### 사용자 정의 함수"
   ]
  },
  {
   "cell_type": "code",
   "execution_count": null,
   "id": "knowing-combine",
   "metadata": {},
   "outputs": [],
   "source": [
    "# 체질량지수를 반환하는 사용자 정의 함수를 생성합니다.\n",
    "def BMI(hgt, wgt):\n",
    "    bmi = wgt / (hgt/100) ** 2\n",
    "    return bmi"
   ]
  },
  {
   "cell_type": "code",
   "execution_count": null,
   "id": "based-building",
   "metadata": {},
   "outputs": [],
   "source": [
    "# 매개변수 없이 인수만 지정하여 사용자 정의 함수를 실행합니다.\n",
    "BMI(175, 65)"
   ]
  },
  {
   "cell_type": "code",
   "execution_count": null,
   "id": "d1d2f1c8",
   "metadata": {},
   "outputs": [],
   "source": [
    "# 매개변수와 인수를 등호로 연결하면 위치를 바꿔도 실행 결과가 같습니다.\n",
    "BMI(hgt = 175, wgt = 65)"
   ]
  },
  {
   "cell_type": "markdown",
   "id": "4f8e14a7",
   "metadata": {},
   "source": [
    "### 인수의 기본값 설정 및 독스트링 추가"
   ]
  },
  {
   "cell_type": "code",
   "execution_count": null,
   "id": "generic-patrol",
   "metadata": {},
   "outputs": [],
   "source": [
    "# 사용자 정의 함수에서 인수의 기본값을 설정하고 독스트링을 추가합니다.\n",
    "def BMI(hgt = 175, wgt = 65):\n",
    "    '''\n",
    "    This function returns BMI from height(cm) and weight(kg).\n",
    "    '''\n",
    "    return wgt / (hgt/100) ** 2"
   ]
  },
  {
   "cell_type": "code",
   "execution_count": null,
   "id": "stable-maintenance",
   "metadata": {},
   "outputs": [],
   "source": [
    "# 사용자 정의 함수에 인수를 생략하면 인수의 기본값을 적용합니다.\n",
    "BMI()"
   ]
  },
  {
   "cell_type": "markdown",
   "id": "looking-million",
   "metadata": {},
   "source": [
    "### 람다 표현식 사용법"
   ]
  },
  {
   "cell_type": "code",
   "execution_count": null,
   "id": "rural-institute",
   "metadata": {},
   "outputs": [],
   "source": [
    "# 람다 표현식은 한 줄 코드로 함수를 만들 때 사용합니다.\n",
    "BMI2 = lambda hgt, wgt: wgt / (hgt/100) ** 2"
   ]
  },
  {
   "cell_type": "code",
   "execution_count": null,
   "id": "d4f20f62",
   "metadata": {},
   "outputs": [],
   "source": [
    "# 람다 표현식으로 정의한 함수를 실행합니다.\n",
    "BMI2(hgt = 190, wgt = 85)"
   ]
  },
  {
   "cell_type": "code",
   "execution_count": null,
   "id": "harmful-crossing",
   "metadata": {},
   "outputs": [],
   "source": [
    "# 람다 표현식을 괄호로 감싸면 함수처럼 실행할 수 있으므로 익명함수라 합니다.\n",
    "(lambda hgt, wgt: wgt / (hgt/100) ** 2)(190, 85)"
   ]
  },
  {
   "cell_type": "markdown",
   "id": "3e3ff97f",
   "metadata": {},
   "source": [
    "### 기존 함수명과 중복 문제"
   ]
  },
  {
   "cell_type": "code",
   "execution_count": null,
   "id": "e68f2eb8",
   "metadata": {},
   "outputs": [],
   "source": [
    "# 정수의 합을 반환합니다.\n",
    "sum(range(1, 11))"
   ]
  },
  {
   "cell_type": "code",
   "execution_count": null,
   "id": "90a781b4",
   "metadata": {},
   "outputs": [],
   "source": [
    "# 기존 함수와 같은 이름의 사용자 정의 함수를 생성합니다.\n",
    "def sum(x):\n",
    "    y = 0\n",
    "    for i in x:\n",
    "        y -= i\n",
    "    return y"
   ]
  },
  {
   "cell_type": "code",
   "execution_count": null,
   "id": "55ed2c51",
   "metadata": {},
   "outputs": [],
   "source": [
    "# 사용자 정의 함수를 실행하면 수치형 원소를 모두 뺀 결과를 반환합니다.\n",
    "sum(range(1, 11))"
   ]
  },
  {
   "cell_type": "code",
   "execution_count": null,
   "id": "63e9e191",
   "metadata": {},
   "outputs": [],
   "source": [
    "# 전역 변수 목록을 확인합니다.\n",
    "%whos"
   ]
  },
  {
   "cell_type": "code",
   "execution_count": null,
   "id": "de1773ac",
   "metadata": {},
   "outputs": [],
   "source": [
    "# 사용자 정의 함수를 삭제하면 기존 함수를 사용할 수 있습니다.\n",
    "del sum"
   ]
  },
  {
   "cell_type": "code",
   "execution_count": null,
   "id": "7ec4af42",
   "metadata": {},
   "outputs": [],
   "source": [
    "# 기존 함수를 실행합니다.\n",
    "sum(range(1, 11))"
   ]
  },
  {
   "cell_type": "markdown",
   "id": "a02f7135",
   "metadata": {},
   "source": [
    "### [참고] 지역변수를 전역변수로 만들기"
   ]
  },
  {
   "cell_type": "code",
   "execution_count": null,
   "id": "cd666772",
   "metadata": {},
   "outputs": [],
   "source": [
    "# 함수 안에서 생성한 객체는 지역변수이므로 전역변수 목록(메모리)에 추가되지 않지만 \n",
    "# global 키워드를 사용하면 지역변수를 전역변수로 생성합니다.\n",
    "def BMI(hgt = 175, wgt = 65):\n",
    "    global bmi\n",
    "    bmi = wgt / (hgt/100) ** 2\n",
    "    return bmi"
   ]
  },
  {
   "cell_type": "code",
   "execution_count": null,
   "id": "3a045286",
   "metadata": {},
   "outputs": [],
   "source": [
    "# 아래 코드를 실행하면 전역변수 목록에 bmi와 bmi2라는 변수를 동시에 추가합니다.\n",
    "bmi2 = BMI()"
   ]
  },
  {
   "cell_type": "code",
   "execution_count": null,
   "id": "38da74e2",
   "metadata": {},
   "outputs": [],
   "source": [
    "# 전역 변수 목록을 확인합니다.\n",
    "%whos"
   ]
  },
  {
   "cell_type": "markdown",
   "id": "258c1d3d",
   "metadata": {},
   "source": [
    "### 함수에 정의한 인수 누락 에러"
   ]
  },
  {
   "cell_type": "code",
   "execution_count": null,
   "id": "f6fd57f3",
   "metadata": {},
   "outputs": [],
   "source": [
    "# 함수를 정의할 때 입력받을 매개변수를 나열합니다.\n",
    "def printValues1(a, b, c):\n",
    "    for i in (a, b, c):\n",
    "        print(i)"
   ]
  },
  {
   "cell_type": "code",
   "execution_count": null,
   "id": "ae2fdf06",
   "metadata": {},
   "outputs": [],
   "source": [
    "# 함수에서 정의한 매개변수 개수만큼 인수를 지정합니다.\n",
    "printValues1(a = 1, b = 2, c = 3)"
   ]
  },
  {
   "cell_type": "code",
   "execution_count": null,
   "id": "707bf143",
   "metadata": {},
   "outputs": [],
   "source": [
    "# c 매개변수(위치 인수)를 누락했으므로 에러를 반환합니다.\n",
    "printValues1(a = 1, b = 2)"
   ]
  },
  {
   "cell_type": "markdown",
   "id": "6388906f",
   "metadata": {},
   "source": [
    "### 여러 인수를 튜플로 받는 함수"
   ]
  },
  {
   "cell_type": "code",
   "execution_count": null,
   "id": "b40b6a05",
   "metadata": {},
   "outputs": [],
   "source": [
    "# 함수를 정의할 때 매개변수 대신 가변 인수 *args를 지정합니다.\n",
    "# [참고] args는 인수를 튜플로 전달받습니다.\n",
    "def printValues2(*args):\n",
    "    for i in args:\n",
    "        print(i)"
   ]
  },
  {
   "cell_type": "code",
   "execution_count": null,
   "id": "cfa04450",
   "metadata": {},
   "outputs": [],
   "source": [
    "# 함수의 괄호 안에 원하는 개수만큼 인수를 지정할 수 있습니다.\n",
    "# [주의] a = 1과 같이 키워드 인수로 지정하면 에러를 반환합니다.\n",
    "printValues2(1, 2, 3)"
   ]
  },
  {
   "cell_type": "code",
   "execution_count": null,
   "id": "259b4c64",
   "metadata": {},
   "outputs": [],
   "source": [
    "# 인수를 2개 지정해도 에러를 반환하지 않습니다.\n",
    "printValues2(1, 2)"
   ]
  },
  {
   "cell_type": "markdown",
   "id": "bcf2a16f",
   "metadata": {},
   "source": [
    "### 여러 인수를 딕셔너리로 받는 함수"
   ]
  },
  {
   "cell_type": "code",
   "execution_count": null,
   "id": "49e5ed9e",
   "metadata": {},
   "outputs": [],
   "source": [
    "# 함수를 정의할 때 매개변수 대신 키워드 가변 인수 **kwargs를 지정합니다.\n",
    "# [참고] kwargs는 키워드 인수를 딕셔너리로 전달받습니다.\n",
    "def printValues3(**kwargs):\n",
    "    for k, v in kwargs.items():\n",
    "        print(f'{k}은(는) {v}입니다.')"
   ]
  },
  {
   "cell_type": "code",
   "execution_count": null,
   "id": "20abe55d",
   "metadata": {},
   "outputs": [],
   "source": [
    "# 함수의 괄호 안에 dict() 클래스 함수처럼 키와 값을 등호로 연결하여 지정합니다.\n",
    "printValues3(메뉴 = '순대국')"
   ]
  },
  {
   "cell_type": "code",
   "execution_count": null,
   "id": "6a29fde5",
   "metadata": {},
   "outputs": [],
   "source": [
    "# 키워드 인수를 여러 개 지정할 수 있습니다.\n",
    "printValues3(메뉴 = '순대국', 가격 = 9000)"
   ]
  },
  {
   "cell_type": "markdown",
   "id": "fe2df9a1",
   "metadata": {},
   "source": [
    "### 사용자 정의 함수 모듈 호출"
   ]
  },
  {
   "cell_type": "code",
   "execution_count": null,
   "id": "4c3939c3",
   "metadata": {},
   "outputs": [],
   "source": [
    "# myFuncs 모듈을 호출합니다.\n",
    "import myFuncs"
   ]
  },
  {
   "cell_type": "code",
   "execution_count": null,
   "id": "44a06511",
   "metadata": {},
   "outputs": [],
   "source": [
    "# 전역 변수 목록을 표로 출력하면 myFuncs 모듈을 확인할 수 있습니다.\n",
    "%whos"
   ]
  },
  {
   "cell_type": "code",
   "execution_count": null,
   "id": "47762bd6",
   "metadata": {},
   "outputs": [],
   "source": [
    "# 함수명 앞에 myFuncs를 추가해야 함수를 실행할 수 있습니다.\n",
    "myFuncs.printValues3(메뉴 = '순대국', 가격 = 9000)"
   ]
  },
  {
   "cell_type": "code",
   "execution_count": null,
   "id": "0271ffc3",
   "metadata": {},
   "outputs": [],
   "source": [
    "# myFuncs 모듈을 mf라는 가명으로 호출합니다.\n",
    "import myFuncs as mf"
   ]
  },
  {
   "cell_type": "code",
   "execution_count": null,
   "id": "68f3c560",
   "metadata": {},
   "outputs": [],
   "source": [
    "# 전역 변수 목록을 표로 출력하면 mf 모듈을 확인할 수 있습니다.\n",
    "%whos"
   ]
  },
  {
   "cell_type": "code",
   "execution_count": null,
   "id": "a4ba0ea7",
   "metadata": {},
   "outputs": [],
   "source": [
    "# 함수명 앞에 mf를 추가해야 함수를 실행할 수 있습니다.\n",
    "mf.printValues3(메뉴 = '순대국', 가격 = 9000)"
   ]
  },
  {
   "cell_type": "code",
   "execution_count": null,
   "id": "e8be3774",
   "metadata": {},
   "outputs": [],
   "source": [
    "# myFuncs 모듈에서 일부 함수만 호출합니다.\n",
    "# [참고] 호출할 함수가 여러 개일 때 콤마로 나열합니다.\n",
    "from myFuncs import printValues3"
   ]
  },
  {
   "cell_type": "code",
   "execution_count": null,
   "id": "ae1c353c",
   "metadata": {},
   "outputs": [],
   "source": [
    "# 전역 변수 목록을 표로 출력하면 printValues3 함수를 확인할 수 있습니다.\n",
    "%whos"
   ]
  },
  {
   "cell_type": "code",
   "execution_count": null,
   "id": "c4269629",
   "metadata": {},
   "outputs": [],
   "source": [
    "# 함수명 앞에 모듈명을 추가할 수 없습니다.\n",
    "printValues3(메뉴 = '순대국', 가격 = 9000)"
   ]
  },
  {
   "cell_type": "markdown",
   "id": "alive-supply",
   "metadata": {},
   "source": [
    "## End of Document"
   ]
  }
 ],
 "metadata": {
  "kernelspec": {
   "display_name": "Python 3",
   "language": "python",
   "name": "python3"
  },
  "language_info": {
   "codemirror_mode": {
    "name": "ipython",
    "version": 3
   },
   "file_extension": ".py",
   "mimetype": "text/x-python",
   "name": "python",
   "nbconvert_exporter": "python",
   "pygments_lexer": "ipython3",
   "version": "3.10.8"
  },
  "toc": {
   "base_numbering": 1,
   "nav_menu": {},
   "number_sections": false,
   "sideBar": true,
   "skip_h1_title": false,
   "title_cell": "Table of Contents",
   "title_sidebar": "Contents",
   "toc_cell": false,
   "toc_position": {},
   "toc_section_display": true,
   "toc_window_display": false
  },
  "varInspector": {
   "cols": {
    "lenName": 16,
    "lenType": 16,
    "lenVar": 40
   },
   "kernels_config": {
    "python": {
     "delete_cmd_postfix": "",
     "delete_cmd_prefix": "del ",
     "library": "var_list.py",
     "varRefreshCmd": "print(var_dic_list())"
    },
    "r": {
     "delete_cmd_postfix": ") ",
     "delete_cmd_prefix": "rm(",
     "library": "var_list.r",
     "varRefreshCmd": "cat(var_dic_list()) "
    }
   },
   "types_to_exclude": [
    "module",
    "function",
    "builtin_function_or_method",
    "instance",
    "_Feature"
   ],
   "window_display": false
  }
 },
 "nbformat": 4,
 "nbformat_minor": 5
}

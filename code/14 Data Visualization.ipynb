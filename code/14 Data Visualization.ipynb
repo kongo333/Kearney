{
 "cells": [
  {
   "cell_type": "markdown",
   "id": "4a126b4d",
   "metadata": {},
   "source": [
    "# 데이터 시각화"
   ]
  },
  {
   "cell_type": "markdown",
   "id": "2edc0eb7",
   "metadata": {},
   "source": [
    "### 실습 데이터셋 준비"
   ]
  },
  {
   "cell_type": "code",
   "execution_count": null,
   "id": "36550452",
   "metadata": {},
   "outputs": [],
   "source": [
    "# 관련 라이브러리를 호출합니다.\n",
    "import os, chardet\n",
    "import numpy as np\n",
    "import pandas as pd"
   ]
  },
  {
   "cell_type": "code",
   "execution_count": null,
   "id": "cb66b080",
   "metadata": {},
   "outputs": [],
   "source": [
    "# 현재 작업 경로를 확인합니다.\n",
    "os.getcwd()"
   ]
  },
  {
   "cell_type": "code",
   "execution_count": null,
   "id": "479ac0b2",
   "metadata": {},
   "outputs": [],
   "source": [
    "# data 폴더로 작업 경로를 변경합니다.\n",
    "os.chdir(path = '../data')"
   ]
  },
  {
   "cell_type": "code",
   "execution_count": null,
   "id": "c5aea48f",
   "metadata": {},
   "outputs": [],
   "source": [
    "# 현재 작업 경로에 포함되어 있는 폴더명과 파일명을 출력합니다.\n",
    "os.listdir()"
   ]
  },
  {
   "cell_type": "code",
   "execution_count": null,
   "id": "60ae513d",
   "metadata": {},
   "outputs": [],
   "source": [
    "# csv 파일명을 변수에 할당합니다.\n",
    "fileName = 'APT_List_Seoul_2021.csv'"
   ]
  },
  {
   "cell_type": "code",
   "execution_count": null,
   "id": "6740a3c6",
   "metadata": {},
   "outputs": [],
   "source": [
    "# csv 파일을 바이너리 모드로 읽습니다.\n",
    "raw = open(file = fileName, mode = 'rb').read()"
   ]
  },
  {
   "cell_type": "code",
   "execution_count": null,
   "id": "d67814c8",
   "metadata": {},
   "outputs": [],
   "source": [
    "# csv 파일의 문자 인코딩 방식을 확인합니다.\n",
    "chardet.detect(raw[:100])"
   ]
  },
  {
   "cell_type": "code",
   "execution_count": null,
   "id": "c8a71c58",
   "metadata": {},
   "outputs": [],
   "source": [
    "# csv 파일을 읽고 데이터프레임을 생성합니다.\n",
    "apt = pd.read_csv(filepath_or_buffer = fileName, \n",
    "                  parse_dates = ['거래일'])"
   ]
  },
  {
   "cell_type": "code",
   "execution_count": null,
   "id": "2ba64e93",
   "metadata": {
    "scrolled": false
   },
   "outputs": [],
   "source": [
    "# apt의 정보를 확인합니다.\n",
    "apt.info()"
   ]
  },
  {
   "cell_type": "markdown",
   "id": "sound-defense",
   "metadata": {},
   "source": [
    "### 관련 라이브러리 호출"
   ]
  },
  {
   "cell_type": "code",
   "execution_count": null,
   "id": "verified-houston",
   "metadata": {},
   "outputs": [],
   "source": [
    "# 관련 라이브러리를 호출합니다.\n",
    "import seaborn as sns\n",
    "import matplotlib.pyplot as plt\n",
    "import matplotlib.font_manager as fm\n",
    "%matplotlib inline"
   ]
  },
  {
   "cell_type": "markdown",
   "id": "imposed-slave",
   "metadata": {},
   "source": [
    "### 한글폰트명 탐색"
   ]
  },
  {
   "cell_type": "code",
   "execution_count": null,
   "id": "separated-donna",
   "metadata": {},
   "outputs": [],
   "source": [
    "# 컴퓨터에 설치된 폰트파일명을 리스트로 반환합니다.\n",
    "fontList = fm.findSystemFonts(fontext = 'ttf')"
   ]
  },
  {
   "cell_type": "code",
   "execution_count": null,
   "id": "informational-giant",
   "metadata": {},
   "outputs": [],
   "source": [
    "# 특정 문자열이 포함된 파일명만 선택합니다.\n",
    "fontPath = [font for font in fontList if 'Gamja' in font]"
   ]
  },
  {
   "cell_type": "code",
   "execution_count": null,
   "id": "88c6a3c5",
   "metadata": {},
   "outputs": [],
   "source": [
    "# fontPath를 오름차순으로 정렬합니다.\n",
    "fontPath.sort()"
   ]
  },
  {
   "cell_type": "code",
   "execution_count": null,
   "id": "eleven-wound",
   "metadata": {},
   "outputs": [],
   "source": [
    "# 반복문으로 fontPath 원소를 출력하고 사용할 한글폰트명을 선택합니다.\n",
    "for font in fontPath:\n",
    "    print(fm.FontProperties(fname = font).get_name())"
   ]
  },
  {
   "cell_type": "markdown",
   "id": "378d8068",
   "metadata": {},
   "source": [
    "### 그래픽 파라미터 설정"
   ]
  },
  {
   "cell_type": "code",
   "execution_count": null,
   "id": "positive-reasoning",
   "metadata": {},
   "outputs": [],
   "source": [
    "# 그래프의 크기 및 해상도를 설정합니다.\n",
    "plt.rc(group = 'figure', figsize = (12, 6), dpi = 100)"
   ]
  },
  {
   "cell_type": "code",
   "execution_count": null,
   "id": "849c71a8",
   "metadata": {},
   "outputs": [],
   "source": [
    "# 선 굵기 및 스타일을 설정합니다.\n",
    "plt.rc(group = 'lines', linewidth = 0.5, linestyle = '-')"
   ]
  },
  {
   "cell_type": "code",
   "execution_count": null,
   "id": "sized-citation",
   "metadata": {},
   "outputs": [],
   "source": [
    "# 한글폰트 및 글자 크기를 설정합니다.\n",
    "plt.rc(group = 'font', family = 'Gamja Flower', size = 10)"
   ]
  },
  {
   "cell_type": "code",
   "execution_count": null,
   "id": "d79dbc92",
   "metadata": {},
   "outputs": [],
   "source": [
    "# 한글폰트에는 마이너스 기호가 없으므로 축에 출력되지 않도록 설정합니다.\n",
    "plt.rc(group = 'axes', unicode_minus = False)"
   ]
  },
  {
   "cell_type": "markdown",
   "id": "8dde36cd",
   "metadata": {},
   "source": [
    "### [참고] 한글이 네모로 출력되는 에러 해결 방법"
   ]
  },
  {
   "cell_type": "raw",
   "id": "c64c4b26",
   "metadata": {},
   "source": [
    "# 관련 라이브러리를 호출합니다.\n",
    "import matplotlib, glob"
   ]
  },
  {
   "cell_type": "raw",
   "id": "01af09c3",
   "metadata": {},
   "source": [
    "# matplotlib 라이브러리의 임시 폴더의 경로로 path를 생성합니다.\n",
    "path = matplotlib.get_cachedir()"
   ]
  },
  {
   "cell_type": "raw",
   "id": "b56e8c94",
   "metadata": {},
   "source": [
    "# 폰트 목록을 담고 있는 JSON 파일명으로 file을 생성합니다.\n",
    "file = glob.glob(pathname = f'{path}/fontlist-*.json')[0]"
   ]
  },
  {
   "cell_type": "raw",
   "id": "5adcd506",
   "metadata": {},
   "source": [
    "# matplotlib 라이브러리의 임시 폴더에 있는 JSON 파일을 삭제합니다.\n",
    "os.remove(path = file)"
   ]
  },
  {
   "cell_type": "markdown",
   "id": "ae31677a",
   "metadata": {},
   "source": [
    "### 그래픽 파라미터 설정 관련 모듈 생성"
   ]
  },
  {
   "cell_type": "raw",
   "id": "f351573f",
   "metadata": {},
   "source": [
    "# 관련 모듈을 호출합니다.\n",
    "from GraphicSetting import *"
   ]
  },
  {
   "cell_type": "markdown",
   "id": "90081572",
   "metadata": {},
   "source": [
    "### 히스토그램 계급 생성"
   ]
  },
  {
   "cell_type": "code",
   "execution_count": null,
   "id": "a9f85a96",
   "metadata": {},
   "outputs": [],
   "source": [
    "# 거래금액의 기술 통계량을 확인합니다.\n",
    "apt['거래금액'].describe()"
   ]
  },
  {
   "cell_type": "code",
   "execution_count": null,
   "id": "dimensional-bermuda",
   "metadata": {},
   "outputs": [],
   "source": [
    "# 거래금액의 최솟값과 최댓값을 확인합니다.\n",
    "apt['거래금액'].describe()[['min', 'max']]"
   ]
  },
  {
   "cell_type": "code",
   "execution_count": null,
   "id": "detected-revision",
   "metadata": {},
   "outputs": [],
   "source": [
    "# 히스토그램 계급(막대의 경계)을 설정합니다.\n",
    "bins = np.arange(start = 0, stop = 121, step = 2)"
   ]
  },
  {
   "cell_type": "code",
   "execution_count": null,
   "id": "8d5643ad",
   "metadata": {},
   "outputs": [],
   "source": [
    "# 히스토그램 계급을 출력합니다.\n",
    "bins"
   ]
  },
  {
   "cell_type": "markdown",
   "id": "located-cricket",
   "metadata": {},
   "source": [
    "### 히스토그램 그리기"
   ]
  },
  {
   "cell_type": "code",
   "execution_count": null,
   "id": "certain-organic",
   "metadata": {},
   "outputs": [],
   "source": [
    "# 거래금액의 분포를 히스토그램으로 시각화합니다.\n",
    "sns.histplot(data = apt, x = '거래금액', bins = bins, color = '1', edgecolor = '0')\n",
    "plt.axvline(x = 10, color = 'red', linewidth = 1.5)\n",
    "plt.title(label = '거래금액의 분포');"
   ]
  },
  {
   "cell_type": "markdown",
   "id": "3b278898",
   "metadata": {},
   "source": [
    "### 히스토그램에 KDE 밀도 곡선 추가"
   ]
  },
  {
   "cell_type": "code",
   "execution_count": null,
   "id": "bf89f502",
   "metadata": {},
   "outputs": [],
   "source": [
    "# 히스토그램의 y축을 빈도수 대신 밀도로 변경합니다.\n",
    "sns.histplot(data = apt, x = '거래금액', bins = bins, \n",
    "             color = '1', edgecolor = '0.8', \n",
    "             stat = 'density')\n",
    "\n",
    "# 히스토그램에 KDE 밀도 곡선을 추가합니다.\n",
    "sns.kdeplot(data = apt, x = '거래금액', color = 'red', \n",
    "            linewidth = 1, linestyle = '--');"
   ]
  },
  {
   "cell_type": "markdown",
   "id": "580304ab",
   "metadata": {},
   "source": [
    "### [참고] 색상 목록"
   ]
  },
  {
   "cell_type": "code",
   "execution_count": null,
   "id": "2e769e42",
   "metadata": {},
   "outputs": [],
   "source": [
    "# 관련 라이브러리를 호출합니다.\n",
    "import matplotlib.colors as mcolors"
   ]
  },
  {
   "cell_type": "code",
   "execution_count": null,
   "id": "490166f3",
   "metadata": {
    "scrolled": true
   },
   "outputs": [],
   "source": [
    "# 148가지 색이름과 Hex Code를 딕셔너리로 출력합니다.\n",
    "mcolors.CSS4_COLORS"
   ]
  },
  {
   "cell_type": "markdown",
   "id": "69cd11d0",
   "metadata": {},
   "source": [
    "### 히스토그램을 겹쳐서 그리기"
   ]
  },
  {
   "cell_type": "code",
   "execution_count": null,
   "id": "approved-garlic",
   "metadata": {},
   "outputs": [],
   "source": [
    "# 관심 있는 자치구 3개를 선택하여 top3를 생성합니다.\n",
    "top3 = apt[apt['자치구'].str.contains(pat = '강남|서초|송파')].copy()"
   ]
  },
  {
   "cell_type": "code",
   "execution_count": null,
   "id": "incorporated-profile",
   "metadata": {},
   "outputs": [],
   "source": [
    "# 거래금액의 최솟값과 최댓값을 확인합니다.\n",
    "top3['거래금액'].describe()[['min', 'max']]"
   ]
  },
  {
   "cell_type": "code",
   "execution_count": null,
   "id": "metropolitan-province",
   "metadata": {},
   "outputs": [],
   "source": [
    "# 히스토그램의 계급을 설정합니다.\n",
    "bins = np.arange(start = 0, stop = 116, step = 1)"
   ]
  },
  {
   "cell_type": "code",
   "execution_count": null,
   "id": "fixed-duplicate",
   "metadata": {},
   "outputs": [],
   "source": [
    "# 특정 변수의 값에 따라 히스토그램의 색을 다르게 겹쳐서 그립니다.\n",
    "sns.histplot(data = top3, x = '거래금액', bins = bins, \n",
    "             hue = '자치구', palette = 'Dark2');"
   ]
  },
  {
   "cell_type": "markdown",
   "id": "9c6bb10f",
   "metadata": {},
   "source": [
    "### 히스토그램을 나눠서 그리기"
   ]
  },
  {
   "cell_type": "code",
   "execution_count": null,
   "id": "beneficial-incident",
   "metadata": {},
   "outputs": [],
   "source": [
    "# 특정 변수의 값에 따라 히스토그램을 가로 방향으로 나눠서 그립니다.\n",
    "sns.displot(data = top3, x = '거래금액', bins = bins, \n",
    "            hue = '자치구', palette = 'Dark2', \n",
    "            col = '자치구', legend = False);"
   ]
  },
  {
   "cell_type": "code",
   "execution_count": null,
   "id": "cdd2c49c",
   "metadata": {
    "scrolled": true
   },
   "outputs": [],
   "source": [
    "# 특정 변수의 값에 따라 히스토그램을 세로 방향으로 나눠서 그립니다.\n",
    "sns.displot(data = top3, x = '거래금액', bins = bins, \n",
    "            hue = '자치구', palette = 'Dark2', \n",
    "            row = '자치구', legend = False);"
   ]
  },
  {
   "cell_type": "markdown",
   "id": "lesser-adapter",
   "metadata": {},
   "source": [
    "### [참고] 컬러맵(팔레트) 목록 및 색상 확인"
   ]
  },
  {
   "cell_type": "code",
   "execution_count": null,
   "id": "expensive-print",
   "metadata": {},
   "outputs": [],
   "source": [
    "# pyplot 모듈에서 제공되는 컬러맵 목록을 출력합니다.\n",
    "dir(plt.cm)"
   ]
  },
  {
   "cell_type": "code",
   "execution_count": null,
   "id": "obvious-syracuse",
   "metadata": {},
   "outputs": [],
   "source": [
    "# 기본 팔레트 색을 출력합니다.\n",
    "sns.color_palette(palette = 'tab10')"
   ]
  },
  {
   "cell_type": "code",
   "execution_count": null,
   "id": "constant-prison",
   "metadata": {},
   "outputs": [],
   "source": [
    "# 관심 있는 팔레트의 색을 출력합니다.\n",
    "sns.color_palette(palette = 'Dark2')"
   ]
  },
  {
   "cell_type": "code",
   "execution_count": null,
   "id": "vietnamese-hebrew",
   "metadata": {},
   "outputs": [],
   "source": [
    "# 출력할 색의 개수를 설정합니다.\n",
    "sns.color_palette(palette = 'Dark2', n_colors = 10)"
   ]
  },
  {
   "cell_type": "markdown",
   "id": "a40e7731",
   "metadata": {},
   "source": [
    "### [참고] 사용자 팔레트 생성"
   ]
  },
  {
   "cell_type": "code",
   "execution_count": null,
   "id": "274ed003",
   "metadata": {},
   "outputs": [],
   "source": [
    "# 색이름을 원소로 갖는 리스트를 생성합니다.\n",
    "colors = ['skyblue', 'orange', 'purple']"
   ]
  },
  {
   "cell_type": "code",
   "execution_count": null,
   "id": "f55d8df8",
   "metadata": {},
   "outputs": [],
   "source": [
    "# 색이름 리스트를 기본 팔레트로 설정합니다.\n",
    "myPal = sns.set_palette(palette = colors)"
   ]
  },
  {
   "cell_type": "code",
   "execution_count": null,
   "id": "336b8b73",
   "metadata": {},
   "outputs": [],
   "source": [
    "# 기존 그래프에 사용자 팔레트를 적용합니다.\n",
    "sns.displot(data = top3, x = '거래금액', bins = bins, \n",
    "            hue = '자치구', palette = myPal, \n",
    "            col = '자치구', legend = False);"
   ]
  },
  {
   "cell_type": "markdown",
   "id": "incorrect-tonight",
   "metadata": {},
   "source": [
    "### 상자 수염 그림 그리기"
   ]
  },
  {
   "cell_type": "code",
   "execution_count": null,
   "id": "2bb86c0d",
   "metadata": {},
   "outputs": [],
   "source": [
    "# 이상치의 모양, 크기 및 채우기/테두리 색을 딕셔너리로 설정합니다.\n",
    "flierprops = {'marker': 'd', \n",
    "              'markersize': 5, \n",
    "              'markerfacecolor': 'pink',\n",
    "              'markeredgecolor': 'red'}"
   ]
  },
  {
   "cell_type": "code",
   "execution_count": null,
   "id": "destroyed-afternoon",
   "metadata": {},
   "outputs": [],
   "source": [
    "# 거래금액으로 상자 수염 그림을 그립니다.\n",
    "sns.boxplot(data = apt, y = '거래금액', color = '0.8', flierprops = flierprops);"
   ]
  },
  {
   "cell_type": "markdown",
   "id": "8566b93e",
   "metadata": {},
   "source": [
    "### 이변량 상자 수염 그림 그리기"
   ]
  },
  {
   "cell_type": "code",
   "execution_count": null,
   "id": "6c2af0f2",
   "metadata": {},
   "outputs": [],
   "source": [
    "# 자치구별 거래금액의 중위수로 sigg를 생성합니다.\n",
    "sigg = apt.groupby(by = ['자치구']).median()['거래금액']\n",
    "sigg.head()"
   ]
  },
  {
   "cell_type": "code",
   "execution_count": null,
   "id": "fe1c1e62",
   "metadata": {},
   "outputs": [],
   "source": [
    "# sigg를 오름차순으로 정렬합니다.\n",
    "sigg = sigg.sort_values()"
   ]
  },
  {
   "cell_type": "code",
   "execution_count": null,
   "id": "4cc2b4c3",
   "metadata": {},
   "outputs": [],
   "source": [
    "# 자치구를 x축, 거래금액을 y축에 놓고 이변량 상자 수염 그림을 그립니다.\n",
    "sns.boxplot(data = apt, x = '자치구', y = '거래금액', \n",
    "            order = sigg.index)\n",
    "plt.xticks(rotation = 30);"
   ]
  },
  {
   "cell_type": "markdown",
   "id": "victorian-listening",
   "metadata": {},
   "source": [
    "### 일변량 막대그래프 그리기"
   ]
  },
  {
   "cell_type": "code",
   "execution_count": null,
   "id": "f2337b4a",
   "metadata": {},
   "outputs": [],
   "source": [
    "# 자치구별 거래금액의 빈도수로 sigg를 생성합니다.\n",
    "sigg = apt.groupby(by = ['자치구']).count()['거래금액']\n",
    "sigg.head()"
   ]
  },
  {
   "cell_type": "code",
   "execution_count": null,
   "id": "8a888218",
   "metadata": {},
   "outputs": [],
   "source": [
    "# sigg를 내림차순으로 정렬합니다.\n",
    "sigg = sigg.sort_values(ascending = False)"
   ]
  },
  {
   "cell_type": "code",
   "execution_count": null,
   "id": "5312fcf1",
   "metadata": {},
   "outputs": [],
   "source": [
    "# 자치구별 빈도수로 막대그래프를 그립니다.\n",
    "sns.countplot(data = apt, x = '자치구', order = sigg.index)\n",
    "plt.ylim(0, 4000)\n",
    "plt.xticks(rotation = 30);"
   ]
  },
  {
   "cell_type": "code",
   "execution_count": null,
   "id": "4cc15ced",
   "metadata": {},
   "outputs": [],
   "source": [
    "# 막대 위에 자치구별 빈도수를 텍스트로 추가합니다.\n",
    "sns.countplot(data = apt, x = '자치구', order = sigg.index)\n",
    "\n",
    "for index, value in enumerate(sigg):\n",
    "    plt.text(x = index, y = value + 50, s = value, \n",
    "             ha = 'center', va = 'bottom')\n",
    "\n",
    "plt.ylim(0, 4000)\n",
    "plt.xticks(rotation = 30);"
   ]
  },
  {
   "cell_type": "markdown",
   "id": "4207726a",
   "metadata": {},
   "source": [
    "### 이변량 막대그래프 그리기"
   ]
  },
  {
   "cell_type": "code",
   "execution_count": null,
   "id": "73afd607",
   "metadata": {},
   "outputs": [],
   "source": [
    "# 자치구별 거래금액의 평균으로 sigg를 생성합니다.\n",
    "sigg = apt.groupby(by = ['자치구']).mean()['거래금액']\n",
    "sigg.head()"
   ]
  },
  {
   "cell_type": "code",
   "execution_count": null,
   "id": "de19d445",
   "metadata": {},
   "outputs": [],
   "source": [
    "# sigg의 값을 반올림하여 소수점 첫째 자리까지 남기고 내림차순으로 정렬합니다.\n",
    "sigg = sigg.round(1).sort_values(ascending = False)"
   ]
  },
  {
   "cell_type": "code",
   "execution_count": null,
   "id": "84ab7258",
   "metadata": {},
   "outputs": [],
   "source": [
    "# 자치구별 거래금액의 평균으로 막대그래프를 그립니다.\n",
    "sns.barplot(data = apt, x = '자치구', y = '거래금액', \n",
    "            order = sigg.index, estimator = np.mean, ci = None)\n",
    "plt.ylim(0, 22)\n",
    "plt.xticks(rotation = 30);"
   ]
  },
  {
   "cell_type": "code",
   "execution_count": null,
   "id": "836c815c",
   "metadata": {},
   "outputs": [],
   "source": [
    "# 막대 위에 거래금액의 평균을 텍스트로 추가합니다.\n",
    "sns.barplot(data = apt, x = '자치구', y = '거래금액', \n",
    "            order = sigg.index, estimator = 'mean', ci = None)\n",
    "\n",
    "for index, value in enumerate(sigg):\n",
    "    plt.text(x = index, y = value + 0.2, s = value, \n",
    "             ha = 'center', va = 'bottom')\n",
    "\n",
    "plt.ylim(0, 22)\n",
    "plt.xticks(rotation = 30);"
   ]
  },
  {
   "cell_type": "markdown",
   "id": "artistic-hometown",
   "metadata": {},
   "source": [
    "### 선그래프 그리기"
   ]
  },
  {
   "cell_type": "code",
   "execution_count": null,
   "id": "collect-credit",
   "metadata": {},
   "outputs": [],
   "source": [
    "# apt에 거래월을 추가합니다.\n",
    "apt['거래월'] = apt['거래일'].dt.month"
   ]
  },
  {
   "cell_type": "code",
   "execution_count": null,
   "id": "b1336848",
   "metadata": {},
   "outputs": [],
   "source": [
    "# apt의 처음 5행을 출력합니다.\n",
    "apt.head()"
   ]
  },
  {
   "cell_type": "code",
   "execution_count": null,
   "id": "corporate-times",
   "metadata": {},
   "outputs": [],
   "source": [
    "# 거래월별 거래금액의 평균으로 선그래프를 그립니다.\n",
    "sns.lineplot(data = apt, x = '거래월', y = '거래금액', color = 'red', \n",
    "             markers = True, style = 1, legend = False, \n",
    "             estimator = 'mean', ci = None);"
   ]
  },
  {
   "cell_type": "markdown",
   "id": "64e9411a",
   "metadata": {},
   "source": [
    "### [참고] x축 눈금명 변경"
   ]
  },
  {
   "cell_type": "code",
   "execution_count": null,
   "id": "92f36ef9",
   "metadata": {},
   "outputs": [],
   "source": [
    "# x축 눈금명을 생성합니다.\n",
    "months = [f'{str(i)}월' for i in range(1, 13)]\n",
    "months"
   ]
  },
  {
   "cell_type": "code",
   "execution_count": null,
   "id": "b3d57fe9",
   "metadata": {},
   "outputs": [],
   "source": [
    "# 선그래프에 x축 눈금 위치와 눈금명을 지정합니다.\n",
    "sns.lineplot(data = apt, x = '거래월', y = '거래금액', color = 'red', \n",
    "             markers = True, style = 1, legend = False, \n",
    "             estimator = 'mean', ci = None)\n",
    "plt.xticks(ticks = range(1, 13), labels = months);"
   ]
  },
  {
   "cell_type": "markdown",
   "id": "99fff4fe",
   "metadata": {},
   "source": [
    "### 선그래프를 겹쳐서 그리기"
   ]
  },
  {
   "cell_type": "code",
   "execution_count": null,
   "id": "fb566b7e",
   "metadata": {},
   "outputs": [],
   "source": [
    "# top3에 거래월을 추가합니다.\n",
    "top3['거래월'] = top3['거래일'].dt.month"
   ]
  },
  {
   "cell_type": "code",
   "execution_count": null,
   "id": "smart-socket",
   "metadata": {},
   "outputs": [],
   "source": [
    "# 자치구별 선그래프를 겹쳐서 그립니다.\n",
    "sns.lineplot(data = top3, x = '거래월', y = '거래금액', \n",
    "             markers = True, style = '자치구', \n",
    "             estimator = 'mean', ci = None, \n",
    "             hue = '자치구', palette = 'Dark2')\n",
    "plt.xticks(ticks = range(1, 13), labels = months);"
   ]
  },
  {
   "cell_type": "markdown",
   "id": "74d55899",
   "metadata": {},
   "source": [
    "### 선그래프를 나눠서 그리기"
   ]
  },
  {
   "cell_type": "code",
   "execution_count": null,
   "id": "7ddbf276",
   "metadata": {},
   "outputs": [],
   "source": [
    "# 자치구별 선그래프를 나눠서 그립니다.\n",
    "sns.relplot(data = top3, x = '거래월', y = '거래금액', \n",
    "            markers = True, style = '자치구', \n",
    "            estimator = 'mean', ci = None, \n",
    "            hue = '자치구', palette = 'Dark2', legend = False, \n",
    "            col = '자치구', kind = 'line')\n",
    "plt.xticks(ticks = range(1, 13), labels = months);"
   ]
  },
  {
   "cell_type": "markdown",
   "id": "stunning-witness",
   "metadata": {},
   "source": [
    "### 산점도 그리기"
   ]
  },
  {
   "cell_type": "code",
   "execution_count": null,
   "id": "bright-saturn",
   "metadata": {},
   "outputs": [],
   "source": [
    "# 전용면적과 거래금액의 관계를 산점도로 그립니다.\n",
    "sns.scatterplot(data = apt, x = '전용면적', y = '거래금액', \n",
    "                color = '0.5', edgecolor = '1', linewidth = 1);"
   ]
  },
  {
   "cell_type": "code",
   "execution_count": null,
   "id": "3d6dc1aa",
   "metadata": {
    "scrolled": false
   },
   "outputs": [],
   "source": [
    "# 산점도에 회귀직선을 추가한 그래프를 그립니다.\n",
    "sns.regplot(data = apt, x = '전용면적', y = '거래금액', \n",
    "            scatter_kws = dict(color = '0.5', edgecolor = '1'),  \n",
    "            line_kws = dict(color = 'red', linewidth = 1.5));"
   ]
  },
  {
   "cell_type": "markdown",
   "id": "45871770",
   "metadata": {},
   "source": [
    "### 산점도를 겹쳐서 또는 나눠서 그리기"
   ]
  },
  {
   "cell_type": "code",
   "execution_count": null,
   "id": "dc1ee8ed",
   "metadata": {},
   "outputs": [],
   "source": [
    "# 자치구별 산점도를 겹쳐서 그립니다.\n",
    "sns.scatterplot(data = top3, x = '전용면적', y = '거래금액', \n",
    "                edgecolor = '1', linewidth = 0.5, \n",
    "                hue = '자치구', palette = 'Dark2');"
   ]
  },
  {
   "cell_type": "code",
   "execution_count": null,
   "id": "f149308c",
   "metadata": {},
   "outputs": [],
   "source": [
    "# 자치구별 산점도를 나눠서 그립니다.\n",
    "sns.relplot(data = top3, x = '전용면적', y = '거래금액', \n",
    "            hue = '자치구', palette = 'Dark2', legend = False, \n",
    "            col = '자치구', kind = 'scatter');"
   ]
  },
  {
   "cell_type": "markdown",
   "id": "dietary-transparency",
   "metadata": {},
   "source": [
    "### 산점도 행렬 그리기"
   ]
  },
  {
   "cell_type": "code",
   "execution_count": null,
   "id": "moral-documentation",
   "metadata": {},
   "outputs": [],
   "source": [
    "# 산점도 행렬에 포함할 변수명으로 리스트를 생성합니다.(4~5개가 적당)\n",
    "cols = ['자치구', '거래금액', '전용면적', '층', '세대수']"
   ]
  },
  {
   "cell_type": "code",
   "execution_count": null,
   "id": "rough-scanner",
   "metadata": {},
   "outputs": [],
   "source": [
    "# 산점도 행렬을 그립니다.\n",
    "sns.pairplot(data = top3[cols], hue = '자치구', palette = 'Dark2');"
   ]
  },
  {
   "cell_type": "code",
   "execution_count": null,
   "id": "1d7bdaeb",
   "metadata": {},
   "outputs": [],
   "source": [
    "# x축과 y축에 변수를 지정하면 산점도 행렬이 간결해집니다.\n",
    "sns.pairplot(data = top3, \n",
    "             x_vars = ['전용면적', '층', '세대수', '경도'], \n",
    "             y_vars = ['거래금액'], \n",
    "             hue = '자치구', \n",
    "             palette = 'Dark2', \n",
    "             kind = 'reg', \n",
    "             plot_kws = dict(scatter_kws = dict(edgecolor = '1')));"
   ]
  },
  {
   "cell_type": "markdown",
   "id": "portuguese-field",
   "metadata": {},
   "source": [
    "## End of Document"
   ]
  }
 ],
 "metadata": {
  "kernelspec": {
   "display_name": "Python 3 (ipykernel)",
   "language": "python",
   "name": "python3"
  },
  "language_info": {
   "codemirror_mode": {
    "name": "ipython",
    "version": 3
   },
   "file_extension": ".py",
   "mimetype": "text/x-python",
   "name": "python",
   "nbconvert_exporter": "python",
   "pygments_lexer": "ipython3",
   "version": "3.9.7"
  },
  "toc": {
   "base_numbering": 1,
   "nav_menu": {},
   "number_sections": true,
   "sideBar": true,
   "skip_h1_title": false,
   "title_cell": "Table of Contents",
   "title_sidebar": "Contents",
   "toc_cell": false,
   "toc_position": {},
   "toc_section_display": true,
   "toc_window_display": false
  },
  "varInspector": {
   "cols": {
    "lenName": 16,
    "lenType": 16,
    "lenVar": 40
   },
   "kernels_config": {
    "python": {
     "delete_cmd_postfix": "",
     "delete_cmd_prefix": "del ",
     "library": "var_list.py",
     "varRefreshCmd": "print(var_dic_list())"
    },
    "r": {
     "delete_cmd_postfix": ") ",
     "delete_cmd_prefix": "rm(",
     "library": "var_list.r",
     "varRefreshCmd": "cat(var_dic_list()) "
    }
   },
   "types_to_exclude": [
    "module",
    "function",
    "builtin_function_or_method",
    "instance",
    "_Feature"
   ],
   "window_display": false
  }
 },
 "nbformat": 4,
 "nbformat_minor": 5
}

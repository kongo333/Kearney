{
 "cells": [
  {
   "cell_type": "markdown",
   "id": "a97a133f",
   "metadata": {},
   "source": [
    "## 데이터 전처리"
   ]
  },
  {
   "cell_type": "markdown",
   "id": "fbe39f19",
   "metadata": {},
   "source": [
    "### 관련 라이브러리 호출"
   ]
  },
  {
   "cell_type": "code",
   "execution_count": null,
   "id": "2e13bffb",
   "metadata": {
    "ExecuteTime": {
     "end_time": "2022-06-09T13:19:45.243532Z",
     "start_time": "2022-06-09T13:19:44.919275Z"
    }
   },
   "outputs": [],
   "source": [
    "# 관련 라이브러리를 호출합니다.\n",
    "import os\n",
    "import chardet\n",
    "import numpy as np\n",
    "import pandas as pd\n",
    "import joblib"
   ]
  },
  {
   "cell_type": "markdown",
   "id": "28f5cd4f",
   "metadata": {},
   "source": [
    "### 작업 경로 확인 및 변경"
   ]
  },
  {
   "cell_type": "code",
   "execution_count": null,
   "id": "712f520f",
   "metadata": {
    "ExecuteTime": {
     "end_time": "2022-06-09T13:19:45.253369Z",
     "start_time": "2022-06-09T13:19:45.245902Z"
    }
   },
   "outputs": [],
   "source": [
    "# 현재 작업 경로를 확인합니다.\n",
    "os.getcwd()"
   ]
  },
  {
   "cell_type": "code",
   "execution_count": null,
   "id": "bdcd919f",
   "metadata": {
    "ExecuteTime": {
     "end_time": "2022-06-09T13:19:45.257301Z",
     "start_time": "2022-06-09T13:19:45.255000Z"
    }
   },
   "outputs": [],
   "source": [
    "# data 폴더로 작업 경로를 변경합니다.\n",
    "os.chdir(path = '../data')"
   ]
  },
  {
   "cell_type": "code",
   "execution_count": null,
   "id": "billion-insider",
   "metadata": {
    "ExecuteTime": {
     "end_time": "2022-06-09T13:19:45.263021Z",
     "start_time": "2022-06-09T13:19:45.259794Z"
    }
   },
   "outputs": [],
   "source": [
    "# 현재 작업 경로에 있는 폴더명과 파일명을 출력합니다.\n",
    "os.listdir()"
   ]
  },
  {
   "cell_type": "markdown",
   "id": "small-owner",
   "metadata": {},
   "source": [
    "###  xlsx 파일을 읽고 데이터프레임 생성"
   ]
  },
  {
   "cell_type": "code",
   "execution_count": null,
   "id": "academic-folder",
   "metadata": {
    "ExecuteTime": {
     "end_time": "2022-06-09T13:19:49.826813Z",
     "start_time": "2022-06-09T13:19:45.264614Z"
    }
   },
   "outputs": [],
   "source": [
    "# 가격 xlsx 파일을 읽고 데이터프레임을 생성합니다.\n",
    "%time price = pd.read_excel(io = 'APT_Price_Seoul_2021.xlsx')"
   ]
  },
  {
   "cell_type": "code",
   "execution_count": null,
   "id": "therapeutic-basketball",
   "metadata": {
    "ExecuteTime": {
     "end_time": "2022-06-09T13:19:49.870542Z",
     "start_time": "2022-06-09T13:19:49.828583Z"
    }
   },
   "outputs": [],
   "source": [
    "# price의 정보를 확인합니다.\n",
    "price.info()"
   ]
  },
  {
   "cell_type": "code",
   "execution_count": null,
   "id": "compound-stereo",
   "metadata": {
    "ExecuteTime": {
     "end_time": "2022-06-09T13:19:49.882820Z",
     "start_time": "2022-06-09T13:19:49.872240Z"
    }
   },
   "outputs": [],
   "source": [
    "# price의 처음 5행을 출력합니다.\n",
    "price.head()"
   ]
  },
  {
   "cell_type": "markdown",
   "id": "4cc29c89",
   "metadata": {},
   "source": [
    "### csv 파일을 읽고 데이터프레임 생성"
   ]
  },
  {
   "cell_type": "code",
   "execution_count": null,
   "id": "e65e5c28",
   "metadata": {
    "ExecuteTime": {
     "end_time": "2022-06-09T13:19:51.226030Z",
     "start_time": "2022-06-09T13:19:51.223995Z"
    }
   },
   "outputs": [],
   "source": [
    "# 가격 csv 파일명을 재사용할 수 있도록 변수에 할당합니다.\n",
    "file = 'APT_Price_Seoul_2021.csv'"
   ]
  },
  {
   "cell_type": "code",
   "execution_count": null,
   "id": "retired-start",
   "metadata": {
    "ExecuteTime": {
     "end_time": "2022-06-09T13:19:51.234089Z",
     "start_time": "2022-06-09T13:19:51.227669Z"
    }
   },
   "outputs": [],
   "source": [
    "# csv 파일을 bytes 모드로 읽습니다.\n",
    "text = open(file = file, mode = 'rb').read()"
   ]
  },
  {
   "cell_type": "code",
   "execution_count": null,
   "id": "outstanding-portfolio",
   "metadata": {
    "ExecuteTime": {
     "end_time": "2022-06-09T13:19:51.239367Z",
     "start_time": "2022-06-09T13:19:51.235702Z"
    }
   },
   "outputs": [],
   "source": [
    "# csv 파일에 있는 한글의 문자 인코딩 방식을 확인합니다.\n",
    "chardet.detect(text[:1000])"
   ]
  },
  {
   "cell_type": "code",
   "execution_count": null,
   "id": "cutting-banner",
   "metadata": {
    "ExecuteTime": {
     "end_time": "2022-06-09T13:19:51.308593Z",
     "start_time": "2022-06-09T13:19:51.241128Z"
    },
    "scrolled": true
   },
   "outputs": [],
   "source": [
    "# 가격 csv 파일을 읽고 데이터프레임을 생성합니다.\n",
    "%time price = pd.read_csv(filepath_or_buffer = file, encoding = 'UTF-8')"
   ]
  },
  {
   "cell_type": "code",
   "execution_count": null,
   "id": "informative-argument",
   "metadata": {
    "ExecuteTime": {
     "end_time": "2022-06-09T13:19:51.314103Z",
     "start_time": "2022-06-09T13:19:51.310109Z"
    }
   },
   "outputs": [],
   "source": [
    "# price의 열별 자료형을 확인합니다.\n",
    "price.dtypes"
   ]
  },
  {
   "cell_type": "markdown",
   "id": "vulnerable-faith",
   "metadata": {},
   "source": [
    "### csv 파일의 단점 해결"
   ]
  },
  {
   "cell_type": "code",
   "execution_count": null,
   "id": "rocky-pride",
   "metadata": {
    "ExecuteTime": {
     "end_time": "2022-06-09T13:19:51.396929Z",
     "start_time": "2022-06-09T13:19:51.326060Z"
    }
   },
   "outputs": [],
   "source": [
    "# 날짜 데이터는 날짜형, 콤마를 포함하는 숫자는 정수형으로 읽습니다.\n",
    "df = pd.read_csv(filepath_or_buffer = file, \n",
    "                 encoding = 'UTF-8', \n",
    "                 parse_dates = ['거래일'], \n",
    "                 thousands = ',')"
   ]
  },
  {
   "cell_type": "code",
   "execution_count": null,
   "id": "owned-possession",
   "metadata": {
    "ExecuteTime": {
     "end_time": "2022-06-09T13:19:51.402781Z",
     "start_time": "2022-06-09T13:19:51.398623Z"
    }
   },
   "outputs": [],
   "source": [
    "# df의 열별 자료형을 확인합니다.\n",
    "df.dtypes"
   ]
  },
  {
   "cell_type": "markdown",
   "id": "amateur-compression",
   "metadata": {},
   "source": [
    "### 열 선택"
   ]
  },
  {
   "cell_type": "code",
   "execution_count": null,
   "id": "impossible-marker",
   "metadata": {
    "ExecuteTime": {
     "end_time": "2022-06-09T13:19:51.409883Z",
     "start_time": "2022-06-09T13:19:51.404956Z"
    }
   },
   "outputs": [],
   "source": [
    "# 열이름을 문자열 스칼라로 지정하면 시리즈로 반환합니다.\n",
    "# [참고] 열이름을 리스트로 지정하면 데이터프레임으로 반환합니다.\n",
    "price['지역코드']"
   ]
  },
  {
   "cell_type": "code",
   "execution_count": null,
   "id": "general-frederick",
   "metadata": {
    "ExecuteTime": {
     "end_time": "2022-06-09T13:19:51.438028Z",
     "start_time": "2022-06-09T13:19:51.428723Z"
    }
   },
   "outputs": [],
   "source": [
    "# 2개 이상의 열을 선택하려면 반드시 리스트로 지정해야 합니다.(배열 인덱싱)\n",
    "# [참고] 열이름 순서를 변경하면 위치를 바꿔서 반환합니다.\n",
    "price[['아파트', '지역코드']]"
   ]
  },
  {
   "cell_type": "code",
   "execution_count": null,
   "id": "b0fe5019",
   "metadata": {
    "ExecuteTime": {
     "end_time": "2022-06-09T13:19:51.449973Z",
     "start_time": "2022-06-09T13:19:51.439519Z"
    }
   },
   "outputs": [],
   "source": [
    "# 슬라이스로 연속된 열을 선택하려면 loc 인덱서를 추가합니다.(슬라이싱)\n",
    "# [주의] loc 인덱서를 생략하면 에러를 반환합니다.\n",
    "price.loc[:, '거래일':'거래금액']"
   ]
  },
  {
   "cell_type": "code",
   "execution_count": null,
   "id": "33531278",
   "metadata": {
    "ExecuteTime": {
     "end_time": "2022-06-09T13:19:51.459195Z",
     "start_time": "2022-06-09T13:19:51.452315Z"
    }
   },
   "outputs": [],
   "source": [
    "# 조건을 만족하는 열을 선택합니다.(불리언 인덱싱)\n",
    "price.loc[:, price.dtypes == np.int64]"
   ]
  },
  {
   "cell_type": "code",
   "execution_count": null,
   "id": "0629febf",
   "metadata": {},
   "outputs": [],
   "source": [
    "# 열이름에서 '거래'를 포함하는 열을 선택합니다.(불리언 인덱싱)\n",
    "price.loc[:, price.columns.str.contains(pat = '거래')]"
   ]
  },
  {
   "cell_type": "markdown",
   "id": "768b703a",
   "metadata": {},
   "source": [
    "### 열 삭제"
   ]
  },
  {
   "cell_type": "code",
   "execution_count": null,
   "id": "burning-contribution",
   "metadata": {
    "ExecuteTime": {
     "end_time": "2022-06-09T13:19:51.473344Z",
     "start_time": "2022-06-09T13:19:51.461268Z"
    }
   },
   "outputs": [],
   "source": [
    "# 삭제할 열이름을 drop() 함수의 columns 매개변수에 리스트로 지정합니다.\n",
    "price.drop(columns = ['지역코드'])"
   ]
  },
  {
   "cell_type": "code",
   "execution_count": null,
   "id": "c021725b",
   "metadata": {},
   "outputs": [],
   "source": [
    "# price의 처음 5행을 출력합니다. price는 여전히 지역코드를 포함하고 있습니다.\n",
    "price.head()"
   ]
  },
  {
   "cell_type": "code",
   "execution_count": null,
   "id": "simple-stevens",
   "metadata": {
    "ExecuteTime": {
     "end_time": "2022-06-09T13:19:51.486989Z",
     "start_time": "2022-06-09T13:19:51.474919Z"
    }
   },
   "outputs": [],
   "source": [
    "# 열을 삭제하고 재할당하면 데이터프레임에서 해당 열을 삭제합니다.\n",
    "price = price.drop(columns = ['지역코드'])\n",
    "price.head()"
   ]
  },
  {
   "cell_type": "markdown",
   "id": "buried-partition",
   "metadata": {},
   "source": [
    "### 열이름 변경"
   ]
  },
  {
   "cell_type": "code",
   "execution_count": null,
   "id": "employed-swaziland",
   "metadata": {
    "ExecuteTime": {
     "end_time": "2022-06-09T13:19:51.503000Z",
     "start_time": "2022-06-09T13:19:51.488793Z"
    }
   },
   "outputs": [],
   "source": [
    "# 일부 열이름을 변경한 결과를 출력합니다.\n",
    "# [주의] columns 매개변수를 생략하면 안됩니다!\n",
    "price.rename(columns = {'시도명': '시도', '시군구': '자치구'})"
   ]
  },
  {
   "cell_type": "code",
   "execution_count": null,
   "id": "7cd556c9",
   "metadata": {
    "ExecuteTime": {
     "end_time": "2022-06-09T13:19:51.508072Z",
     "start_time": "2022-06-09T13:19:51.504736Z"
    }
   },
   "outputs": [],
   "source": [
    "# price의 열이름을 출력합니다.\n",
    "price.columns"
   ]
  },
  {
   "cell_type": "code",
   "execution_count": null,
   "id": "corrected-grave",
   "metadata": {
    "ExecuteTime": {
     "end_time": "2022-06-09T13:19:51.527035Z",
     "start_time": "2022-06-09T13:19:51.517927Z"
    }
   },
   "outputs": [],
   "source": [
    "# 전체 열이름을 변경합니다.\n",
    "# [주의] 데이터프레임의 열이름과 원소 개수가 같은 리스트를 지정해야 합니다.\n",
    "price.columns = ['아파트', '시도', '자치구', '읍면동', '지번', \n",
    "                 '거래일', '전용면적', '층', '거래금액']\n",
    "price.head()"
   ]
  },
  {
   "cell_type": "markdown",
   "id": "changed-gates",
   "metadata": {},
   "source": [
    "### 열별 자료형 변환"
   ]
  },
  {
   "cell_type": "code",
   "execution_count": null,
   "id": "b452541c",
   "metadata": {},
   "outputs": [],
   "source": [
    "# 시리즈의 원소 자료형을 변환합니다.\n",
    "# [참고] 거래금액 원소에 콤마가 있으므로 실수로 변환할 수 없습니다.\n",
    "price['거래금액'].astype(dtype = float)"
   ]
  },
  {
   "cell_type": "code",
   "execution_count": null,
   "id": "dbdfdd12",
   "metadata": {
    "ExecuteTime": {
     "end_time": "2022-06-09T13:19:51.547725Z",
     "start_time": "2022-06-09T13:19:51.528863Z"
    }
   },
   "outputs": [],
   "source": [
    "# 거래금액 원소에 있는 콤마를 삭제하고 재할당합니다.\n",
    "price['거래금액'] = price['거래금액'].str.replace(pat = ',', repl = '')"
   ]
  },
  {
   "cell_type": "code",
   "execution_count": null,
   "id": "destroyed-colon",
   "metadata": {
    "ExecuteTime": {
     "end_time": "2022-06-09T13:19:51.788741Z",
     "start_time": "2022-06-09T13:19:51.784566Z"
    }
   },
   "outputs": [],
   "source": [
    "# 시리즈의 원소 자료형을 실수형으로 변환하고 재할당합니다.\n",
    "price['거래금액'] = price['거래금액'].astype(dtype = float)\n",
    "price.dtypes"
   ]
  },
  {
   "cell_type": "code",
   "execution_count": null,
   "id": "creative-burton",
   "metadata": {
    "ExecuteTime": {
     "end_time": "2022-06-09T13:19:51.804614Z",
     "start_time": "2022-06-09T13:19:51.790498Z"
    }
   },
   "outputs": [],
   "source": [
    "# 데이터프레임의 열별로 자료형 변환 방법을 딕셔너리로 지정합니다.\n",
    "price = price.astype(dtype = {'거래일': np.datetime64, '층': float})\n",
    "price.dtypes"
   ]
  },
  {
   "cell_type": "code",
   "execution_count": null,
   "id": "74a8d2be",
   "metadata": {
    "ExecuteTime": {
     "end_time": "2022-06-09T13:19:51.809200Z",
     "start_time": "2022-06-09T13:19:51.806727Z"
    }
   },
   "outputs": [],
   "source": [
    "# 정수형으로 변환할 열이름으로 리스트를 생성합니다.\n",
    "cols = ['층', '거래금액']"
   ]
  },
  {
   "cell_type": "code",
   "execution_count": null,
   "id": "hollow-capability",
   "metadata": {
    "ExecuteTime": {
     "end_time": "2022-06-09T13:19:51.821603Z",
     "start_time": "2022-06-09T13:19:51.811152Z"
    }
   },
   "outputs": [],
   "source": [
    "# 선택한 열의 자료형을 일괄 변환합니다.\n",
    "price[cols] = price[cols].astype(dtype = int)\n",
    "price.dtypes"
   ]
  },
  {
   "cell_type": "markdown",
   "id": "external-military",
   "metadata": {},
   "source": [
    "### [참고] 문자열을 날짜형으로 변환"
   ]
  },
  {
   "cell_type": "code",
   "execution_count": null,
   "id": "aware-factor",
   "metadata": {
    "ExecuteTime": {
     "end_time": "2022-06-09T13:19:51.827553Z",
     "start_time": "2022-06-09T13:19:51.823330Z"
    }
   },
   "outputs": [],
   "source": [
    "# 날짜 기본형이 아닌 문자열 리스트로 시리즈를 생성합니다.\n",
    "birth = pd.Series(data = ['2000년 1월 1일'])\n",
    "birth"
   ]
  },
  {
   "cell_type": "code",
   "execution_count": null,
   "id": "9f39c626",
   "metadata": {},
   "outputs": [],
   "source": [
    "# birth를 날짜형으로 변환하려고 하면 에러를 반환합니다.\n",
    "birth.astype(dtype = np.datetime64)"
   ]
  },
  {
   "cell_type": "code",
   "execution_count": null,
   "id": "novel-setting",
   "metadata": {
    "ExecuteTime": {
     "end_time": "2022-06-09T13:19:51.835794Z",
     "start_time": "2022-06-09T13:19:51.829660Z"
    }
   },
   "outputs": [],
   "source": [
    "# to_datetime() 함수는 문자열을 날짜형으로 변환합니다.\n",
    "birth = pd.to_datetime(arg = birth, format = '%Y년 %m월 %d일')\n",
    "birth.iloc[0]"
   ]
  },
  {
   "cell_type": "markdown",
   "id": "c4461ac6",
   "metadata": {},
   "source": [
    "### [참고] 날짜 시간 데이터 연산"
   ]
  },
  {
   "cell_type": "code",
   "execution_count": null,
   "id": "976ff980",
   "metadata": {
    "ExecuteTime": {
     "end_time": "2022-06-09T13:19:51.842745Z",
     "start_time": "2022-06-09T13:19:51.837782Z"
    }
   },
   "outputs": [],
   "source": [
    "# 현재 날짜 시간 데이터를 생성합니다.\n",
    "today = pd.Timestamp.today()\n",
    "today"
   ]
  },
  {
   "cell_type": "code",
   "execution_count": null,
   "id": "d803e760",
   "metadata": {
    "ExecuteTime": {
     "end_time": "2022-06-09T13:19:51.847627Z",
     "start_time": "2022-06-09T13:19:51.844999Z"
    }
   },
   "outputs": [],
   "source": [
    "# 태어나서 현재까지 살아온 기간을 dtGap에 할당합니다.\n",
    "dtGap = today - birth.iloc[0]"
   ]
  },
  {
   "cell_type": "code",
   "execution_count": null,
   "id": "03cbb1d2",
   "metadata": {
    "ExecuteTime": {
     "end_time": "2022-06-09T13:19:51.853765Z",
     "start_time": "2022-06-09T13:19:51.849404Z"
    }
   },
   "outputs": [],
   "source": [
    "# dtGap에서 경과일수를 출력합니다.\n",
    "dtGap.days"
   ]
  },
  {
   "cell_type": "markdown",
   "id": "olympic-holiday",
   "metadata": {},
   "source": [
    "### [참고] 날짜 분해 함수"
   ]
  },
  {
   "cell_type": "code",
   "execution_count": null,
   "id": "celtic-alignment",
   "metadata": {
    "ExecuteTime": {
     "end_time": "2022-06-09T13:19:51.861382Z",
     "start_time": "2022-06-09T13:19:51.856018Z"
    }
   },
   "outputs": [],
   "source": [
    "# 거래일에서 년(year)을 정수형 시리즈로 반환합니다.\n",
    "price['거래일'].dt.year"
   ]
  },
  {
   "cell_type": "code",
   "execution_count": null,
   "id": "inappropriate-printer",
   "metadata": {
    "ExecuteTime": {
     "end_time": "2022-06-09T13:19:51.879807Z",
     "start_time": "2022-06-09T13:19:51.863696Z"
    }
   },
   "outputs": [],
   "source": [
    "# 거래일에서 월(month)을 정수형 시리즈로 반환합니다.\n",
    "price['거래일'].dt.month"
   ]
  },
  {
   "cell_type": "code",
   "execution_count": null,
   "id": "nearby-marine",
   "metadata": {
    "ExecuteTime": {
     "end_time": "2022-06-09T13:19:51.887573Z",
     "start_time": "2022-06-09T13:19:51.881603Z"
    }
   },
   "outputs": [],
   "source": [
    "# 거래일에서 일(day)을 정수형 시리즈로 반환합니다.\n",
    "price['거래일'].dt.day"
   ]
  },
  {
   "cell_type": "code",
   "execution_count": null,
   "id": "78d34407",
   "metadata": {
    "ExecuteTime": {
     "end_time": "2022-06-09T13:19:51.901570Z",
     "start_time": "2022-06-09T13:19:51.889349Z"
    }
   },
   "outputs": [],
   "source": [
    "# 거래일에서 영문 요일을 문자형 시리즈로 반환합니다.\n",
    "price['거래일'].dt.day_name()"
   ]
  },
  {
   "cell_type": "code",
   "execution_count": null,
   "id": "a8246fcc",
   "metadata": {
    "ExecuteTime": {
     "end_time": "2022-06-09T13:19:51.916860Z",
     "start_time": "2022-06-09T13:19:51.903306Z"
    }
   },
   "outputs": [],
   "source": [
    "# 거래일에서 한글 요일을 문자형 시리즈로 반환합니다.\n",
    "price['거래일'].dt.day_name(locale = 'ko_KR')"
   ]
  },
  {
   "cell_type": "markdown",
   "id": "potential-bookmark",
   "metadata": {},
   "source": [
    "### 조건에 맞는 행 선택: 연속형 변수"
   ]
  },
  {
   "cell_type": "code",
   "execution_count": null,
   "id": "sustained-scientist",
   "metadata": {
    "ExecuteTime": {
     "end_time": "2022-06-09T13:19:51.945266Z",
     "start_time": "2022-06-09T13:19:51.919151Z"
    }
   },
   "outputs": [],
   "source": [
    "# 거래금액이 100억 이상인 행을 선택하여 df1에 할당합니다.\n",
    "df1 = price[price['거래금액'] >= 1000000]\n",
    "df1.head()"
   ]
  },
  {
   "cell_type": "code",
   "execution_count": null,
   "id": "generous-sodium",
   "metadata": {
    "ExecuteTime": {
     "end_time": "2022-06-09T13:19:51.960916Z",
     "start_time": "2022-06-09T13:19:51.948031Z"
    }
   },
   "outputs": [],
   "source": [
    "# 거래금액이 100억 미만이고 60층 이상인 행을 선택하여 df2에 할당합니다.\n",
    "df2 = price[(price['거래금액'] < 1000000) & (price['층'] >= 60)]\n",
    "df2.head()"
   ]
  },
  {
   "cell_type": "markdown",
   "id": "9cbfe16f",
   "metadata": {},
   "source": [
    "### [참고] 시리즈의 비교 연산 함수"
   ]
  },
  {
   "cell_type": "code",
   "execution_count": null,
   "id": "73f04563",
   "metadata": {
    "ExecuteTime": {
     "end_time": "2022-06-09T13:19:51.966511Z",
     "start_time": "2022-06-09T13:19:51.962646Z"
    }
   },
   "outputs": [],
   "source": [
    "# 층이 60 초과면 True, 아니면 False인 부울형 시리즈를 반환합니다.\n",
    "price['층'].gt(60).sum()"
   ]
  },
  {
   "cell_type": "code",
   "execution_count": null,
   "id": "0e201a22",
   "metadata": {
    "ExecuteTime": {
     "end_time": "2022-06-09T13:19:51.972470Z",
     "start_time": "2022-06-09T13:19:51.968250Z"
    }
   },
   "outputs": [],
   "source": [
    "# 층이 60 이상이면 True, 아니면 False인 부울형 시리즈를 반환합니다.\n",
    "price['층'].ge(60).sum()"
   ]
  },
  {
   "cell_type": "code",
   "execution_count": null,
   "id": "905f7993",
   "metadata": {
    "ExecuteTime": {
     "end_time": "2022-06-09T13:19:51.977492Z",
     "start_time": "2022-06-09T13:19:51.973960Z"
    }
   },
   "outputs": [],
   "source": [
    "# 층이 60 미만이면 True, 아니면 False인 부울형 시리즈를 반환합니다.\n",
    "price['층'].lt(60).sum()"
   ]
  },
  {
   "cell_type": "code",
   "execution_count": null,
   "id": "d123d764",
   "metadata": {
    "ExecuteTime": {
     "end_time": "2022-06-09T13:19:51.983243Z",
     "start_time": "2022-06-09T13:19:51.979240Z"
    }
   },
   "outputs": [],
   "source": [
    "# 층이 60 이하이면 True, 아니면 False인 부울형 시리즈를 반환합니다.\n",
    "price['층'].le(60).sum()"
   ]
  },
  {
   "cell_type": "code",
   "execution_count": null,
   "id": "d417bd44",
   "metadata": {
    "ExecuteTime": {
     "end_time": "2022-06-09T13:19:51.990895Z",
     "start_time": "2022-06-09T13:19:51.986020Z"
    }
   },
   "outputs": [],
   "source": [
    "# 층이 60이면 True, 60이 아니면 False인 부울형 시리즈를 반환합니다.\n",
    "price['층'].eq(60).sum()"
   ]
  },
  {
   "cell_type": "code",
   "execution_count": null,
   "id": "9f73a941",
   "metadata": {
    "ExecuteTime": {
     "end_time": "2022-06-09T13:19:51.996368Z",
     "start_time": "2022-06-09T13:19:51.992911Z"
    }
   },
   "outputs": [],
   "source": [
    "# 층이 60이 아니면 True, 60이면 False인 부울형 시리즈를 반환합니다.\n",
    "price['층'].ne(60).sum()"
   ]
  },
  {
   "cell_type": "code",
   "execution_count": null,
   "id": "3534a04c",
   "metadata": {
    "ExecuteTime": {
     "end_time": "2022-06-09T13:19:52.005605Z",
     "start_time": "2022-06-09T13:19:51.998065Z"
    }
   },
   "outputs": [],
   "source": [
    "# 비교 연산 함수는 시리즈이므로 소괄호로 감싸지 않아도 됩니다.\n",
    "price['거래금액'].lt(1000000) & price['층'].ge(60)"
   ]
  },
  {
   "cell_type": "markdown",
   "id": "9660af79",
   "metadata": {},
   "source": [
    "### 조건에 맞는 행 선택: 범주형 변수"
   ]
  },
  {
   "cell_type": "code",
   "execution_count": null,
   "id": "f0107bd1",
   "metadata": {
    "ExecuteTime": {
     "end_time": "2022-06-09T13:19:52.022190Z",
     "start_time": "2022-06-09T13:19:52.007369Z"
    }
   },
   "outputs": [],
   "source": [
    "# 자치구가 '강남구'인 행을 선택합니다.\n",
    "price[price['자치구'].eq('강남구')]"
   ]
  },
  {
   "cell_type": "code",
   "execution_count": null,
   "id": "5f29108b",
   "metadata": {
    "ExecuteTime": {
     "end_time": "2022-06-09T13:19:52.040561Z",
     "start_time": "2022-06-09T13:19:52.023820Z"
    }
   },
   "outputs": [],
   "source": [
    "# 자치구가 '강남구' 또는 '서초구'인 행을 선택합니다.\n",
    "price[price['자치구'].eq('강남구') | price['자치구'].eq('서초구')]"
   ]
  },
  {
   "cell_type": "code",
   "execution_count": null,
   "id": "a5b1ea4c",
   "metadata": {
    "ExecuteTime": {
     "end_time": "2022-06-09T13:19:52.055487Z",
     "start_time": "2022-06-09T13:19:52.042302Z"
    }
   },
   "outputs": [],
   "source": [
    "# isin() 함수는 시리즈 원소가 리스트에 있으면 True, 없으면 False를 반환합니다.\n",
    "price[price['자치구'].isin(values = ['강남구', '서초구'])]"
   ]
  },
  {
   "cell_type": "code",
   "execution_count": null,
   "id": "2e9b4594",
   "metadata": {
    "ExecuteTime": {
     "end_time": "2022-06-09T13:19:52.086418Z",
     "start_time": "2022-06-09T13:19:52.057198Z"
    }
   },
   "outputs": [],
   "source": [
    "# str.contains() 함수는 원소에 패턴이 있으면 True, 없으면 False를 반환합니다.\n",
    "price[price['자치구'].str.contains(pat = '강남|서초')]"
   ]
  },
  {
   "cell_type": "markdown",
   "id": "bacf5651",
   "metadata": {},
   "source": [
    "### [참고] 시리즈를 문자열로 처리하는 주요 함수"
   ]
  },
  {
   "cell_type": "code",
   "execution_count": null,
   "id": "e46bc313",
   "metadata": {
    "ExecuteTime": {
     "end_time": "2022-06-09T13:19:52.090951Z",
     "start_time": "2022-06-09T13:19:52.088279Z"
    }
   },
   "outputs": [],
   "source": [
    "# 실습용 시리즈를 생성합니다.\n",
    "addr = pd.Series(data = ['서울특별시 강남구', '경기도 성남시 분당구'])"
   ]
  },
  {
   "cell_type": "code",
   "execution_count": null,
   "id": "26ff3d5c",
   "metadata": {
    "ExecuteTime": {
     "end_time": "2022-06-09T13:19:52.111128Z",
     "start_time": "2022-06-09T13:19:52.107036Z"
    }
   },
   "outputs": [],
   "source": [
    "# 문자열(원소)마다 지정한 패턴을 변경합니다.\n",
    "addr.str.replace(pat = ' ', repl = '')"
   ]
  },
  {
   "cell_type": "code",
   "execution_count": null,
   "id": "fdf06c0b",
   "metadata": {
    "ExecuteTime": {
     "end_time": "2022-06-09T13:19:52.099187Z",
     "start_time": "2022-06-09T13:19:52.092646Z"
    }
   },
   "outputs": [],
   "source": [
    "# 문자열(원소)을 지정한 패턴으로 분리한 결과를 데이터프레임으로 반환합니다.\n",
    "addr.str.split(pat = ' ', expand = True)"
   ]
  },
  {
   "cell_type": "code",
   "execution_count": null,
   "id": "764c4049",
   "metadata": {
    "ExecuteTime": {
     "end_time": "2022-06-09T13:19:52.105378Z",
     "start_time": "2022-06-09T13:19:52.101129Z"
    }
   },
   "outputs": [],
   "source": [
    "# 문자열(원소)마다 지정한 패턴이 있으면 시작 인덱스를 반환합니다.\n",
    "# [참고] 지정한 패턴이 없으면 -1을 반환합니다.\n",
    "addr.str.find(sub = '시')"
   ]
  },
  {
   "cell_type": "code",
   "execution_count": null,
   "id": "9d7c3af2",
   "metadata": {
    "ExecuteTime": {
     "end_time": "2022-06-09T13:19:52.117269Z",
     "start_time": "2022-06-09T13:19:52.113044Z"
    }
   },
   "outputs": [],
   "source": [
    "# 문자열(원소)을 지정한 인덱스로 자릅니다.\n",
    "addr.str.slice(start = 0, stop = 2)"
   ]
  },
  {
   "cell_type": "code",
   "execution_count": null,
   "id": "2227d7a6",
   "metadata": {
    "ExecuteTime": {
     "end_time": "2022-06-09T13:19:52.124844Z",
     "start_time": "2022-06-09T13:19:52.118899Z"
    }
   },
   "outputs": [],
   "source": [
    "# 문자열(원소)마다 지정한 패턴에 해당하는 문자열을 추출합니다.\n",
    "# [주의] 패턴을 소괄호로 감싸야 합니다.\n",
    "addr.str.extract(pat = '([가-힣]+구)')"
   ]
  },
  {
   "cell_type": "markdown",
   "id": "58bddf8a",
   "metadata": {},
   "source": [
    "### 행이름으로 행 삭제"
   ]
  },
  {
   "cell_type": "code",
   "execution_count": null,
   "id": "23e92b07",
   "metadata": {},
   "outputs": [],
   "source": [
    "# df1의 처음 5행을 출력합니다.\n",
    "df1.head()"
   ]
  },
  {
   "cell_type": "code",
   "execution_count": null,
   "id": "adopted-spyware",
   "metadata": {
    "ExecuteTime": {
     "end_time": "2022-06-09T13:19:52.146373Z",
     "start_time": "2022-06-09T13:19:52.137156Z"
    }
   },
   "outputs": [],
   "source": [
    "# 삭제할 행이름을 drop() 함수의 index 매개변수에 리스트로 지정합니다.\n",
    "# [주의] 행이름에 없는 값을 지정하면 에러를 반환합니다.\n",
    "df1.drop(index = [10512, 10513])"
   ]
  },
  {
   "cell_type": "code",
   "execution_count": null,
   "id": "adcd0232",
   "metadata": {},
   "outputs": [],
   "source": [
    "# df1의 인덱스를 출력합니다.\n",
    "df1.index"
   ]
  },
  {
   "cell_type": "code",
   "execution_count": null,
   "id": "c77c9a0a",
   "metadata": {},
   "outputs": [],
   "source": [
    "# 인덱스를 슬라이싱한 코드로 행이름 리스트를 대신할 수 있습니다.\n",
    "df1.drop(index = df1.index[0:2])"
   ]
  },
  {
   "cell_type": "markdown",
   "id": "iraqi-roman",
   "metadata": {},
   "source": [
    "### 행이름 초기화"
   ]
  },
  {
   "cell_type": "code",
   "execution_count": null,
   "id": "empty-lightweight",
   "metadata": {
    "ExecuteTime": {
     "end_time": "2022-06-09T13:19:52.173434Z",
     "start_time": "2022-06-09T13:19:52.170928Z"
    }
   },
   "outputs": [],
   "source": [
    "# 행이름을 초기화한 결과를 출력합니다.\n",
    "# [참고] drop = True를 추가하지 않으면 기존 행이름을 열로 추가합니다.\n",
    "df1.reset_index(drop = True)"
   ]
  },
  {
   "cell_type": "code",
   "execution_count": null,
   "id": "07daafc0",
   "metadata": {},
   "outputs": [],
   "source": [
    "# 특정 열을 인덱스로 지정합니다.\n",
    "df1 = df1.set_index(keys = '아파트')\n",
    "df1.head()"
   ]
  },
  {
   "cell_type": "code",
   "execution_count": null,
   "id": "e83457e5",
   "metadata": {},
   "outputs": [],
   "source": [
    "# 행이름을 초기화하면서 기존 행이름을 열로 추가합니다.\n",
    "df1 = df1.reset_index()\n",
    "df1.head()"
   ]
  },
  {
   "cell_type": "markdown",
   "id": "rational-burns",
   "metadata": {},
   "source": [
    "### 결측값 처리: 단순대체"
   ]
  },
  {
   "cell_type": "code",
   "execution_count": null,
   "id": "ad818c0d",
   "metadata": {
    "ExecuteTime": {
     "end_time": "2022-06-09T13:19:52.208013Z",
     "start_time": "2022-06-09T13:19:52.175370Z"
    }
   },
   "outputs": [],
   "source": [
    "# 데이터프레임의 셀 값별 결측값 여부를 반환합니다.\n",
    "price.isna()"
   ]
  },
  {
   "cell_type": "code",
   "execution_count": null,
   "id": "martial-album",
   "metadata": {
    "ExecuteTime": {
     "end_time": "2022-06-09T13:19:52.237983Z",
     "start_time": "2022-06-09T13:19:52.209873Z"
    }
   },
   "outputs": [],
   "source": [
    "# 데이터프레임의 열별 결측값 개수를 계산합니다.\n",
    "price.isna().sum()"
   ]
  },
  {
   "cell_type": "code",
   "execution_count": null,
   "id": "d6a12c54",
   "metadata": {
    "ExecuteTime": {
     "end_time": "2022-06-09T13:19:52.251661Z",
     "start_time": "2022-06-09T13:19:52.239589Z"
    }
   },
   "outputs": [],
   "source": [
    "# 지번이 결측값인 행을 선택합니다.\n",
    "price[price['지번'].isna()]"
   ]
  },
  {
   "cell_type": "code",
   "execution_count": null,
   "id": "4590160a",
   "metadata": {
    "ExecuteTime": {
     "end_time": "2022-06-09T13:19:52.265959Z",
     "start_time": "2022-06-09T13:19:52.253397Z"
    }
   },
   "outputs": [],
   "source": [
    "# 지번이 결측값인 행에서 결측값을 빈 문자열로 대체한 결과를 반환합니다.\n",
    "price[price['지번'].isna()].fillna(value = '')"
   ]
  },
  {
   "cell_type": "markdown",
   "id": "bd5aa304",
   "metadata": {},
   "source": [
    "### [참고] 결측값을 원본 데이터로 채워넣기"
   ]
  },
  {
   "cell_type": "code",
   "execution_count": null,
   "id": "bc298ea7",
   "metadata": {},
   "outputs": [],
   "source": [
    "# price를 깊은 복사한 imsi를 생성합니다.\n",
    "imsi = price.copy()"
   ]
  },
  {
   "cell_type": "code",
   "execution_count": null,
   "id": "1ba1aff9",
   "metadata": {},
   "outputs": [],
   "source": [
    "# 지번이 결측인 아파트별로 원본 데이터를 찾아서 채워넣습니다.\n",
    "imsi.loc[imsi['아파트'].eq('서초포레스타2단지'), '지번'] = '384'\n",
    "imsi.loc[imsi['아파트'].eq('힐스테이트 서초 젠트리스'), '지번'] = '557'"
   ]
  },
  {
   "cell_type": "code",
   "execution_count": null,
   "id": "1aec01c2",
   "metadata": {},
   "outputs": [],
   "source": [
    "# imsi의 열별 결측값 개수를 계산합니다.\n",
    "imsi.isna().sum()"
   ]
  },
  {
   "cell_type": "markdown",
   "id": "7130765e",
   "metadata": {},
   "source": [
    "### [참고] 결측값을 이전 셀 값으로 채우기"
   ]
  },
  {
   "cell_type": "code",
   "execution_count": null,
   "id": "78a88025",
   "metadata": {
    "ExecuteTime": {
     "end_time": "2022-06-09T13:19:52.271379Z",
     "start_time": "2022-06-09T13:19:52.267625Z"
    }
   },
   "outputs": [],
   "source": [
    "# 현재 작업 경로에 있는 폴더명과 파일명을 출력합니다.\n",
    "os.listdir()"
   ]
  },
  {
   "cell_type": "code",
   "execution_count": null,
   "id": "89cf2e20",
   "metadata": {
    "ExecuteTime": {
     "end_time": "2022-06-09T13:19:52.299207Z",
     "start_time": "2022-06-09T13:19:52.273032Z"
    }
   },
   "outputs": [],
   "source": [
    "# 법정동별 평균 거래금액 xlsx 파일을 읽고 데이터프레임을 생성합니다.\n",
    "dong = pd.read_excel(io = 'APT_Mean_Price_Dong_2021.xlsx')"
   ]
  },
  {
   "cell_type": "code",
   "execution_count": null,
   "id": "6f4b46a8",
   "metadata": {
    "ExecuteTime": {
     "end_time": "2022-06-09T13:19:52.307844Z",
     "start_time": "2022-06-09T13:19:52.301013Z"
    }
   },
   "outputs": [],
   "source": [
    "# dong을 출력합니다.\n",
    "# [참고] xlsx에서 병합한 셀은 처음 값만 제대로 읽고 나머지는 결측값으로 대체합니다.\n",
    "dong"
   ]
  },
  {
   "cell_type": "code",
   "execution_count": null,
   "id": "ee2bc07a",
   "metadata": {
    "ExecuteTime": {
     "end_time": "2022-06-09T13:19:52.319727Z",
     "start_time": "2022-06-09T13:19:52.309375Z"
    }
   },
   "outputs": [],
   "source": [
    "# 자치구에 있는 결측값을 이전 셀 값으로 채웁니다.\n",
    "# [참고] method 매개변수에 'bfill'을 지정하면 결측값을 이후 셀 값으로 채웁니다.\n",
    "dong.fillna(method = 'ffill')"
   ]
  },
  {
   "cell_type": "markdown",
   "id": "e8decc16",
   "metadata": {},
   "source": [
    "### 결측값 처리: 행 삭제"
   ]
  },
  {
   "cell_type": "code",
   "execution_count": null,
   "id": "narrow-soundtrack",
   "metadata": {
    "ExecuteTime": {
     "end_time": "2022-06-09T13:19:52.352362Z",
     "start_time": "2022-06-09T13:19:52.321469Z"
    }
   },
   "outputs": [],
   "source": [
    "# 데이터프레임에서 결측값이 있는 모든 행을 삭제한 결과를 반환합니다.\n",
    "price.dropna()"
   ]
  },
  {
   "cell_type": "code",
   "execution_count": null,
   "id": "outstanding-brazil",
   "metadata": {
    "ExecuteTime": {
     "end_time": "2022-06-09T13:19:52.359844Z",
     "start_time": "2022-06-09T13:19:52.354113Z"
    }
   },
   "outputs": [],
   "source": [
    "# 지번에서 결측값이 없는 행을 선택한 결과를 반환합니다.\n",
    "price[~price['지번'].isna()]"
   ]
  },
  {
   "cell_type": "code",
   "execution_count": null,
   "id": "47e2d10a",
   "metadata": {
    "ExecuteTime": {
     "end_time": "2022-06-09T13:19:52.370915Z",
     "start_time": "2022-06-09T13:19:52.361597Z"
    }
   },
   "outputs": [],
   "source": [
    "# 지번에서 결측값이 없는 행을 선택한 결과를 반환합니다.\n",
    "price[price['지번'].notna()]"
   ]
  },
  {
   "cell_type": "code",
   "execution_count": null,
   "id": "e0472564",
   "metadata": {
    "ExecuteTime": {
     "end_time": "2022-06-09T13:19:52.380317Z",
     "start_time": "2022-06-09T13:19:52.372588Z"
    }
   },
   "outputs": [],
   "source": [
    "# 지번에서 결측값이 아닌 행을 선택하고 price에 재할당합니다.\n",
    "price = price[price['지번'].notna()]"
   ]
  },
  {
   "cell_type": "code",
   "execution_count": null,
   "id": "fe8c15f7",
   "metadata": {},
   "outputs": [],
   "source": [
    "# price의 행 개수를 확인합니다.\n",
    "price.shape[0]"
   ]
  },
  {
   "cell_type": "markdown",
   "id": "american-milan",
   "metadata": {},
   "source": [
    "### 파생변수 생성 : 연속형 변수"
   ]
  },
  {
   "cell_type": "code",
   "execution_count": null,
   "id": "dependent-modification",
   "metadata": {
    "ExecuteTime": {
     "end_time": "2022-06-09T13:19:52.393116Z",
     "start_time": "2022-06-09T13:19:52.382084Z"
    }
   },
   "outputs": [],
   "source": [
    "# 거래금액을 전용면적으로 나누고 3.3을 곱한 평당금액을 생성합니다.\n",
    "price['평당금액'] = price['거래금액'] / price['전용면적'] * 3.3\n",
    "price.head()"
   ]
  },
  {
   "cell_type": "code",
   "execution_count": null,
   "id": "inappropriate-resistance",
   "metadata": {
    "ExecuteTime": {
     "end_time": "2022-06-09T13:19:52.425282Z",
     "start_time": "2022-06-09T13:19:52.420763Z"
    }
   },
   "outputs": [],
   "source": [
    "# 거래금액을 10000으로 나누면 단위가 만원에서 억원으로 바뀝니다.\n",
    "price['거래금액'] = price['거래금액'] / 10000"
   ]
  },
  {
   "cell_type": "code",
   "execution_count": null,
   "id": "9364a3e9",
   "metadata": {},
   "outputs": [],
   "source": [
    "# pandas 옵션에서 실수를 출력하는 소수점 자리수를 3으로 설정합니다.\n",
    "pd.options.display.precision = 3\n",
    "price.head()"
   ]
  },
  {
   "cell_type": "markdown",
   "id": "2f904c50",
   "metadata": {},
   "source": [
    "### 파생변수 생성 : 범주형 변수"
   ]
  },
  {
   "cell_type": "code",
   "execution_count": null,
   "id": "a1c6120a",
   "metadata": {},
   "outputs": [],
   "source": [
    "# 평당금액이 5000 이상이면 True, 아니면 False인 원소를 갖는 locs를 생성합니다.\n",
    "# [참고] locs는 부울형 시리즈입니다.\n",
    "locs = price['평당금액'].ge(5000)\n",
    "locs.head()"
   ]
  },
  {
   "cell_type": "code",
   "execution_count": null,
   "id": "lasting-chapter",
   "metadata": {
    "ExecuteTime": {
     "end_time": "2022-06-09T13:19:52.533779Z",
     "start_time": "2022-06-09T13:19:52.515776Z"
    }
   },
   "outputs": [],
   "source": [
    "# 평당금액을 '5천 이상', '5천 미만'으로 구분한 금액구분을 생성합니다.\n",
    "# [참고] np.where() 함수는 조건이 True일 때 두 번째 인수, False일 때 세 번째 인수를 반환합니다.\n",
    "price['금액구분'] = np.where(locs, '5천 이상', '5천 미만')\n",
    "price.head()"
   ]
  },
  {
   "cell_type": "markdown",
   "id": "f94f1c3d",
   "metadata": {},
   "source": [
    "### [참고] pandas에서 추천하는 코딩 방식"
   ]
  },
  {
   "cell_type": "code",
   "execution_count": null,
   "id": "322f56fe",
   "metadata": {},
   "outputs": [],
   "source": [
    "# price를 깊은 복사한 imsi를 다시 생성합니다.\n",
    "imsi = price.copy()"
   ]
  },
  {
   "cell_type": "code",
   "execution_count": null,
   "id": "4225979c",
   "metadata": {
    "ExecuteTime": {
     "end_time": "2022-06-09T13:19:52.550672Z",
     "start_time": "2022-06-09T13:19:52.535498Z"
    }
   },
   "outputs": [],
   "source": [
    "# 평당금액이 5000 이상인 행의 새 변수(금액구분2)에 '5천 이상'을 할당합니다.\n",
    "imsi.loc[imsi['평당금액'].ge(5000), '금액구분2'] = '5천 이상'\n",
    "imsi.head()"
   ]
  },
  {
   "cell_type": "code",
   "execution_count": null,
   "id": "ff199f9c",
   "metadata": {
    "ExecuteTime": {
     "end_time": "2022-06-09T13:19:52.564926Z",
     "start_time": "2022-06-09T13:19:52.552359Z"
    }
   },
   "outputs": [],
   "source": [
    "# 평당금액이 5000 미만인 행의 새 변수(금액구분2)에 '5천 미만'을 할당합니다.\n",
    "imsi.loc[imsi['평당금액'].lt(5000), '금액구분2'] = '5천 미만'\n",
    "imsi.head()"
   ]
  },
  {
   "cell_type": "markdown",
   "id": "fff071c5",
   "metadata": {},
   "source": [
    "### [참고] 구간화 함수"
   ]
  },
  {
   "cell_type": "code",
   "execution_count": null,
   "id": "43dd519d",
   "metadata": {
    "ExecuteTime": {
     "end_time": "2022-06-09T13:19:52.572007Z",
     "start_time": "2022-06-09T13:19:52.566721Z"
    }
   },
   "outputs": [],
   "source": [
    "# 연속형 변수를 세 개 이상으로 분리할 때 np.where() 함수를 중첩합니다.\n",
    "np.where(price['평당금액'].ge(10000), \n",
    "         '1억 이상', \n",
    "         np.where(price['평당금액'].ge(5000), \n",
    "                  '5천 이상', \n",
    "                  '5천 미만'))"
   ]
  },
  {
   "cell_type": "code",
   "execution_count": null,
   "id": "8a0cdbce",
   "metadata": {
    "ExecuteTime": {
     "end_time": "2022-06-09T13:19:52.579320Z",
     "start_time": "2022-06-09T13:19:52.573685Z"
    }
   },
   "outputs": [],
   "source": [
    "# 연속형 변수를 세 개 이상으로 분리할 때 np.select() 함수를 사용합니다.\n",
    "np.select(condlist = [price['평당금액'].ge(10000),\n",
    "                      price['평당금액'].ge(5000),\n",
    "                      price['평당금액'].lt(5000)], \n",
    "          choicelist = ['1억 이상', '5천 이상', '5천 미만'])"
   ]
  },
  {
   "cell_type": "markdown",
   "id": "66493a72",
   "metadata": {},
   "source": [
    "### 파생변수 생성: 문자형 변수 결합"
   ]
  },
  {
   "cell_type": "code",
   "execution_count": null,
   "id": "blond-dryer",
   "metadata": {
    "ExecuteTime": {
     "end_time": "2022-06-09T13:19:52.612040Z",
     "start_time": "2022-06-09T13:19:52.581117Z"
    }
   },
   "outputs": [],
   "source": [
    "# 여러 문자형 변수를 + 연산자로 결합합니다.\n",
    "price['주소'] = price['시도'] + ' ' + price['자치구'] + ' ' + \\\n",
    "                price['읍면동'] + ' ' + price['지번']"
   ]
  },
  {
   "cell_type": "code",
   "execution_count": null,
   "id": "tamil-penny",
   "metadata": {
    "ExecuteTime": {
     "end_time": "2022-06-09T13:19:52.616345Z",
     "start_time": "2022-06-09T13:19:52.613944Z"
    }
   },
   "outputs": [],
   "source": [
    "# 여러 문자형 열이름으로 리스트를 생성합니다.\n",
    "cols = ['시도', '자치구', '읍면동', '지번']"
   ]
  },
  {
   "cell_type": "code",
   "execution_count": null,
   "id": "protective-illness",
   "metadata": {
    "ExecuteTime": {
     "end_time": "2022-06-09T13:19:52.875331Z",
     "start_time": "2022-06-09T13:19:52.618357Z"
    }
   },
   "outputs": [],
   "source": [
    "# 데이터프레임의 행(시리즈)별로 문자열을 결합하는 함수를 반복 실행합니다.\n",
    "price[cols].apply(func = lambda x: ' '.join(x), axis = 1)"
   ]
  },
  {
   "cell_type": "markdown",
   "id": "latest-insight",
   "metadata": {},
   "source": [
    "### [참고] 같은 함수 반복 실행 실습"
   ]
  },
  {
   "cell_type": "code",
   "execution_count": null,
   "id": "posted-wrestling",
   "metadata": {
    "ExecuteTime": {
     "end_time": "2022-06-09T13:19:52.888528Z",
     "start_time": "2022-06-09T13:19:52.877159Z"
    }
   },
   "outputs": [],
   "source": [
    "# 아파트(시리즈)의 원소(문자열)별 글자수를 반환합니다.\n",
    "price['아파트'].map(arg = len)"
   ]
  },
  {
   "cell_type": "code",
   "execution_count": null,
   "id": "1c042697",
   "metadata": {
    "ExecuteTime": {
     "end_time": "2022-06-09T13:19:52.902701Z",
     "start_time": "2022-06-09T13:19:52.890225Z"
    }
   },
   "outputs": [],
   "source": [
    "# 데이터프레임의 열(시리즈)별 원소 개수를 반환합니다.\n",
    "price[cols].apply(func = len, axis = 0)"
   ]
  },
  {
   "cell_type": "code",
   "execution_count": null,
   "id": "thorough-monitoring",
   "metadata": {
    "ExecuteTime": {
     "end_time": "2022-06-09T13:19:53.082112Z",
     "start_time": "2022-06-09T13:19:52.904571Z"
    }
   },
   "outputs": [],
   "source": [
    "# 데이터프레임의 행(시리즈)별 원소 개수를 반환합니다.\n",
    "price[cols].apply(func = len, axis = 1)"
   ]
  },
  {
   "cell_type": "code",
   "execution_count": null,
   "id": "different-juice",
   "metadata": {
    "ExecuteTime": {
     "end_time": "2022-06-09T13:19:53.131114Z",
     "start_time": "2022-06-09T13:19:53.084003Z"
    }
   },
   "outputs": [],
   "source": [
    "# 데이터프레임의 셀 값(문자열)별 글자수를 반환합니다.\n",
    "price[cols].applymap(func = len)"
   ]
  },
  {
   "cell_type": "markdown",
   "id": "brave-continuity",
   "metadata": {},
   "source": [
    "### 데이터프레임 정렬"
   ]
  },
  {
   "cell_type": "code",
   "execution_count": null,
   "id": "c819c908",
   "metadata": {
    "ExecuteTime": {
     "end_time": "2022-06-09T13:19:53.140165Z",
     "start_time": "2022-06-09T13:19:53.133089Z"
    }
   },
   "outputs": [],
   "source": [
    "# 층을 오름차순 정렬합니다.\n",
    "# [참고] ascending 매개변수에 전달하는 인수의 기본값은 True입니다.\n",
    "price['층'].sort_values()"
   ]
  },
  {
   "cell_type": "code",
   "execution_count": null,
   "id": "b074e043",
   "metadata": {
    "ExecuteTime": {
     "end_time": "2022-06-09T13:19:53.148830Z",
     "start_time": "2022-06-09T13:19:53.142607Z"
    }
   },
   "outputs": [],
   "source": [
    "# 층을 내림차순 정렬합니다.\n",
    "price['층'].sort_values(ascending = False)"
   ]
  },
  {
   "cell_type": "code",
   "execution_count": null,
   "id": "stopped-angola",
   "metadata": {
    "ExecuteTime": {
     "end_time": "2022-06-09T13:19:53.173835Z",
     "start_time": "2022-06-09T13:19:53.150496Z"
    },
    "scrolled": true,
    "tags": []
   },
   "outputs": [],
   "source": [
    "# price를 층으로 오름차순 정렬합니다.\n",
    "price.sort_values(by = ['층'])"
   ]
  },
  {
   "cell_type": "code",
   "execution_count": null,
   "id": "mechanical-kenya",
   "metadata": {
    "ExecuteTime": {
     "end_time": "2022-06-09T13:19:53.198567Z",
     "start_time": "2022-06-09T13:19:53.176144Z"
    },
    "scrolled": true,
    "tags": []
   },
   "outputs": [],
   "source": [
    "# price를 층으로 내림차순 정렬합니다.\n",
    "price.sort_values(by = ['층'], ascending = False)"
   ]
  },
  {
   "cell_type": "code",
   "execution_count": null,
   "id": "connected-delicious",
   "metadata": {
    "ExecuteTime": {
     "end_time": "2022-06-09T13:19:53.227539Z",
     "start_time": "2022-06-09T13:19:53.201070Z"
    },
    "scrolled": true,
    "tags": []
   },
   "outputs": [],
   "source": [
    "# price를 층과 거래금액으로 내림차순 정렬합니다.\n",
    "price.sort_values(by = ['층', '거래금액'], ascending = False)"
   ]
  },
  {
   "cell_type": "code",
   "execution_count": null,
   "id": "according-literacy",
   "metadata": {
    "ExecuteTime": {
     "end_time": "2022-06-09T13:19:53.254864Z",
     "start_time": "2022-06-09T13:19:53.229354Z"
    },
    "scrolled": true,
    "tags": []
   },
   "outputs": [],
   "source": [
    "# price를 층은 내림차순, 거래금액은 오름차순 정렬합니다.\n",
    "price.sort_values(by = ['층', '거래금액'], ascending = [False, True])"
   ]
  },
  {
   "cell_type": "markdown",
   "id": "d271ba9e",
   "metadata": {},
   "source": [
    "### 집계함수로 데이터 요약"
   ]
  },
  {
   "cell_type": "code",
   "execution_count": null,
   "id": "e4c7be42",
   "metadata": {
    "ExecuteTime": {
     "end_time": "2022-06-09T13:19:53.260474Z",
     "start_time": "2022-06-09T13:19:53.256520Z"
    }
   },
   "outputs": [],
   "source": [
    "# 거래금액에서 결측값을 제외한 빈도수를 반환합니다.\n",
    "price['거래금액'].count()"
   ]
  },
  {
   "cell_type": "code",
   "execution_count": null,
   "id": "12916b06",
   "metadata": {},
   "outputs": [],
   "source": [
    "# 거래금액의 합계를 반환합니다.\n",
    "price['거래금액'].sum()"
   ]
  },
  {
   "cell_type": "code",
   "execution_count": null,
   "id": "69ccd4e8",
   "metadata": {
    "ExecuteTime": {
     "end_time": "2022-06-09T13:19:53.266647Z",
     "start_time": "2022-06-09T13:19:53.262437Z"
    }
   },
   "outputs": [],
   "source": [
    "# 거래금액의 평균을 반환합니다.\n",
    "price['거래금액'].mean()"
   ]
  },
  {
   "cell_type": "code",
   "execution_count": null,
   "id": "6a15644f",
   "metadata": {
    "ExecuteTime": {
     "end_time": "2022-06-09T13:19:53.275654Z",
     "start_time": "2022-06-09T13:19:53.268766Z"
    }
   },
   "outputs": [],
   "source": [
    "# 거래금액의 표준편차를 반환합니다.\n",
    "price['거래금액'].std()"
   ]
  },
  {
   "cell_type": "code",
   "execution_count": null,
   "id": "27c18019",
   "metadata": {
    "ExecuteTime": {
     "end_time": "2022-06-09T13:19:53.283950Z",
     "start_time": "2022-06-09T13:19:53.277967Z"
    }
   },
   "outputs": [],
   "source": [
    "# 거래금액의 최솟값을 반환합니다.\n",
    "price['거래금액'].min()"
   ]
  },
  {
   "cell_type": "code",
   "execution_count": null,
   "id": "8d2ad003",
   "metadata": {
    "ExecuteTime": {
     "end_time": "2022-06-09T13:19:53.294894Z",
     "start_time": "2022-06-09T13:19:53.288577Z"
    }
   },
   "outputs": [],
   "source": [
    "# 거래금액의 최댓값을 반환합니다.\n",
    "price['거래금액'].max()"
   ]
  },
  {
   "cell_type": "markdown",
   "id": "danish-patient",
   "metadata": {},
   "source": [
    "### 범주별 집계함수로 데이터 요약"
   ]
  },
  {
   "cell_type": "code",
   "execution_count": null,
   "id": "mediterranean-recipient",
   "metadata": {
    "ExecuteTime": {
     "end_time": "2022-06-09T13:19:53.346036Z",
     "start_time": "2022-06-09T13:19:53.307017Z"
    },
    "scrolled": true
   },
   "outputs": [],
   "source": [
    "# 자치구별 거래금액에서 결측값을 제외한 빈도수를 반환합니다.\n",
    "price.groupby(by = ['자치구'])['거래금액'].count()"
   ]
  },
  {
   "cell_type": "code",
   "execution_count": null,
   "id": "2c7df1f0",
   "metadata": {},
   "outputs": [],
   "source": [
    "# 자치구별 거래금액의 합계를 반환합니다.\n",
    "price.groupby(by = ['자치구'])['거래금액'].sum()"
   ]
  },
  {
   "cell_type": "code",
   "execution_count": null,
   "id": "dress-medicine",
   "metadata": {
    "ExecuteTime": {
     "end_time": "2022-06-09T13:19:53.359555Z",
     "start_time": "2022-06-09T13:19:53.349186Z"
    },
    "scrolled": true
   },
   "outputs": [],
   "source": [
    "# 자치구별 거래금액의 평균을 반환합니다.\n",
    "price.groupby(by = ['자치구'])['거래금액'].mean()"
   ]
  },
  {
   "cell_type": "code",
   "execution_count": null,
   "id": "selective-minimum",
   "metadata": {
    "ExecuteTime": {
     "end_time": "2022-06-09T13:19:53.371377Z",
     "start_time": "2022-06-09T13:19:53.362048Z"
    },
    "scrolled": true
   },
   "outputs": [],
   "source": [
    "# 자치구별 거래금액의 표준편차를 반환합니다.\n",
    "price.groupby(by = ['자치구'])['거래금액'].std()"
   ]
  },
  {
   "cell_type": "code",
   "execution_count": null,
   "id": "nuclear-directive",
   "metadata": {
    "ExecuteTime": {
     "end_time": "2022-06-09T13:19:53.427003Z",
     "start_time": "2022-06-09T13:19:53.372861Z"
    },
    "scrolled": true
   },
   "outputs": [],
   "source": [
    "# 자치구별 거래금액의 최솟값을 반환합니다.\n",
    "price.groupby(by = ['자치구'])['거래금액'].min()"
   ]
  },
  {
   "cell_type": "code",
   "execution_count": null,
   "id": "addressed-reality",
   "metadata": {
    "ExecuteTime": {
     "end_time": "2022-06-09T13:19:53.479232Z",
     "start_time": "2022-06-09T13:19:53.428883Z"
    },
    "scrolled": true
   },
   "outputs": [],
   "source": [
    "# 자치구별 거래금액의 최댓값을 반환합니다.\n",
    "price.groupby(by = ['자치구'])['거래금액'].max()"
   ]
  },
  {
   "cell_type": "markdown",
   "id": "e0d4528c",
   "metadata": {},
   "source": [
    "### 범주형 변수의 빈도수/상대도수 확인"
   ]
  },
  {
   "cell_type": "code",
   "execution_count": null,
   "id": "0738ebb8",
   "metadata": {},
   "outputs": [],
   "source": [
    "# 자치구에서 중복을 제거한 원소를 반환합니다.\n",
    "price['자치구'].unique()"
   ]
  },
  {
   "cell_type": "code",
   "execution_count": null,
   "id": "48f55f55",
   "metadata": {},
   "outputs": [],
   "source": [
    "# 자치구에서 중복을 제거한 원소 개수를 반환합니다.\n",
    "price['자치구'].nunique()"
   ]
  },
  {
   "cell_type": "code",
   "execution_count": null,
   "id": "0e48d7df",
   "metadata": {
    "ExecuteTime": {
     "end_time": "2022-06-09T13:19:53.679439Z",
     "start_time": "2022-06-09T13:19:53.673386Z"
    },
    "scrolled": true
   },
   "outputs": [],
   "source": [
    "# 자치구별 빈도수를 내림차순 정렬한 결과를 반환합니다.\n",
    "price['자치구'].value_counts()"
   ]
  },
  {
   "cell_type": "code",
   "execution_count": null,
   "id": "d97cb42e",
   "metadata": {
    "ExecuteTime": {
     "end_time": "2022-06-09T13:19:53.688196Z",
     "start_time": "2022-06-09T13:19:53.681345Z"
    },
    "scrolled": true
   },
   "outputs": [],
   "source": [
    "# 자치구별 빈도수를 오름차순 정렬한 결과를 반환합니다.\n",
    "price['자치구'].value_counts(ascending = True)"
   ]
  },
  {
   "cell_type": "code",
   "execution_count": null,
   "id": "54a93b30",
   "metadata": {
    "ExecuteTime": {
     "end_time": "2022-06-09T13:19:53.696392Z",
     "start_time": "2022-06-09T13:19:53.690168Z"
    },
    "scrolled": true
   },
   "outputs": [],
   "source": [
    "# 자치구별 빈도수를 시리즈 인덱스로 오름차순 정렬한 결과를 반환합니다.\n",
    "price['자치구'].value_counts().sort_index()"
   ]
  },
  {
   "cell_type": "code",
   "execution_count": null,
   "id": "62dd5af3",
   "metadata": {
    "ExecuteTime": {
     "end_time": "2022-06-09T13:19:53.704967Z",
     "start_time": "2022-06-09T13:19:53.698132Z"
    },
    "scrolled": true
   },
   "outputs": [],
   "source": [
    "# 자치구별 상대도수를 내림차순 정렬한 결과를 반환합니다.\n",
    "price['자치구'].value_counts(normalize = True)"
   ]
  },
  {
   "cell_type": "markdown",
   "id": "short-grenada",
   "metadata": {},
   "source": [
    "### Long type 데이터프레임 생성"
   ]
  },
  {
   "cell_type": "code",
   "execution_count": null,
   "id": "a197b0fb",
   "metadata": {
    "ExecuteTime": {
     "end_time": "2022-06-09T13:19:53.720144Z",
     "start_time": "2022-06-09T13:19:53.717437Z"
    },
    "scrolled": true
   },
   "outputs": [],
   "source": [
    "# 두 범주형 변수명으로 리스트를 생성합니다.\n",
    "cols = ['자치구', '금액구분']"
   ]
  },
  {
   "cell_type": "code",
   "execution_count": null,
   "id": "center-induction",
   "metadata": {
    "ExecuteTime": {
     "end_time": "2022-06-09T13:19:53.768535Z",
     "start_time": "2022-06-09T13:19:53.721878Z"
    }
   },
   "outputs": [],
   "source": [
    "# 두 범주형 변수의 빈도수로 Long type 데이터프레임을 생성합니다.\n",
    "elong = price.groupby(by = cols)[['평당금액']].count()\n",
    "elong.head()"
   ]
  },
  {
   "cell_type": "code",
   "execution_count": null,
   "id": "41f6a650",
   "metadata": {
    "ExecuteTime": {
     "end_time": "2022-06-09T13:19:53.777484Z",
     "start_time": "2022-06-09T13:19:53.770577Z"
    }
   },
   "outputs": [],
   "source": [
    "# elong의 행이름을 초기화하고 기존 행이름을 열로 추가합니다.\n",
    "elong = elong.reset_index()\n",
    "elong.head()"
   ]
  },
  {
   "cell_type": "code",
   "execution_count": null,
   "id": "waiting-balance",
   "metadata": {
    "ExecuteTime": {
     "end_time": "2022-06-09T13:19:53.782572Z",
     "start_time": "2022-06-09T13:19:53.779443Z"
    }
   },
   "outputs": [],
   "source": [
    "# elong의 일부 열이름을 변경합니다.\n",
    "elong = elong.rename(columns = {'평당금액': '매매건수'})"
   ]
  },
  {
   "cell_type": "markdown",
   "id": "8fefe582",
   "metadata": {},
   "source": [
    "### Long type을 Wide type으로 변환"
   ]
  },
  {
   "cell_type": "code",
   "execution_count": null,
   "id": "absolute-flesh",
   "metadata": {
    "ExecuteTime": {
     "end_time": "2022-06-09T13:19:53.793454Z",
     "start_time": "2022-06-09T13:19:53.784653Z"
    }
   },
   "outputs": [],
   "source": [
    "# Long type을 Wide type으로 변환합니다.\n",
    "widen = elong.pivot(index = '자치구', columns = '금액구분', values = '매매건수')\n",
    "widen.head()"
   ]
  },
  {
   "cell_type": "code",
   "execution_count": null,
   "id": "0a444adc",
   "metadata": {
    "ExecuteTime": {
     "end_time": "2022-06-09T13:19:53.798837Z",
     "start_time": "2022-06-09T13:19:53.795228Z"
    }
   },
   "outputs": [],
   "source": [
    "# widen의 행이름을 출력합니다.\n",
    "# [참고] 인덱스(행이름)에 name 속성이 있고, 속성값은 '자치구'입니다.\n",
    "widen.index"
   ]
  },
  {
   "cell_type": "code",
   "execution_count": null,
   "id": "d079b308",
   "metadata": {
    "ExecuteTime": {
     "end_time": "2022-06-09T13:19:53.803617Z",
     "start_time": "2022-06-09T13:19:53.800741Z"
    }
   },
   "outputs": [],
   "source": [
    "# 인덱스(행이름)의 name을 출력합니다.\n",
    "widen.index.name"
   ]
  },
  {
   "cell_type": "markdown",
   "id": "aaf61e4e",
   "metadata": {},
   "source": [
    "### widen 행이름 초기화"
   ]
  },
  {
   "cell_type": "code",
   "execution_count": null,
   "id": "86b76ae3",
   "metadata": {
    "ExecuteTime": {
     "end_time": "2022-06-09T13:19:53.811520Z",
     "start_time": "2022-06-09T13:19:53.805336Z"
    }
   },
   "outputs": [],
   "source": [
    "# widen의 행이름을 초기화하고 기존 행이름을 열로 추가합니다.\n",
    "widen = widen.reset_index()\n",
    "widen.head()"
   ]
  },
  {
   "cell_type": "code",
   "execution_count": null,
   "id": "31fad51d",
   "metadata": {
    "ExecuteTime": {
     "end_time": "2022-06-09T13:19:53.816863Z",
     "start_time": "2022-06-09T13:19:53.813192Z"
    }
   },
   "outputs": [],
   "source": [
    "# widen의 열이름을 출력합니다.\n",
    "# [참고] 컬럼명(열이름)에 name 속성이 있고, 속성값은 '금액구분'입니다.\n",
    "widen.columns"
   ]
  },
  {
   "cell_type": "code",
   "execution_count": null,
   "id": "9b5aea5a",
   "metadata": {
    "ExecuteTime": {
     "end_time": "2022-06-09T13:19:53.823523Z",
     "start_time": "2022-06-09T13:19:53.820067Z"
    }
   },
   "outputs": [],
   "source": [
    "# 컬럼명(열이름)의 name을 출력합니다.\n",
    "widen.columns.name"
   ]
  },
  {
   "cell_type": "code",
   "execution_count": null,
   "id": "d9d457f8",
   "metadata": {
    "ExecuteTime": {
     "end_time": "2022-06-09T13:19:53.831913Z",
     "start_time": "2022-06-09T13:19:53.826071Z"
    }
   },
   "outputs": [],
   "source": [
    "# 컬럼명(열이름)의 name에 빈 문자열을 할당합니다.\n",
    "widen.columns.name = ''\n",
    "widen.head()"
   ]
  },
  {
   "cell_type": "markdown",
   "id": "276805bf",
   "metadata": {},
   "source": [
    "### Wide type을 Long type으로 변환"
   ]
  },
  {
   "cell_type": "code",
   "execution_count": null,
   "id": "d979e8b1",
   "metadata": {},
   "outputs": [],
   "source": [
    "# Wide type을 Long type으로 변환합니다.\n",
    "widen.melt(id_vars = '자치구', \n",
    "           value_vars = ['5천 미만', '5천 이상'], \n",
    "           var_name = '금액종류',\n",
    "           value_name = '거래건수') \\\n",
    "     .sort_values(by = ['자치구', '금액종류']) \\\n",
    "     .reset_index(drop = True) \\\n",
    "     .head()"
   ]
  },
  {
   "cell_type": "markdown",
   "id": "several-bobby",
   "metadata": {},
   "source": [
    "### 피벗 테이블 생성"
   ]
  },
  {
   "cell_type": "code",
   "execution_count": null,
   "id": "historical-baghdad",
   "metadata": {
    "ExecuteTime": {
     "end_time": "2022-06-09T13:19:53.956064Z",
     "start_time": "2022-06-09T13:19:53.908946Z"
    },
    "scrolled": true
   },
   "outputs": [],
   "source": [
    "# 두 범주형 변수로 연속형 변수를 요약한 피벗 테이블을 생성합니다.\n",
    "pd.pivot_table(data = price, \n",
    "               values = '평당금액', \n",
    "               index = '자치구', \n",
    "               columns = '금액구분', \n",
    "               aggfunc = np.mean)"
   ]
  },
  {
   "cell_type": "markdown",
   "id": "b5519dad",
   "metadata": {},
   "source": [
    "### 교차 테이블 생성"
   ]
  },
  {
   "cell_type": "code",
   "execution_count": null,
   "id": "8c0ee04b",
   "metadata": {
    "ExecuteTime": {
     "end_time": "2022-06-09T13:19:53.907066Z",
     "start_time": "2022-06-09T13:19:53.855904Z"
    },
    "scrolled": true
   },
   "outputs": [],
   "source": [
    "# 두 범주형 변수의 빈도수/상대도수를 원소로 갖는 교차 테이블을 생성합니다.\n",
    "pd.crosstab(index = price['자치구'],\n",
    "            columns = price['금액구분'], \n",
    "            normalize = 'index',\n",
    "            margins = True, \n",
    "            margins_name = '합계')"
   ]
  },
  {
   "cell_type": "markdown",
   "id": "scenic-spirituality",
   "metadata": {},
   "source": [
    "### 데이터프레임 결합"
   ]
  },
  {
   "cell_type": "code",
   "execution_count": null,
   "id": "ee6330d8",
   "metadata": {
    "ExecuteTime": {
     "end_time": "2022-06-09T13:19:53.961040Z",
     "start_time": "2022-06-09T13:19:53.957802Z"
    }
   },
   "outputs": [],
   "source": [
    "# 두 데이터프레임의 열이름이 순서까지 정확하게 같은지 확인합니다.\n",
    "# [참고] 순서만 달라도 False를 반환합니다.\n",
    "df1.columns.equals(other = df2.columns)"
   ]
  },
  {
   "cell_type": "code",
   "execution_count": null,
   "id": "b749386e",
   "metadata": {
    "ExecuteTime": {
     "end_time": "2022-06-09T13:19:53.974104Z",
     "start_time": "2022-06-09T13:19:53.962781Z"
    },
    "scrolled": true
   },
   "outputs": [],
   "source": [
    "# 열이름이 같은 두 데이터프레임을 행(세로) 방향으로 결합합니다.\n",
    "# [참고] 두 데이터프레임의 기존 행이름을 유지합니다.\n",
    "pd.concat(objs = [df1, df2])"
   ]
  },
  {
   "cell_type": "code",
   "execution_count": null,
   "id": "likely-messenger",
   "metadata": {
    "ExecuteTime": {
     "end_time": "2022-06-09T13:19:53.987781Z",
     "start_time": "2022-06-09T13:19:53.975825Z"
    },
    "scrolled": true
   },
   "outputs": [],
   "source": [
    "# 두 데이터프레임을 세로로 결합하고 행이름을 초기화합니다.\n",
    "pd.concat(objs = [df1, df2], ignore_index = True)"
   ]
  },
  {
   "cell_type": "code",
   "execution_count": null,
   "id": "played-private",
   "metadata": {
    "ExecuteTime": {
     "end_time": "2022-06-09T13:19:53.992152Z",
     "start_time": "2022-06-09T13:19:53.989411Z"
    }
   },
   "outputs": [],
   "source": [
    "# df2의 일부 열이름을 변경합니다.\n",
    "df2 = df2.rename(columns = {'아파트': '아파트명'})"
   ]
  },
  {
   "cell_type": "code",
   "execution_count": null,
   "id": "c4f861a9",
   "metadata": {
    "ExecuteTime": {
     "end_time": "2022-06-09T13:19:53.996991Z",
     "start_time": "2022-06-09T13:19:53.993708Z"
    }
   },
   "outputs": [],
   "source": [
    "# 두 데이터프레임의 열이름이 순서까지 정확하게 같은지 확인합니다.\n",
    "df1.columns.equals(other = df2.columns)"
   ]
  },
  {
   "cell_type": "code",
   "execution_count": null,
   "id": "restricted-breakfast",
   "metadata": {
    "ExecuteTime": {
     "end_time": "2022-06-09T13:19:54.011513Z",
     "start_time": "2022-06-09T13:19:53.999095Z"
    },
    "scrolled": true
   },
   "outputs": [],
   "source": [
    "# 열이름이 다른 두 데이터프레임을 행(세로) 방향으로 결합합니다.\n",
    "pd.concat(objs = [df1, df2], ignore_index = True)"
   ]
  },
  {
   "cell_type": "code",
   "execution_count": null,
   "id": "satisfied-garden",
   "metadata": {
    "ExecuteTime": {
     "end_time": "2022-06-09T13:19:54.035540Z",
     "start_time": "2022-06-09T13:19:54.013628Z"
    },
    "scrolled": true,
    "tags": []
   },
   "outputs": [],
   "source": [
    "# 두 데이터프레임을 열(가로) 방향으로 결합합니다.\n",
    "pd.concat(objs = [df1, df2], axis = 1)"
   ]
  },
  {
   "cell_type": "code",
   "execution_count": null,
   "id": "df5d817c",
   "metadata": {
    "ExecuteTime": {
     "end_time": "2022-06-09T13:19:54.039580Z",
     "start_time": "2022-06-09T13:19:54.037261Z"
    }
   },
   "outputs": [],
   "source": [
    "# df2의 행이름을 초기화합니다.\n",
    "df2 = df2.reset_index(drop = True)"
   ]
  },
  {
   "cell_type": "code",
   "execution_count": null,
   "id": "370a4b6b",
   "metadata": {
    "ExecuteTime": {
     "end_time": "2022-06-09T13:19:54.058126Z",
     "start_time": "2022-06-09T13:19:54.041321Z"
    },
    "scrolled": true,
    "tags": []
   },
   "outputs": [],
   "source": [
    "# 행이름을 초기화한 두 데이터프레임을 열(가로) 방향으로 결합합니다.\n",
    "pd.concat(objs = [df1, df2], axis = 1)"
   ]
  },
  {
   "cell_type": "markdown",
   "id": "a71ac3b8-76f2-444b-86b8-86e1c4930c8c",
   "metadata": {},
   "source": [
    "### 병합 데이터셋 준비"
   ]
  },
  {
   "cell_type": "code",
   "execution_count": null,
   "id": "50ccc2dd-c04a-4975-822c-d8bc9c0ae9be",
   "metadata": {},
   "outputs": [],
   "source": [
    "# 현재 작업 경로에 있는 폴더명과 파일명을 출력합니다.\n",
    "os.listdir()"
   ]
  },
  {
   "cell_type": "code",
   "execution_count": null,
   "id": "adaptive-password",
   "metadata": {
    "ExecuteTime": {
     "end_time": "2022-06-09T13:19:51.197617Z",
     "start_time": "2022-06-09T13:19:49.885698Z"
    },
    "tags": []
   },
   "outputs": [],
   "source": [
    "# 상세정보 xlsx 파일을 읽고 데이터프레임을 생성합니다.\n",
    "detail = pd.read_excel(io = 'Naver_APT_Detail_Seoul.xlsx')"
   ]
  },
  {
   "cell_type": "code",
   "execution_count": null,
   "id": "meaningful-complement",
   "metadata": {
    "ExecuteTime": {
     "end_time": "2022-06-09T13:19:51.209952Z",
     "start_time": "2022-06-09T13:19:51.199298Z"
    }
   },
   "outputs": [],
   "source": [
    "# detail의 정보를 확인합니다.\n",
    "detail.info()"
   ]
  },
  {
   "cell_type": "code",
   "execution_count": null,
   "id": "powered-preservation",
   "metadata": {
    "ExecuteTime": {
     "end_time": "2022-06-09T13:19:51.222305Z",
     "start_time": "2022-06-09T13:19:51.213964Z"
    }
   },
   "outputs": [],
   "source": [
    "# detail의 처음 5행을 출력합니다.\n",
    "detail.head()"
   ]
  },
  {
   "cell_type": "markdown",
   "id": "previous-spanish",
   "metadata": {},
   "source": [
    "### 외래키 확인"
   ]
  },
  {
   "cell_type": "code",
   "execution_count": null,
   "id": "56a05009",
   "metadata": {},
   "outputs": [],
   "source": [
    "# 두 데이터프레임의 외래키에서 일치하는 원소 개수를 확인합니다.\n",
    "len(set(price['아파트']) & set(detail['아파트명']))"
   ]
  },
  {
   "cell_type": "code",
   "execution_count": null,
   "id": "occupational-numbers",
   "metadata": {
    "ExecuteTime": {
     "end_time": "2022-06-09T13:19:54.070735Z",
     "start_time": "2022-06-09T13:19:54.059868Z"
    }
   },
   "outputs": [],
   "source": [
    "# 두 데이터프레임의 외래키에서 일치하는 원소 개수를 확인합니다.\n",
    "len(set(price['주소']) & set(detail['지번주소']))"
   ]
  },
  {
   "cell_type": "code",
   "execution_count": null,
   "id": "musical-isolation",
   "metadata": {
    "ExecuteTime": {
     "end_time": "2022-06-09T13:19:54.075907Z",
     "start_time": "2022-06-09T13:19:54.072277Z"
    }
   },
   "outputs": [],
   "source": [
    "# price의 주소를 출력합니다.\n",
    "price['주소'].head()"
   ]
  },
  {
   "cell_type": "code",
   "execution_count": null,
   "id": "together-hungarian",
   "metadata": {
    "ExecuteTime": {
     "end_time": "2022-06-09T13:19:54.081711Z",
     "start_time": "2022-06-09T13:19:54.077759Z"
    }
   },
   "outputs": [],
   "source": [
    "# detail의 지번주소를 출력합니다.\n",
    "detail['지번주소'].head()"
   ]
  },
  {
   "cell_type": "markdown",
   "id": "edc23fe7",
   "metadata": {},
   "source": [
    "### 외래키 전처리"
   ]
  },
  {
   "cell_type": "code",
   "execution_count": null,
   "id": "yellow-crawford",
   "metadata": {
    "ExecuteTime": {
     "end_time": "2022-06-09T13:19:54.120896Z",
     "start_time": "2022-06-09T13:19:54.083601Z"
    }
   },
   "outputs": [],
   "source": [
    "# price의 주소에서 '특별'을 삭제합니다.\n",
    "price['주소'] = price['주소'].str.replace(pat = '특별', repl = '')"
   ]
  },
  {
   "cell_type": "code",
   "execution_count": null,
   "id": "forty-cherry",
   "metadata": {
    "ExecuteTime": {
     "end_time": "2022-06-09T13:19:54.133767Z",
     "start_time": "2022-06-09T13:19:54.122642Z"
    }
   },
   "outputs": [],
   "source": [
    "# 외래키에서 일치하는 원소 개수를 다시 확인합니다.\n",
    "len(set(price['주소']) & set(detail['지번주소']))"
   ]
  },
  {
   "cell_type": "markdown",
   "id": "e363126c",
   "metadata": {},
   "source": [
    "### [참고] 비복원추출 및 시드 고정"
   ]
  },
  {
   "cell_type": "code",
   "execution_count": null,
   "id": "9e37f976-4a7b-49ff-b492-6f3e412e3b13",
   "metadata": {},
   "outputs": [],
   "source": [
    "# 이번 주 로또 번호를 출력합니다. 마음에 들 때까지 여러 번 반복해보세요.\n",
    "np.random.choice(a = range(1, 46), size = 6, replace = False)"
   ]
  },
  {
   "cell_type": "code",
   "execution_count": null,
   "id": "f9a8dda2-00a3-41a6-bece-2d2cfa8add5b",
   "metadata": {},
   "outputs": [],
   "source": [
    "# 시드를 고정하면 항상 재현 가능한 결과를 얻습니다.\n",
    "np.random.seed(seed = 1)\n",
    "np.random.choice(a = range(1, 46), size = 6, replace = False)"
   ]
  },
  {
   "cell_type": "markdown",
   "id": "fa566095",
   "metadata": {},
   "source": [
    "### [참고] 복원추출"
   ]
  },
  {
   "cell_type": "code",
   "execution_count": null,
   "id": "50374f7d",
   "metadata": {
    "ExecuteTime": {
     "end_time": "2022-06-09T13:19:54.145792Z",
     "start_time": "2022-06-09T13:19:54.143632Z"
    }
   },
   "outputs": [],
   "source": [
    "# 시드를 고정합니다.\n",
    "np.random.seed(seed = 2)"
   ]
  },
  {
   "cell_type": "code",
   "execution_count": null,
   "id": "6e341259",
   "metadata": {
    "ExecuteTime": {
     "end_time": "2022-06-09T13:19:54.149443Z",
     "start_time": "2022-06-09T13:19:54.147368Z"
    }
   },
   "outputs": [],
   "source": [
    "# 1~5의 정수에서 3개를 복원추출합니다.\n",
    "nums = np.random.choice(a = range(1, 6), size = 5)"
   ]
  },
  {
   "cell_type": "code",
   "execution_count": null,
   "id": "57df28c5",
   "metadata": {
    "ExecuteTime": {
     "end_time": "2022-06-09T13:19:54.154705Z",
     "start_time": "2022-06-09T13:19:54.151060Z"
    }
   },
   "outputs": [],
   "source": [
    "# nums를 시리즈로 변환합니다.\n",
    "nums = pd.Series(data = nums)\n",
    "nums"
   ]
  },
  {
   "cell_type": "markdown",
   "id": "253551b9",
   "metadata": {},
   "source": [
    "### [참고] 중복 원소 확인 함수"
   ]
  },
  {
   "cell_type": "code",
   "execution_count": null,
   "id": "adbeaf28",
   "metadata": {
    "ExecuteTime": {
     "end_time": "2022-06-09T13:19:54.160014Z",
     "start_time": "2022-06-09T13:19:54.156277Z"
    }
   },
   "outputs": [],
   "source": [
    "# 순방향으로 원소 중복 여부를 True 또는 False로 반환합니다.\n",
    "nums.duplicated()"
   ]
  },
  {
   "cell_type": "code",
   "execution_count": null,
   "id": "bcd8eec3",
   "metadata": {
    "ExecuteTime": {
     "end_time": "2022-06-09T13:19:54.166327Z",
     "start_time": "2022-06-09T13:19:54.161636Z"
    }
   },
   "outputs": [],
   "source": [
    "# 역방향으로 원소 중복 여부를 True 또는 False로 반환합니다.\n",
    "nums.duplicated(keep = 'last')"
   ]
  },
  {
   "cell_type": "code",
   "execution_count": null,
   "id": "3f7a2814",
   "metadata": {
    "ExecuteTime": {
     "end_time": "2022-06-09T13:19:54.171552Z",
     "start_time": "2022-06-09T13:19:54.167876Z"
    }
   },
   "outputs": [],
   "source": [
    "# 모든 중복 원소를 True로 반환합니다.(탐색 방향과 상관 없음)\n",
    "nums.duplicated(keep = False)"
   ]
  },
  {
   "cell_type": "code",
   "execution_count": null,
   "id": "d239967e",
   "metadata": {},
   "outputs": [],
   "source": [
    "# 중복 원소 중 맨 처음 원소만 선택합니다.\n",
    "nums[nums.duplicated()]"
   ]
  },
  {
   "cell_type": "code",
   "execution_count": null,
   "id": "c3cacefa",
   "metadata": {},
   "outputs": [],
   "source": [
    "# 중복 원소 중 맨 마지막 원소만 선택합니다.\n",
    "nums[nums.duplicated(keep = 'last')]"
   ]
  },
  {
   "cell_type": "code",
   "execution_count": null,
   "id": "1e01c122",
   "metadata": {},
   "outputs": [],
   "source": [
    "# 중복 원소를 모두 선택합니다.\n",
    "nums[nums.duplicated(keep = False)]"
   ]
  },
  {
   "cell_type": "markdown",
   "id": "vulnerable-teaching",
   "metadata": {},
   "source": [
    "### 데이터프레임 중복 확인 및 제거"
   ]
  },
  {
   "cell_type": "code",
   "execution_count": null,
   "id": "unauthorized-vision",
   "metadata": {
    "ExecuteTime": {
     "end_time": "2022-06-09T13:19:54.181303Z",
     "start_time": "2022-06-09T13:19:54.178339Z"
    }
   },
   "outputs": [],
   "source": [
    "# detail의 지번주소가 중복이면 True, 아니면 False인 시리즈를 생성합니다.\n",
    "dup = detail['지번주소'].duplicated(keep = False)"
   ]
  },
  {
   "cell_type": "code",
   "execution_count": null,
   "id": "hawaiian-subscriber",
   "metadata": {
    "ExecuteTime": {
     "end_time": "2022-06-09T13:19:54.198663Z",
     "start_time": "2022-06-09T13:19:54.182918Z"
    },
    "scrolled": true
   },
   "outputs": [],
   "source": [
    "# detail에서 dup이 True인 행을 선택하고 지번주소로 오름차순 정렬합니다.\n",
    "detail[dup].sort_values(by = ['지번주소'])"
   ]
  },
  {
   "cell_type": "code",
   "execution_count": null,
   "id": "perceived-heaven",
   "metadata": {
    "ExecuteTime": {
     "end_time": "2022-06-09T13:19:54.204195Z",
     "start_time": "2022-06-09T13:19:54.200273Z"
    }
   },
   "outputs": [],
   "source": [
    "# detail의 지번주소에서 순방향으로 중복인 행을 제거하고 detail에 재할당합니다.\n",
    "# [참고] ~ 연산자는 진리값을 반전합니다.\n",
    "detail = detail[~detail['지번주소'].duplicated()]"
   ]
  },
  {
   "cell_type": "code",
   "execution_count": null,
   "id": "98c5b63f",
   "metadata": {
    "ExecuteTime": {
     "end_time": "2022-06-09T13:19:54.208748Z",
     "start_time": "2022-06-09T13:19:54.205756Z"
    }
   },
   "outputs": [],
   "source": [
    "# detail의 행 개수를 확인합니다. 행 개수가 감소했습니다.(9668 -> 9640)\n",
    "detail.shape[0]"
   ]
  },
  {
   "cell_type": "markdown",
   "id": "buried-sterling",
   "metadata": {},
   "source": [
    "### 데이터프레임 병합"
   ]
  },
  {
   "cell_type": "code",
   "execution_count": null,
   "id": "c666f093",
   "metadata": {},
   "outputs": [],
   "source": [
    "# price와 detail에서 일치하는 열이름을 확인합니다.\n",
    "set(price.columns) & set(detail.columns)"
   ]
  },
  {
   "cell_type": "code",
   "execution_count": null,
   "id": "economic-kitty",
   "metadata": {
    "ExecuteTime": {
     "end_time": "2022-06-09T13:19:54.265350Z",
     "start_time": "2022-06-09T13:19:54.210268Z"
    },
    "scrolled": true,
    "tags": []
   },
   "outputs": [],
   "source": [
    "# 두 데이터프레임으로 내부 병합을 실행합니다.\n",
    "pd.merge(left = price, \n",
    "         right = detail, \n",
    "         how = 'inner', \n",
    "         left_on = '주소', \n",
    "         right_on = '지번주소')"
   ]
  },
  {
   "cell_type": "code",
   "execution_count": null,
   "id": "stupid-float",
   "metadata": {
    "ExecuteTime": {
     "end_time": "2022-06-09T13:19:54.270979Z",
     "start_time": "2022-06-09T13:19:54.267175Z"
    }
   },
   "outputs": [],
   "source": [
    "# detail의 외래키 이름을 '주소'로 변경합니다.\n",
    "detail = detail.rename(columns = {'지번주소': '주소'})"
   ]
  },
  {
   "cell_type": "code",
   "execution_count": null,
   "id": "0bbb0d92",
   "metadata": {
    "ExecuteTime": {
     "end_time": "2022-06-09T13:19:54.275758Z",
     "start_time": "2022-06-09T13:19:54.272523Z"
    }
   },
   "outputs": [],
   "source": [
    "# price와 detail에서 일치하는 열이름을 확인합니다.\n",
    "set(price.columns) & set(detail.columns)"
   ]
  },
  {
   "cell_type": "code",
   "execution_count": null,
   "id": "adjustable-choir",
   "metadata": {
    "ExecuteTime": {
     "end_time": "2022-06-09T13:19:54.298433Z",
     "start_time": "2022-06-09T13:19:54.277406Z"
    }
   },
   "outputs": [],
   "source": [
    "# 외래키 이름이 같으면 on 매개변수를 사용합니다.\n",
    "apt = pd.merge(left = price, right = detail, how = 'inner', on = '주소')"
   ]
  },
  {
   "cell_type": "code",
   "execution_count": null,
   "id": "c71b835d",
   "metadata": {
    "ExecuteTime": {
     "end_time": "2022-06-09T13:19:54.393996Z",
     "start_time": "2022-06-09T13:19:54.300230Z"
    },
    "scrolled": true,
    "tags": []
   },
   "outputs": [],
   "source": [
    "# apt의 정보를 확인합니다.\n",
    "apt.info()"
   ]
  },
  {
   "cell_type": "markdown",
   "id": "handmade-virus",
   "metadata": {},
   "source": [
    "### 외부 파일로 저장"
   ]
  },
  {
   "cell_type": "code",
   "execution_count": null,
   "id": "altered-arrow",
   "metadata": {
    "ExecuteTime": {
     "end_time": "2022-06-09T13:20:10.495481Z",
     "start_time": "2022-06-09T13:19:54.395562Z"
    }
   },
   "outputs": [],
   "source": [
    "# apt를 xlsx 파일로 저장합니다.\n",
    "%time apt.to_excel(excel_writer = 'APT_List_Seoul_2021.xlsx', index = None)"
   ]
  },
  {
   "cell_type": "code",
   "execution_count": null,
   "id": "aerial-concert",
   "metadata": {
    "ExecuteTime": {
     "end_time": "2022-06-09T13:20:11.303697Z",
     "start_time": "2022-06-09T13:20:10.497400Z"
    }
   },
   "outputs": [],
   "source": [
    "# apt를 csv 파일로 저장합니다.\n",
    "%time apt.to_csv(path_or_buf = 'APT_List_Seoul_2021.csv', index = None)"
   ]
  },
  {
   "cell_type": "code",
   "execution_count": null,
   "id": "ce21b21d",
   "metadata": {
    "ExecuteTime": {
     "end_time": "2022-06-09T13:20:11.410350Z",
     "start_time": "2022-06-09T13:20:11.305253Z"
    }
   },
   "outputs": [],
   "source": [
    "# apt를 z 파일로 저장합니다.\n",
    "%time joblib.dump(value = apt, filename = 'APT_List_Seoul_2021.z')"
   ]
  },
  {
   "cell_type": "markdown",
   "id": "vocational-sacrifice",
   "metadata": {},
   "source": [
    "## End of Document"
   ]
  }
 ],
 "metadata": {
  "kernelspec": {
   "display_name": "Python 3",
   "language": "python",
   "name": "python3"
  },
  "language_info": {
   "codemirror_mode": {
    "name": "ipython",
    "version": 3
   },
   "file_extension": ".py",
   "mimetype": "text/x-python",
   "name": "python",
   "nbconvert_exporter": "python",
   "pygments_lexer": "ipython3",
   "version": "3.10.8"
  },
  "toc": {
   "base_numbering": 1,
   "nav_menu": {},
   "number_sections": false,
   "sideBar": true,
   "skip_h1_title": false,
   "title_cell": "Table of Contents",
   "title_sidebar": "Contents",
   "toc_cell": false,
   "toc_position": {},
   "toc_section_display": true,
   "toc_window_display": false
  },
  "varInspector": {
   "cols": {
    "lenName": 16,
    "lenType": 16,
    "lenVar": 40
   },
   "kernels_config": {
    "python": {
     "delete_cmd_postfix": "",
     "delete_cmd_prefix": "del ",
     "library": "var_list.py",
     "varRefreshCmd": "print(var_dic_list())"
    },
    "r": {
     "delete_cmd_postfix": ") ",
     "delete_cmd_prefix": "rm(",
     "library": "var_list.r",
     "varRefreshCmd": "cat(var_dic_list()) "
    }
   },
   "types_to_exclude": [
    "module",
    "function",
    "builtin_function_or_method",
    "instance",
    "_Feature"
   ],
   "window_display": false
  }
 },
 "nbformat": 4,
 "nbformat_minor": 5
}

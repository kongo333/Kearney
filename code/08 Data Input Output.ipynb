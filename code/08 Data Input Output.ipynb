{
 "cells": [
  {
   "cell_type": "markdown",
   "id": "a97a133f",
   "metadata": {},
   "source": [
    "# 데이터 입출력"
   ]
  },
  {
   "cell_type": "markdown",
   "id": "86af2b36",
   "metadata": {},
   "source": [
    "### 작업 경로 확인 및 변경"
   ]
  },
  {
   "cell_type": "code",
   "execution_count": null,
   "id": "f12d97f3",
   "metadata": {},
   "outputs": [],
   "source": [
    "# 관련 라이브러리를 호출합니다.\n",
    "import os, chardet\n",
    "import numpy as np\n",
    "import pandas as pd"
   ]
  },
  {
   "cell_type": "code",
   "execution_count": null,
   "id": "3007faee",
   "metadata": {},
   "outputs": [],
   "source": [
    "# 현재 작업 경로를 확인합니다.\n",
    "os.getcwd()"
   ]
  },
  {
   "cell_type": "code",
   "execution_count": null,
   "id": "4a3bacb3",
   "metadata": {},
   "outputs": [],
   "source": [
    "# data 폴더로 작업 경로를 변경합니다.\n",
    "os.chdir(path = '../data')"
   ]
  },
  {
   "cell_type": "code",
   "execution_count": null,
   "id": "912dcfcd",
   "metadata": {},
   "outputs": [],
   "source": [
    "# 현재 작업 경로에 포함되어 있는 폴더명과 파일명을 출력합니다.\n",
    "os.listdir()"
   ]
  },
  {
   "cell_type": "markdown",
   "id": "israeli-water",
   "metadata": {},
   "source": [
    "### xlsx 파일 입출력"
   ]
  },
  {
   "cell_type": "code",
   "execution_count": null,
   "id": "sustained-blank",
   "metadata": {},
   "outputs": [],
   "source": [
    "# xlsx 파일을 읽고 데이터프레임을 생성합니다.\n",
    "df = pd.read_excel(io = 'KBO_Hitters_2021.xlsx', \n",
    "                   sheet_name = 'Hitters', \n",
    "                   skiprows = 4)"
   ]
  },
  {
   "cell_type": "code",
   "execution_count": null,
   "id": "departmental-rally",
   "metadata": {},
   "outputs": [],
   "source": [
    "# df의 처음 5행을 출력합니다.\n",
    "df.head(n = 5)"
   ]
  },
  {
   "cell_type": "code",
   "execution_count": null,
   "id": "necessary-pepper",
   "metadata": {},
   "outputs": [],
   "source": [
    "# df의 인덱스를 정수 1부터 시작하도록 변경합니다.\n",
    "df.index = range(1, df.shape[0]+1)"
   ]
  },
  {
   "cell_type": "code",
   "execution_count": null,
   "id": "derived-result",
   "metadata": {},
   "outputs": [],
   "source": [
    "# 데이터프레임을 xlsx 파일로 저장합니다.\n",
    "df.to_excel(excel_writer = 'test.xlsx', index = None)"
   ]
  },
  {
   "cell_type": "markdown",
   "id": "shared-champion",
   "metadata": {},
   "source": [
    "### csv 파일 인코딩 방식 확인 및 입출력"
   ]
  },
  {
   "cell_type": "code",
   "execution_count": null,
   "id": "f213d37d",
   "metadata": {},
   "outputs": [],
   "source": [
    "# csv 파일명을 변수에 할당합니다.\n",
    "fileName = 'KBO_Hitters_2021.csv'"
   ]
  },
  {
   "cell_type": "code",
   "execution_count": null,
   "id": "willing-transcription",
   "metadata": {},
   "outputs": [],
   "source": [
    "# csv 파일을 바이너리 모드로 읽습니다.\n",
    "raw = open(file = fileName, mode = 'rb').read()"
   ]
  },
  {
   "cell_type": "code",
   "execution_count": null,
   "id": "consecutive-inspiration",
   "metadata": {},
   "outputs": [],
   "source": [
    "# csv 파일의 문자 인코딩 방식을 확인합니다.\n",
    "chardet.detect(raw)"
   ]
  },
  {
   "cell_type": "code",
   "execution_count": null,
   "id": "specialized-cameroon",
   "metadata": {},
   "outputs": [],
   "source": [
    "# csv 파일을 읽고 데이터프레임을 생성합니다.\n",
    "df1 = pd.read_csv(filepath_or_buffer = fileName, encoding = 'EUC-KR')"
   ]
  },
  {
   "cell_type": "code",
   "execution_count": null,
   "id": "endless-operator",
   "metadata": {},
   "outputs": [],
   "source": [
    "# 데이터프레임을 csv 파일로 저장합니다.\n",
    "df1.to_csv(path_or_buf = 'test.csv', index = None, encoding = 'UTF-8')"
   ]
  },
  {
   "cell_type": "markdown",
   "id": "healthy-nowhere",
   "metadata": {},
   "source": [
    "### 데이터프레임 인덱싱 및 슬라이싱: iloc 인덱서"
   ]
  },
  {
   "cell_type": "code",
   "execution_count": null,
   "id": "material-venice",
   "metadata": {},
   "outputs": [],
   "source": [
    "# 대괄호 안에 정수 인덱스를 스칼라로 지정하면 해당 행을 시리즈로 반환합니다.\n",
    "df.iloc[0]"
   ]
  },
  {
   "cell_type": "code",
   "execution_count": null,
   "id": "noble-earthquake",
   "metadata": {},
   "outputs": [],
   "source": [
    "# 대괄호 안에 스칼라 대신 리스트로 지정하면 해당 행을 데이터프레임으로 반환합니다.\n",
    "df.iloc[[0]]"
   ]
  },
  {
   "cell_type": "code",
   "execution_count": null,
   "id": "promotional-fight",
   "metadata": {},
   "outputs": [],
   "source": [
    "# 대괄호 안에 콜론을 사용하여 슬라이싱하면 해당 행을 데이터프레임으로 반환합니다.\n",
    "df.iloc[0:10]"
   ]
  },
  {
   "cell_type": "code",
   "execution_count": null,
   "id": "abstract-richards",
   "metadata": {},
   "outputs": [],
   "source": [
    "# 대괄호 안에 콤마를 추가하고 콤마 뒤에 선택할 열의 정수 인덱스를 지정합니다.\n",
    "# 전체 열을 선택하려면 콤마 오른쪽에 빈 콜론을 추가합니다.\n",
    "df.iloc[0:10, :]"
   ]
  },
  {
   "cell_type": "code",
   "execution_count": null,
   "id": "driving-curtis",
   "metadata": {},
   "outputs": [],
   "source": [
    "# 행 인덱스가 0~9인 행과 열 인덱스가 0~11인 열을 데이터프레임으로 반환합니다.\n",
    "df.iloc[0:10, 0:12]"
   ]
  },
  {
   "cell_type": "code",
   "execution_count": null,
   "id": "early-rings",
   "metadata": {
    "scrolled": false
   },
   "outputs": [],
   "source": [
    "# 대괄호 안에 열의 인덱스를 원하는 순서대로 설정할 수 있습니다.\n",
    "df.iloc[:, [1, 0, 5]]"
   ]
  },
  {
   "cell_type": "markdown",
   "id": "62e56cb1",
   "metadata": {},
   "source": [
    "### 데이터프레임 인덱싱 및 슬라이싱: loc 인덱서"
   ]
  },
  {
   "cell_type": "code",
   "execution_count": null,
   "id": "wrapped-commissioner",
   "metadata": {},
   "outputs": [],
   "source": [
    "# 대괄호 안에 인덱스명을 스칼라로 지정하면 해당 행을 시리즈로 반환합니다.\n",
    "df.loc[1]"
   ]
  },
  {
   "cell_type": "code",
   "execution_count": null,
   "id": "worse-interface",
   "metadata": {},
   "outputs": [],
   "source": [
    "# 대괄호 안에 스칼라 대신 리스트로 지정하면 해당 행을 데이터프레임으로 반환합니다.\n",
    "df.loc[[1]]"
   ]
  },
  {
   "cell_type": "code",
   "execution_count": null,
   "id": "confidential-veteran",
   "metadata": {},
   "outputs": [],
   "source": [
    "# 대괄호 안에 콜론을 사용하여 슬라이싱하면 해당 행을 데이터프레임으로 반환합니다.\n",
    "df.loc[1:10]"
   ]
  },
  {
   "cell_type": "code",
   "execution_count": null,
   "id": "ancient-rapid",
   "metadata": {},
   "outputs": [],
   "source": [
    "# 대괄호 안에 콤마를 추가하고 콤마 뒤에 선택할 컬럼명을 지정합니다.\n",
    "# 전체 열을 선택하려면 콤마 오른쪽에 빈 콜론을 추가합니다.\n",
    "df.loc[1:10, :]"
   ]
  },
  {
   "cell_type": "code",
   "execution_count": null,
   "id": "wrapped-subdivision",
   "metadata": {},
   "outputs": [],
   "source": [
    "# 인덱스명이 1~10인 행과 열이름이 선수명~도루인 열을 데이터프레임으로 반환합니다.\n",
    "df.loc[1:10, '선수명':'도루']"
   ]
  },
  {
   "cell_type": "code",
   "execution_count": null,
   "id": "impressed-weight",
   "metadata": {},
   "outputs": [],
   "source": [
    "# 대괄호 안에 컬럼명을 원하는 순서대로 설정할 수 있습니다.\n",
    "df.loc[:, ['팀명', '선수명', '안타']]"
   ]
  },
  {
   "cell_type": "markdown",
   "id": "vocational-sacrifice",
   "metadata": {},
   "source": [
    "## End of Document"
   ]
  }
 ],
 "metadata": {
  "kernelspec": {
   "display_name": "Python 3 (ipykernel)",
   "language": "python",
   "name": "python3"
  },
  "language_info": {
   "codemirror_mode": {
    "name": "ipython",
    "version": 3
   },
   "file_extension": ".py",
   "mimetype": "text/x-python",
   "name": "python",
   "nbconvert_exporter": "python",
   "pygments_lexer": "ipython3",
   "version": "3.9.7"
  },
  "toc": {
   "base_numbering": 1,
   "nav_menu": {},
   "number_sections": true,
   "sideBar": true,
   "skip_h1_title": false,
   "title_cell": "Table of Contents",
   "title_sidebar": "Contents",
   "toc_cell": false,
   "toc_position": {},
   "toc_section_display": true,
   "toc_window_display": false
  },
  "varInspector": {
   "cols": {
    "lenName": 16,
    "lenType": 16,
    "lenVar": 40
   },
   "kernels_config": {
    "python": {
     "delete_cmd_postfix": "",
     "delete_cmd_prefix": "del ",
     "library": "var_list.py",
     "varRefreshCmd": "print(var_dic_list())"
    },
    "r": {
     "delete_cmd_postfix": ") ",
     "delete_cmd_prefix": "rm(",
     "library": "var_list.r",
     "varRefreshCmd": "cat(var_dic_list()) "
    }
   },
   "types_to_exclude": [
    "module",
    "function",
    "builtin_function_or_method",
    "instance",
    "_Feature"
   ],
   "window_display": false
  }
 },
 "nbformat": 4,
 "nbformat_minor": 5
}

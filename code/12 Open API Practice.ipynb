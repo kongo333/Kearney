{
 "cells": [
  {
   "cell_type": "markdown",
   "metadata": {},
   "source": [
    "## Open API : APT Price Seoul"
   ]
  },
  {
   "cell_type": "markdown",
   "metadata": {},
   "source": [
    "- 지역코드와 거래년월을 입력하면 해당 거래 데이터를 수집하는 사용자 정의 함수를 생성합니다.\n",
    "- 지역코드와 거래년월을 변경하면 원하는 데이터를 빠르게 수집할 수 있습니다."
   ]
  },
  {
   "cell_type": "markdown",
   "metadata": {},
   "source": [
    "### 아파트 거래 데이터 수집하는 사용자 정의 함수 생성"
   ]
  },
  {
   "cell_type": "code",
   "execution_count": null,
   "metadata": {},
   "outputs": [],
   "source": [
    "# 관련 라이브러리를 호출합니다.\n",
    "import requests\n",
    "import xmltodict\n",
    "import pandas as pd\n",
    "\n",
    "# 지역코드와 거래년월을 입력하면 데이터를 수집하는 사용자 정의 함수를 생성합니다.\n",
    "def aptPrice(areaCd, ymonth, apiKey):\n",
    "    \n",
    "    # 요청 URL을 설정합니다.\n",
    "    url = 'http://openapi.molit.go.kr:8081'\n",
    "    path = '/OpenAPI_ToolInstallPackage/service/rest/RTMSOBJSvc'\n",
    "    oper = '/getRTMSDataSvcAptTrade'\n",
    "    \n",
    "    # 쿼리 문자열을 딕셔너리로 설정합니다.\n",
    "    query = {\n",
    "        'LAWD_CD': areaCd, \n",
    "        'DEAL_YMD': ymonth, \n",
    "        'serviceKey': apiKey\n",
    "    }\n",
    "    \n",
    "    # HTTP 요청을 실행합니다.\n",
    "    res = requests.get(url = url + path + oper, params = query)\n",
    "    \n",
    "    # HTTP 응답 바디 문자열을 딕셔너리로 변환하여 data에 할당합니다.\n",
    "    data = xmltodict.parse(xml_input = res.text)\n",
    "    \n",
    "    # 수집할 데이터(딕셔너리)로 데이터프레임을 생성합니다.\n",
    "    df = pd.DataFrame(data = data['response']['body']['items']['item'])\n",
    "    \n",
    "    # df을 반환합니다.\n",
    "    return df"
   ]
  },
  {
   "cell_type": "code",
   "execution_count": null,
   "metadata": {},
   "outputs": [],
   "source": [
    "# 공공데이터 포털 오픈 API 인증키를 설정합니다.\n",
    "apiKey = '공공데이터포털 일반 인증키(Decoding)'"
   ]
  },
  {
   "cell_type": "code",
   "execution_count": null,
   "metadata": {},
   "outputs": [],
   "source": [
    "# 함수를 테스트합니다.\n",
    "apt = aptPrice(areaCd = '11680', ymonth = '202211', apiKey = apiKey)"
   ]
  },
  {
   "cell_type": "code",
   "execution_count": null,
   "metadata": {},
   "outputs": [],
   "source": [
    "# apt의 정보를 확인합니다.\n",
    "apt.info()"
   ]
  },
  {
   "cell_type": "code",
   "execution_count": null,
   "metadata": {},
   "outputs": [],
   "source": [
    "# apt의 처음 5행을 출력합니다.\n",
    "apt.head()"
   ]
  },
  {
   "cell_type": "markdown",
   "metadata": {},
   "source": [
    "### 작업 경로 확인 및 변경"
   ]
  },
  {
   "cell_type": "code",
   "execution_count": null,
   "metadata": {},
   "outputs": [],
   "source": [
    "# 관련 라이브러리를 호출합니다.\n",
    "import os"
   ]
  },
  {
   "cell_type": "code",
   "execution_count": null,
   "metadata": {},
   "outputs": [],
   "source": [
    "# 현재 작업 경로를 확인합니다.\n",
    "os.getcwd()"
   ]
  },
  {
   "cell_type": "code",
   "execution_count": null,
   "metadata": {},
   "outputs": [],
   "source": [
    "# data 폴더로 작업 경로를 변경합니다.\n",
    "os.chdir(path = '../data')"
   ]
  },
  {
   "cell_type": "code",
   "execution_count": null,
   "metadata": {},
   "outputs": [],
   "source": [
    "# 작업 경로에 있는 폴더명과 파일명을 출력합니다.\n",
    "os.listdir()"
   ]
  },
  {
   "cell_type": "markdown",
   "metadata": {},
   "source": [
    "### 지역코드 준비"
   ]
  },
  {
   "cell_type": "code",
   "execution_count": null,
   "metadata": {},
   "outputs": [],
   "source": [
    "# 서울특별시 자치구 정보가 포함된 엑셀파일을 읽습니다.\n",
    "dong = pd.read_excel(io = 'Area_Code.xlsx')"
   ]
  },
  {
   "cell_type": "code",
   "execution_count": null,
   "metadata": {},
   "outputs": [],
   "source": [
    "# 데이터프레임의 정보를 확인합니다.\n",
    "dong.info()"
   ]
  },
  {
   "cell_type": "code",
   "execution_count": null,
   "metadata": {},
   "outputs": [],
   "source": [
    "# dong의 처음 10행을 출력합니다.\n",
    "dong.head(n = 10)"
   ]
  },
  {
   "cell_type": "code",
   "execution_count": null,
   "metadata": {},
   "outputs": [],
   "source": [
    "# code를 문자열로 변환합니다.\n",
    "dong['code'] = dong['code'].astype('str')"
   ]
  },
  {
   "cell_type": "markdown",
   "metadata": {},
   "source": [
    "### 반복문 실행"
   ]
  },
  {
   "cell_type": "code",
   "execution_count": null,
   "metadata": {},
   "outputs": [],
   "source": [
    "# 관련 라이브러리를 호출합니다.\n",
    "from tqdm.notebook import tqdm\n",
    "import time"
   ]
  },
  {
   "cell_type": "code",
   "execution_count": null,
   "metadata": {},
   "outputs": [],
   "source": [
    "# 최종 결과를 저장할 빈 데이터프레임을 생성합니다.\n",
    "apt = pd.DataFrame()"
   ]
  },
  {
   "cell_type": "code",
   "execution_count": null,
   "metadata": {},
   "outputs": [],
   "source": [
    "# 반복문을 실행할 범위를 설정합니다.\n",
    "n = len(dong)"
   ]
  },
  {
   "cell_type": "code",
   "execution_count": null,
   "metadata": {},
   "outputs": [],
   "source": [
    "# 거래년월을 설정합니다.\n",
    "ymonth = '202202'"
   ]
  },
  {
   "cell_type": "code",
   "execution_count": null,
   "metadata": {},
   "outputs": [],
   "source": [
    "# 반복문을 실행합니다.\n",
    "for i in tqdm(range(n)):\n",
    "    \n",
    "    # 지역명을 설정합니다.\n",
    "    areaNm = dong['sido'][i] + ' ' + dong['sigg'][i]\n",
    "    \n",
    "    # 지역코드는 code의 처음 5글자를 잘라낸 값으로 설정합니다.\n",
    "    areaCd = dong['code'][i][0:5]\n",
    "    \n",
    "    # 거래 건수가 없으면 에러를 발생하고 반복문이 중단됩니다.\n",
    "    # 따라서 예외 처리를 추가합니다.\n",
    "    try:\n",
    "        \n",
    "        # 서울특별시 자치구 단위로 거래 데이터를 수집합니다.\n",
    "        df = aptPrice(areaCd = areaCd, ymonth = ymonth, apiKey = apiKey)\n",
    "        \n",
    "        # 필요한 열을 추가합니다.\n",
    "        df['시도'] = dong['sido'][i]\n",
    "        df['시군구'] = dong['sigg'][i]\n",
    "        \n",
    "        # 최종 결과 데이터프레임에 apt를 추가합니다.\n",
    "        # [참고] 인덱스가 중복되면 에러를 반환합니다.\n",
    "        apt = pd.concat(objs = [apt, df], ignore_index = True)\n",
    "    \n",
    "    except:\n",
    "        print('> 거래 건수가 없으므로 다음 자치구로 이동합니다!')\n",
    "        next\n",
    "    \n",
    "    # 1초 간 멈춥니다.\n",
    "    time.sleep(1)"
   ]
  },
  {
   "cell_type": "code",
   "execution_count": null,
   "metadata": {},
   "outputs": [],
   "source": [
    "# apt의 정보를 확인합니다.\n",
    "apt.info()"
   ]
  },
  {
   "cell_type": "code",
   "execution_count": null,
   "metadata": {},
   "outputs": [],
   "source": [
    "# 거래금액에서 콤마를 삭제하고 정수형으로 변환합니다.\n",
    "apt['거래금액'] = apt['거래금액'].str.replace(',', '').astype('int')"
   ]
  },
  {
   "cell_type": "code",
   "execution_count": null,
   "metadata": {},
   "outputs": [],
   "source": [
    "# 서울특별시 자치구별 아파트매매 건수를 확인합니다.\n",
    "apt['시군구'].value_counts().sort_index()"
   ]
  },
  {
   "cell_type": "code",
   "execution_count": null,
   "metadata": {},
   "outputs": [],
   "source": [
    "# 서울특별시 자치구별 아파트매매 평균 가격을 확인합니다.\n",
    "apt.groupby(by = '시군구')['거래금액'].mean().round().astype('int')"
   ]
  },
  {
   "cell_type": "markdown",
   "metadata": {},
   "source": [
    "### xlsx 파일로 저장"
   ]
  },
  {
   "cell_type": "code",
   "execution_count": null,
   "metadata": {},
   "outputs": [],
   "source": [
    "# xlsx 파일명을 생성합니다.\n",
    "fileName = f'APT_Price_Seoul_{ymonth}.xlsx'"
   ]
  },
  {
   "cell_type": "code",
   "execution_count": null,
   "metadata": {},
   "outputs": [],
   "source": [
    "# xlsx 파일로 저장합니다.\n",
    "apt.to_excel(excel_writer = fileName, index = False)"
   ]
  },
  {
   "cell_type": "markdown",
   "metadata": {},
   "source": [
    "## End of Document"
   ]
  }
 ],
 "metadata": {
  "kernelspec": {
   "display_name": "Python 3",
   "language": "python",
   "name": "python3"
  },
  "language_info": {
   "codemirror_mode": {
    "name": "ipython",
    "version": 3
   },
   "file_extension": ".py",
   "mimetype": "text/x-python",
   "name": "python",
   "nbconvert_exporter": "python",
   "pygments_lexer": "ipython3",
   "version": "3.10.8"
  },
  "toc": {
   "base_numbering": 1,
   "nav_menu": {},
   "number_sections": true,
   "sideBar": true,
   "skip_h1_title": false,
   "title_cell": "Table of Contents",
   "title_sidebar": "Contents",
   "toc_cell": false,
   "toc_position": {},
   "toc_section_display": true,
   "toc_window_display": false
  },
  "varInspector": {
   "cols": {
    "lenName": 16,
    "lenType": 16,
    "lenVar": 40
   },
   "kernels_config": {
    "python": {
     "delete_cmd_postfix": "",
     "delete_cmd_prefix": "del ",
     "library": "var_list.py",
     "varRefreshCmd": "print(var_dic_list())"
    },
    "r": {
     "delete_cmd_postfix": ") ",
     "delete_cmd_prefix": "rm(",
     "library": "var_list.r",
     "varRefreshCmd": "cat(var_dic_list()) "
    }
   },
   "types_to_exclude": [
    "module",
    "function",
    "builtin_function_or_method",
    "instance",
    "_Feature"
   ],
   "window_display": false
  }
 },
 "nbformat": 4,
 "nbformat_minor": 4
}

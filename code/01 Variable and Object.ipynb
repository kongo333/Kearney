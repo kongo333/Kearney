{
 "cells": [
  {
   "cell_type": "markdown",
   "id": "96237ba2",
   "metadata": {},
   "source": [
    "## 프로그래밍 시작"
   ]
  },
  {
   "cell_type": "markdown",
   "id": "4fab30bb",
   "metadata": {},
   "source": [
    "### 변수명"
   ]
  },
  {
   "cell_type": "code",
   "execution_count": null,
   "id": "434ec47e",
   "metadata": {},
   "outputs": [],
   "source": [
    "# 변수명으로 예약어를 사용할 수 없습니다.\n",
    "# Python 예약어를 확인합니다.\n",
    "help('keywords')"
   ]
  },
  {
   "cell_type": "markdown",
   "id": "manual-advisory",
   "metadata": {},
   "source": [
    "### 객체의 생성과 확인"
   ]
  },
  {
   "cell_type": "code",
   "execution_count": null,
   "id": "extended-owner",
   "metadata": {},
   "outputs": [],
   "source": [
    "# a에 정수 10을 할당합니다.\n",
    "a = 10"
   ]
  },
  {
   "cell_type": "code",
   "execution_count": null,
   "id": "acquired-porcelain",
   "metadata": {},
   "outputs": [],
   "source": [
    "# 변수명을 실행하면 변수가 가리키는 객체를 반환합니다.\n",
    "a"
   ]
  },
  {
   "cell_type": "code",
   "execution_count": null,
   "id": "religious-customer",
   "metadata": {},
   "outputs": [],
   "source": [
    "# print() 함수는 변수가 가리키는 객체를 표준 출력 위치에 출력합니다.\n",
    "print(a)"
   ]
  },
  {
   "cell_type": "code",
   "execution_count": null,
   "id": "american-weekly",
   "metadata": {},
   "outputs": [],
   "source": [
    "# type() 함수는 변수가 가리키는 객체의 클래스를 반환합니다.\n",
    "type(a)"
   ]
  },
  {
   "cell_type": "code",
   "execution_count": null,
   "id": "interim-contribution",
   "metadata": {
    "scrolled": true
   },
   "outputs": [],
   "source": [
    "# dir() 함수는 변수가 갖는 속성과 방식을 리스트로 반환합니다.\n",
    "dir(a)"
   ]
  },
  {
   "cell_type": "markdown",
   "id": "editorial-celebration",
   "metadata": {},
   "source": [
    "### 객체의 속성과 방식에 접근"
   ]
  },
  {
   "cell_type": "code",
   "execution_count": null,
   "id": "impressed-guatemala",
   "metadata": {},
   "outputs": [],
   "source": [
    "# numerator는 int의 속성이며 분자를 출력합니다.\n",
    "a.numerator"
   ]
  },
  {
   "cell_type": "code",
   "execution_count": null,
   "id": "959963fb-312e-4518-b2c2-cb95381b09c4",
   "metadata": {},
   "outputs": [],
   "source": [
    "# denominator는 int의 속성이며 분모를 출력합니다.\n",
    "a.denominator"
   ]
  },
  {
   "cell_type": "code",
   "execution_count": null,
   "id": "smart-estonia",
   "metadata": {},
   "outputs": [],
   "source": [
    "# bit_length는 int의 방식이며 10진수를 2진수로 변환할 때 길이를 반환합니다.\n",
    "a.bit_length()"
   ]
  },
  {
   "cell_type": "markdown",
   "id": "alive-supply",
   "metadata": {},
   "source": [
    "## End of Document"
   ]
  }
 ],
 "metadata": {
  "kernelspec": {
   "display_name": "Python 3",
   "language": "python",
   "name": "python3"
  },
  "language_info": {
   "codemirror_mode": {
    "name": "ipython",
    "version": 3
   },
   "file_extension": ".py",
   "mimetype": "text/x-python",
   "name": "python",
   "nbconvert_exporter": "python",
   "pygments_lexer": "ipython3",
   "version": "3.10.8"
  },
  "toc": {
   "base_numbering": 1,
   "nav_menu": {},
   "number_sections": false,
   "sideBar": true,
   "skip_h1_title": false,
   "title_cell": "Table of Contents",
   "title_sidebar": "Contents",
   "toc_cell": false,
   "toc_position": {},
   "toc_section_display": true,
   "toc_window_display": false
  },
  "varInspector": {
   "cols": {
    "lenName": 16,
    "lenType": 16,
    "lenVar": 40
   },
   "kernels_config": {
    "python": {
     "delete_cmd_postfix": "",
     "delete_cmd_prefix": "del ",
     "library": "var_list.py",
     "varRefreshCmd": "print(var_dic_list())"
    },
    "r": {
     "delete_cmd_postfix": ") ",
     "delete_cmd_prefix": "rm(",
     "library": "var_list.r",
     "varRefreshCmd": "cat(var_dic_list()) "
    }
   },
   "types_to_exclude": [
    "module",
    "function",
    "builtin_function_or_method",
    "instance",
    "_Feature"
   ],
   "window_display": false
  }
 },
 "nbformat": 4,
 "nbformat_minor": 5
}

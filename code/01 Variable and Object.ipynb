{
 "cells": [
  {
   "cell_type": "markdown",
   "id": "96237ba2",
   "metadata": {},
   "source": [
    "# Python 프로그래밍 시작"
   ]
  },
  {
   "cell_type": "markdown",
   "id": "4fab30bb",
   "metadata": {},
   "source": [
    "### Python 변수"
   ]
  },
  {
   "cell_type": "code",
   "execution_count": null,
   "id": "434ec47e",
   "metadata": {},
   "outputs": [],
   "source": [
    "# Python 예약어를 확인하는 방법입니다.\n",
    "help('keywords')"
   ]
  },
  {
   "cell_type": "code",
   "execution_count": null,
   "id": "28311cf5",
   "metadata": {},
   "outputs": [],
   "source": [
    "# Python 내장 함수명을 확인하는 방법입니다.\n",
    "dir(__builtin__)"
   ]
  },
  {
   "cell_type": "markdown",
   "id": "important-vision",
   "metadata": {},
   "source": [
    "### Python 객체"
   ]
  },
  {
   "cell_type": "code",
   "execution_count": null,
   "id": "thousand-looking",
   "metadata": {},
   "outputs": [],
   "source": [
    "# a에 정수 1을 할당합니다.\n",
    "a = 1"
   ]
  },
  {
   "cell_type": "code",
   "execution_count": null,
   "id": "excess-occasion",
   "metadata": {},
   "outputs": [],
   "source": [
    "# a가 가리키는 메모리 주소를 출력합니다.\n",
    "id(a)"
   ]
  },
  {
   "cell_type": "code",
   "execution_count": null,
   "id": "original-oracle",
   "metadata": {},
   "outputs": [],
   "source": [
    "# a에 정수 2를 할당합니다.\n",
    "a = 2"
   ]
  },
  {
   "cell_type": "code",
   "execution_count": null,
   "id": "behind-sweden",
   "metadata": {},
   "outputs": [],
   "source": [
    "# a가 가리키는 메모리 주소가 바뀌었습니다.\n",
    "id(a)"
   ]
  },
  {
   "cell_type": "markdown",
   "id": "manual-advisory",
   "metadata": {},
   "source": [
    "### Python 객체의 속성과 방식"
   ]
  },
  {
   "cell_type": "code",
   "execution_count": null,
   "id": "extended-owner",
   "metadata": {},
   "outputs": [],
   "source": [
    "# a에 정수 10을 할당합니다.\n",
    "a = 10"
   ]
  },
  {
   "cell_type": "code",
   "execution_count": null,
   "id": "acquired-porcelain",
   "metadata": {},
   "outputs": [],
   "source": [
    "# 변수명을 입력하고 실행합니다.\n",
    "a"
   ]
  },
  {
   "cell_type": "code",
   "execution_count": null,
   "id": "religious-customer",
   "metadata": {},
   "outputs": [],
   "source": [
    "# print() 함수로 a를 출력합니다.\n",
    "print(a)"
   ]
  },
  {
   "cell_type": "code",
   "execution_count": null,
   "id": "american-weekly",
   "metadata": {},
   "outputs": [],
   "source": [
    "# a의 클래스를 확인합니다.\n",
    "type(a)"
   ]
  },
  {
   "cell_type": "code",
   "execution_count": null,
   "id": "interim-contribution",
   "metadata": {
    "scrolled": true
   },
   "outputs": [],
   "source": [
    "# a가 갖는 속성과 방식을 출력합니다.\n",
    "dir(a)"
   ]
  },
  {
   "cell_type": "code",
   "execution_count": null,
   "id": "impressed-guatemala",
   "metadata": {},
   "outputs": [],
   "source": [
    "# a의 속성인 numerator에 접근합니다.\n",
    "a.numerator"
   ]
  },
  {
   "cell_type": "code",
   "execution_count": null,
   "id": "smart-estonia",
   "metadata": {},
   "outputs": [],
   "source": [
    "# a의 방식인 bit_length에 접근합니다.\n",
    "a.bit_length()"
   ]
  },
  {
   "cell_type": "markdown",
   "id": "editorial-celebration",
   "metadata": {},
   "source": [
    "### Python 객체의 생성 및 교환"
   ]
  },
  {
   "cell_type": "code",
   "execution_count": null,
   "id": "dramatic-shore",
   "metadata": {},
   "outputs": [],
   "source": [
    "# a와 b에 같은 문자열을 동시에 할당합니다.\n",
    "a = b = 'Language'"
   ]
  },
  {
   "cell_type": "code",
   "execution_count": null,
   "id": "blank-violence",
   "metadata": {},
   "outputs": [],
   "source": [
    "# a와 b를 출력합니다.\n",
    "print(a); print(b)"
   ]
  },
  {
   "cell_type": "code",
   "execution_count": null,
   "id": "annual-routine",
   "metadata": {},
   "outputs": [],
   "source": [
    "# a와 b에 다른 문자열을 각각 할당합니다.\n",
    "a, b = 'Python', 'R'"
   ]
  },
  {
   "cell_type": "code",
   "execution_count": null,
   "id": "possible-asset",
   "metadata": {},
   "outputs": [],
   "source": [
    "# a와 b를 출력합니다.\n",
    "print(a); print(b)"
   ]
  },
  {
   "cell_type": "code",
   "execution_count": null,
   "id": "northern-workplace",
   "metadata": {},
   "outputs": [],
   "source": [
    "# a와 b에 할당되었던 값을 서로 교환합니다.\n",
    "a, b = b, a"
   ]
  },
  {
   "cell_type": "code",
   "execution_count": null,
   "id": "ambient-spare",
   "metadata": {},
   "outputs": [],
   "source": [
    "# a와 b를 출력합니다.\n",
    "print(a); print(b)"
   ]
  },
  {
   "cell_type": "markdown",
   "id": "alive-supply",
   "metadata": {},
   "source": [
    "## End of Document"
   ]
  }
 ],
 "metadata": {
  "kernelspec": {
   "display_name": "Python 3 (ipykernel)",
   "language": "python",
   "name": "python3"
  },
  "language_info": {
   "codemirror_mode": {
    "name": "ipython",
    "version": 3
   },
   "file_extension": ".py",
   "mimetype": "text/x-python",
   "name": "python",
   "nbconvert_exporter": "python",
   "pygments_lexer": "ipython3",
   "version": "3.9.7"
  },
  "toc": {
   "base_numbering": 1,
   "nav_menu": {},
   "number_sections": true,
   "sideBar": true,
   "skip_h1_title": false,
   "title_cell": "Table of Contents",
   "title_sidebar": "Contents",
   "toc_cell": false,
   "toc_position": {},
   "toc_section_display": true,
   "toc_window_display": false
  },
  "varInspector": {
   "cols": {
    "lenName": 16,
    "lenType": 16,
    "lenVar": 40
   },
   "kernels_config": {
    "python": {
     "delete_cmd_postfix": "",
     "delete_cmd_prefix": "del ",
     "library": "var_list.py",
     "varRefreshCmd": "print(var_dic_list())"
    },
    "r": {
     "delete_cmd_postfix": ") ",
     "delete_cmd_prefix": "rm(",
     "library": "var_list.r",
     "varRefreshCmd": "cat(var_dic_list()) "
    }
   },
   "types_to_exclude": [
    "module",
    "function",
    "builtin_function_or_method",
    "instance",
    "_Feature"
   ],
   "window_display": false
  }
 },
 "nbformat": 4,
 "nbformat_minor": 5
}

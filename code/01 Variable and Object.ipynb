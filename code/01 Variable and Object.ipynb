{
 "cells": [
  {
   "cell_type": "markdown",
   "id": "96237ba2",
   "metadata": {},
   "source": [
    "## 프로그래밍 시작"
   ]
  },
  {
   "cell_type": "markdown",
   "id": "d2a02b4a",
   "metadata": {},
   "source": [
    "### 변수와 객체"
   ]
  },
  {
   "cell_type": "code",
   "execution_count": null,
   "id": "7214e4e6",
   "metadata": {},
   "outputs": [],
   "source": [
    "# 어떤 정수에 1을 더합니다.\n",
    "1 + 1"
   ]
  },
  {
   "cell_type": "code",
   "execution_count": null,
   "id": "d1305039",
   "metadata": {},
   "outputs": [],
   "source": [
    "# 다른 정수에 1을 더합니다.\n",
    "2 + 1"
   ]
  },
  {
   "cell_type": "code",
   "execution_count": null,
   "id": "3b139911",
   "metadata": {},
   "outputs": [],
   "source": [
    "# 서로 다른 정수에 1을 더합니다.\n",
    "# [주의] 같은 셀에서 여러 코드를 실행하면 마지막 결과만 반환합니다.\n",
    "1 + 1\n",
    "2 + 1"
   ]
  },
  {
   "cell_type": "code",
   "execution_count": null,
   "id": "9fe70fa2",
   "metadata": {
    "scrolled": true
   },
   "outputs": [],
   "source": [
    "# 서로 다른 정수에 1을 더합니다.\n",
    "# [참고] 같은 셀에서 여러 코드 실행 결과를 출력하려면 print() 함수를 사용합니다.\n",
    "print(1 + 1)\n",
    "print(2 + 1)"
   ]
  },
  {
   "cell_type": "code",
   "execution_count": null,
   "id": "1292d51f",
   "metadata": {},
   "outputs": [],
   "source": [
    "# 변수를 사용하면 코드를 재사용할 수 있습니다.\n",
    "a = 1\n",
    "print(a + 1)\n",
    "\n",
    "a = 2\n",
    "print(a + 1)"
   ]
  },
  {
   "cell_type": "markdown",
   "id": "4fab30bb",
   "metadata": {},
   "source": [
    "### 변수명"
   ]
  },
  {
   "cell_type": "code",
   "execution_count": null,
   "id": "434ec47e",
   "metadata": {},
   "outputs": [],
   "source": [
    "# Python 예약어를 확인합니다.\n",
    "help('keywords')"
   ]
  },
  {
   "cell_type": "markdown",
   "id": "manual-advisory",
   "metadata": {},
   "source": [
    "### 객체의 생성과 확인"
   ]
  },
  {
   "cell_type": "code",
   "execution_count": null,
   "id": "extended-owner",
   "metadata": {},
   "outputs": [],
   "source": [
    "# 문자열을 변수에 할당하고 출력합니다.\n",
    "sen = 'hello world!'\n",
    "sen"
   ]
  },
  {
   "cell_type": "code",
   "execution_count": null,
   "id": "religious-customer",
   "metadata": {},
   "outputs": [],
   "source": [
    "# print() 함수는 변수가 가리키는 객체를 표준 출력 위치에 출력합니다.\n",
    "# [참고] print() 함수는 문자열을 따옴표 없이 문자만 출력합니다.\n",
    "print(sen)"
   ]
  },
  {
   "cell_type": "code",
   "execution_count": null,
   "id": "american-weekly",
   "metadata": {},
   "outputs": [],
   "source": [
    "# type() 함수는 변수가 가리키는 객체의 클래스를 반환합니다.\n",
    "type(sen)"
   ]
  },
  {
   "cell_type": "code",
   "execution_count": null,
   "id": "interim-contribution",
   "metadata": {
    "scrolled": true
   },
   "outputs": [],
   "source": [
    "# dir() 함수는 변수가 갖는 속성과 방식을 리스트로 반환합니다.\n",
    "dir(sen)"
   ]
  },
  {
   "cell_type": "markdown",
   "id": "editorial-celebration",
   "metadata": {},
   "source": [
    "### 객체의 속성과 방식에 접근"
   ]
  },
  {
   "cell_type": "code",
   "execution_count": null,
   "id": "c226ef8c",
   "metadata": {},
   "outputs": [],
   "source": [
    "# upper는 sen의 방식이며 소문자를 대문자로 변환합니다.\n",
    "# [주의] 객체의 방식 뒤에 괄호를 추가해야 합니다.\n",
    "sen.isupper()"
   ]
  },
  {
   "cell_type": "code",
   "execution_count": null,
   "id": "245efb97",
   "metadata": {},
   "outputs": [],
   "source": [
    "# upper는 sen의 방식이며 소문자를 대문자로 변환합니다.\n",
    "sen.upper()"
   ]
  },
  {
   "cell_type": "code",
   "execution_count": null,
   "id": "f9308a03",
   "metadata": {},
   "outputs": [],
   "source": [
    "# count는 sen의 방식이며 괄호 안에 지정한 문자열의 개수를 반환합니다.\n",
    "sen.count('h')"
   ]
  },
  {
   "cell_type": "markdown",
   "id": "alive-supply",
   "metadata": {},
   "source": [
    "## End of Document"
   ]
  }
 ],
 "metadata": {
  "kernelspec": {
   "display_name": "Python 3",
   "language": "python",
   "name": "python3"
  },
  "language_info": {
   "codemirror_mode": {
    "name": "ipython",
    "version": 3
   },
   "file_extension": ".py",
   "mimetype": "text/x-python",
   "name": "python",
   "nbconvert_exporter": "python",
   "pygments_lexer": "ipython3",
   "version": "3.11.1"
  },
  "toc": {
   "base_numbering": 1,
   "nav_menu": {},
   "number_sections": false,
   "sideBar": true,
   "skip_h1_title": false,
   "title_cell": "Table of Contents",
   "title_sidebar": "Contents",
   "toc_cell": false,
   "toc_position": {},
   "toc_section_display": true,
   "toc_window_display": false
  },
  "varInspector": {
   "cols": {
    "lenName": 16,
    "lenType": 16,
    "lenVar": 40
   },
   "kernels_config": {
    "python": {
     "delete_cmd_postfix": "",
     "delete_cmd_prefix": "del ",
     "library": "var_list.py",
     "varRefreshCmd": "print(var_dic_list())"
    },
    "r": {
     "delete_cmd_postfix": ") ",
     "delete_cmd_prefix": "rm(",
     "library": "var_list.r",
     "varRefreshCmd": "cat(var_dic_list()) "
    }
   },
   "types_to_exclude": [
    "module",
    "function",
    "builtin_function_or_method",
    "instance",
    "_Feature"
   ],
   "window_display": false
  }
 },
 "nbformat": 4,
 "nbformat_minor": 5
}

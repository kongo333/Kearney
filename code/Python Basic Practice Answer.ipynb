{
 "cells": [
  {
   "cell_type": "markdown",
   "id": "03dd86b3",
   "metadata": {},
   "source": [
    "# 연습문제"
   ]
  },
  {
   "cell_type": "markdown",
   "id": "prime-glass",
   "metadata": {},
   "source": [
    "**`[연습문제 1] 다양한 연산자`**\n",
    "* 숫자 변수 c와 d를 각각 생성하고, 산술 연산을 실행하세요."
   ]
  },
  {
   "cell_type": "code",
   "execution_count": null,
   "id": "persistent-replacement",
   "metadata": {},
   "outputs": [],
   "source": [
    "# c에는 6.0, d에는 4를 할당하고 출력합니다.\n",
    "c = 6.0\n",
    "d = 4\n",
    "print(c)\n",
    "print(d)"
   ]
  },
  {
   "cell_type": "code",
   "execution_count": null,
   "id": "sharp-howard",
   "metadata": {},
   "outputs": [],
   "source": [
    "# c의 클래스를 확인합니다.\n",
    "type(c)"
   ]
  },
  {
   "cell_type": "code",
   "execution_count": null,
   "id": "reduced-eligibility",
   "metadata": {},
   "outputs": [],
   "source": [
    "# d의 클래스를 확인합니다.\n",
    "type(d)"
   ]
  },
  {
   "cell_type": "code",
   "execution_count": null,
   "id": "sunset-twenty",
   "metadata": {},
   "outputs": [],
   "source": [
    "# c와 d의 사칙연산을 실행합니다.(덧셈, 뺄셈, 곱셈, 나눗셈)\n",
    "print(c + d)\n",
    "print(c - d)\n",
    "print(c * d)\n",
    "print(c / d)"
   ]
  },
  {
   "cell_type": "code",
   "execution_count": null,
   "id": "oriental-account",
   "metadata": {},
   "outputs": [],
   "source": [
    "# c를 d로 거듭제곱합니다.\n",
    "c ** d"
   ]
  },
  {
   "cell_type": "code",
   "execution_count": null,
   "id": "unique-worcester",
   "metadata": {},
   "outputs": [],
   "source": [
    "# c를 d로 나누었을 때의 몫을 출력합니다.\n",
    "c // d"
   ]
  },
  {
   "cell_type": "code",
   "execution_count": null,
   "id": "soviet-delay",
   "metadata": {},
   "outputs": [],
   "source": [
    "# c를 d로 나누었을 때의 나머지를 출력합니다.\n",
    "c % d"
   ]
  },
  {
   "cell_type": "markdown",
   "id": "cubic-diving",
   "metadata": {},
   "source": [
    "* 숫자 변수 c와 d로 복합 할당 연산을 실행하세요."
   ]
  },
  {
   "cell_type": "code",
   "execution_count": null,
   "id": "killing-place",
   "metadata": {},
   "outputs": [],
   "source": [
    "# c에 1을 더한 결과를 c에 재할당하고, c를 출력합니다.\n",
    "c += 1; c"
   ]
  },
  {
   "cell_type": "code",
   "execution_count": null,
   "id": "jewish-principle",
   "metadata": {},
   "outputs": [],
   "source": [
    "# c에서 1을 뺀 결과를 c에 재할당하고, c를 출력합니다.\n",
    "c -= 1; c"
   ]
  },
  {
   "cell_type": "code",
   "execution_count": null,
   "id": "incomplete-stockholm",
   "metadata": {},
   "outputs": [],
   "source": [
    "# d에 1.5를 곱한 결과를 d에 재할당하고, d를 출력합니다.\n",
    "d *= 1.5; d"
   ]
  },
  {
   "cell_type": "code",
   "execution_count": null,
   "id": "unsigned-pocket",
   "metadata": {},
   "outputs": [],
   "source": [
    "# d를 1.5로 나눈 결과를 d에 재할당하고, d를 출력합니다.\n",
    "d /= 1.5; d"
   ]
  },
  {
   "cell_type": "markdown",
   "id": "equipped-wholesale",
   "metadata": {},
   "source": [
    "* 숫자 변수 c와 d로 비교 연산을 실행하세요."
   ]
  },
  {
   "cell_type": "code",
   "execution_count": null,
   "id": "large-designation",
   "metadata": {},
   "outputs": [],
   "source": [
    "# c와 d의 크기를 비교합니다.('크다', '크거나 같다', '작다', '작거나 같다')\n",
    "print(c > d)\n",
    "print(c >= d)\n",
    "print(c < d)\n",
    "print(c <= d)"
   ]
  },
  {
   "cell_type": "code",
   "execution_count": null,
   "id": "actual-point",
   "metadata": {},
   "outputs": [],
   "source": [
    "# c와 d가 같은지 확인합니다.('같다', '다르다')\n",
    "print(c == d)\n",
    "print(c != d)"
   ]
  },
  {
   "cell_type": "markdown",
   "id": "wrapped-label",
   "metadata": {},
   "source": [
    "**`[연습문제 2] 문자열의 인덱싱 및 슬라이싱`**\n",
    "* 문자열을 생성하고 인덱싱과 슬라이싱을 이용하여 다음 문제를 해결하세요."
   ]
  },
  {
   "cell_type": "code",
   "execution_count": null,
   "id": "beautiful-liver",
   "metadata": {},
   "outputs": [],
   "source": [
    "# 문자열 '어머니는 거실에서 책을 보신다.'를 sen1에 할당합니다.\n",
    "sen1 = '어머니는 거실에서 책을 보신다.'"
   ]
  },
  {
   "cell_type": "code",
   "execution_count": null,
   "id": "continuous-niger",
   "metadata": {},
   "outputs": [],
   "source": [
    "# sen1에서 '어머니'를 출력합니다.\n",
    "sen1[0:3]"
   ]
  },
  {
   "cell_type": "code",
   "execution_count": null,
   "id": "olive-computer",
   "metadata": {},
   "outputs": [],
   "source": [
    "# sen1에서 '거실'을 출력합니다.\n",
    "sen1[5:7]"
   ]
  },
  {
   "cell_type": "code",
   "execution_count": null,
   "id": "current-dancing",
   "metadata": {},
   "outputs": [],
   "source": [
    "# sen1에서 '책'을 출력합니다.\n",
    "sen1[10]"
   ]
  },
  {
   "cell_type": "code",
   "execution_count": null,
   "id": "hungarian-static",
   "metadata": {},
   "outputs": [],
   "source": [
    "# sen1에서 '어머니는 거실에서'를 출력합니다.\n",
    "sen1[0:9]"
   ]
  },
  {
   "cell_type": "code",
   "execution_count": null,
   "id": "twenty-electron",
   "metadata": {},
   "outputs": [],
   "source": [
    "# sen1에서 '책을 보신다.'를 출력합니다.\n",
    "sen1[10:]"
   ]
  },
  {
   "cell_type": "code",
   "execution_count": null,
   "id": "educated-celtic",
   "metadata": {},
   "outputs": [],
   "source": [
    "# sen1에서 '어머니는 거실에서 책을 보신다'를 출력합니다.(마침표가 없습니다!)\n",
    "sen1[0:-1]"
   ]
  },
  {
   "cell_type": "markdown",
   "id": "chubby-cooler",
   "metadata": {},
   "source": [
    "**`[연습문제 3] 문자열 다루기`**\n",
    "* 문자열을 생성하고 속성과 방식을 사용하여 다음 문제를 해결하세요."
   ]
  },
  {
   "cell_type": "code",
   "execution_count": null,
   "id": "trained-consequence",
   "metadata": {},
   "outputs": [],
   "source": [
    "# 문자열 '\\n어머니는 주방에서 맛있는 음식을 요리하신다.\\t'를 sen2에 할당합니다.\n",
    "sen2 = '\\n어머니는 주방에서 맛있는 음식을 요리하신다.\\t'"
   ]
  },
  {
   "cell_type": "code",
   "execution_count": null,
   "id": "severe-worry",
   "metadata": {},
   "outputs": [],
   "source": [
    "# sen2에서 문자 '는'이 몇 번 포함되어 있는지 확인합니다.\n",
    "sen2.count('는')"
   ]
  },
  {
   "cell_type": "code",
   "execution_count": null,
   "id": "buried-taxation",
   "metadata": {},
   "outputs": [],
   "source": [
    "# sen2에서 문자 '는'이 두 번째로 나오는 인덱스를 반환합니다.\n",
    "sen2.index('는', 5)"
   ]
  },
  {
   "cell_type": "code",
   "execution_count": null,
   "id": "immune-internet",
   "metadata": {},
   "outputs": [],
   "source": [
    "# sen2에서 '주방'을 '부엌'으로 바꿉니다.\n",
    "sen2.replace('주방', '부엌')"
   ]
  },
  {
   "cell_type": "code",
   "execution_count": null,
   "id": "fitted-bridge",
   "metadata": {},
   "outputs": [],
   "source": [
    "# sen2을 공백 기준으로 분리한 결과로 strs2를 생성합니다.\n",
    "strs2 = sen2.split(' ')"
   ]
  },
  {
   "cell_type": "code",
   "execution_count": null,
   "id": "economic-serve",
   "metadata": {},
   "outputs": [],
   "source": [
    "# strs2를 출력합니다.\n",
    "strs2"
   ]
  },
  {
   "cell_type": "code",
   "execution_count": null,
   "id": "mental-syndicate",
   "metadata": {},
   "outputs": [],
   "source": [
    "# strs2의 클래스를 확인합니다.\n",
    "type(strs2)"
   ]
  },
  {
   "cell_type": "code",
   "execution_count": null,
   "id": "three-relationship",
   "metadata": {},
   "outputs": [],
   "source": [
    "# strs2의 원소 사이에 공백을 추가하여 하나의 문자열로 결합합니다.\n",
    "' '.join(strs2)"
   ]
  },
  {
   "cell_type": "markdown",
   "id": "pursuant-horror",
   "metadata": {},
   "source": [
    "**`[연습문제 4] 리스트의 인덱싱과 슬라이싱`**\n",
    "* 리스트를 생성하고 인덱싱과 슬라이싱을 이용하여 다음 문제를 해결하세요."
   ]
  },
  {
   "cell_type": "code",
   "execution_count": null,
   "id": "another-twist",
   "metadata": {},
   "outputs": [],
   "source": [
    "# 1, 3, [5, '7'], '9', ['ABC', '2', 4, 6]을 원소로 갖는 리스트 g를 생성합니다.\n",
    "g = [1, 3, [5, '7'], '9', ['ABC', '2', 4, 6]]"
   ]
  },
  {
   "cell_type": "code",
   "execution_count": null,
   "id": "hourly-facing",
   "metadata": {},
   "outputs": [],
   "source": [
    "# g에서 '9'를 선택합니다.\n",
    "g[3]"
   ]
  },
  {
   "cell_type": "code",
   "execution_count": null,
   "id": "choice-national",
   "metadata": {},
   "outputs": [],
   "source": [
    "# g에서 [1, 3, [5, '7'], '9']를 선택합니다.\n",
    "g[0:4]"
   ]
  },
  {
   "cell_type": "code",
   "execution_count": null,
   "id": "aggregate-banking",
   "metadata": {},
   "outputs": [],
   "source": [
    "# g에서 [4, 6]을 선택합니다.\n",
    "g[4][2:]"
   ]
  },
  {
   "cell_type": "code",
   "execution_count": null,
   "id": "terminal-ownership",
   "metadata": {},
   "outputs": [],
   "source": [
    "# g에서 4를 선택합니다.\n",
    "g[4][2]"
   ]
  },
  {
   "cell_type": "code",
   "execution_count": null,
   "id": "mighty-leonard",
   "metadata": {},
   "outputs": [],
   "source": [
    "# g에서 [3, '9']을 선택합니다.\n",
    "g[1:4:2]"
   ]
  },
  {
   "cell_type": "code",
   "execution_count": null,
   "id": "limited-madison",
   "metadata": {},
   "outputs": [],
   "source": [
    "# g의 전체 원소를 역순으로 출력합니다.\n",
    "g[::-1]"
   ]
  },
  {
   "cell_type": "markdown",
   "id": "decimal-ending",
   "metadata": {},
   "source": [
    "**`[연습문제 5] 리스트 다루기`**\n",
    "* 리스트를 생성하고, 다음 문제를 해결하세요."
   ]
  },
  {
   "cell_type": "code",
   "execution_count": null,
   "id": "smooth-harvey",
   "metadata": {},
   "outputs": [],
   "source": [
    "# 정수 2, 4, 6, 8, 10을 원소로 갖는 리스트 h를 생성합니다.\n",
    "h = list(range(2, 11, 2))\n",
    "h"
   ]
  },
  {
   "cell_type": "code",
   "execution_count": null,
   "id": "distant-indicator",
   "metadata": {},
   "outputs": [],
   "source": [
    "# 정수 12를 h의 마지막 원소로 추가합니다.\n",
    "h.append(12)\n",
    "h"
   ]
  },
  {
   "cell_type": "code",
   "execution_count": null,
   "id": "declared-boundary",
   "metadata": {},
   "outputs": [],
   "source": [
    "# 정수 14, 16을 h의 마지막 원소로 동시에 추가합니다.\n",
    "h.extend([14, 16])\n",
    "h"
   ]
  },
  {
   "cell_type": "code",
   "execution_count": null,
   "id": "advance-circulation",
   "metadata": {},
   "outputs": [],
   "source": [
    "# 정수 1을 h의 0번 인덱스 앞에 삽입합니다.\n",
    "h.insert(0, 1)\n",
    "h"
   ]
  },
  {
   "cell_type": "code",
   "execution_count": null,
   "id": "received-mountain",
   "metadata": {},
   "outputs": [],
   "source": [
    "# h에서 정수 10을 삭제합니다.\n",
    "h.remove(10)\n",
    "h"
   ]
  },
  {
   "cell_type": "code",
   "execution_count": null,
   "id": "rising-universe",
   "metadata": {},
   "outputs": [],
   "source": [
    "# h의 0번 인덱스 원소를 삭제합니다.\n",
    "h.pop(0)\n",
    "h"
   ]
  },
  {
   "cell_type": "code",
   "execution_count": null,
   "id": "competent-trinity",
   "metadata": {},
   "outputs": [],
   "source": [
    "# h의 2번 인덱스 원소를 10으로 변경합니다.\n",
    "h[2] = 10\n",
    "h"
   ]
  },
  {
   "cell_type": "markdown",
   "id": "welcome-testament",
   "metadata": {},
   "source": [
    "* 리스트 h로 다음 문제를 해결하세요."
   ]
  },
  {
   "cell_type": "code",
   "execution_count": null,
   "id": "civilian-ocean",
   "metadata": {},
   "outputs": [],
   "source": [
    "# h의 전체 원소를 2번 반복합니다.\n",
    "h * 2"
   ]
  },
  {
   "cell_type": "code",
   "execution_count": null,
   "id": "divine-exhibition",
   "metadata": {},
   "outputs": [],
   "source": [
    "# 정수 1이 h의 원소인지 확인합니다.\n",
    "1 in h"
   ]
  },
  {
   "cell_type": "code",
   "execution_count": null,
   "id": "amateur-quarterly",
   "metadata": {},
   "outputs": [],
   "source": [
    "# 정수 3이 h의 원소가 아닌지 확인합니다.\n",
    "3 not in h"
   ]
  },
  {
   "cell_type": "code",
   "execution_count": null,
   "id": "scheduled-double",
   "metadata": {},
   "outputs": [],
   "source": [
    "# h의 원소를 오름차순으로 정렬합니다.\n",
    "h.sort()\n",
    "h"
   ]
  },
  {
   "cell_type": "code",
   "execution_count": null,
   "id": "cardiac-caution",
   "metadata": {},
   "outputs": [],
   "source": [
    "# h의 원소를 내림차순으로 정렬합니다.\n",
    "h.sort(reverse = True)\n",
    "h"
   ]
  },
  {
   "cell_type": "code",
   "execution_count": null,
   "id": "useful-sitting",
   "metadata": {},
   "outputs": [],
   "source": [
    "# h의 원소를 역순으로 변경합니다.\n",
    "h.reverse()\n",
    "h"
   ]
  },
  {
   "cell_type": "markdown",
   "id": "wicked-front",
   "metadata": {},
   "source": [
    "**`[연습문제 6] 딕셔너리 다루기`**\n",
    "* 딕셔너리를 생성하고, 다음 문제를 해결하세요."
   ]
  },
  {
   "cell_type": "code",
   "execution_count": null,
   "id": "fuzzy-centre",
   "metadata": {},
   "outputs": [],
   "source": [
    "# key는 'name'과 'age'이고, value는 '유재석'과 49인 딕셔너리 j를 생성합니다.\n",
    "j = {'name': '유재석', 'age': 49}\n",
    "j"
   ]
  },
  {
   "cell_type": "code",
   "execution_count": null,
   "id": "91b72b75",
   "metadata": {},
   "outputs": [],
   "source": [
    "# j에서 key가 'name'인 원소의 value를 출력합니다.\n",
    "j['name']"
   ]
  },
  {
   "cell_type": "code",
   "execution_count": null,
   "id": "01deb983",
   "metadata": {},
   "outputs": [],
   "source": [
    "# j에서 key가 'nick'인 원소의 value를 출력합니다.\n",
    "j['nick']"
   ]
  },
  {
   "cell_type": "code",
   "execution_count": null,
   "id": "improving-italian",
   "metadata": {},
   "outputs": [],
   "source": [
    "# j에서 key에 'nick'인 원소가 포함되어 있는지 확인합니다.\n",
    "'nick' in j"
   ]
  },
  {
   "cell_type": "code",
   "execution_count": null,
   "id": "great-quantum",
   "metadata": {},
   "outputs": [],
   "source": [
    "# j에서 key가 'nick'이고, value가 '메뚜기'인 원소를 추가합니다.\n",
    "j['nick'] = '메뚜기'\n",
    "j"
   ]
  },
  {
   "cell_type": "code",
   "execution_count": null,
   "id": "tough-tours",
   "metadata": {},
   "outputs": [],
   "source": [
    "# j에서 key가 'age'인 원소의 value를 50으로 변경합니다.\n",
    "j['age'] = 50\n",
    "j"
   ]
  },
  {
   "cell_type": "code",
   "execution_count": null,
   "id": "altered-armenia",
   "metadata": {},
   "outputs": [],
   "source": [
    "# j에서 key가 'name'인 원소를 삭제합니다.\n",
    "del j['name']\n",
    "j"
   ]
  },
  {
   "cell_type": "markdown",
   "id": "destroyed-campus",
   "metadata": {},
   "source": [
    "**`[연습문제 7] if 조건문`**\n",
    "* 편의점 사장님인 당신 앞에 어려 보이는 손님이 담배를 구입하려고 합니다.\n",
    "  - 손님의 나이를 문자열로 입력받고, 정수로 변환한 값을 변수 age에 할당합니다.\n",
    "  - 만약 손님의 나이가 20살 이상이면 아래 항목을 차례대로 실행합니다.\n",
    "    - '담배 구입이 가능합니다!'를 출력합니다.\n",
    "    - 몇 갑을 구매할 것인지 입력받고, 정수로 변환한 값을 변수 packs에 할당합니다.\n",
    "    - packs에 5000원을 곱한 값을 변수 money에 할당합니다.\n",
    "    - f'결제하실 금액은 {money}원입니다.'를 출력합니다.\n",
    "  - 만약 손님의 나이가 20살 미만이면 아래 항목을 실행합니다.\n",
    "    - '담배를 구입할 수 없습니다! 안녕히 가세요.'를 출력합니다."
   ]
  },
  {
   "cell_type": "code",
   "execution_count": null,
   "id": "enclosed-concern",
   "metadata": {},
   "outputs": [],
   "source": [
    "# 여기에 코드를 작성하세요.\n",
    "age = int(input('나이가 어떻게...? '))\n",
    "if age >= 20:\n",
    "    print('담배 구입이 가능합니다!')\n",
    "    packs = int(input('몇 갑 드릴까요? '))\n",
    "    money = packs * 5000\n",
    "    print(f'결제하실 금액은 {money}원입니다.')\n",
    "else:\n",
    "    print('담배를 구입할 수 없습니다! 안녕히 가세요.')"
   ]
  },
  {
   "cell_type": "markdown",
   "id": "incoming-climate",
   "metadata": {},
   "source": [
    "**`[연습문제 8] for 반복문`**\n",
    "* 특정 조건을 만족하는 원소만 모두 더한 결과를 반환하는 문제입니다.\n",
    "  - 정수 1~20을 원소로 갖는 리스트 nums를 생성합니다.\n",
    "  - 최종 결과를 저장할 변수 sums에 0을 할당합니다.\n",
    "  - 아래 내용을 반복 실행합니다. 변수는 num, 리스트는 nums로 설정하세요.\n",
    "    - num이 2나 3의 배수이면, f'{num}은 2 또는 3의 배수입니다!'를 출력합니다.\n",
    "    - num이 2나 3의 배수가 아니면, sums에 복합 할당 연산자(+=)로 num을 더하고  \n",
    "      f'현재 누적 합계는 {sums}입니다.'를 출력합니다.\n",
    "  - 반복문이 완료되면 sums를 출력합니다."
   ]
  },
  {
   "cell_type": "code",
   "execution_count": null,
   "id": "focal-speaker",
   "metadata": {},
   "outputs": [],
   "source": [
    "# 여기에 코드를 작성하세요.\n",
    "nums = list(range(1, 21))\n",
    "sums = 0\n",
    "for num in nums:\n",
    "    if num % 2 == 0 or num % 3 == 0:\n",
    "        print(f'{num}은 2 또는 3의 배수입니다!')\n",
    "    else:\n",
    "        sums += num\n",
    "        print(f'현재 누적 합계는 {sums}입니다.')\n",
    "print(sums)"
   ]
  },
  {
   "cell_type": "markdown",
   "id": "excited-things",
   "metadata": {},
   "source": [
    "**`[연습문제 9] while 반복문`**\n",
    "* myCard에 정수 10000을 할당하고, 아래 내용을 반복 실행합니다.\n",
    "  - f'현재 카드 잔액은 {myCard}원입니다.'를 출력합니다.\n",
    "  - myCard가 10000 이상이면 아래 내용을 실행합니다.\n",
    "    - input() 함수로 커피 주문 여부를 '예' 또는 '아니오'로 입력받아 order에 할당합니다.\n",
    "    - order가 '예'라면 myCard에 4100을 차감하고, '예'가 아니면 '안녕히 가세요!'를 출력하고  \n",
    "      while 반복문 실행을 종료합니다.\n",
    "  - myCard가 10000 미만이면 아래 내용을 실행합니다.\n",
    "    - input() 함수로 카드 충전 여부를 '예' 또는 '아니오'로 입력받아 charge에 할당합니다.\n",
    "    - charge가 '예'라면 myCard에 10000을 더하고, '예'가 아니면 '안녕히 가세요!'를 출력하고  \n",
    "      while 반복문 실행을 종료합니다."
   ]
  },
  {
   "cell_type": "code",
   "execution_count": null,
   "id": "about-breakfast",
   "metadata": {},
   "outputs": [],
   "source": [
    "# 여기에 코드를 작성하세요.\n",
    "myCard = 10000\n",
    "while myCard:\n",
    "    print(f'현재 카드 잔액은 {myCard}원입니다.')\n",
    "    if myCard >= 10000:\n",
    "        order = input('커피 주문하시겠습니까? [예/아니오]')\n",
    "        if order == '예':\n",
    "            myCard -= 4100\n",
    "        else:\n",
    "            print('안녕히 가세요!')\n",
    "            break\n",
    "    else:\n",
    "        charge = input('카드 충전하시겠습니까? [예/아니오]')\n",
    "        if charge == '예':\n",
    "            myCard += 10000\n",
    "        else:\n",
    "            print('안녕히 가세요!')\n",
    "            break"
   ]
  },
  {
   "cell_type": "markdown",
   "id": "widespread-country",
   "metadata": {},
   "source": [
    "**`[연습문제 10] 사용자 정의 함수`**\n",
    "* 두 개의 정수를 입력받아 연속된 정수를 모두 더하는 함수를 생성합니다.\n",
    "  - 사용자 정의 함수명은 'getTotal'로 명명하고, 매개변수로 start와 end를 정의합니다.\n",
    "    - 매개변수에 전달되는 인자의 기본값으로 정수 0을 설정합니다.\n",
    "    - 만약 start와 end에 할당된 값이 정수가 아니면 정수로 형 변환합니다.\n",
    "  - start로 시작하여 end를 포함하는 연속된 정수를 원소로 갖는 리스트 nums를 생성합니다.\n",
    "    - 예를 들어, start에 1, end에 5가 할당되면 nums는 [1, 2, 3, 4, 5]가 되도록 설정합니다.\n",
    "  - nums의 전체 원소를 모두 더한 정수 sums를 생성합니다.\n",
    "  - 마지막으로 sums를 반환합니다."
   ]
  },
  {
   "cell_type": "code",
   "execution_count": null,
   "id": "clean-member",
   "metadata": {},
   "outputs": [],
   "source": [
    "# 여기에 코드를 작성하세요.\n",
    "def getTotal(start = 0, end = 0):\n",
    "    if type(start) != int:\n",
    "        start = int(float(start))\n",
    "    if type(end) != int:\n",
    "        end = int(float(end))\n",
    "    nums = list(range(start, end+1))\n",
    "    sums = sum(nums)\n",
    "    return sums"
   ]
  },
  {
   "cell_type": "code",
   "execution_count": null,
   "id": "364dc90d",
   "metadata": {},
   "outputs": [],
   "source": [
    "getTotal(start = 1, end = 10)"
   ]
  },
  {
   "cell_type": "markdown",
   "id": "august-parliament",
   "metadata": {},
   "source": [
    "**`[연습문제 11] 배열의 생성 및 인덱싱`**\n",
    "* 1차원 배열을 생성하고, 원소의 일부를 선택해보세요."
   ]
  },
  {
   "cell_type": "code",
   "execution_count": null,
   "id": "cheap-foundation",
   "metadata": {},
   "outputs": [],
   "source": [
    "# 1부터 5까지 간격이 0.2인 실수를 원소로 갖는 1차원 배열 ar1을 생성합니다.(5 제외)\n",
    "import numpy as np\n",
    "ar1 = np.arange(start = 1, stop = 5, step = 0.2)\n",
    "ar1"
   ]
  },
  {
   "cell_type": "code",
   "execution_count": null,
   "id": "optimum-receptor",
   "metadata": {},
   "outputs": [],
   "source": [
    "# ar1의 차원수를 확인합니다.\n",
    "ar1.ndim"
   ]
  },
  {
   "cell_type": "code",
   "execution_count": null,
   "id": "genetic-spectacular",
   "metadata": {},
   "outputs": [],
   "source": [
    "# ar1의 형태를 확인합니다.\n",
    "ar1.shape"
   ]
  },
  {
   "cell_type": "code",
   "execution_count": null,
   "id": "moral-stable",
   "metadata": {},
   "outputs": [],
   "source": [
    "# ar1의 원소를 정수로 변환한 결과를 ar1에 재할당합니다.\n",
    "ar1 = ar1.astype('int')"
   ]
  },
  {
   "cell_type": "code",
   "execution_count": null,
   "id": "necessary-swift",
   "metadata": {},
   "outputs": [],
   "source": [
    "# ar1의 1번 인덱스(두 번째) 원소를 선택합니다.\n",
    "ar1[1]"
   ]
  },
  {
   "cell_type": "code",
   "execution_count": null,
   "id": "frank-character",
   "metadata": {},
   "outputs": [],
   "source": [
    "# ar1의 마지막 원소를 선택합니다.\n",
    "ar1[-1]"
   ]
  },
  {
   "cell_type": "code",
   "execution_count": null,
   "id": "cathedral-negotiation",
   "metadata": {},
   "outputs": [],
   "source": [
    "# ar1의 3, 6, 9번 인덱스 원소를 선택합니다.(range(), 이중콜론 및 리스트 모두 가능!)\n",
    "ar1[[3, 6, 9]]"
   ]
  },
  {
   "cell_type": "markdown",
   "id": "spatial-professional",
   "metadata": {},
   "source": [
    "* 2차원 배열을 생성하고, 원소의 일부를 선택해보세요."
   ]
  },
  {
   "cell_type": "code",
   "execution_count": null,
   "id": "improving-pursuit",
   "metadata": {},
   "outputs": [],
   "source": [
    "# ar1을 4행 5열인 2차원 배열로 변환하여 ar2를 생성합니다.(입력방향은 가로로 설정)\n",
    "ar2 = ar1.reshape(4, 5, order = 'C')"
   ]
  },
  {
   "cell_type": "code",
   "execution_count": null,
   "id": "organic-coffee",
   "metadata": {},
   "outputs": [],
   "source": [
    "# ar2를 출력합니다.\n",
    "ar2"
   ]
  },
  {
   "cell_type": "code",
   "execution_count": null,
   "id": "phantom-clark",
   "metadata": {},
   "outputs": [],
   "source": [
    "# ar2의 차원수를 확인합니다.\n",
    "ar2.ndim"
   ]
  },
  {
   "cell_type": "code",
   "execution_count": null,
   "id": "unsigned-vacuum",
   "metadata": {},
   "outputs": [],
   "source": [
    "# ar2의 형태를 확인합니다.\n",
    "ar2.shape"
   ]
  },
  {
   "cell_type": "code",
   "execution_count": null,
   "id": "legitimate-reservoir",
   "metadata": {},
   "outputs": [],
   "source": [
    "# ar2의 2행 3열 원소를 출력합니다.\n",
    "ar2[1, 2]"
   ]
  },
  {
   "cell_type": "code",
   "execution_count": null,
   "id": "skilled-matthew",
   "metadata": {},
   "outputs": [],
   "source": [
    "# ar2의 전체 행 5열 원소를 출력합니다.\n",
    "ar2[:, 4]"
   ]
  },
  {
   "cell_type": "code",
   "execution_count": null,
   "id": "lined-transition",
   "metadata": {},
   "outputs": [],
   "source": [
    "# ar2의 1~3행 1~3열 원소를 출력합니다.\n",
    "ar2[0:3, 0:3]"
   ]
  },
  {
   "cell_type": "markdown",
   "id": "casual-reconstruction",
   "metadata": {},
   "source": [
    "**`[연습문제 12] 데이터 입출력 및 팬시 인덱싱`**\n",
    "* 데이터프레임을 생성하고, 다음 문제를 해결하세요."
   ]
  },
  {
   "cell_type": "code",
   "execution_count": null,
   "id": "contrary-understanding",
   "metadata": {},
   "outputs": [],
   "source": [
    "# 'KBO_Hitters_2020.csv' 파일을 읽고 데이터프레임 kbo를 생성합니다.(인코딩 확인)\n",
    "import os\n",
    "import chardet\n",
    "import pandas as pd\n",
    "\n",
    "os.chdir('../data')\n",
    "os.listdir()"
   ]
  },
  {
   "cell_type": "code",
   "execution_count": null,
   "id": "dad57685",
   "metadata": {},
   "outputs": [],
   "source": [
    "raw = open(file = 'KBO_Hitters_2020.csv', mode = 'rb').read()\n",
    "chardet.detect(raw)"
   ]
  },
  {
   "cell_type": "code",
   "execution_count": null,
   "id": "50a0944d",
   "metadata": {},
   "outputs": [],
   "source": [
    "kbo = pd.read_csv('KBO_Hitters_2020.csv', encoding = 'EUC-KR')"
   ]
  },
  {
   "cell_type": "code",
   "execution_count": null,
   "id": "presidential-organizer",
   "metadata": {},
   "outputs": [],
   "source": [
    "# kbo의 처음 10행을 출력합니다.\n",
    "kbo.head(10)"
   ]
  },
  {
   "cell_type": "code",
   "execution_count": null,
   "id": "36cd37a8",
   "metadata": {},
   "outputs": [],
   "source": [
    "# kbo의 마지막 10행을 출력합니다.\n",
    "kbo.tail(10)"
   ]
  },
  {
   "cell_type": "code",
   "execution_count": null,
   "id": "metropolitan-evaluation",
   "metadata": {},
   "outputs": [],
   "source": [
    "# kbo의 정보를 확인합니다.\n",
    "kbo.info()"
   ]
  },
  {
   "cell_type": "code",
   "execution_count": null,
   "id": "powerful-million",
   "metadata": {},
   "outputs": [],
   "source": [
    "# kbo의 행이름이 정수 1부터 시작하도록 변경합니다.\n",
    "kbo.index = range(1, len(kbo)+1)"
   ]
  },
  {
   "cell_type": "code",
   "execution_count": null,
   "id": "noble-graham",
   "metadata": {},
   "outputs": [],
   "source": [
    "# kbo의 처음 30행만 선택하여 kbo에 재할당합니다.\n",
    "kbo = kbo.head(30)"
   ]
  },
  {
   "cell_type": "code",
   "execution_count": null,
   "id": "occasional-community",
   "metadata": {},
   "outputs": [],
   "source": [
    "# kbo의 홀수 행을 선택합니다.(iloc, loc 인덱싱 사용)\n",
    "kbo.loc[range(1, 31, 2), :]"
   ]
  },
  {
   "cell_type": "code",
   "execution_count": null,
   "id": "designing-expression",
   "metadata": {},
   "outputs": [],
   "source": [
    "# kbo의 일부 열('팀명', '선수명', '볼넷', '삼진')을 선택합니다.\n",
    "kbo.loc[:, ['팀명', '선수명', '볼넷', '삼진']]"
   ]
  },
  {
   "cell_type": "markdown",
   "id": "suspected-purchase",
   "metadata": {},
   "source": [
    "**`[연습문제 13] 데이터프레임 전처리`**\n",
    "* 데이터프레임을 생성하고, 다음 문제를 해결하세요."
   ]
  },
  {
   "cell_type": "code",
   "execution_count": null,
   "id": "burning-franklin",
   "metadata": {},
   "outputs": [],
   "source": [
    "# 'KBO_Hitters_2020.xlsx' 파일을 읽고 데이터프레임 kbo를 생성합니다.\n",
    "import os\n",
    "import numpy as np\n",
    "import pandas as pd\n",
    "\n",
    "os.chdir(path = '../data')\n",
    "kbo = pd.read_excel('KBO_Hitters_2020.xlsx')"
   ]
  },
  {
   "cell_type": "code",
   "execution_count": null,
   "id": "1f3f5ef5",
   "metadata": {},
   "outputs": [],
   "source": [
    "# 타석이 100 이상인 선수만 선택하고 kbo에 재할당합니다.\n",
    "kbo = kbo.loc[kbo['타석'] >= 100]"
   ]
  },
  {
   "cell_type": "code",
   "execution_count": null,
   "id": "a48eef16",
   "metadata": {},
   "outputs": [],
   "source": [
    "# 타율과 OPS를 삭제하고 kbo에 재할당합니다.\n",
    "kbo = kbo.drop(labels = ['타율', 'OPS'], axis = 1)"
   ]
  },
  {
   "cell_type": "code",
   "execution_count": null,
   "id": "37fdae4a",
   "metadata": {},
   "outputs": [],
   "source": [
    "# 안타를 타수로 나누고 반올림하여 소수점 셋째 자리까지 남긴 타율을 생성합니다.\n",
    "kbo['타율'] = (kbo['안타'] / kbo['타수']).round(3)\n",
    "kbo.head()"
   ]
  },
  {
   "cell_type": "code",
   "execution_count": null,
   "id": "0912c316",
   "metadata": {},
   "outputs": [],
   "source": [
    "# 출루율과 장타율을 더한 OPS를 생성합니다.\n",
    "kbo['OPS'] = (kbo['출루율'] + kbo['장타율'])"
   ]
  },
  {
   "cell_type": "code",
   "execution_count": null,
   "id": "32c4a725",
   "metadata": {},
   "outputs": [],
   "source": [
    "# OPS 기준으로 내림차순 정렬하고 처음 다섯 행을 출력합니다.\n",
    "kbo.sort_values(by = ['OPS'], ascending = False).head()"
   ]
  },
  {
   "cell_type": "code",
   "execution_count": null,
   "id": "e393accf",
   "metadata": {},
   "outputs": [],
   "source": [
    "# 팀별 선수 인원을 시리즈로 반환합니다.\n",
    "kbo['팀명'].value_counts()"
   ]
  },
  {
   "cell_type": "markdown",
   "id": "f8abb810",
   "metadata": {},
   "source": [
    "* 데이터프레임 kbo로 다음 문제를 해결하세요."
   ]
  },
  {
   "cell_type": "code",
   "execution_count": null,
   "id": "754ce242",
   "metadata": {},
   "outputs": [],
   "source": [
    "# 홈런이 30 이상인 선수를 선택하여 df1에 할당합니다.\n",
    "df1 = kbo.loc[kbo['홈런'] >= 30]"
   ]
  },
  {
   "cell_type": "code",
   "execution_count": null,
   "id": "83182727",
   "metadata": {},
   "outputs": [],
   "source": [
    "# 안타가 150 이상인 선수를 선택하여 df2에 할당합니다.\n",
    "df2 = kbo.loc[kbo['안타'] >= 150]"
   ]
  },
  {
   "cell_type": "code",
   "execution_count": null,
   "id": "4c97b8bf",
   "metadata": {},
   "outputs": [],
   "source": [
    "# 타점이 100 이상인 선수를 선택하여 df3에 할당합니다.\n",
    "df3 = kbo.loc[kbo['타점'] >= 100]"
   ]
  },
  {
   "cell_type": "code",
   "execution_count": null,
   "id": "411375ef",
   "metadata": {},
   "outputs": [],
   "source": [
    "# df1, df2 및 df3를 세로 방향으로 결합합니다.\n",
    "pd.concat(objs = [df1, df2, df3])"
   ]
  },
  {
   "cell_type": "code",
   "execution_count": null,
   "id": "74a0f966",
   "metadata": {},
   "outputs": [],
   "source": [
    "# 집계함수로 팀별 안타 합계를 계산하여 시리즈 teamHit을 생성합니다.\n",
    "teamHit = kbo.groupby(by = ['팀명']).sum()['안타']"
   ]
  },
  {
   "cell_type": "code",
   "execution_count": null,
   "id": "8e3c7bca",
   "metadata": {},
   "outputs": [],
   "source": [
    "# 집계함수로 팀별 타수 합계를 계산하여 시리즈 teamAb을 생성합니다.\n",
    "teamAb = kbo.groupby(by = ['팀명']).sum()['타수']"
   ]
  },
  {
   "cell_type": "code",
   "execution_count": null,
   "id": "b0b26c9c",
   "metadata": {},
   "outputs": [],
   "source": [
    "# teamHit을 teamAb으로 나누고 반올림하여 소수점 셋째 자리까지 남깁니다.\n",
    "(teamHit / teamAb).round(3)"
   ]
  },
  {
   "cell_type": "markdown",
   "id": "republican-brooklyn",
   "metadata": {},
   "source": [
    "**`[연습문제 14] 데이터 시각화`**\n",
    "* 데이터프레임을 생성하고, 다음 문제를 해결하세요."
   ]
  },
  {
   "cell_type": "code",
   "execution_count": null,
   "id": "80d0dd0d",
   "metadata": {},
   "outputs": [],
   "source": [
    "# 관련 모듈을 호출합니다.\n",
    "from GraphicSetting import *"
   ]
  },
  {
   "cell_type": "code",
   "execution_count": null,
   "id": "executed-amber",
   "metadata": {},
   "outputs": [],
   "source": [
    "# 'KBO_Hitters_2020.xlsx' 파일을 읽고 데이터프레임 kbo를 생성합니다.\n",
    "import os\n",
    "import numpy as np\n",
    "import pandas as pd\n",
    "\n",
    "os.chdir(path = '../data')\n",
    "kbo = pd.read_excel('KBO_Hitters_2020.xlsx')"
   ]
  },
  {
   "cell_type": "code",
   "execution_count": null,
   "id": "ece1334e",
   "metadata": {},
   "outputs": [],
   "source": [
    "# 타율의 최솟값과 최댓값을 확인합니다.\n",
    "kbo['타율'].describe()[['min', 'max']]"
   ]
  },
  {
   "cell_type": "code",
   "execution_count": null,
   "id": "19478f3a",
   "metadata": {},
   "outputs": [],
   "source": [
    "# 히스토그램 막대의 경계를 설정합니다.\n",
    "bins = np.arange(start = 0, stop = 1.01, step = 0.05)"
   ]
  },
  {
   "cell_type": "code",
   "execution_count": null,
   "id": "d5154d9e",
   "metadata": {},
   "outputs": [],
   "source": [
    "# 타율로 히스토그램을 그립니다.\n",
    "sns.histplot(data = kbo, x = '타율', bins = bins);"
   ]
  },
  {
   "cell_type": "code",
   "execution_count": null,
   "id": "b094952e",
   "metadata": {},
   "outputs": [],
   "source": [
    "# 타율로 상자 수염 그림을 그립니다.\n",
    "sns.boxplot(data = kbo, y = '타율');"
   ]
  },
  {
   "cell_type": "code",
   "execution_count": null,
   "id": "5f977673",
   "metadata": {},
   "outputs": [],
   "source": [
    "# 팀별 타율로 상자 수염 그림을 그립니다.\n",
    "sns.boxplot(data = kbo, x = '팀명', y = '타율');"
   ]
  },
  {
   "cell_type": "code",
   "execution_count": null,
   "id": "d6c10c65",
   "metadata": {},
   "outputs": [],
   "source": [
    "# 팀별 빈도수로 일변량 막대그래프를 그립니다.\n",
    "sns.countplot(data = kbo, x = '팀명');"
   ]
  },
  {
   "cell_type": "markdown",
   "id": "af05c8a8",
   "metadata": {},
   "source": [
    "* 데이터프레임 kbo로부터 요약데이터 teamStat을 생성하고 시각화하세요."
   ]
  },
  {
   "cell_type": "code",
   "execution_count": null,
   "id": "966ed7d2",
   "metadata": {},
   "outputs": [],
   "source": [
    "# 팀별 팀타율을 계산하여 데이터프레임 teamStat을 생성합니다.\n",
    "teamStat = kbo.groupby(by = ['팀명']).sum()[['안타', '타수']].reset_index()\n",
    "teamStat['팀타율'] = (teamStat['안타'] / teamStat['타수']).round(3)"
   ]
  },
  {
   "cell_type": "code",
   "execution_count": null,
   "id": "0760ede2",
   "metadata": {},
   "outputs": [],
   "source": [
    "# 팀별 팀타율로 이변량 막대그래프를 그립니다.\n",
    "sns.barplot(data = teamStat, x = '팀명', y = '팀타율');"
   ]
  },
  {
   "cell_type": "code",
   "execution_count": null,
   "id": "a3fd34d1",
   "metadata": {},
   "outputs": [],
   "source": [
    "# 이변량 막대그래프 위에 팀타율을 텍스트로 추가합니다.\n",
    "sns.barplot(data = teamStat, x = '팀명', y = '팀타율')\n",
    "for index, row in teamStat.iterrows():\n",
    "    plt.text(x = index, y = row['팀타율'] + 0.005, s = row['팀타율'],\n",
    "             fontsize = 14, ha = 'center', va = 'bottom', c = 'black')\n",
    "plt.ylim(0, 0.32);"
   ]
  },
  {
   "cell_type": "markdown",
   "id": "1946122c",
   "metadata": {},
   "source": [
    "* 데이터프레임 kbo로부터 조건에 맞는 keyPlayer를 생성하고 시각화하세요."
   ]
  },
  {
   "cell_type": "code",
   "execution_count": null,
   "id": "34847ebf",
   "metadata": {},
   "outputs": [],
   "source": [
    "# 타석이 100 이상인 선수를 선택하여 데이터프레임 keyPlayer를 생성합니다.\n",
    "keyPlayer = kbo.loc[kbo['타석'] >= 100]"
   ]
  },
  {
   "cell_type": "code",
   "execution_count": null,
   "id": "20c8cc0e",
   "metadata": {},
   "outputs": [],
   "source": [
    "# 출루율과 장타율로 산점도를 그립니다.\n",
    "sns.scatterplot(data = keyPlayer, x = '출루율', y = '장타율');"
   ]
  },
  {
   "cell_type": "code",
   "execution_count": null,
   "id": "224c942c",
   "metadata": {},
   "outputs": [],
   "source": [
    "# 출루율과 장타율로 회귀직선을 추가한 산점도를 그립니다.\n",
    "sns.regplot(data = keyPlayer, x = '출루율', y = '장타율', \n",
    "            scatter_kws = {'color': '0.8', 'edgecolor': 'black'},\n",
    "            line_kws = {'color': 'red', 'linewidth': 1.5});"
   ]
  },
  {
   "cell_type": "markdown",
   "id": "primary-distance",
   "metadata": {},
   "source": [
    "## End of Document"
   ]
  }
 ],
 "metadata": {
  "kernelspec": {
   "display_name": "Python 3 (ipykernel)",
   "language": "python",
   "name": "python3"
  },
  "language_info": {
   "codemirror_mode": {
    "name": "ipython",
    "version": 3
   },
   "file_extension": ".py",
   "mimetype": "text/x-python",
   "name": "python",
   "nbconvert_exporter": "python",
   "pygments_lexer": "ipython3",
   "version": "3.9.7"
  },
  "toc": {
   "base_numbering": 1,
   "nav_menu": {},
   "number_sections": true,
   "sideBar": true,
   "skip_h1_title": false,
   "title_cell": "Table of Contents",
   "title_sidebar": "Contents",
   "toc_cell": false,
   "toc_position": {},
   "toc_section_display": true,
   "toc_window_display": false
  },
  "varInspector": {
   "cols": {
    "lenName": 16,
    "lenType": 16,
    "lenVar": 40
   },
   "kernels_config": {
    "python": {
     "delete_cmd_postfix": "",
     "delete_cmd_prefix": "del ",
     "library": "var_list.py",
     "varRefreshCmd": "print(var_dic_list())"
    },
    "r": {
     "delete_cmd_postfix": ") ",
     "delete_cmd_prefix": "rm(",
     "library": "var_list.r",
     "varRefreshCmd": "cat(var_dic_list()) "
    }
   },
   "types_to_exclude": [
    "module",
    "function",
    "builtin_function_or_method",
    "instance",
    "_Feature"
   ],
   "window_display": false
  }
 },
 "nbformat": 4,
 "nbformat_minor": 5
}

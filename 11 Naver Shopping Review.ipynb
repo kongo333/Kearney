{
 "cells": [
  {
   "cell_type": "markdown",
   "id": "acfb52ad",
   "metadata": {},
   "source": [
    "# 네이버 쇼핑 고객 리뷰 수집"
   ]
  },
  {
   "cell_type": "markdown",
   "id": "d61ddaa4",
   "metadata": {},
   "source": [
    "- 네이버 쇼핑에서 키워드로 검색(예: 스탠바이미)\n",
    "- 검색 결과 중 리뷰 개수가 많은 상품 선택<br>\n",
    "  https://search.shopping.naver.com/catalog/29938164618"
   ]
  },
  {
   "cell_type": "markdown",
   "id": "6273df56",
   "metadata": {},
   "source": [
    "### 관련 라이브러리 호출"
   ]
  },
  {
   "cell_type": "raw",
   "id": "8c7f3d6c",
   "metadata": {},
   "source": [
    "# bs4 라이브러리를 설치합니다.\n",
    "!pip install bs4"
   ]
  },
  {
   "cell_type": "code",
   "execution_count": null,
   "id": "cf254591",
   "metadata": {},
   "outputs": [],
   "source": [
    "# 관련 라이브러리를 호출합니다.\n",
    "import requests\n",
    "from bs4 import BeautifulSoup as bts\n",
    "import json\n",
    "import pandas as pd\n",
    "import time"
   ]
  },
  {
   "cell_type": "markdown",
   "id": "05d49e2e",
   "metadata": {},
   "source": [
    "### HTTP 요청 실행"
   ]
  },
  {
   "cell_type": "code",
   "execution_count": null,
   "id": "5ee77f1f",
   "metadata": {},
   "outputs": [],
   "source": [
    "# 요청 URL을 지정합니다.\n",
    "url = 'https://search.shopping.naver.com/catalog/29938164618'"
   ]
  },
  {
   "cell_type": "code",
   "execution_count": null,
   "id": "e5a911f0",
   "metadata": {},
   "outputs": [],
   "source": [
    "# Query String을 딕셔너리로 지정합니다.\n",
    "query = {'query': '스탠바이미'}"
   ]
  },
  {
   "cell_type": "code",
   "execution_count": null,
   "id": "6b1c0a55",
   "metadata": {},
   "outputs": [],
   "source": [
    "# HTTP 요청을 실행합니다.\n",
    "res = requests.get(url = url, params = query)"
   ]
  },
  {
   "cell_type": "markdown",
   "id": "76b9c6c2",
   "metadata": {},
   "source": [
    "### HTTP 응답 확인"
   ]
  },
  {
   "cell_type": "code",
   "execution_count": null,
   "id": "72ff5067",
   "metadata": {},
   "outputs": [],
   "source": [
    "# HTTP 응답 상태코드를 확인합니다.\n",
    "res.status_code"
   ]
  },
  {
   "cell_type": "code",
   "execution_count": null,
   "id": "f38ca4c4",
   "metadata": {},
   "outputs": [],
   "source": [
    "# HTTP 응답 헤더를 확인합니다.\n",
    "res.headers"
   ]
  },
  {
   "cell_type": "code",
   "execution_count": null,
   "id": "1add10f9",
   "metadata": {},
   "outputs": [],
   "source": [
    "# HTTP 응답 바디(텍스트)의 일부를 출력합니다.\n",
    "res.text[:1000]"
   ]
  },
  {
   "cell_type": "markdown",
   "id": "889f9e10",
   "metadata": {},
   "source": [
    "### HTML로 변환"
   ]
  },
  {
   "cell_type": "code",
   "execution_count": null,
   "id": "4ba71544",
   "metadata": {},
   "outputs": [],
   "source": [
    "# 문자열을 HTML로 변환합니다.\n",
    "soup = bts(markup = res.text, features = 'html.parser')"
   ]
  },
  {
   "cell_type": "code",
   "execution_count": null,
   "id": "4f9b43cc",
   "metadata": {},
   "outputs": [],
   "source": [
    "# 고객 리뷰를 포함하는 HTML 요소를 선택하여 items를 생성합니다.\n",
    "items = soup.select(selector = '#section_review > ul > li')"
   ]
  },
  {
   "cell_type": "code",
   "execution_count": null,
   "id": "42740c1d",
   "metadata": {},
   "outputs": [],
   "source": [
    "# items의 원소 개수를 확인합니다.\n",
    "len(items)"
   ]
  },
  {
   "cell_type": "markdown",
   "id": "482e2a70",
   "metadata": {},
   "source": [
    "### 웹 페이지 데이터 수집"
   ]
  },
  {
   "cell_type": "code",
   "execution_count": null,
   "id": "c0dd22a6",
   "metadata": {},
   "outputs": [],
   "source": [
    "# 별점을 수집합니다.\n",
    "[item.select('div > span:nth-child(1)')[0].text for item in items]"
   ]
  },
  {
   "cell_type": "code",
   "execution_count": null,
   "id": "aa322833",
   "metadata": {},
   "outputs": [],
   "source": [
    "# 온라인 쇼핑몰을 수집합니다.\n",
    "[item.select('div > span:nth-child(2)')[0].text for item in items]"
   ]
  },
  {
   "cell_type": "code",
   "execution_count": null,
   "id": "4ed913e3",
   "metadata": {},
   "outputs": [],
   "source": [
    "# 리뷰 등록일자를 수집합니다.\n",
    "[item.select('div > span:nth-child(4)')[0].text for item in items]"
   ]
  },
  {
   "cell_type": "code",
   "execution_count": null,
   "id": "26b2b75c",
   "metadata": {},
   "outputs": [],
   "source": [
    "# 리뷰 내용을 수집합니다.\n",
    "[item.select('div > p')[0].text for item in items]"
   ]
  },
  {
   "cell_type": "markdown",
   "id": "b5c2279e",
   "metadata": {},
   "source": [
    "## End of Document"
   ]
  }
 ],
 "metadata": {
  "kernelspec": {
   "display_name": "Python 3 (ipykernel)",
   "language": "python",
   "name": "python3"
  },
  "language_info": {
   "codemirror_mode": {
    "name": "ipython",
    "version": 3
   },
   "file_extension": ".py",
   "mimetype": "text/x-python",
   "name": "python",
   "nbconvert_exporter": "python",
   "pygments_lexer": "ipython3",
   "version": "3.9.7"
  },
  "varInspector": {
   "cols": {
    "lenName": 16,
    "lenType": 16,
    "lenVar": 40
   },
   "kernels_config": {
    "python": {
     "delete_cmd_postfix": "",
     "delete_cmd_prefix": "del ",
     "library": "var_list.py",
     "varRefreshCmd": "print(var_dic_list())"
    },
    "r": {
     "delete_cmd_postfix": ") ",
     "delete_cmd_prefix": "rm(",
     "library": "var_list.r",
     "varRefreshCmd": "cat(var_dic_list()) "
    }
   },
   "types_to_exclude": [
    "module",
    "function",
    "builtin_function_or_method",
    "instance",
    "_Feature"
   ],
   "window_display": false
  }
 },
 "nbformat": 4,
 "nbformat_minor": 5
}
